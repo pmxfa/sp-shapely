{
  "nbformat": 4,
  "nbformat_minor": 0,
  "metadata": {
    "colab": {
      "provenance": [],
      "authorship_tag": "ABX9TyNR7+QBLl0APVEboK3KrvTf",
      "include_colab_link": true
    },
    "kernelspec": {
      "name": "python3",
      "display_name": "Python 3"
    },
    "language_info": {
      "name": "python"
    }
  },
  "cells": [
    {
      "cell_type": "markdown",
      "metadata": {
        "id": "view-in-github",
        "colab_type": "text"
      },
      "source": [
        "<a href=\"https://colab.research.google.com/github/pmxfa/sp-shapely/blob/main/sp_timevae_electricity.ipynb\" target=\"_parent\"><img src=\"https://colab.research.google.com/assets/colab-badge.svg\" alt=\"Open In Colab\"/></a>"
      ]
    },
    {
      "cell_type": "markdown",
      "source": [
        "# Training"
      ],
      "metadata": {
        "id": "NcwQ6Yo09JC8"
      }
    },
    {
      "cell_type": "code",
      "execution_count": null,
      "metadata": {
        "id": "oaMLghK_ipz1",
        "collapsed": true
      },
      "outputs": [],
      "source": [
        "!pip install synthcity tsbootstrap"
      ]
    },
    {
      "cell_type": "code",
      "source": [
        "from google.colab import drive\n",
        "drive.mount('/content/drive')\n",
        "\n",
        "import sys\n",
        "import warnings\n",
        "import pandas as pd\n",
        "import numpy as np\n",
        "from sklearn.preprocessing import MinMaxScaler\n",
        "\n",
        "import synthcity.logger as log\n",
        "from synthcity.plugins import Plugins\n",
        "from synthcity.plugins.core.dataloader import TimeSeriesDataLoader\n",
        "from synthcity.utils.serialization import save_to_file, load_from_file\n",
        "\n",
        "log.add(sink=sys.stderr, level=\"INFO\")"
      ],
      "metadata": {
        "id": "kfDi7FQF9LIv",
        "colab": {
          "base_uri": "https://localhost:8080/"
        },
        "outputId": "a049b1e6-c929-49c8-fa6a-8c69ac92e50a",
        "collapsed": true
      },
      "execution_count": 1,
      "outputs": [
        {
          "output_type": "stream",
          "name": "stdout",
          "text": [
            "Mounted at /content/drive\n",
            "[KeOps] Warning : CUDA libraries not found or could not be loaded; Switching to CPU only.\n"
          ]
        }
      ]
    },
    {
      "cell_type": "code",
      "source": [
        "# Define file path\n",
        "file_path = \"/content/drive/Shareddrives/sp_env/datasets/Electricity Transformer Dataset (ETDataset)/ETTh1.csv\"\n",
        "\n",
        "df = pd.read_csv(file_path)\n",
        "print(df.head())\n",
        "print(df.info())\n",
        "print(df.isnull().sum())"
      ],
      "metadata": {
        "id": "DCLsmN-F9NGv",
        "colab": {
          "base_uri": "https://localhost:8080/"
        },
        "outputId": "44fded9b-ce2c-4ba9-e979-fb2afa629601"
      },
      "execution_count": 2,
      "outputs": [
        {
          "output_type": "stream",
          "name": "stdout",
          "text": [
            "                  date   HUFL   HULL   MUFL   MULL   LUFL   LULL         OT\n",
            "0  2016-07-01 00:00:00  5.827  2.009  1.599  0.462  4.203  1.340  30.531000\n",
            "1  2016-07-01 01:00:00  5.693  2.076  1.492  0.426  4.142  1.371  27.787001\n",
            "2  2016-07-01 02:00:00  5.157  1.741  1.279  0.355  3.777  1.218  27.787001\n",
            "3  2016-07-01 03:00:00  5.090  1.942  1.279  0.391  3.807  1.279  25.044001\n",
            "4  2016-07-01 04:00:00  5.358  1.942  1.492  0.462  3.868  1.279  21.948000\n",
            "<class 'pandas.core.frame.DataFrame'>\n",
            "RangeIndex: 17420 entries, 0 to 17419\n",
            "Data columns (total 8 columns):\n",
            " #   Column  Non-Null Count  Dtype  \n",
            "---  ------  --------------  -----  \n",
            " 0   date    17420 non-null  object \n",
            " 1   HUFL    17420 non-null  float64\n",
            " 2   HULL    17420 non-null  float64\n",
            " 3   MUFL    17420 non-null  float64\n",
            " 4   MULL    17420 non-null  float64\n",
            " 5   LUFL    17420 non-null  float64\n",
            " 6   LULL    17420 non-null  float64\n",
            " 7   OT      17420 non-null  float64\n",
            "dtypes: float64(7), object(1)\n",
            "memory usage: 1.1+ MB\n",
            "None\n",
            "date    0\n",
            "HUFL    0\n",
            "HULL    0\n",
            "MUFL    0\n",
            "MULL    0\n",
            "LUFL    0\n",
            "LULL    0\n",
            "OT      0\n",
            "dtype: int64\n"
          ]
        }
      ]
    },
    {
      "cell_type": "code",
      "source": [
        "# Convert 'date' to datetime, set as index, and sort\n",
        "df['date'] = pd.to_datetime(df['date'])\n",
        "df.set_index('date', inplace=True)\n",
        "df.sort_index(inplace=True)\n",
        "\n",
        "# Keep the latest 5000 rows\n",
        "df_latest = df.tail(5000)\n",
        "\n",
        "# Train-test split: 70% for training (for TimeGAN), 30% for testing (TSTR)\n",
        "train_size = int(0.7 * len(df_latest))\n",
        "df_train = df_latest.iloc[:train_size]\n",
        "df_test = df_latest.iloc[train_size:]  # use later for LSTM-TSTR\n",
        "\n",
        "# Normalize the data\n",
        "scaler = MinMaxScaler()\n",
        "scaled_train = scaler.fit_transform(df_train)\n",
        "df_scaled_train = pd.DataFrame(scaled_train, columns=df_train.columns, index=df_train.index)\n",
        "scaled_test = scaler.transform(df_test)\n",
        "df_scaled_test = pd.DataFrame(scaled_test, columns=df_test.columns, index=df_test.index)\n",
        "\n",
        "# Sequence length for time-series data (dataset = hourly; 24 hours)\n",
        "sequence_length = 24"
      ],
      "metadata": {
        "id": "siWRiBtn9O0V"
      },
      "execution_count": 3,
      "outputs": []
    },
    {
      "cell_type": "code",
      "source": [
        "temporal_data = []\n",
        "observation_times = []\n",
        "\n",
        "# Generate sequences from df_scaled_train only\n",
        "for start in range(len(df_scaled_train) - sequence_length + 1):\n",
        "    sequence = df_scaled_train.iloc[start:start + sequence_length].reset_index(drop=True)\n",
        "    temporal_data.append(sequence)\n",
        "    observation_times.append(list(range(sequence_length)))  # relative time within the window\n",
        "\n",
        "dummy_outcome = pd.DataFrame(np.zeros(len(temporal_data)), columns=[\"outcome\"])\n",
        "\n",
        "loader = TimeSeriesDataLoader(\n",
        "    temporal_data=temporal_data,\n",
        "    observation_times=observation_times,\n",
        "    static_data=None,\n",
        "    outcome=dummy_outcome,\n",
        ")\n",
        "\n",
        "# Print the loader info\n",
        "print(f\"TimeSeriesDataLoader created with {len(temporal_data)} sequences\")"
      ],
      "metadata": {
        "id": "6yav1EWNW7Jj"
      },
      "execution_count": null,
      "outputs": []
    },
    {
      "cell_type": "code",
      "source": [
        "temporal_data_test = []\n",
        "observation_times_test = []\n",
        "\n",
        "# Generate sequences from df_scaled_test only\n",
        "for start in range(len(df_scaled_test) - sequence_length + 1):\n",
        "    sequence = df_scaled_test.iloc[start:start + sequence_length].reset_index(drop=True)\n",
        "    temporal_data_test.append(sequence)\n",
        "    observation_times_test.append(list(range(sequence_length)))  # relative time within the window\n",
        "\n",
        "# Dummy outcome for TimeGAN (can be used in DataLoader)\n",
        "dummy_outcome = pd.DataFrame(np.zeros(len(temporal_data_test)), columns=[\"outcome\"])\n",
        "\n",
        "# Create DataLoader for TimeGAN\n",
        "loader_test = TimeSeriesDataLoader(\n",
        "    temporal_data=temporal_data_test,\n",
        "    observation_times=observation_times_test,\n",
        "    static_data=None,\n",
        "    outcome=dummy_outcome,\n",
        ")\n",
        "\n",
        "# Print the loader info\n",
        "print(f\"TimeSeriesDataLoader TEST SET created with {len(temporal_data_test)} sequences\")"
      ],
      "metadata": {
        "id": "Vom9l4QaW7u2",
        "outputId": "819aba61-a829-457b-e6f7-4026aaa38623",
        "colab": {
          "base_uri": "https://localhost:8080/"
        }
      },
      "execution_count": 4,
      "outputs": [
        {
          "output_type": "stream",
          "name": "stdout",
          "text": [
            "TimeSeriesDataLoader TEST SET created with 1477 sequences\n"
          ]
        }
      ]
    },
    {
      "cell_type": "code",
      "source": [
        "print(len(df_scaled_train))  # Check the length of the dataframe\n",
        "print(loader.dataframe())"
      ],
      "metadata": {
        "id": "FmZe08FM9Rd0",
        "colab": {
          "base_uri": "https://localhost:8080/"
        },
        "outputId": "74176c6c-b3bc-4836-938f-62767d8aef69"
      },
      "execution_count": null,
      "outputs": [
        {
          "output_type": "stream",
          "name": "stdout",
          "text": [
            "3500\n",
            "       seq_id  seq_time_id  seq_temporal_HUFL  seq_temporal_HULL  \\\n",
            "0           0            0          -0.144002          -0.872259   \n",
            "1           0            1          -0.285107          -0.086752   \n",
            "2           0            2          -0.073391           0.031162   \n",
            "3           0            3          -0.120465          -0.322580   \n",
            "4           0            4           0.193244          -0.047447   \n",
            "...       ...          ...                ...                ...   \n",
            "83443    3476           19           0.820780          -0.440494   \n",
            "83444    3476           20           0.938348          -0.440494   \n",
            "83445    3476           21           0.930502           0.109772   \n",
            "83446    3476           22           1.252174           0.424209   \n",
            "83447    3476           23           0.577565          -0.126057   \n",
            "\n",
            "       seq_temporal_LUFL  seq_temporal_LULL  seq_temporal_MUFL  \\\n",
            "0              -0.437390           0.611581          -0.114356   \n",
            "1              -0.437390           1.116499          -0.296925   \n",
            "2              -0.878665           0.192196          -0.040447   \n",
            "3              -0.819764           0.192196          -0.018667   \n",
            "4              -0.466358           0.611581           0.268280   \n",
            "...                  ...                ...                ...   \n",
            "83443           0.738701           0.862660           0.733634   \n",
            "83444           0.738701           0.023891           0.907515   \n",
            "83445           0.886436           0.526049           0.916203   \n",
            "83446           1.885823           0.443275           1.085801   \n",
            "83447          -0.731895          -0.061642           0.668414   \n",
            "\n",
            "       seq_temporal_MULL  seq_temporal_OT  seq_out_outcome  \n",
            "0              -0.749515        -0.946543              0.0  \n",
            "1              -0.172201        -0.870846              0.0  \n",
            "2              -0.247810        -0.814207              0.0  \n",
            "3              -0.398322        -0.776627              0.0  \n",
            "4              -0.046421        -0.795417              0.0  \n",
            "...                  ...              ...              ...  \n",
            "83443          -0.849856         0.299776              0.0  \n",
            "83444          -0.975636         0.035373              0.0  \n",
            "83445          -0.372883         0.167709              0.0  \n",
            "83446          -0.372883         0.394263              0.0  \n",
            "83447           0.078652         0.715305              0.0  \n",
            "\n",
            "[83448 rows x 10 columns]\n"
          ]
        }
      ]
    },
    {
      "cell_type": "markdown",
      "source": [
        "All available hyperparameters are listed below:\n",
        "\n",
        "model = plugin_timegan.TimeGAN( n_iter=500, generator_n_layers_hidden=3, generator_n_units_hidden=100, generator_nonlin=\"relu\", generator_dropout=0.1, discriminator_n_layers_hidden=3, discriminator_n_units_hidden=100, discriminator_nonlin=\"leaky_relu\", discriminator_dropout=0.1, discriminator_n_iter=2, lr=0.0002, weight_decay=0.0001, batch_size=200, encoder_max_clusters=10, mode=\"LSTM\", gamma_penalty=10.0, moments_penalty=10.0, embedding_penalty=5.0 )"
      ],
      "metadata": {
        "id": "iWcB_INh9U-Z"
      }
    },
    {
      "cell_type": "code",
      "source": [
        "syn_model = Plugins().get(\"timevae\")"
      ],
      "metadata": {
        "id": "oYqRdbxl9W74",
        "colab": {
          "base_uri": "https://localhost:8080/"
        },
        "outputId": "ca5faa6c-fe5c-4e68-8f4c-38a7b7cca7a4"
      },
      "execution_count": null,
      "outputs": [
        {
          "output_type": "stream",
          "name": "stderr",
          "text": [
            "[2025-04-18T04:16:02.646811+0000][1362][CRITICAL] module disabled: /usr/local/lib/python3.11/dist-packages/synthcity/plugins/generic/plugin_goggle.py\n",
            "[2025-04-18T04:16:02.646811+0000][1362][CRITICAL] module disabled: /usr/local/lib/python3.11/dist-packages/synthcity/plugins/generic/plugin_goggle.py\n"
          ]
        }
      ]
    },
    {
      "cell_type": "code",
      "source": [
        "# --- Print all parameters of initialized model ---\n",
        "for attr in dir(syn_model):\n",
        "    if not attr.startswith(\"_\") and not callable(getattr(syn_model, attr)):\n",
        "        print(f\"{attr}: {getattr(syn_model, attr)}\")"
      ],
      "metadata": {
        "id": "y9ZVw8pT9Y_Q",
        "colab": {
          "base_uri": "https://localhost:8080/"
        },
        "outputId": "40130694-ad83-427f-ef0b-2cf2ff990d2d"
      },
      "execution_count": null,
      "outputs": [
        {
          "output_type": "stream",
          "name": "stdout",
          "text": [
            "batch_size: 64\n",
            "class_name: TimeVAEPlugin\n",
            "clipping_value: 0\n",
            "compress_dataset: False\n",
            "decoder_batch_norm: False\n",
            "decoder_dropout: 0.01\n",
            "decoder_n_layers_hidden: 2\n",
            "decoder_n_units_hidden: 150\n",
            "decoder_nonlin: leaky_relu\n",
            "decoder_nonlin_out_continuous: tanh\n",
            "decoder_nonlin_out_discrete: softmax\n",
            "decoder_residual: True\n",
            "device: cuda\n",
            "embedding_penalty: 10\n",
            "encoder: None\n",
            "encoder_batch_norm: False\n",
            "encoder_dropout: 0.1\n",
            "encoder_max_clusters: 20\n",
            "encoder_n_layers_hidden: 3\n",
            "encoder_n_units_hidden: 300\n",
            "encoder_nonlin: leaky_relu\n",
            "expecting_conditional: False\n",
            "fitted: False\n",
            "gamma_penalty: 1\n",
            "lr: 0.001\n",
            "mode: LSTM\n",
            "module_name: synthcity.plugins.time_series.plugin_timevae\n",
            "module_relative_path: ../time_series/plugin_timevae.py\n",
            "moments_penalty: 100\n",
            "n_iter: 1000\n",
            "n_iter_print: 10\n",
            "outcome_encoder: TabularEncoder(cat_encoder_params={'handle_unknown': 'ignore',\n",
            "                                   'sparse_output': False},\n",
            "               categorical_encoder='onehot',\n",
            "               cont_encoder_params={'n_components': 20},\n",
            "               continuous_encoder='bayesian_gmm', max_clusters=20)\n",
            "random_state: 0\n",
            "sampling_patience: 500\n",
            "sampling_strategy: marginal\n",
            "strict: True\n",
            "weight_decay: 0.001\n",
            "workspace: workspace\n"
          ]
        }
      ]
    },
    {
      "cell_type": "markdown",
      "source": [
        "## fitting the model"
      ],
      "metadata": {
        "id": "IKG0O5Pg9hpG"
      }
    },
    {
      "cell_type": "code",
      "source": [
        "print(loader.shape)\n",
        "# Train the model\n",
        "syn_model.fit(loader)"
      ],
      "metadata": {
        "id": "-BKXe4G19l_8",
        "colab": {
          "base_uri": "https://localhost:8080/"
        },
        "outputId": "0c7386b4-bbd1-439d-c38d-2e4d69c04629"
      },
      "execution_count": null,
      "outputs": [
        {
          "output_type": "execute_result",
          "data": {
            "text/plain": [
              "<synthcity.plugins.time_series.plugin_timevae.TimeVAEPlugin at 0x79ed2f4119d0>"
            ]
          },
          "metadata": {},
          "execution_count": 7
        }
      ]
    },
    {
      "cell_type": "code",
      "source": [
        "save_to_file('/content/drive/Shareddrives/sp_env/saved_models/VAE_Electricity.pkl', syn_model)"
      ],
      "metadata": {
        "id": "qScEAYzkaFkv"
      },
      "execution_count": null,
      "outputs": []
    },
    {
      "cell_type": "code",
      "source": [
        "# Generate Synthetic Data\n",
        "n_samples = len(temporal_data)\n",
        "syn_data = syn_model.generate(count=n_samples)\n",
        "print(syn_data.shape)"
      ],
      "metadata": {
        "id": "JviqEDru9nMO",
        "colab": {
          "base_uri": "https://localhost:8080/"
        },
        "outputId": "d8b168b7-3762-45f6-c209-3292fadf9b8c"
      },
      "execution_count": null,
      "outputs": [
        {
          "output_type": "stream",
          "name": "stdout",
          "text": [
            "(83448, 10)\n"
          ]
        }
      ]
    },
    {
      "cell_type": "code",
      "source": [
        "# --- Save with automated format ---\n",
        "import datetime\n",
        "import os\n",
        "# Get the current date and time\n",
        "now = datetime.datetime.now()\n",
        "timestamp = now.strftime(\"%m%d%y-%H%M%S\")  # MMDDYY-HHMMSS format\n",
        "\n",
        "# Define the base directory\n",
        "base_dir = \"/content/drive/Shareddrives/sp_env/synthetic_datasets/TimeVAE/electricity\"  #CHANGE THIS\n",
        "if not os.path.exists(base_dir):\n",
        "    os.makedirs(base_dir)\n",
        "\n",
        "# Construct the filename\n",
        "model_name = type(syn_model).__name__.lower() # Get model name dynamically\n",
        "filename = f\"{timestamp}-{model_name}-n_3000.csv\"\n",
        "filepath = os.path.join(base_dir, filename)\n",
        "\n",
        "# Save the data\n",
        "df_syn = syn_data.dataframe()\n",
        "df_syn.to_csv(filepath, index=False)\n",
        "\n",
        "print(f\"Synthetic data saved to: {filepath}\")"
      ],
      "metadata": {
        "id": "J4rF0HY29o65",
        "colab": {
          "base_uri": "https://localhost:8080/"
        },
        "outputId": "4da9040c-0285-498b-99f5-dc327040e311"
      },
      "execution_count": null,
      "outputs": [
        {
          "output_type": "stream",
          "name": "stdout",
          "text": [
            "Synthetic data saved to: /content/drive/Shareddrives/sp_env/synthetic_datasets/TimeVAE/electricity/041825-045510-timevaeplugin-n_3000.csv\n"
          ]
        }
      ]
    },
    {
      "cell_type": "markdown",
      "source": [
        "# Evaluation"
      ],
      "metadata": {
        "id": "TICnBaoH9r8Z"
      }
    },
    {
      "cell_type": "markdown",
      "source": [
        "## Prerequisites"
      ],
      "metadata": {
        "id": "QlHAzxfV9uXf"
      }
    },
    {
      "cell_type": "code",
      "source": [
        "syn_data = pd.read_csv('/content/drive/Shareddrives/sp_env/synthetic_datasets/TimeVAE/electricity/050125-080355-timevaeplugin-n_3000.csv')"
      ],
      "metadata": {
        "id": "obI90YGQixyZ"
      },
      "execution_count": 5,
      "outputs": []
    },
    {
      "cell_type": "code",
      "source": [
        "selected_columns = ['seq_temporal_HUFL', 'seq_temporal_HULL', 'seq_temporal_LUFL', 'seq_temporal_LULL', 'seq_temporal_MUFL', 'seq_temporal_MULL', 'seq_temporal_OT']\n",
        "\n",
        "real_data = loader_test.dataframe()[selected_columns].to_numpy()\n",
        "synthetic_data = syn_data[selected_columns].to_numpy()"
      ],
      "metadata": {
        "id": "zUMHadsq9vw8"
      },
      "execution_count": 6,
      "outputs": []
    },
    {
      "cell_type": "code",
      "source": [
        "print(real_data, \"\\n ------------------------------------------------------- \\n\", synthetic_data)\n",
        "print(type(real_data),type(synthetic_data))\n",
        "print(real_data.shape,synthetic_data.shape)"
      ],
      "metadata": {
        "id": "DumXr_Gg9y6U",
        "outputId": "bfd8ec52-6626-4b2b-c183-f7b2526132ae",
        "colab": {
          "base_uri": "https://localhost:8080/"
        }
      },
      "execution_count": 7,
      "outputs": [
        {
          "output_type": "stream",
          "name": "stdout",
          "text": [
            "[[0.64238779 0.32967478 0.42980559 ... 0.67287374 0.33964623 0.67070109]\n",
            " [0.31229163 0.50270358 0.36846652 ... 0.32249713 0.55234947 0.69878968]\n",
            " [0.54529643 0.36752483 0.42102231 ... 0.56598494 0.38091834 0.75502396]\n",
            " ...\n",
            " [0.56471953 0.49729644 0.53506119 ... 0.56506958 0.4952653  0.79921214]\n",
            " [0.72005606 0.49729644 0.52627788 ... 0.72954808 0.4952653  0.77106644]\n",
            " [0.74109776 0.47566783 0.53506119 ... 0.74814312 0.44765052 0.75902034]] \n",
            " ------------------------------------------------------- \n",
            " [[0.30760782 0.57658813 0.27270248 ... 0.39191547 0.54298586 0.26333621]\n",
            " [0.67097521 0.20852661 0.18985192 ... 0.82835083 0.16442728 0.50736484]\n",
            " [0.86648357 0.57658813 0.44552911 ... 0.22188361 0.22552743 0.21296792]\n",
            " ...\n",
            " [0.7292462  0.56399562 0.55672249 ... 0.23446279 0.26941127 0.42007934]\n",
            " [0.12220015 0.50859989 0.63483016 ... 0.75053512 0.53313153 0.49799705]\n",
            " [0.22886082 0.32468576 0.33904982 ... 0.39191547 0.49962584 0.21296792]]\n",
            "<class 'numpy.ndarray'> <class 'numpy.ndarray'>\n",
            "(35448, 7) (83448, 7)\n"
          ]
        }
      ]
    },
    {
      "cell_type": "markdown",
      "source": [
        "## Generate distance metrics"
      ],
      "metadata": {
        "id": "0pU8BORS9vWk"
      }
    },
    {
      "cell_type": "markdown",
      "source": [
        "### Helper Functions"
      ],
      "metadata": {
        "id": "DVguOJWi-Fos"
      }
    },
    {
      "cell_type": "code",
      "source": [
        "from scipy.stats import wasserstein_distance, entropy\n",
        "import numpy as np\n",
        "\n",
        "def compute_wasserstein(real_data, synthetic_data, selected_columns):\n",
        "    \"\"\"\n",
        "    Computes Wasserstein Distance between real and synthetic time-series data.\n",
        "\n",
        "    \"\"\"\n",
        "\n",
        "    # Ensure both datasets have the same number of samples\n",
        "    min_length = min(len(real_data), len(synthetic_data))\n",
        "    real_trimmed = real_data[:min_length]  # Keep original order (no random sampling)\n",
        "    synthetic_trimmed = synthetic_data[:min_length]  # Match size\n",
        "    print(real_trimmed.shape,synthetic_trimmed.shape)\n",
        "\n",
        "    wasserstein_results = {}\n",
        "\n",
        "    # Compute Wasserstein Distance for each feature\n",
        "    for i, col in enumerate(selected_columns):\n",
        "        w_dist = wasserstein_distance(real_trimmed[:, i], synthetic_trimmed[:, i])\n",
        "        wasserstein_results[col] = w_dist\n",
        "        print(f\"{w_dist}\")\n",
        "\n",
        "    return wasserstein_results\n",
        "\n",
        "def compute_kl_divergence(real_data, synthetic_data, selected_columns, bins=50):\n",
        "    \"\"\"\n",
        "    Computes KL Divergence between real and synthetic time-series data.\n",
        "\n",
        "    \"\"\"\n",
        "\n",
        "    # Ensure both datasets have the same number of samples\n",
        "    min_length = min(len(real_data), len(synthetic_data))\n",
        "    real_trimmed = real_data[:min_length]  # Keep original order\n",
        "    synthetic_trimmed = synthetic_data[:min_length]  # Match size\n",
        "\n",
        "    kl_results = {}\n",
        "\n",
        "    for i, col in enumerate(selected_columns):\n",
        "        # Compute histogram-based probability distributions\n",
        "        real_hist, _ = np.histogram(real_trimmed[:, i], bins=bins, density=True)\n",
        "        synth_hist, _ = np.histogram(synthetic_trimmed[:, i], bins=bins, density=True)\n",
        "\n",
        "        # Avoid zero probabilities (KL Divergence is undefined for zero values)\n",
        "        real_hist += 1e-10\n",
        "        synth_hist += 1e-10\n",
        "\n",
        "        # Compute KL Divergence\n",
        "        kl_div = entropy(real_hist, synth_hist)\n",
        "        kl_results[col] = kl_div\n",
        "        print(f\"{kl_div}\")\n",
        "\n",
        "    return kl_results"
      ],
      "metadata": {
        "id": "GjGk3_Zx94Ko"
      },
      "execution_count": 8,
      "outputs": []
    },
    {
      "cell_type": "markdown",
      "source": [
        "### Generate Metrics"
      ],
      "metadata": {
        "id": "yLnb7Vqg-IG_"
      }
    },
    {
      "cell_type": "code",
      "source": [
        "# Assuming df_scaled is the DataFrame containing your scaled ETD data\n",
        "\n",
        "# Compute Wasserstein Distance\n",
        "wasserstein_results = compute_wasserstein(real_data, synthetic_data, selected_columns)\n",
        "print(\"Wasserstein Distance Results:\")\n",
        "print(wasserstein_results)\n",
        "\n",
        "# Compute KL Divergence\n",
        "kl_results = compute_kl_divergence(real_data, synthetic_data, selected_columns)\n",
        "print(\"KL Divergence Results:\")\n",
        "print(kl_results)"
      ],
      "metadata": {
        "id": "olm0RYP89-SN",
        "outputId": "8389f4f4-87f0-4758-e729-e6894e0086c0",
        "colab": {
          "base_uri": "https://localhost:8080/"
        }
      },
      "execution_count": 9,
      "outputs": [
        {
          "output_type": "stream",
          "name": "stdout",
          "text": [
            "(35448, 7) (35448, 7)\n",
            "0.058734213769422866\n",
            "0.05437147388507411\n",
            "0.03090487289559117\n",
            "0.15800403282609599\n",
            "0.09197090101166529\n",
            "0.04352354669699914\n",
            "0.275193848719602\n",
            "Wasserstein Distance Results:\n",
            "{'seq_temporal_HUFL': 0.058734213769422866, 'seq_temporal_HULL': 0.05437147388507411, 'seq_temporal_LUFL': 0.03090487289559117, 'seq_temporal_LULL': 0.15800403282609599, 'seq_temporal_MUFL': 0.09197090101166529, 'seq_temporal_MULL': 0.04352354669699914, 'seq_temporal_OT': 0.275193848719602}\n",
            "12.919072711301745\n",
            "14.695588215919834\n",
            "14.20059341374937\n",
            "11.832415828098034\n",
            "13.931592884528987\n",
            "13.462827448375341\n",
            "14.32022259102309\n",
            "KL Divergence Results:\n",
            "{'seq_temporal_HUFL': 12.919072711301745, 'seq_temporal_HULL': 14.695588215919834, 'seq_temporal_LUFL': 14.20059341374937, 'seq_temporal_LULL': 11.832415828098034, 'seq_temporal_MUFL': 13.931592884528987, 'seq_temporal_MULL': 13.462827448375341, 'seq_temporal_OT': 14.32022259102309}\n"
          ]
        }
      ]
    },
    {
      "cell_type": "markdown",
      "source": [
        "# LSTM downstream"
      ],
      "metadata": {
        "id": "ki3r9GigqyPc"
      }
    },
    {
      "cell_type": "code",
      "source": [
        "real_data = loader_test.dataframe()\n",
        "df_synth = pd.read_csv('/content/drive/Shareddrives/sp_env/synthetic_datasets/TimeVAE/electricity/050125-080355-timevaeplugin-n_3000.csv')\n",
        "\n",
        "# drop unwanted column\n",
        "real_data = real_data.drop(columns=[\"seq_id\", \"seq_time_id\", \"seq_out_outcome\"], errors=\"ignore\")\n",
        "df_synth = df_synth.drop(columns=[\"seq_id\", \"seq_time_id\", \"seq_out_outcome\"], errors=\"ignore\")\n",
        "\n",
        "print(f\"real_data: {real_data.shape}, synthetic_data: {df_synth.shape}\")"
      ],
      "metadata": {
        "id": "B0VrGb9wqyPe",
        "outputId": "2e652beb-1cf4-4bbf-a937-5154df4c0956",
        "colab": {
          "base_uri": "https://localhost:8080/"
        }
      },
      "execution_count": 10,
      "outputs": [
        {
          "output_type": "stream",
          "name": "stdout",
          "text": [
            "real_data: (35448, 7), synthetic_data: (83448, 7)\n"
          ]
        }
      ]
    },
    {
      "cell_type": "code",
      "source": [
        "import pandas as pd\n",
        "import numpy as np\n",
        "import torch\n",
        "import torch.nn as nn\n",
        "from torch.utils.data import DataLoader, TensorDataset\n",
        "from sklearn.preprocessing import MinMaxScaler\n",
        "from sklearn.metrics import mean_absolute_error, mean_squared_error"
      ],
      "metadata": {
        "id": "y1Gg4O5bnOWp"
      },
      "execution_count": 11,
      "outputs": []
    },
    {
      "cell_type": "code",
      "source": [
        "# Convert to tensors (float32 for PyTorch)\n",
        "data_real = torch.tensor(real_data.values, dtype=torch.float32)\n",
        "data_synth = torch.tensor(df_synth.values, dtype=torch.float32)\n",
        "\n",
        "#  Sequence builder\n",
        "def make_sequences(data, seq_len):\n",
        "    X, y = [], []\n",
        "    for i in range(len(data) - seq_len):\n",
        "        X.append(data[i:i+seq_len])\n",
        "        y.append(data[i+seq_len])\n",
        "    return torch.stack(X), torch.stack(y)\n",
        "\n",
        "SEQ_LEN = sequence_length\n",
        "\n",
        "# Sequences for synthetic (train)\n",
        "X_train, y_train = make_sequences(data_synth, SEQ_LEN)\n",
        "train_loader = DataLoader(TensorDataset(X_train, y_train), batch_size=32, shuffle=True)\n",
        "\n",
        "# Sequences for real (test)\n",
        "X_test, y_test = make_sequences(data_real, SEQ_LEN)"
      ],
      "metadata": {
        "id": "4XQyd3HLnPFj"
      },
      "execution_count": 12,
      "outputs": []
    },
    {
      "cell_type": "code",
      "source": [
        "# ─── Model Definition ──────────────────────────────────────\n",
        "class ShallowLSTM(nn.Module):\n",
        "    def __init__(self, input_size, hidden_size=64):\n",
        "        super().__init__()\n",
        "        self.lstm = nn.LSTM(input_size, hidden_size, batch_first=True)\n",
        "        self.linear = nn.Linear(hidden_size, input_size)\n",
        "\n",
        "    def forward(self, x):\n",
        "        _, (hn, _) = self.lstm(x)  # hn shape: (1, batch, hidden_size)\n",
        "        out = self.linear(hn.squeeze(0))  # squeeze to (batch, hidden_size)\n",
        "        return out\n",
        "\n",
        "\n",
        "# ─── Model Init ─────────────────────────────────────────────\n",
        "model = ShallowLSTM(input_size=X_train.shape[2], hidden_size=64)\n",
        "\n",
        "# ─── Optimizer & Loss ───────────────────────────────────────\n",
        "loss_fn = nn.MSELoss()\n",
        "optimizer = torch.optim.Adam(model.parameters(), lr=0.002)"
      ],
      "metadata": {
        "id": "v74HfVJZnQDI"
      },
      "execution_count": 13,
      "outputs": []
    },
    {
      "cell_type": "code",
      "source": [
        "# ─── Training ───────────────────────────────────────────────\n",
        "EPOCHS = 50\n",
        "for epoch in range(1, EPOCHS + 1):\n",
        "    model.train()\n",
        "    for xb, yb in train_loader:\n",
        "        pred = model(xb)\n",
        "        loss = loss_fn(pred, yb)\n",
        "        optimizer.zero_grad()\n",
        "        loss.backward()\n",
        "        optimizer.step()\n",
        "\n",
        "    # if epoch % 10 == 0 or epoch == 1:\n",
        "    print(f\"Epoch {epoch}: Train MSE = {loss.item():.6f}\")"
      ],
      "metadata": {
        "id": "EycDOlmhhyPI",
        "colab": {
          "base_uri": "https://localhost:8080/"
        },
        "outputId": "6b136b94-31e5-43d5-a84b-ba4d3e7311e5"
      },
      "execution_count": 14,
      "outputs": [
        {
          "output_type": "stream",
          "name": "stdout",
          "text": [
            "Epoch 1: Train MSE = 0.045914\n",
            "Epoch 2: Train MSE = 0.035705\n",
            "Epoch 3: Train MSE = 0.043462\n",
            "Epoch 4: Train MSE = 0.046102\n",
            "Epoch 5: Train MSE = 0.043530\n",
            "Epoch 6: Train MSE = 0.044796\n",
            "Epoch 7: Train MSE = 0.046171\n",
            "Epoch 8: Train MSE = 0.042200\n",
            "Epoch 9: Train MSE = 0.041579\n",
            "Epoch 10: Train MSE = 0.036881\n",
            "Epoch 11: Train MSE = 0.047748\n",
            "Epoch 12: Train MSE = 0.047610\n",
            "Epoch 13: Train MSE = 0.047467\n",
            "Epoch 14: Train MSE = 0.043663\n",
            "Epoch 15: Train MSE = 0.041586\n",
            "Epoch 16: Train MSE = 0.044556\n",
            "Epoch 17: Train MSE = 0.040909\n",
            "Epoch 18: Train MSE = 0.042399\n",
            "Epoch 19: Train MSE = 0.045862\n",
            "Epoch 20: Train MSE = 0.042875\n",
            "Epoch 21: Train MSE = 0.042828\n",
            "Epoch 22: Train MSE = 0.040257\n",
            "Epoch 23: Train MSE = 0.046970\n",
            "Epoch 24: Train MSE = 0.040602\n",
            "Epoch 25: Train MSE = 0.040733\n",
            "Epoch 26: Train MSE = 0.043052\n",
            "Epoch 27: Train MSE = 0.046107\n",
            "Epoch 28: Train MSE = 0.045542\n",
            "Epoch 29: Train MSE = 0.047378\n",
            "Epoch 30: Train MSE = 0.037825\n",
            "Epoch 31: Train MSE = 0.040177\n",
            "Epoch 32: Train MSE = 0.045568\n",
            "Epoch 33: Train MSE = 0.040682\n",
            "Epoch 34: Train MSE = 0.041684\n",
            "Epoch 35: Train MSE = 0.042440\n",
            "Epoch 36: Train MSE = 0.046762\n",
            "Epoch 37: Train MSE = 0.049281\n",
            "Epoch 38: Train MSE = 0.041181\n",
            "Epoch 39: Train MSE = 0.046520\n",
            "Epoch 40: Train MSE = 0.039842\n",
            "Epoch 41: Train MSE = 0.042412\n",
            "Epoch 42: Train MSE = 0.043175\n",
            "Epoch 43: Train MSE = 0.041865\n",
            "Epoch 44: Train MSE = 0.037057\n",
            "Epoch 45: Train MSE = 0.038496\n",
            "Epoch 46: Train MSE = 0.042997\n",
            "Epoch 47: Train MSE = 0.046491\n",
            "Epoch 48: Train MSE = 0.046057\n",
            "Epoch 49: Train MSE = 0.043121\n",
            "Epoch 50: Train MSE = 0.039673\n"
          ]
        }
      ]
    },
    {
      "cell_type": "code",
      "source": [
        "MODEL_SAVE_PATH = '/content/drive/Shareddrives/sp_env/saved_models/LSTM/tstr_VAE_electricity.pth'\n",
        "\n",
        "# Save only the model's learned parameters (state_dict)\n",
        "torch.save(model.state_dict(), MODEL_SAVE_PATH)\n",
        "\n",
        "print(f\"Model saved to: {MODEL_SAVE_PATH}\")"
      ],
      "metadata": {
        "colab": {
          "base_uri": "https://localhost:8080/"
        },
        "id": "T7ILU4X6dv5v",
        "outputId": "e706b5e1-783a-4780-ccd8-cc8607940cc3"
      },
      "execution_count": 15,
      "outputs": [
        {
          "output_type": "stream",
          "name": "stdout",
          "text": [
            "Model saved to: /content/drive/Shareddrives/sp_env/saved_models/LSTM/tstr_VAE_electricity.pth\n"
          ]
        }
      ]
    },
    {
      "cell_type": "code",
      "source": [
        "#@title ✧.* model evaluation ✧.*\n",
        "model.eval()\n",
        "with torch.no_grad():\n",
        "    preds = model(X_test)\n",
        "    test_mse = loss_fn(preds, y_test).item()\n",
        "    test_mae = mean_absolute_error(y_test.numpy(), preds.numpy())\n",
        "\n",
        "    print(f\"Test MSE: {test_mse:.6f}\")\n",
        "    print(f\"Test MAE: {test_mae:.6f}\")"
      ],
      "metadata": {
        "id": "G6MjbcdAnRAR",
        "colab": {
          "base_uri": "https://localhost:8080/"
        },
        "outputId": "4c380c54-f8de-412e-fb1b-8c5dfbde028f"
      },
      "execution_count": 16,
      "outputs": [
        {
          "output_type": "stream",
          "name": "stdout",
          "text": [
            "Test MSE: 0.042392\n",
            "Test MAE: 0.170565\n"
          ]
        }
      ]
    },
    {
      "cell_type": "markdown",
      "source": [
        "# Bootstrapping Sample"
      ],
      "metadata": {
        "id": "wwtrxZuWkq1X"
      }
    },
    {
      "cell_type": "code",
      "source": [
        "!pip install tsbootstrap"
      ],
      "metadata": {
        "id": "w6fV928blOfi",
        "outputId": "3868cc34-77d9-401c-f789-65dfaa8964e3",
        "colab": {
          "base_uri": "https://localhost:8080/"
        }
      },
      "execution_count": 17,
      "outputs": [
        {
          "output_type": "stream",
          "name": "stdout",
          "text": [
            "Requirement already satisfied: tsbootstrap in /usr/local/lib/python3.11/dist-packages (0.1.5)\n",
            "Requirement already satisfied: numpy<1.27,>=1.21 in /usr/local/lib/python3.11/dist-packages (from tsbootstrap) (1.26.4)\n",
            "Requirement already satisfied: scikit-base<0.11,>=0.10.0 in /usr/local/lib/python3.11/dist-packages (from tsbootstrap) (0.10.1)\n",
            "Requirement already satisfied: scikit-learn<1.6.0,>=1.5.1 in /usr/local/lib/python3.11/dist-packages (from tsbootstrap) (1.5.2)\n",
            "Requirement already satisfied: scipy<1.14.0,>=1.13 in /usr/local/lib/python3.11/dist-packages (from tsbootstrap) (1.13.1)\n",
            "Requirement already satisfied: packaging<24.2,>=24.0 in /usr/local/lib/python3.11/dist-packages (from tsbootstrap) (24.1)\n",
            "Requirement already satisfied: pydantic<3.0,>=2.0 in /usr/local/lib/python3.11/dist-packages (from tsbootstrap) (2.11.4)\n",
            "Requirement already satisfied: annotated-types>=0.6.0 in /usr/local/lib/python3.11/dist-packages (from pydantic<3.0,>=2.0->tsbootstrap) (0.7.0)\n",
            "Requirement already satisfied: pydantic-core==2.33.2 in /usr/local/lib/python3.11/dist-packages (from pydantic<3.0,>=2.0->tsbootstrap) (2.33.2)\n",
            "Requirement already satisfied: typing-extensions>=4.12.2 in /usr/local/lib/python3.11/dist-packages (from pydantic<3.0,>=2.0->tsbootstrap) (4.13.2)\n",
            "Requirement already satisfied: typing-inspection>=0.4.0 in /usr/local/lib/python3.11/dist-packages (from pydantic<3.0,>=2.0->tsbootstrap) (0.4.0)\n",
            "Requirement already satisfied: joblib>=1.2.0 in /usr/local/lib/python3.11/dist-packages (from scikit-learn<1.6.0,>=1.5.1->tsbootstrap) (1.5.0)\n",
            "Requirement already satisfied: threadpoolctl>=3.1.0 in /usr/local/lib/python3.11/dist-packages (from scikit-learn<1.6.0,>=1.5.1->tsbootstrap) (3.6.0)\n"
          ]
        }
      ]
    },
    {
      "cell_type": "code",
      "source": [
        "len(loader_test)"
      ],
      "metadata": {
        "id": "Vik7Mp5EnFqe",
        "outputId": "87e62474-cfca-4668-fc8d-ecf1afc5af18",
        "colab": {
          "base_uri": "https://localhost:8080/"
        }
      },
      "execution_count": 18,
      "outputs": [
        {
          "output_type": "execute_result",
          "data": {
            "text/plain": [
              "35448"
            ]
          },
          "metadata": {},
          "execution_count": 18
        }
      ]
    },
    {
      "cell_type": "code",
      "source": [
        "from tsbootstrap import MovingBlockBootstrap\n",
        "import numpy as np\n",
        "\n",
        "C_CONSTANT = 1\n",
        "n = len(loader_test)\n",
        "calculated_block_length = int(np.round(C_CONSTANT * (n**(1/3))))\n",
        "print(calculated_block_length)\n",
        "\n",
        "bootstrap_configs = {\n",
        "    \"weather\": {\"block_length\": calculated_block_length, \"n_bootstraps\": 15, \"rng\": 42},       # 6-hour pattern (10-min interval)\n",
        "    \"electricity\": {\"block_length\": calculated_block_length, \"n_bootstraps\": 15, \"rng\": 42},   # 1-day pattern (hourly)\n",
        "    \"exchange\": {\"block_length\": calculated_block_length, \"n_bootstraps\": 15, \"rng\": 42},      # 1-month pattern (daily)\n",
        "}\n",
        "\n",
        "# Example for weather\n",
        "dataset_name = \"electricity\"\n",
        "config = bootstrap_configs[dataset_name]\n",
        "\n",
        "real_test_array = real_data # shape (N, features)\n",
        "mbb = MovingBlockBootstrap(\n",
        "    n_bootstraps=config[\"n_bootstraps\"],\n",
        "    rng=config[\"rng\"],\n",
        "    block_length=config[\"block_length\"]\n",
        ")\n",
        "boot_samples = mbb.bootstrap(real_test_array, return_indices=False)\n"
      ],
      "metadata": {
        "id": "r3V4JBSEksXF",
        "colab": {
          "base_uri": "https://localhost:8080/"
        },
        "outputId": "a9c9e3b5-0fd1-47ed-9301-a5ea9c8f702b"
      },
      "execution_count": 19,
      "outputs": [
        {
          "output_type": "stream",
          "name": "stdout",
          "text": [
            "33\n"
          ]
        }
      ]
    },
    {
      "cell_type": "code",
      "source": [
        "model.load_state_dict(torch.load(MODEL_SAVE_PATH))"
      ],
      "metadata": {
        "colab": {
          "base_uri": "https://localhost:8080/"
        },
        "id": "Xlo6IGrddr2R",
        "outputId": "be12df84-0308-49dc-ba03-087fa76a035c"
      },
      "execution_count": 20,
      "outputs": [
        {
          "output_type": "execute_result",
          "data": {
            "text/plain": [
              "<All keys matched successfully>"
            ]
          },
          "metadata": {},
          "execution_count": 20
        }
      ]
    },
    {
      "cell_type": "code",
      "source": [
        "bootstrap_results = []\n",
        "\n",
        "for b_idx, boot_real in enumerate(boot_samples):\n",
        "    # 1. Match the synthetic data size\n",
        "    syn_trimmed = synthetic_data[:len(boot_real)]\n",
        "\n",
        "    # 2. Fidelity metrics\n",
        "    wasserstein = compute_wasserstein(boot_real, syn_trimmed, selected_columns)\n",
        "    kl = compute_kl_divergence(boot_real, syn_trimmed, selected_columns)\n",
        "\n",
        "    # 3. Utility metrics\n",
        "    # Preprocess this bootstrap sample for LSTM (as you do with real_data)\n",
        "    boot_tensor = torch.tensor(boot_real, dtype=torch.float32)\n",
        "    Xb_test, yb_test = make_sequences(boot_tensor, SEQ_LEN)\n",
        "\n",
        "    model.eval()\n",
        "    with torch.no_grad():\n",
        "        preds = model(Xb_test)\n",
        "        mse = mean_squared_error(yb_test.numpy(), preds.numpy())\n",
        "        rmse = np.sqrt(mse)\n",
        "        mae = mean_absolute_error(yb_test.numpy(), preds.numpy())\n",
        "\n",
        "    # 4. Store results\n",
        "    bootstrap_results.append({\n",
        "        'bootstrap': b_idx,\n",
        "        'wasserstein': np.mean(list(wasserstein.values())),\n",
        "        'kl': np.mean(list(kl.values())),\n",
        "        'rmse': rmse,\n",
        "        'mae': mae\n",
        "    })"
      ],
      "metadata": {
        "colab": {
          "base_uri": "https://localhost:8080/"
        },
        "id": "SPL4pVhwk3Ir",
        "outputId": "b9044872-4a0f-4075-b220-927f2d4a5dad"
      },
      "execution_count": null,
      "outputs": [
        {
          "output_type": "stream",
          "name": "stdout",
          "text": [
            "(35448, 7) (35448, 7)\n",
            "0.05529728018845923\n",
            "0.05430524160959064\n",
            "0.030452205368524367\n",
            "0.16116423508964609\n",
            "0.08826626519400188\n",
            "0.042960643485044164\n",
            "0.2759711920207977\n",
            "13.038326810110997\n",
            "14.713579206776958\n",
            "14.195222796077719\n",
            "11.784235036321466\n",
            "14.022001236787123\n",
            "13.256867363354935\n",
            "14.25434059928865\n",
            "(35448, 7) (35448, 7)\n",
            "0.055053147645018806\n",
            "0.0506483605938061\n",
            "0.030647277832964805\n",
            "0.15399998982705912\n",
            "0.08800851081530889\n",
            "0.04229399923280342\n",
            "0.2699039740665348\n",
            "12.997171575838031\n",
            "14.659077548153169\n",
            "14.176286800407732\n",
            "11.66321913113126\n",
            "13.801527873053654\n",
            "13.288486114379403\n",
            "14.30577152735018\n",
            "(35448, 7) (35448, 7)\n",
            "0.057823317781668014\n",
            "0.05269647031331238\n",
            "0.031151407249197387\n",
            "0.15899085475685668\n",
            "0.09069026562581499\n",
            "0.04215539668391499\n",
            "0.2758364310034349\n",
            "12.916862387140029\n",
            "14.71137646762695\n",
            "14.239391178477579\n",
            "11.838745456581814\n",
            "14.015294370532526\n",
            "13.547660325019036\n",
            "14.337389912585358\n",
            "(35448, 7) (35448, 7)\n",
            "0.060018413604816856\n",
            "0.05412596743618572\n",
            "0.030559088165501697\n",
            "0.15951986993457257\n",
            "0.09326953288512174\n",
            "0.04354813647729529\n",
            "0.2790902974360208\n",
            "12.94752774995372\n",
            "14.676673071566269\n",
            "14.188228605368291\n",
            "11.767874381918721\n",
            "13.803400792153719\n",
            "13.552573307574008\n",
            "14.27425342818998\n",
            "(35448, 7) (35448, 7)\n",
            "0.05358119523492695\n",
            "0.05130042963565014\n",
            "0.03052067522657452\n",
            "0.15416456098021758\n",
            "0.08631090731733777\n",
            "0.04473748835754367\n",
            "0.2785912824276784\n",
            "12.960998249386922\n",
            "14.423751991897648\n",
            "14.147986512611967\n",
            "11.907270393723117\n",
            "13.927145734304439\n",
            "13.255647746446396\n",
            "14.35072148649487\n",
            "(35448, 7) (35448, 7)\n",
            "0.059717988125373614\n",
            "0.0534954989599127\n",
            "0.030726548056314393\n",
            "0.1579312128254983\n",
            "0.09318706411413147\n",
            "0.04250966932132668\n",
            "0.2757901133879627\n",
            "12.9105680517081\n",
            "14.822154470703117\n",
            "14.293702957794899\n",
            "11.87738817152946\n",
            "13.899449288935433\n",
            "13.426787673076909\n",
            "14.375557611076632\n",
            "(35448, 7) (35448, 7)\n",
            "0.06198069392591575\n",
            "0.05602119858796668\n",
            "0.03139710562403178\n",
            "0.15937497509171003\n",
            "0.09557037813533047\n",
            "0.04402408901816983\n",
            "0.2759603804210059\n",
            "12.84329785455497\n",
            "14.90867390284762\n",
            "14.270111327250813\n",
            "11.832874395276347\n",
            "13.986490396403303\n",
            "13.646006164152078\n",
            "14.3445411256001\n",
            "(35448, 7) (35448, 7)\n",
            "0.06083118474975161\n",
            "0.05937134323568778\n",
            "0.031588473951427005\n",
            "0.15657649553556055\n",
            "0.09465205759155962\n",
            "0.04683613735502408\n",
            "0.2684281692425201\n",
            "12.935569665567746\n",
            "14.804852827788949\n",
            "14.323089270386971\n",
            "11.595687733997956\n",
            "13.880860884241097\n",
            "13.578183928966789\n",
            "14.329593683732448\n",
            "(35448, 7) (35448, 7)\n",
            "0.06071664781480072\n",
            "0.05603826628116858\n",
            "0.030776154006665335\n",
            "0.16116273943237353\n",
            "0.09405671377805894\n",
            "0.04406566636968795\n",
            "0.2747035033554679\n",
            "12.89383492057686\n",
            "14.907865026603417\n",
            "14.21120546275965\n",
            "11.81887744345931\n",
            "13.995510133875106\n",
            "13.42318989219602\n",
            "14.377366507038145\n",
            "(35448, 7) (35448, 7)\n",
            "0.06028696973760408\n",
            "0.052924381118997166\n",
            "0.030885381770976328\n",
            "0.15617276678106146\n",
            "0.0939604431372559\n",
            "0.04265882439089853\n",
            "0.2754461682795024\n",
            "12.946141917133028\n",
            "14.593267107431652\n",
            "14.176992446355952\n",
            "11.847650941573391\n",
            "14.08065828575443\n",
            "13.37918677690852\n",
            "14.263230260594511\n",
            "(35448, 7) (35448, 7)\n",
            "0.058632831880611365\n",
            "0.05303653793620629\n",
            "0.0302982960202903\n",
            "0.15805612248147136\n",
            "0.09163495122020403\n",
            "0.043345127329838265\n",
            "0.27639713330488913\n",
            "12.787566471686814\n",
            "14.717523496139911\n",
            "14.153737714594506\n",
            "11.85427990554739\n",
            "13.977605343972765\n",
            "13.24081408563913\n",
            "14.306620158134864\n",
            "(35448, 7) (35448, 7)\n",
            "0.05828433947410306\n",
            "0.052178717407181774\n",
            "0.03148442896386244\n",
            "0.15392248799384756\n",
            "0.09191521067838397\n",
            "0.043094732418122436\n",
            "0.2738213472237265\n",
            "12.8733980430222\n",
            "14.647445786309243\n",
            "14.324234113017145\n",
            "11.835890010227853\n",
            "13.774511920854216\n",
            "13.360871659798175\n",
            "14.156008222632451\n",
            "(35448, 7) (35448, 7)\n",
            "0.05934077894650209\n",
            "0.05393076628848742\n",
            "0.03140837281684485\n",
            "0.15468438561395131\n",
            "0.09301722866194265\n",
            "0.04424050687708668\n",
            "0.27082688995301424\n",
            "12.891599617583784\n",
            "14.73770942521922\n",
            "14.150799981757967\n",
            "11.931471997705048\n",
            "13.794328837627747\n",
            "13.364341303163478\n",
            "14.280239825823351\n"
          ]
        }
      ]
    },
    {
      "cell_type": "code",
      "source": [
        "print(bootstrap_results)\n",
        "\n",
        "# Assuming bootstrap_results is your list of dicts\n",
        "df_results = pd.DataFrame(bootstrap_results)\n",
        "\n",
        "df_results['Dataset'] = 'electricity'\n",
        "df_results['Model'] = 'TimeVAE'\n",
        "\n",
        "df_results"
      ],
      "metadata": {
        "colab": {
          "base_uri": "https://localhost:8080/",
          "height": 557
        },
        "id": "7zYaN_finjp5",
        "outputId": "9335c34a-bfb4-421b-d473-4cd8d2c1379e"
      },
      "execution_count": null,
      "outputs": [
        {
          "output_type": "stream",
          "name": "stdout",
          "text": [
            "[{'bootstrap': 0, 'wasserstein': 0.07323141194763165, 'kl': 12.846438609554097, 'rmse': 0.17522812, 'mae': 0.14308257}, {'bootstrap': 1, 'wasserstein': 0.07352712310986735, 'kl': 12.881357757419664, 'rmse': 0.1744337, 'mae': 0.14231618}, {'bootstrap': 2, 'wasserstein': 0.07472629509668247, 'kl': 12.845046054470235, 'rmse': 0.17401692, 'mae': 0.14200984}, {'bootstrap': 3, 'wasserstein': 0.07213636150413183, 'kl': 12.908230518238838, 'rmse': 0.17593919, 'mae': 0.14358655}, {'bootstrap': 4, 'wasserstein': 0.07254918520736926, 'kl': 12.90596188845117, 'rmse': 0.17640515, 'mae': 0.14459266}, {'bootstrap': 5, 'wasserstein': 0.07164750332783064, 'kl': 12.871000882557556, 'rmse': 0.17530641, 'mae': 0.1432686}, {'bootstrap': 6, 'wasserstein': 0.07365491968045372, 'kl': 12.82351955409776, 'rmse': 0.17456543, 'mae': 0.14284965}, {'bootstrap': 7, 'wasserstein': 0.07173975057797534, 'kl': 12.883252847040266, 'rmse': 0.17664504, 'mae': 0.14436296}, {'bootstrap': 8, 'wasserstein': 0.07155771479110927, 'kl': 12.913056316547374, 'rmse': 0.17575313, 'mae': 0.1438307}, {'bootstrap': 9, 'wasserstein': 0.07252640691354668, 'kl': 12.873823860459462, 'rmse': 0.17626943, 'mae': 0.14406523}, {'bootstrap': 10, 'wasserstein': 0.07110796222699593, 'kl': 12.885391812124036, 'rmse': 0.17555064, 'mae': 0.14348666}, {'bootstrap': 11, 'wasserstein': 0.0731603228161336, 'kl': 12.87402282951035, 'rmse': 0.175232, 'mae': 0.14307097}, {'bootstrap': 12, 'wasserstein': 0.07277459128569626, 'kl': 12.866279020624534, 'rmse': 0.17566802, 'mae': 0.14346774}, {'bootstrap': 13, 'wasserstein': 0.07138366942864935, 'kl': 12.890619459778792, 'rmse': 0.17611794, 'mae': 0.14353538}, {'bootstrap': 14, 'wasserstein': 0.073400701436277, 'kl': 12.836220815646344, 'rmse': 0.175248, 'mae': 0.14320728}]\n"
          ]
        },
        {
          "output_type": "execute_result",
          "data": {
            "text/plain": [
              "    bootstrap  wasserstein         kl      rmse       mae      Dataset  \\\n",
              "0           0     0.073231  12.846439  0.175228  0.143083  electricity   \n",
              "1           1     0.073527  12.881358  0.174434  0.142316  electricity   \n",
              "2           2     0.074726  12.845046  0.174017  0.142010  electricity   \n",
              "3           3     0.072136  12.908231  0.175939  0.143587  electricity   \n",
              "4           4     0.072549  12.905962  0.176405  0.144593  electricity   \n",
              "5           5     0.071648  12.871001  0.175306  0.143269  electricity   \n",
              "6           6     0.073655  12.823520  0.174565  0.142850  electricity   \n",
              "7           7     0.071740  12.883253  0.176645  0.144363  electricity   \n",
              "8           8     0.071558  12.913056  0.175753  0.143831  electricity   \n",
              "9           9     0.072526  12.873824  0.176269  0.144065  electricity   \n",
              "10         10     0.071108  12.885392  0.175551  0.143487  electricity   \n",
              "11         11     0.073160  12.874023  0.175232  0.143071  electricity   \n",
              "12         12     0.072775  12.866279  0.175668  0.143468  electricity   \n",
              "13         13     0.071384  12.890619  0.176118  0.143535  electricity   \n",
              "14         14     0.073401  12.836221  0.175248  0.143207  electricity   \n",
              "\n",
              "      Model  \n",
              "0   TimeVAE  \n",
              "1   TimeVAE  \n",
              "2   TimeVAE  \n",
              "3   TimeVAE  \n",
              "4   TimeVAE  \n",
              "5   TimeVAE  \n",
              "6   TimeVAE  \n",
              "7   TimeVAE  \n",
              "8   TimeVAE  \n",
              "9   TimeVAE  \n",
              "10  TimeVAE  \n",
              "11  TimeVAE  \n",
              "12  TimeVAE  \n",
              "13  TimeVAE  \n",
              "14  TimeVAE  "
            ],
            "text/html": [
              "\n",
              "  <div id=\"df-e292d5c3-bd0c-4ac2-87ce-3bd41b7a7577\" class=\"colab-df-container\">\n",
              "    <div>\n",
              "<style scoped>\n",
              "    .dataframe tbody tr th:only-of-type {\n",
              "        vertical-align: middle;\n",
              "    }\n",
              "\n",
              "    .dataframe tbody tr th {\n",
              "        vertical-align: top;\n",
              "    }\n",
              "\n",
              "    .dataframe thead th {\n",
              "        text-align: right;\n",
              "    }\n",
              "</style>\n",
              "<table border=\"1\" class=\"dataframe\">\n",
              "  <thead>\n",
              "    <tr style=\"text-align: right;\">\n",
              "      <th></th>\n",
              "      <th>bootstrap</th>\n",
              "      <th>wasserstein</th>\n",
              "      <th>kl</th>\n",
              "      <th>rmse</th>\n",
              "      <th>mae</th>\n",
              "      <th>Dataset</th>\n",
              "      <th>Model</th>\n",
              "    </tr>\n",
              "  </thead>\n",
              "  <tbody>\n",
              "    <tr>\n",
              "      <th>0</th>\n",
              "      <td>0</td>\n",
              "      <td>0.073231</td>\n",
              "      <td>12.846439</td>\n",
              "      <td>0.175228</td>\n",
              "      <td>0.143083</td>\n",
              "      <td>electricity</td>\n",
              "      <td>TimeVAE</td>\n",
              "    </tr>\n",
              "    <tr>\n",
              "      <th>1</th>\n",
              "      <td>1</td>\n",
              "      <td>0.073527</td>\n",
              "      <td>12.881358</td>\n",
              "      <td>0.174434</td>\n",
              "      <td>0.142316</td>\n",
              "      <td>electricity</td>\n",
              "      <td>TimeVAE</td>\n",
              "    </tr>\n",
              "    <tr>\n",
              "      <th>2</th>\n",
              "      <td>2</td>\n",
              "      <td>0.074726</td>\n",
              "      <td>12.845046</td>\n",
              "      <td>0.174017</td>\n",
              "      <td>0.142010</td>\n",
              "      <td>electricity</td>\n",
              "      <td>TimeVAE</td>\n",
              "    </tr>\n",
              "    <tr>\n",
              "      <th>3</th>\n",
              "      <td>3</td>\n",
              "      <td>0.072136</td>\n",
              "      <td>12.908231</td>\n",
              "      <td>0.175939</td>\n",
              "      <td>0.143587</td>\n",
              "      <td>electricity</td>\n",
              "      <td>TimeVAE</td>\n",
              "    </tr>\n",
              "    <tr>\n",
              "      <th>4</th>\n",
              "      <td>4</td>\n",
              "      <td>0.072549</td>\n",
              "      <td>12.905962</td>\n",
              "      <td>0.176405</td>\n",
              "      <td>0.144593</td>\n",
              "      <td>electricity</td>\n",
              "      <td>TimeVAE</td>\n",
              "    </tr>\n",
              "    <tr>\n",
              "      <th>5</th>\n",
              "      <td>5</td>\n",
              "      <td>0.071648</td>\n",
              "      <td>12.871001</td>\n",
              "      <td>0.175306</td>\n",
              "      <td>0.143269</td>\n",
              "      <td>electricity</td>\n",
              "      <td>TimeVAE</td>\n",
              "    </tr>\n",
              "    <tr>\n",
              "      <th>6</th>\n",
              "      <td>6</td>\n",
              "      <td>0.073655</td>\n",
              "      <td>12.823520</td>\n",
              "      <td>0.174565</td>\n",
              "      <td>0.142850</td>\n",
              "      <td>electricity</td>\n",
              "      <td>TimeVAE</td>\n",
              "    </tr>\n",
              "    <tr>\n",
              "      <th>7</th>\n",
              "      <td>7</td>\n",
              "      <td>0.071740</td>\n",
              "      <td>12.883253</td>\n",
              "      <td>0.176645</td>\n",
              "      <td>0.144363</td>\n",
              "      <td>electricity</td>\n",
              "      <td>TimeVAE</td>\n",
              "    </tr>\n",
              "    <tr>\n",
              "      <th>8</th>\n",
              "      <td>8</td>\n",
              "      <td>0.071558</td>\n",
              "      <td>12.913056</td>\n",
              "      <td>0.175753</td>\n",
              "      <td>0.143831</td>\n",
              "      <td>electricity</td>\n",
              "      <td>TimeVAE</td>\n",
              "    </tr>\n",
              "    <tr>\n",
              "      <th>9</th>\n",
              "      <td>9</td>\n",
              "      <td>0.072526</td>\n",
              "      <td>12.873824</td>\n",
              "      <td>0.176269</td>\n",
              "      <td>0.144065</td>\n",
              "      <td>electricity</td>\n",
              "      <td>TimeVAE</td>\n",
              "    </tr>\n",
              "    <tr>\n",
              "      <th>10</th>\n",
              "      <td>10</td>\n",
              "      <td>0.071108</td>\n",
              "      <td>12.885392</td>\n",
              "      <td>0.175551</td>\n",
              "      <td>0.143487</td>\n",
              "      <td>electricity</td>\n",
              "      <td>TimeVAE</td>\n",
              "    </tr>\n",
              "    <tr>\n",
              "      <th>11</th>\n",
              "      <td>11</td>\n",
              "      <td>0.073160</td>\n",
              "      <td>12.874023</td>\n",
              "      <td>0.175232</td>\n",
              "      <td>0.143071</td>\n",
              "      <td>electricity</td>\n",
              "      <td>TimeVAE</td>\n",
              "    </tr>\n",
              "    <tr>\n",
              "      <th>12</th>\n",
              "      <td>12</td>\n",
              "      <td>0.072775</td>\n",
              "      <td>12.866279</td>\n",
              "      <td>0.175668</td>\n",
              "      <td>0.143468</td>\n",
              "      <td>electricity</td>\n",
              "      <td>TimeVAE</td>\n",
              "    </tr>\n",
              "    <tr>\n",
              "      <th>13</th>\n",
              "      <td>13</td>\n",
              "      <td>0.071384</td>\n",
              "      <td>12.890619</td>\n",
              "      <td>0.176118</td>\n",
              "      <td>0.143535</td>\n",
              "      <td>electricity</td>\n",
              "      <td>TimeVAE</td>\n",
              "    </tr>\n",
              "    <tr>\n",
              "      <th>14</th>\n",
              "      <td>14</td>\n",
              "      <td>0.073401</td>\n",
              "      <td>12.836221</td>\n",
              "      <td>0.175248</td>\n",
              "      <td>0.143207</td>\n",
              "      <td>electricity</td>\n",
              "      <td>TimeVAE</td>\n",
              "    </tr>\n",
              "  </tbody>\n",
              "</table>\n",
              "</div>\n",
              "    <div class=\"colab-df-buttons\">\n",
              "\n",
              "  <div class=\"colab-df-container\">\n",
              "    <button class=\"colab-df-convert\" onclick=\"convertToInteractive('df-e292d5c3-bd0c-4ac2-87ce-3bd41b7a7577')\"\n",
              "            title=\"Convert this dataframe to an interactive table.\"\n",
              "            style=\"display:none;\">\n",
              "\n",
              "  <svg xmlns=\"http://www.w3.org/2000/svg\" height=\"24px\" viewBox=\"0 -960 960 960\">\n",
              "    <path d=\"M120-120v-720h720v720H120Zm60-500h600v-160H180v160Zm220 220h160v-160H400v160Zm0 220h160v-160H400v160ZM180-400h160v-160H180v160Zm440 0h160v-160H620v160ZM180-180h160v-160H180v160Zm440 0h160v-160H620v160Z\"/>\n",
              "  </svg>\n",
              "    </button>\n",
              "\n",
              "  <style>\n",
              "    .colab-df-container {\n",
              "      display:flex;\n",
              "      gap: 12px;\n",
              "    }\n",
              "\n",
              "    .colab-df-convert {\n",
              "      background-color: #E8F0FE;\n",
              "      border: none;\n",
              "      border-radius: 50%;\n",
              "      cursor: pointer;\n",
              "      display: none;\n",
              "      fill: #1967D2;\n",
              "      height: 32px;\n",
              "      padding: 0 0 0 0;\n",
              "      width: 32px;\n",
              "    }\n",
              "\n",
              "    .colab-df-convert:hover {\n",
              "      background-color: #E2EBFA;\n",
              "      box-shadow: 0px 1px 2px rgba(60, 64, 67, 0.3), 0px 1px 3px 1px rgba(60, 64, 67, 0.15);\n",
              "      fill: #174EA6;\n",
              "    }\n",
              "\n",
              "    .colab-df-buttons div {\n",
              "      margin-bottom: 4px;\n",
              "    }\n",
              "\n",
              "    [theme=dark] .colab-df-convert {\n",
              "      background-color: #3B4455;\n",
              "      fill: #D2E3FC;\n",
              "    }\n",
              "\n",
              "    [theme=dark] .colab-df-convert:hover {\n",
              "      background-color: #434B5C;\n",
              "      box-shadow: 0px 1px 3px 1px rgba(0, 0, 0, 0.15);\n",
              "      filter: drop-shadow(0px 1px 2px rgba(0, 0, 0, 0.3));\n",
              "      fill: #FFFFFF;\n",
              "    }\n",
              "  </style>\n",
              "\n",
              "    <script>\n",
              "      const buttonEl =\n",
              "        document.querySelector('#df-e292d5c3-bd0c-4ac2-87ce-3bd41b7a7577 button.colab-df-convert');\n",
              "      buttonEl.style.display =\n",
              "        google.colab.kernel.accessAllowed ? 'block' : 'none';\n",
              "\n",
              "      async function convertToInteractive(key) {\n",
              "        const element = document.querySelector('#df-e292d5c3-bd0c-4ac2-87ce-3bd41b7a7577');\n",
              "        const dataTable =\n",
              "          await google.colab.kernel.invokeFunction('convertToInteractive',\n",
              "                                                    [key], {});\n",
              "        if (!dataTable) return;\n",
              "\n",
              "        const docLinkHtml = 'Like what you see? Visit the ' +\n",
              "          '<a target=\"_blank\" href=https://colab.research.google.com/notebooks/data_table.ipynb>data table notebook</a>'\n",
              "          + ' to learn more about interactive tables.';\n",
              "        element.innerHTML = '';\n",
              "        dataTable['output_type'] = 'display_data';\n",
              "        await google.colab.output.renderOutput(dataTable, element);\n",
              "        const docLink = document.createElement('div');\n",
              "        docLink.innerHTML = docLinkHtml;\n",
              "        element.appendChild(docLink);\n",
              "      }\n",
              "    </script>\n",
              "  </div>\n",
              "\n",
              "\n",
              "    <div id=\"df-57e67ab8-258f-4be8-bef5-86627e207b9c\">\n",
              "      <button class=\"colab-df-quickchart\" onclick=\"quickchart('df-57e67ab8-258f-4be8-bef5-86627e207b9c')\"\n",
              "                title=\"Suggest charts\"\n",
              "                style=\"display:none;\">\n",
              "\n",
              "<svg xmlns=\"http://www.w3.org/2000/svg\" height=\"24px\"viewBox=\"0 0 24 24\"\n",
              "     width=\"24px\">\n",
              "    <g>\n",
              "        <path d=\"M19 3H5c-1.1 0-2 .9-2 2v14c0 1.1.9 2 2 2h14c1.1 0 2-.9 2-2V5c0-1.1-.9-2-2-2zM9 17H7v-7h2v7zm4 0h-2V7h2v10zm4 0h-2v-4h2v4z\"/>\n",
              "    </g>\n",
              "</svg>\n",
              "      </button>\n",
              "\n",
              "<style>\n",
              "  .colab-df-quickchart {\n",
              "      --bg-color: #E8F0FE;\n",
              "      --fill-color: #1967D2;\n",
              "      --hover-bg-color: #E2EBFA;\n",
              "      --hover-fill-color: #174EA6;\n",
              "      --disabled-fill-color: #AAA;\n",
              "      --disabled-bg-color: #DDD;\n",
              "  }\n",
              "\n",
              "  [theme=dark] .colab-df-quickchart {\n",
              "      --bg-color: #3B4455;\n",
              "      --fill-color: #D2E3FC;\n",
              "      --hover-bg-color: #434B5C;\n",
              "      --hover-fill-color: #FFFFFF;\n",
              "      --disabled-bg-color: #3B4455;\n",
              "      --disabled-fill-color: #666;\n",
              "  }\n",
              "\n",
              "  .colab-df-quickchart {\n",
              "    background-color: var(--bg-color);\n",
              "    border: none;\n",
              "    border-radius: 50%;\n",
              "    cursor: pointer;\n",
              "    display: none;\n",
              "    fill: var(--fill-color);\n",
              "    height: 32px;\n",
              "    padding: 0;\n",
              "    width: 32px;\n",
              "  }\n",
              "\n",
              "  .colab-df-quickchart:hover {\n",
              "    background-color: var(--hover-bg-color);\n",
              "    box-shadow: 0 1px 2px rgba(60, 64, 67, 0.3), 0 1px 3px 1px rgba(60, 64, 67, 0.15);\n",
              "    fill: var(--button-hover-fill-color);\n",
              "  }\n",
              "\n",
              "  .colab-df-quickchart-complete:disabled,\n",
              "  .colab-df-quickchart-complete:disabled:hover {\n",
              "    background-color: var(--disabled-bg-color);\n",
              "    fill: var(--disabled-fill-color);\n",
              "    box-shadow: none;\n",
              "  }\n",
              "\n",
              "  .colab-df-spinner {\n",
              "    border: 2px solid var(--fill-color);\n",
              "    border-color: transparent;\n",
              "    border-bottom-color: var(--fill-color);\n",
              "    animation:\n",
              "      spin 1s steps(1) infinite;\n",
              "  }\n",
              "\n",
              "  @keyframes spin {\n",
              "    0% {\n",
              "      border-color: transparent;\n",
              "      border-bottom-color: var(--fill-color);\n",
              "      border-left-color: var(--fill-color);\n",
              "    }\n",
              "    20% {\n",
              "      border-color: transparent;\n",
              "      border-left-color: var(--fill-color);\n",
              "      border-top-color: var(--fill-color);\n",
              "    }\n",
              "    30% {\n",
              "      border-color: transparent;\n",
              "      border-left-color: var(--fill-color);\n",
              "      border-top-color: var(--fill-color);\n",
              "      border-right-color: var(--fill-color);\n",
              "    }\n",
              "    40% {\n",
              "      border-color: transparent;\n",
              "      border-right-color: var(--fill-color);\n",
              "      border-top-color: var(--fill-color);\n",
              "    }\n",
              "    60% {\n",
              "      border-color: transparent;\n",
              "      border-right-color: var(--fill-color);\n",
              "    }\n",
              "    80% {\n",
              "      border-color: transparent;\n",
              "      border-right-color: var(--fill-color);\n",
              "      border-bottom-color: var(--fill-color);\n",
              "    }\n",
              "    90% {\n",
              "      border-color: transparent;\n",
              "      border-bottom-color: var(--fill-color);\n",
              "    }\n",
              "  }\n",
              "</style>\n",
              "\n",
              "      <script>\n",
              "        async function quickchart(key) {\n",
              "          const quickchartButtonEl =\n",
              "            document.querySelector('#' + key + ' button');\n",
              "          quickchartButtonEl.disabled = true;  // To prevent multiple clicks.\n",
              "          quickchartButtonEl.classList.add('colab-df-spinner');\n",
              "          try {\n",
              "            const charts = await google.colab.kernel.invokeFunction(\n",
              "                'suggestCharts', [key], {});\n",
              "          } catch (error) {\n",
              "            console.error('Error during call to suggestCharts:', error);\n",
              "          }\n",
              "          quickchartButtonEl.classList.remove('colab-df-spinner');\n",
              "          quickchartButtonEl.classList.add('colab-df-quickchart-complete');\n",
              "        }\n",
              "        (() => {\n",
              "          let quickchartButtonEl =\n",
              "            document.querySelector('#df-57e67ab8-258f-4be8-bef5-86627e207b9c button');\n",
              "          quickchartButtonEl.style.display =\n",
              "            google.colab.kernel.accessAllowed ? 'block' : 'none';\n",
              "        })();\n",
              "      </script>\n",
              "    </div>\n",
              "\n",
              "  <div id=\"id_61c31346-0138-430b-9a31-19edcb48606a\">\n",
              "    <style>\n",
              "      .colab-df-generate {\n",
              "        background-color: #E8F0FE;\n",
              "        border: none;\n",
              "        border-radius: 50%;\n",
              "        cursor: pointer;\n",
              "        display: none;\n",
              "        fill: #1967D2;\n",
              "        height: 32px;\n",
              "        padding: 0 0 0 0;\n",
              "        width: 32px;\n",
              "      }\n",
              "\n",
              "      .colab-df-generate:hover {\n",
              "        background-color: #E2EBFA;\n",
              "        box-shadow: 0px 1px 2px rgba(60, 64, 67, 0.3), 0px 1px 3px 1px rgba(60, 64, 67, 0.15);\n",
              "        fill: #174EA6;\n",
              "      }\n",
              "\n",
              "      [theme=dark] .colab-df-generate {\n",
              "        background-color: #3B4455;\n",
              "        fill: #D2E3FC;\n",
              "      }\n",
              "\n",
              "      [theme=dark] .colab-df-generate:hover {\n",
              "        background-color: #434B5C;\n",
              "        box-shadow: 0px 1px 3px 1px rgba(0, 0, 0, 0.15);\n",
              "        filter: drop-shadow(0px 1px 2px rgba(0, 0, 0, 0.3));\n",
              "        fill: #FFFFFF;\n",
              "      }\n",
              "    </style>\n",
              "    <button class=\"colab-df-generate\" onclick=\"generateWithVariable('df_results')\"\n",
              "            title=\"Generate code using this dataframe.\"\n",
              "            style=\"display:none;\">\n",
              "\n",
              "  <svg xmlns=\"http://www.w3.org/2000/svg\" height=\"24px\"viewBox=\"0 0 24 24\"\n",
              "       width=\"24px\">\n",
              "    <path d=\"M7,19H8.4L18.45,9,17,7.55,7,17.6ZM5,21V16.75L18.45,3.32a2,2,0,0,1,2.83,0l1.4,1.43a1.91,1.91,0,0,1,.58,1.4,1.91,1.91,0,0,1-.58,1.4L9.25,21ZM18.45,9,17,7.55Zm-12,3A5.31,5.31,0,0,0,4.9,8.1,5.31,5.31,0,0,0,1,6.5,5.31,5.31,0,0,0,4.9,4.9,5.31,5.31,0,0,0,6.5,1,5.31,5.31,0,0,0,8.1,4.9,5.31,5.31,0,0,0,12,6.5,5.46,5.46,0,0,0,6.5,12Z\"/>\n",
              "  </svg>\n",
              "    </button>\n",
              "    <script>\n",
              "      (() => {\n",
              "      const buttonEl =\n",
              "        document.querySelector('#id_61c31346-0138-430b-9a31-19edcb48606a button.colab-df-generate');\n",
              "      buttonEl.style.display =\n",
              "        google.colab.kernel.accessAllowed ? 'block' : 'none';\n",
              "\n",
              "      buttonEl.onclick = () => {\n",
              "        google.colab.notebook.generateWithVariable('df_results');\n",
              "      }\n",
              "      })();\n",
              "    </script>\n",
              "  </div>\n",
              "\n",
              "    </div>\n",
              "  </div>\n"
            ],
            "application/vnd.google.colaboratory.intrinsic+json": {
              "type": "dataframe",
              "variable_name": "df_results",
              "summary": "{\n  \"name\": \"df_results\",\n  \"rows\": 15,\n  \"fields\": [\n    {\n      \"column\": \"bootstrap\",\n      \"properties\": {\n        \"dtype\": \"number\",\n        \"std\": 4,\n        \"min\": 0,\n        \"max\": 14,\n        \"num_unique_values\": 15,\n        \"samples\": [\n          9,\n          11,\n          0\n        ],\n        \"semantic_type\": \"\",\n        \"description\": \"\"\n      }\n    },\n    {\n      \"column\": \"wasserstein\",\n      \"properties\": {\n        \"dtype\": \"number\",\n        \"std\": 0.0010190682179968753,\n        \"min\": 0.07110796222699593,\n        \"max\": 0.07472629509668247,\n        \"num_unique_values\": 15,\n        \"samples\": [\n          0.07252640691354668,\n          0.0731603228161336,\n          0.07323141194763165\n        ],\n        \"semantic_type\": \"\",\n        \"description\": \"\"\n      }\n    },\n    {\n      \"column\": \"kl\",\n      \"properties\": {\n        \"dtype\": \"number\",\n        \"std\": 0.026597980335610484,\n        \"min\": 12.82351955409776,\n        \"max\": 12.913056316547374,\n        \"num_unique_values\": 15,\n        \"samples\": [\n          12.873823860459462,\n          12.87402282951035,\n          12.846438609554097\n        ],\n        \"semantic_type\": \"\",\n        \"description\": \"\"\n      }\n    },\n    {\n      \"column\": \"rmse\",\n      \"properties\": {\n        \"dtype\": \"float32\",\n        \"num_unique_values\": 15,\n        \"samples\": [\n          0.17626942694187164,\n          0.17523199319839478,\n          0.17522811889648438\n        ],\n        \"semantic_type\": \"\",\n        \"description\": \"\"\n      }\n    },\n    {\n      \"column\": \"mae\",\n      \"properties\": {\n        \"dtype\": \"float32\",\n        \"num_unique_values\": 15,\n        \"samples\": [\n          0.1440652310848236,\n          0.14307096600532532,\n          0.14308257400989532\n        ],\n        \"semantic_type\": \"\",\n        \"description\": \"\"\n      }\n    },\n    {\n      \"column\": \"Dataset\",\n      \"properties\": {\n        \"dtype\": \"category\",\n        \"num_unique_values\": 1,\n        \"samples\": [\n          \"electricity\"\n        ],\n        \"semantic_type\": \"\",\n        \"description\": \"\"\n      }\n    },\n    {\n      \"column\": \"Model\",\n      \"properties\": {\n        \"dtype\": \"category\",\n        \"num_unique_values\": 1,\n        \"samples\": [\n          \"TimeVAE\"\n        ],\n        \"semantic_type\": \"\",\n        \"description\": \"\"\n      }\n    }\n  ]\n}"
            }
          },
          "metadata": {},
          "execution_count": 33
        }
      ]
    },
    {
      "cell_type": "code",
      "source": [
        "summary_row = {\n",
        "    'Dataset': 'electricity',\n",
        "    'Model': 'TimeVAE',\n",
        "    'Wasserstein': df_results['wasserstein'].mean(),\n",
        "    'KL': df_results['kl'].mean(),\n",
        "    'RMSE': df_results['rmse'].mean(),\n",
        "    'MAE': df_results['mae'].mean()\n",
        "}\n",
        "\n",
        "df_summary = pd.DataFrame([summary_row])\n",
        "print(df_summary)"
      ],
      "metadata": {
        "colab": {
          "base_uri": "https://localhost:8080/"
        },
        "id": "OwehLjFkqLYs",
        "outputId": "9781c34a-36a6-4184-a99b-4bc67a65377a"
      },
      "execution_count": null,
      "outputs": [
        {
          "output_type": "stream",
          "name": "stdout",
          "text": [
            "       Dataset    Model  Wasserstein         KL      RMSE       MAE\n",
            "0  electricity  TimeVAE     0.072608  12.873615  0.175492  0.143382\n"
          ]
        }
      ]
    }
  ]
}