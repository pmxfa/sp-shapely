{
  "nbformat": 4,
  "nbformat_minor": 0,
  "metadata": {
    "colab": {
      "provenance": [],
      "authorship_tag": "ABX9TyPe57B0C1+wavftkSa6yiDI",
      "include_colab_link": true
    },
    "kernelspec": {
      "name": "python3",
      "display_name": "Python 3"
    },
    "language_info": {
      "name": "python"
    }
  },
  "cells": [
    {
      "cell_type": "markdown",
      "metadata": {
        "id": "view-in-github",
        "colab_type": "text"
      },
      "source": [
        "<a href=\"https://colab.research.google.com/github/pmxfa/sp-shapely/blob/main/sp_timevae_electricity.ipynb\" target=\"_parent\"><img src=\"https://colab.research.google.com/assets/colab-badge.svg\" alt=\"Open In Colab\"/></a>"
      ]
    },
    {
      "cell_type": "markdown",
      "source": [
        "# Training"
      ],
      "metadata": {
        "id": "NcwQ6Yo09JC8"
      }
    },
    {
      "cell_type": "code",
      "execution_count": null,
      "metadata": {
        "id": "oaMLghK_ipz1",
        "collapsed": true
      },
      "outputs": [],
      "source": [
        "!pip install synthcity tsbootstrap"
      ]
    },
    {
      "cell_type": "code",
      "source": [
        "from google.colab import drive\n",
        "drive.mount('/content/drive')\n",
        "\n",
        "import sys\n",
        "import warnings\n",
        "import pandas as pd\n",
        "import numpy as np\n",
        "from sklearn.preprocessing import MinMaxScaler\n",
        "\n",
        "import synthcity.logger as log\n",
        "from synthcity.plugins import Plugins\n",
        "from synthcity.plugins.core.dataloader import TimeSeriesDataLoader\n",
        "from synthcity.utils.serialization import save_to_file, load_from_file\n",
        "\n",
        "log.add(sink=sys.stderr, level=\"INFO\")"
      ],
      "metadata": {
        "id": "kfDi7FQF9LIv",
        "colab": {
          "base_uri": "https://localhost:8080/"
        },
        "outputId": "dded5c04-e2c6-4ded-c5c6-1781cbe2c158",
        "collapsed": true
      },
      "execution_count": 1,
      "outputs": [
        {
          "output_type": "stream",
          "name": "stdout",
          "text": [
            "Mounted at /content/drive\n",
            "[KeOps] Warning : CUDA libraries not found or could not be loaded; Switching to CPU only.\n"
          ]
        }
      ]
    },
    {
      "cell_type": "code",
      "source": [
        "# Define file path\n",
        "file_path = \"/content/drive/Shareddrives/sp_env/datasets/Electricity Transformer Dataset (ETDataset)/ETTh1.csv\"\n",
        "\n",
        "df = pd.read_csv(file_path)\n",
        "print(df.head())\n",
        "print(df.info())\n",
        "print(df.isnull().sum())"
      ],
      "metadata": {
        "id": "DCLsmN-F9NGv",
        "colab": {
          "base_uri": "https://localhost:8080/"
        },
        "outputId": "660591eb-c230-419b-bef7-695f447826a9"
      },
      "execution_count": 2,
      "outputs": [
        {
          "output_type": "stream",
          "name": "stdout",
          "text": [
            "                  date   HUFL   HULL   MUFL   MULL   LUFL   LULL         OT\n",
            "0  2016-07-01 00:00:00  5.827  2.009  1.599  0.462  4.203  1.340  30.531000\n",
            "1  2016-07-01 01:00:00  5.693  2.076  1.492  0.426  4.142  1.371  27.787001\n",
            "2  2016-07-01 02:00:00  5.157  1.741  1.279  0.355  3.777  1.218  27.787001\n",
            "3  2016-07-01 03:00:00  5.090  1.942  1.279  0.391  3.807  1.279  25.044001\n",
            "4  2016-07-01 04:00:00  5.358  1.942  1.492  0.462  3.868  1.279  21.948000\n",
            "<class 'pandas.core.frame.DataFrame'>\n",
            "RangeIndex: 17420 entries, 0 to 17419\n",
            "Data columns (total 8 columns):\n",
            " #   Column  Non-Null Count  Dtype  \n",
            "---  ------  --------------  -----  \n",
            " 0   date    17420 non-null  object \n",
            " 1   HUFL    17420 non-null  float64\n",
            " 2   HULL    17420 non-null  float64\n",
            " 3   MUFL    17420 non-null  float64\n",
            " 4   MULL    17420 non-null  float64\n",
            " 5   LUFL    17420 non-null  float64\n",
            " 6   LULL    17420 non-null  float64\n",
            " 7   OT      17420 non-null  float64\n",
            "dtypes: float64(7), object(1)\n",
            "memory usage: 1.1+ MB\n",
            "None\n",
            "date    0\n",
            "HUFL    0\n",
            "HULL    0\n",
            "MUFL    0\n",
            "MULL    0\n",
            "LUFL    0\n",
            "LULL    0\n",
            "OT      0\n",
            "dtype: int64\n"
          ]
        }
      ]
    },
    {
      "cell_type": "code",
      "source": [
        "# Convert 'date' to datetime, set as index, and sort\n",
        "df['date'] = pd.to_datetime(df['date'])\n",
        "df.set_index('date', inplace=True)\n",
        "df.sort_index(inplace=True)\n",
        "\n",
        "# Keep the latest 5000 rows\n",
        "df_latest = df.tail(5000)\n",
        "\n",
        "# Train-test split: 70% for training (for TimeGAN), 30% for testing (TSTR)\n",
        "train_size = int(0.7 * len(df_latest))\n",
        "df_train = df_latest.iloc[:train_size]\n",
        "df_test = df_latest.iloc[train_size:]  # use later for LSTM-TSTR\n",
        "\n",
        "# Normalize the data\n",
        "scaler = MinMaxScaler()\n",
        "scaled_train = scaler.fit_transform(df_train)\n",
        "df_scaled_train = pd.DataFrame(scaled_train, columns=df_train.columns, index=df_train.index)\n",
        "scaled_test = scaler.transform(df_test)\n",
        "df_scaled_test = pd.DataFrame(scaled_train, columns=df_train.columns, index=df_train.index)\n",
        "\n",
        "# Sequence length for time-series data (dataset = hourly; 24 hours)\n",
        "sequence_length = 24"
      ],
      "metadata": {
        "id": "siWRiBtn9O0V"
      },
      "execution_count": 3,
      "outputs": []
    },
    {
      "cell_type": "code",
      "source": [
        "temporal_data = []\n",
        "observation_times = []\n",
        "\n",
        "# Generate sequences from df_scaled_train only\n",
        "for start in range(len(df_scaled_train) - sequence_length + 1):\n",
        "    sequence = df_scaled_train.iloc[start:start + sequence_length].reset_index(drop=True)\n",
        "    temporal_data.append(sequence)\n",
        "    observation_times.append(list(range(sequence_length)))  # relative time within the window\n",
        "\n",
        "dummy_outcome = pd.DataFrame(np.zeros(len(temporal_data)), columns=[\"outcome\"])\n",
        "\n",
        "loader = TimeSeriesDataLoader(\n",
        "    temporal_data=temporal_data,\n",
        "    observation_times=observation_times,\n",
        "    static_data=None,\n",
        "    outcome=dummy_outcome,\n",
        ")\n",
        "\n",
        "# Print the loader info\n",
        "print(f\"TimeSeriesDataLoader created with {len(temporal_data)} sequences\")"
      ],
      "metadata": {
        "id": "6yav1EWNW7Jj"
      },
      "execution_count": null,
      "outputs": []
    },
    {
      "cell_type": "code",
      "source": [
        "temporal_data_test = []\n",
        "observation_times_test = []\n",
        "\n",
        "# Generate sequences from df_scaled_test only\n",
        "for start in range(len(df_scaled_test) - sequence_length + 1):\n",
        "    sequence = df_scaled_test.iloc[start:start + sequence_length].reset_index(drop=True)\n",
        "    temporal_data_test.append(sequence)\n",
        "    observation_times_test.append(list(range(sequence_length)))  # relative time within the window\n",
        "\n",
        "# Dummy outcome for TimeGAN (can be used in DataLoader)\n",
        "dummy_outcome = pd.DataFrame(np.zeros(len(temporal_data_test)), columns=[\"outcome\"])\n",
        "\n",
        "# Create DataLoader for TimeGAN\n",
        "loader_test = TimeSeriesDataLoader(\n",
        "    temporal_data=temporal_data_test,\n",
        "    observation_times=observation_times_test,\n",
        "    static_data=None,\n",
        "    outcome=dummy_outcome,\n",
        ")\n",
        "\n",
        "# Print the loader info\n",
        "print(f\"TimeSeriesDataLoader TEST SET created with {len(temporal_data_test)} sequences\")"
      ],
      "metadata": {
        "id": "Vom9l4QaW7u2",
        "outputId": "31a94394-4d7a-4fd6-cdb9-fe016b1a7c0f",
        "colab": {
          "base_uri": "https://localhost:8080/"
        }
      },
      "execution_count": 4,
      "outputs": [
        {
          "output_type": "stream",
          "name": "stdout",
          "text": [
            "TimeSeriesDataLoader TEST SET created with 3477 sequences\n"
          ]
        }
      ]
    },
    {
      "cell_type": "code",
      "source": [
        "print(len(df_scaled_train))  # Check the length of the dataframe\n",
        "print(loader.dataframe())"
      ],
      "metadata": {
        "id": "FmZe08FM9Rd0",
        "colab": {
          "base_uri": "https://localhost:8080/"
        },
        "outputId": "74176c6c-b3bc-4836-938f-62767d8aef69"
      },
      "execution_count": null,
      "outputs": [
        {
          "output_type": "stream",
          "name": "stdout",
          "text": [
            "3500\n",
            "       seq_id  seq_time_id  seq_temporal_HUFL  seq_temporal_HULL  \\\n",
            "0           0            0          -0.144002          -0.872259   \n",
            "1           0            1          -0.285107          -0.086752   \n",
            "2           0            2          -0.073391           0.031162   \n",
            "3           0            3          -0.120465          -0.322580   \n",
            "4           0            4           0.193244          -0.047447   \n",
            "...       ...          ...                ...                ...   \n",
            "83443    3476           19           0.820780          -0.440494   \n",
            "83444    3476           20           0.938348          -0.440494   \n",
            "83445    3476           21           0.930502           0.109772   \n",
            "83446    3476           22           1.252174           0.424209   \n",
            "83447    3476           23           0.577565          -0.126057   \n",
            "\n",
            "       seq_temporal_LUFL  seq_temporal_LULL  seq_temporal_MUFL  \\\n",
            "0              -0.437390           0.611581          -0.114356   \n",
            "1              -0.437390           1.116499          -0.296925   \n",
            "2              -0.878665           0.192196          -0.040447   \n",
            "3              -0.819764           0.192196          -0.018667   \n",
            "4              -0.466358           0.611581           0.268280   \n",
            "...                  ...                ...                ...   \n",
            "83443           0.738701           0.862660           0.733634   \n",
            "83444           0.738701           0.023891           0.907515   \n",
            "83445           0.886436           0.526049           0.916203   \n",
            "83446           1.885823           0.443275           1.085801   \n",
            "83447          -0.731895          -0.061642           0.668414   \n",
            "\n",
            "       seq_temporal_MULL  seq_temporal_OT  seq_out_outcome  \n",
            "0              -0.749515        -0.946543              0.0  \n",
            "1              -0.172201        -0.870846              0.0  \n",
            "2              -0.247810        -0.814207              0.0  \n",
            "3              -0.398322        -0.776627              0.0  \n",
            "4              -0.046421        -0.795417              0.0  \n",
            "...                  ...              ...              ...  \n",
            "83443          -0.849856         0.299776              0.0  \n",
            "83444          -0.975636         0.035373              0.0  \n",
            "83445          -0.372883         0.167709              0.0  \n",
            "83446          -0.372883         0.394263              0.0  \n",
            "83447           0.078652         0.715305              0.0  \n",
            "\n",
            "[83448 rows x 10 columns]\n"
          ]
        }
      ]
    },
    {
      "cell_type": "markdown",
      "source": [
        "All available hyperparameters are listed below:\n",
        "\n",
        "model = plugin_timegan.TimeGAN( n_iter=500, generator_n_layers_hidden=3, generator_n_units_hidden=100, generator_nonlin=\"relu\", generator_dropout=0.1, discriminator_n_layers_hidden=3, discriminator_n_units_hidden=100, discriminator_nonlin=\"leaky_relu\", discriminator_dropout=0.1, discriminator_n_iter=2, lr=0.0002, weight_decay=0.0001, batch_size=200, encoder_max_clusters=10, mode=\"LSTM\", gamma_penalty=10.0, moments_penalty=10.0, embedding_penalty=5.0 )"
      ],
      "metadata": {
        "id": "iWcB_INh9U-Z"
      }
    },
    {
      "cell_type": "code",
      "source": [
        "syn_model = Plugins().get(\"timevae\")"
      ],
      "metadata": {
        "id": "oYqRdbxl9W74",
        "colab": {
          "base_uri": "https://localhost:8080/"
        },
        "outputId": "ca5faa6c-fe5c-4e68-8f4c-38a7b7cca7a4"
      },
      "execution_count": null,
      "outputs": [
        {
          "output_type": "stream",
          "name": "stderr",
          "text": [
            "[2025-04-18T04:16:02.646811+0000][1362][CRITICAL] module disabled: /usr/local/lib/python3.11/dist-packages/synthcity/plugins/generic/plugin_goggle.py\n",
            "[2025-04-18T04:16:02.646811+0000][1362][CRITICAL] module disabled: /usr/local/lib/python3.11/dist-packages/synthcity/plugins/generic/plugin_goggle.py\n"
          ]
        }
      ]
    },
    {
      "cell_type": "code",
      "source": [
        "# --- Print all parameters of initialized model ---\n",
        "for attr in dir(syn_model):\n",
        "    if not attr.startswith(\"_\") and not callable(getattr(syn_model, attr)):\n",
        "        print(f\"{attr}: {getattr(syn_model, attr)}\")"
      ],
      "metadata": {
        "id": "y9ZVw8pT9Y_Q",
        "colab": {
          "base_uri": "https://localhost:8080/"
        },
        "outputId": "40130694-ad83-427f-ef0b-2cf2ff990d2d"
      },
      "execution_count": null,
      "outputs": [
        {
          "output_type": "stream",
          "name": "stdout",
          "text": [
            "batch_size: 64\n",
            "class_name: TimeVAEPlugin\n",
            "clipping_value: 0\n",
            "compress_dataset: False\n",
            "decoder_batch_norm: False\n",
            "decoder_dropout: 0.01\n",
            "decoder_n_layers_hidden: 2\n",
            "decoder_n_units_hidden: 150\n",
            "decoder_nonlin: leaky_relu\n",
            "decoder_nonlin_out_continuous: tanh\n",
            "decoder_nonlin_out_discrete: softmax\n",
            "decoder_residual: True\n",
            "device: cuda\n",
            "embedding_penalty: 10\n",
            "encoder: None\n",
            "encoder_batch_norm: False\n",
            "encoder_dropout: 0.1\n",
            "encoder_max_clusters: 20\n",
            "encoder_n_layers_hidden: 3\n",
            "encoder_n_units_hidden: 300\n",
            "encoder_nonlin: leaky_relu\n",
            "expecting_conditional: False\n",
            "fitted: False\n",
            "gamma_penalty: 1\n",
            "lr: 0.001\n",
            "mode: LSTM\n",
            "module_name: synthcity.plugins.time_series.plugin_timevae\n",
            "module_relative_path: ../time_series/plugin_timevae.py\n",
            "moments_penalty: 100\n",
            "n_iter: 1000\n",
            "n_iter_print: 10\n",
            "outcome_encoder: TabularEncoder(cat_encoder_params={'handle_unknown': 'ignore',\n",
            "                                   'sparse_output': False},\n",
            "               categorical_encoder='onehot',\n",
            "               cont_encoder_params={'n_components': 20},\n",
            "               continuous_encoder='bayesian_gmm', max_clusters=20)\n",
            "random_state: 0\n",
            "sampling_patience: 500\n",
            "sampling_strategy: marginal\n",
            "strict: True\n",
            "weight_decay: 0.001\n",
            "workspace: workspace\n"
          ]
        }
      ]
    },
    {
      "cell_type": "markdown",
      "source": [
        "## fitting the model"
      ],
      "metadata": {
        "id": "IKG0O5Pg9hpG"
      }
    },
    {
      "cell_type": "code",
      "source": [
        "print(loader.shape)\n",
        "# Train the model\n",
        "syn_model.fit(loader)"
      ],
      "metadata": {
        "id": "-BKXe4G19l_8",
        "colab": {
          "base_uri": "https://localhost:8080/"
        },
        "outputId": "0c7386b4-bbd1-439d-c38d-2e4d69c04629"
      },
      "execution_count": null,
      "outputs": [
        {
          "output_type": "execute_result",
          "data": {
            "text/plain": [
              "<synthcity.plugins.time_series.plugin_timevae.TimeVAEPlugin at 0x79ed2f4119d0>"
            ]
          },
          "metadata": {},
          "execution_count": 7
        }
      ]
    },
    {
      "cell_type": "code",
      "source": [
        "save_to_file('/content/drive/Shareddrives/sp_env/saved_models/VAE_Electricity.pkl', syn_model)"
      ],
      "metadata": {
        "id": "qScEAYzkaFkv"
      },
      "execution_count": null,
      "outputs": []
    },
    {
      "cell_type": "code",
      "source": [
        "# Generate Synthetic Data\n",
        "n_samples = len(temporal_data)\n",
        "syn_data = syn_model.generate(count=n_samples)\n",
        "print(syn_data.shape)"
      ],
      "metadata": {
        "id": "JviqEDru9nMO",
        "colab": {
          "base_uri": "https://localhost:8080/"
        },
        "outputId": "d8b168b7-3762-45f6-c209-3292fadf9b8c"
      },
      "execution_count": null,
      "outputs": [
        {
          "output_type": "stream",
          "name": "stdout",
          "text": [
            "(83448, 10)\n"
          ]
        }
      ]
    },
    {
      "cell_type": "code",
      "source": [
        "# --- Save with automated format ---\n",
        "import datetime\n",
        "import os\n",
        "# Get the current date and time\n",
        "now = datetime.datetime.now()\n",
        "timestamp = now.strftime(\"%m%d%y-%H%M%S\")  # MMDDYY-HHMMSS format\n",
        "\n",
        "# Define the base directory\n",
        "base_dir = \"/content/drive/Shareddrives/sp_env/synthetic_datasets/TimeVAE/electricity\"  #CHANGE THIS\n",
        "if not os.path.exists(base_dir):\n",
        "    os.makedirs(base_dir)\n",
        "\n",
        "# Construct the filename\n",
        "model_name = type(syn_model).__name__.lower() # Get model name dynamically\n",
        "filename = f\"{timestamp}-{model_name}-n_3000.csv\"\n",
        "filepath = os.path.join(base_dir, filename)\n",
        "\n",
        "# Save the data\n",
        "df_syn = syn_data.dataframe()\n",
        "df_syn.to_csv(filepath, index=False)\n",
        "\n",
        "print(f\"Synthetic data saved to: {filepath}\")"
      ],
      "metadata": {
        "id": "J4rF0HY29o65",
        "colab": {
          "base_uri": "https://localhost:8080/"
        },
        "outputId": "4da9040c-0285-498b-99f5-dc327040e311"
      },
      "execution_count": null,
      "outputs": [
        {
          "output_type": "stream",
          "name": "stdout",
          "text": [
            "Synthetic data saved to: /content/drive/Shareddrives/sp_env/synthetic_datasets/TimeVAE/electricity/041825-045510-timevaeplugin-n_3000.csv\n"
          ]
        }
      ]
    },
    {
      "cell_type": "markdown",
      "source": [
        "# Evaluation"
      ],
      "metadata": {
        "id": "TICnBaoH9r8Z"
      }
    },
    {
      "cell_type": "markdown",
      "source": [
        "## Prerequisites"
      ],
      "metadata": {
        "id": "QlHAzxfV9uXf"
      }
    },
    {
      "cell_type": "code",
      "source": [
        "syn_data = pd.read_csv('/content/drive/Shareddrives/sp_env/synthetic_datasets/TimeVAE/electricity/050125-080355-timevaeplugin-n_3000.csv')"
      ],
      "metadata": {
        "id": "obI90YGQixyZ"
      },
      "execution_count": null,
      "outputs": []
    },
    {
      "cell_type": "code",
      "source": [
        "selected_columns = ['seq_temporal_HUFL', 'seq_temporal_HULL', 'seq_temporal_LUFL', 'seq_temporal_LULL', 'seq_temporal_MUFL', 'seq_temporal_MULL', 'seq_temporal_OT']\n",
        "\n",
        "real_data = loader_test.dataframe()[selected_columns].to_numpy()\n",
        "synthetic_data = syn_data[selected_columns].to_numpy()"
      ],
      "metadata": {
        "id": "zUMHadsq9vw8"
      },
      "execution_count": null,
      "outputs": []
    },
    {
      "cell_type": "code",
      "source": [
        "print(real_data, \"\\n ------------------------------------------------------- \\n\", synthetic_data)\n",
        "print(type(real_data),type(synthetic_data))\n",
        "print(real_data.shape,synthetic_data.shape)"
      ],
      "metadata": {
        "id": "DumXr_Gg9y6U",
        "outputId": "cd3c4a23-8bc0-42c4-df4a-70b2fd36eed4",
        "colab": {
          "base_uri": "https://localhost:8080/"
        }
      },
      "execution_count": null,
      "outputs": [
        {
          "output_type": "stream",
          "name": "stdout",
          "text": [
            "[[0.64238779 0.30271972 0.42980559 ... 0.65984936 0.33017688 0.37748344]\n",
            " [0.61327729 0.41078203 0.42980559 ... 0.62082855 0.4031624  0.393583  ]\n",
            " [0.65695512 0.42700348 0.36400289 ... 0.675646   0.39360371 0.40562914]\n",
            " ...\n",
            " [0.86406245 0.43781779 0.6272138  ... 0.88011299 0.37779167 0.61446676]\n",
            " [0.93042472 0.48107499 0.77624185 ... 0.91636155 0.37779167 0.6626513 ]\n",
            " [0.79124994 0.40537487 0.38588913 ... 0.82715244 0.43487582 0.7309317 ]] \n",
            " ------------------------------------------------------- \n",
            " [[0.30760782 0.57658813 0.27270248 ... 0.39191547 0.54298586 0.26333621]\n",
            " [0.67097521 0.20852661 0.18985192 ... 0.82835083 0.16442728 0.50736484]\n",
            " [0.86648357 0.57658813 0.44552911 ... 0.22188361 0.22552743 0.21296792]\n",
            " ...\n",
            " [0.7292462  0.56399562 0.55672249 ... 0.23446279 0.26941127 0.42007934]\n",
            " [0.12220015 0.50859989 0.63483016 ... 0.75053512 0.53313153 0.49799705]\n",
            " [0.22886082 0.32468576 0.33904982 ... 0.39191547 0.49962584 0.21296792]]\n",
            "<class 'numpy.ndarray'> <class 'numpy.ndarray'>\n",
            "(83448, 7) (83448, 7)\n"
          ]
        }
      ]
    },
    {
      "cell_type": "markdown",
      "source": [
        "## Generate distance metrics"
      ],
      "metadata": {
        "id": "0pU8BORS9vWk"
      }
    },
    {
      "cell_type": "markdown",
      "source": [
        "### Helper Functions"
      ],
      "metadata": {
        "id": "DVguOJWi-Fos"
      }
    },
    {
      "cell_type": "code",
      "source": [
        "from scipy.stats import wasserstein_distance, entropy\n",
        "import numpy as np\n",
        "\n",
        "def compute_wasserstein(real_data, synthetic_data, selected_columns):\n",
        "    \"\"\"\n",
        "    Computes Wasserstein Distance between real and synthetic time-series data.\n",
        "\n",
        "    \"\"\"\n",
        "\n",
        "    # Ensure both datasets have the same number of samples\n",
        "    min_length = min(len(real_data), len(synthetic_data))\n",
        "    real_trimmed = real_data[:min_length]  # Keep original order (no random sampling)\n",
        "    synthetic_trimmed = synthetic_data[:min_length]  # Match size\n",
        "    print(real_trimmed.shape,synthetic_trimmed.shape)\n",
        "\n",
        "    wasserstein_results = {}\n",
        "\n",
        "    # Compute Wasserstein Distance for each feature\n",
        "    for i, col in enumerate(selected_columns):\n",
        "        w_dist = wasserstein_distance(real_trimmed[:, i], synthetic_trimmed[:, i])\n",
        "        wasserstein_results[col] = w_dist\n",
        "        print(f\"{w_dist}\")\n",
        "\n",
        "    return wasserstein_results\n",
        "\n",
        "def compute_kl_divergence(real_data, synthetic_data, selected_columns, bins=50):\n",
        "    \"\"\"\n",
        "    Computes KL Divergence between real and synthetic time-series data.\n",
        "\n",
        "    \"\"\"\n",
        "\n",
        "    # Ensure both datasets have the same number of samples\n",
        "    min_length = min(len(real_data), len(synthetic_data))\n",
        "    real_trimmed = real_data[:min_length]  # Keep original order\n",
        "    synthetic_trimmed = synthetic_data[:min_length]  # Match size\n",
        "\n",
        "    kl_results = {}\n",
        "\n",
        "    for i, col in enumerate(selected_columns):\n",
        "        # Compute histogram-based probability distributions\n",
        "        real_hist, _ = np.histogram(real_trimmed[:, i], bins=bins, density=True)\n",
        "        synth_hist, _ = np.histogram(synthetic_trimmed[:, i], bins=bins, density=True)\n",
        "\n",
        "        # Avoid zero probabilities (KL Divergence is undefined for zero values)\n",
        "        real_hist += 1e-10\n",
        "        synth_hist += 1e-10\n",
        "\n",
        "        # Compute KL Divergence\n",
        "        kl_div = entropy(real_hist, synth_hist)\n",
        "        kl_results[col] = kl_div\n",
        "        print(f\"{kl_div}\")\n",
        "\n",
        "    return kl_results"
      ],
      "metadata": {
        "id": "GjGk3_Zx94Ko"
      },
      "execution_count": null,
      "outputs": []
    },
    {
      "cell_type": "markdown",
      "source": [
        "### Generate Metrics"
      ],
      "metadata": {
        "id": "yLnb7Vqg-IG_"
      }
    },
    {
      "cell_type": "code",
      "source": [
        "# Assuming df_scaled is the DataFrame containing your scaled ETD data\n",
        "\n",
        "# Compute Wasserstein Distance\n",
        "wasserstein_results = compute_wasserstein(real_data, synthetic_data, selected_columns)\n",
        "print(\"Wasserstein Distance Results:\")\n",
        "print(wasserstein_results)\n",
        "\n",
        "# Compute KL Divergence\n",
        "kl_results = compute_kl_divergence(real_data, synthetic_data, selected_columns)\n",
        "print(\"KL Divergence Results:\")\n",
        "print(kl_results)"
      ],
      "metadata": {
        "id": "olm0RYP89-SN",
        "outputId": "fd0e75c4-8e63-48ff-aae0-a1bb5a2dd6f5",
        "colab": {
          "base_uri": "https://localhost:8080/"
        }
      },
      "execution_count": null,
      "outputs": [
        {
          "output_type": "stream",
          "name": "stdout",
          "text": [
            "(83448, 7) (83448, 7)\n",
            "0.09860610763909232\n",
            "0.056578160900353405\n",
            "0.03754934476052337\n",
            "0.041766856196206646\n",
            "0.13744300991547656\n",
            "0.06668107800938411\n",
            "0.06968975652780046\n",
            "Wasserstein Distance Results:\n",
            "{'seq_temporal_HUFL': 0.09860610763909232, 'seq_temporal_HULL': 0.056578160900353405, 'seq_temporal_LUFL': 0.03754934476052337, 'seq_temporal_LULL': 0.041766856196206646, 'seq_temporal_MUFL': 0.13744300991547656, 'seq_temporal_MULL': 0.06668107800938411, 'seq_temporal_OT': 0.06968975652780046}\n",
            "12.981851259237612\n",
            "12.014704712287287\n",
            "13.374529582397189\n",
            "11.032385572182804\n",
            "14.130571197977138\n",
            "13.018468598818567\n",
            "13.575473647638903\n",
            "KL Divergence Results:\n",
            "{'seq_temporal_HUFL': 12.981851259237612, 'seq_temporal_HULL': 12.014704712287287, 'seq_temporal_LUFL': 13.374529582397189, 'seq_temporal_LULL': 11.032385572182804, 'seq_temporal_MUFL': 14.130571197977138, 'seq_temporal_MULL': 13.018468598818567, 'seq_temporal_OT': 13.575473647638903}\n"
          ]
        }
      ]
    },
    {
      "cell_type": "markdown",
      "source": [
        "# LSTM downstream"
      ],
      "metadata": {
        "id": "ki3r9GigqyPc"
      }
    },
    {
      "cell_type": "code",
      "source": [
        "real_data = loader_test.dataframe()\n",
        "df_synth = pd.read_csv('/content/drive/Shareddrives/sp_env/synthetic_datasets/TimeVAE/electricity/050125-080355-timevaeplugin-n_3000.csv')\n",
        "\n",
        "# drop unwanted column\n",
        "real_data = real_data.drop(columns=[\"seq_id\", \"seq_time_id\", \"seq_out_outcome\"], errors=\"ignore\")\n",
        "df_synth = df_synth.drop(columns=[\"seq_id\", \"seq_time_id\", \"seq_out_outcome\"], errors=\"ignore\")\n",
        "\n",
        "print(f\"real_data: {real_data.shape}, synthetic_data: {df_synth.shape}\")"
      ],
      "metadata": {
        "id": "B0VrGb9wqyPe",
        "outputId": "6d930a31-9f71-40ca-9513-d9c8fca16062",
        "colab": {
          "base_uri": "https://localhost:8080/"
        }
      },
      "execution_count": 5,
      "outputs": [
        {
          "output_type": "stream",
          "name": "stdout",
          "text": [
            "real_data: (83448, 7), synthetic_data: (83448, 7)\n"
          ]
        }
      ]
    },
    {
      "cell_type": "code",
      "source": [
        "import pandas as pd\n",
        "import numpy as np\n",
        "import torch\n",
        "import torch.nn as nn\n",
        "from torch.utils.data import DataLoader, TensorDataset\n",
        "from sklearn.preprocessing import MinMaxScaler\n",
        "from sklearn.metrics import mean_absolute_error, mean_squared_error"
      ],
      "metadata": {
        "id": "y1Gg4O5bnOWp"
      },
      "execution_count": 6,
      "outputs": []
    },
    {
      "cell_type": "code",
      "source": [
        "# Convert to tensors (float32 for PyTorch)\n",
        "data_real = torch.tensor(real_data.values, dtype=torch.float32)\n",
        "data_synth = torch.tensor(df_synth.values, dtype=torch.float32)\n",
        "\n",
        "#  Sequence builder\n",
        "def make_sequences(data, seq_len):\n",
        "    X, y = [], []\n",
        "    for i in range(len(data) - seq_len):\n",
        "        X.append(data[i:i+seq_len])\n",
        "        y.append(data[i+seq_len])\n",
        "    return torch.stack(X), torch.stack(y)\n",
        "\n",
        "SEQ_LEN = sequence_length\n",
        "\n",
        "# Sequences for synthetic (train)\n",
        "X_train, y_train = make_sequences(data_synth, SEQ_LEN)\n",
        "train_loader = DataLoader(TensorDataset(X_train, y_train), batch_size=32, shuffle=True)\n",
        "\n",
        "# Sequences for real (test)\n",
        "X_test, y_test = make_sequences(data_real, SEQ_LEN)"
      ],
      "metadata": {
        "id": "4XQyd3HLnPFj"
      },
      "execution_count": 7,
      "outputs": []
    },
    {
      "cell_type": "code",
      "source": [
        "# ─── Model Definition ──────────────────────────────────────\n",
        "class ShallowLSTM(nn.Module):\n",
        "    def __init__(self, input_size, hidden_size=64):\n",
        "        super().__init__()\n",
        "        self.lstm = nn.LSTM(input_size, hidden_size, batch_first=True)\n",
        "        self.linear = nn.Linear(hidden_size, input_size)\n",
        "\n",
        "    def forward(self, x):\n",
        "        _, (hn, _) = self.lstm(x)  # hn shape: (1, batch, hidden_size)\n",
        "        out = self.linear(hn.squeeze(0))  # squeeze to (batch, hidden_size)\n",
        "        return out\n",
        "\n",
        "\n",
        "# ─── Model Init ─────────────────────────────────────────────\n",
        "model = ShallowLSTM(input_size=X_train.shape[2], hidden_size=64)\n",
        "\n",
        "# ─── Optimizer & Loss ───────────────────────────────────────\n",
        "loss_fn = nn.MSELoss()\n",
        "optimizer = torch.optim.Adam(model.parameters(), lr=0.002)"
      ],
      "metadata": {
        "id": "v74HfVJZnQDI"
      },
      "execution_count": 8,
      "outputs": []
    },
    {
      "cell_type": "code",
      "source": [
        "# ─── Training ───────────────────────────────────────────────\n",
        "EPOCHS = 50\n",
        "for epoch in range(1, EPOCHS + 1):\n",
        "    model.train()\n",
        "    for xb, yb in train_loader:\n",
        "        pred = model(xb)\n",
        "        loss = loss_fn(pred, yb)\n",
        "        optimizer.zero_grad()\n",
        "        loss.backward()\n",
        "        optimizer.step()\n",
        "\n",
        "    # if epoch % 10 == 0 or epoch == 1:\n",
        "    print(f\"Epoch {epoch}: Train MSE = {loss.item():.6f}\")"
      ],
      "metadata": {
        "id": "EycDOlmhhyPI",
        "outputId": "baeadbc0-5774-4dbf-e147-1a48523bc83b",
        "colab": {
          "base_uri": "https://localhost:8080/"
        }
      },
      "execution_count": 9,
      "outputs": [
        {
          "output_type": "stream",
          "name": "stdout",
          "text": [
            "Epoch 1: Train MSE = 0.045914\n",
            "Epoch 2: Train MSE = 0.035705\n",
            "Epoch 3: Train MSE = 0.043462\n",
            "Epoch 4: Train MSE = 0.046102\n",
            "Epoch 5: Train MSE = 0.043530\n",
            "Epoch 6: Train MSE = 0.044796\n",
            "Epoch 7: Train MSE = 0.046171\n",
            "Epoch 8: Train MSE = 0.042200\n",
            "Epoch 9: Train MSE = 0.041579\n",
            "Epoch 10: Train MSE = 0.036881\n",
            "Epoch 11: Train MSE = 0.047748\n",
            "Epoch 12: Train MSE = 0.047610\n",
            "Epoch 13: Train MSE = 0.047467\n",
            "Epoch 14: Train MSE = 0.043663\n",
            "Epoch 15: Train MSE = 0.041586\n",
            "Epoch 16: Train MSE = 0.044556\n",
            "Epoch 17: Train MSE = 0.040909\n",
            "Epoch 18: Train MSE = 0.042399\n",
            "Epoch 19: Train MSE = 0.045862\n",
            "Epoch 20: Train MSE = 0.042875\n",
            "Epoch 21: Train MSE = 0.042828\n",
            "Epoch 22: Train MSE = 0.040257\n",
            "Epoch 23: Train MSE = 0.046970\n",
            "Epoch 24: Train MSE = 0.040602\n",
            "Epoch 25: Train MSE = 0.040733\n",
            "Epoch 26: Train MSE = 0.043052\n",
            "Epoch 27: Train MSE = 0.046107\n",
            "Epoch 28: Train MSE = 0.045542\n",
            "Epoch 29: Train MSE = 0.047378\n",
            "Epoch 30: Train MSE = 0.037825\n",
            "Epoch 31: Train MSE = 0.040177\n",
            "Epoch 32: Train MSE = 0.045568\n",
            "Epoch 33: Train MSE = 0.040682\n",
            "Epoch 34: Train MSE = 0.041684\n",
            "Epoch 35: Train MSE = 0.042440\n",
            "Epoch 36: Train MSE = 0.046762\n",
            "Epoch 37: Train MSE = 0.049281\n",
            "Epoch 38: Train MSE = 0.041181\n",
            "Epoch 39: Train MSE = 0.046520\n",
            "Epoch 40: Train MSE = 0.039842\n",
            "Epoch 41: Train MSE = 0.042412\n",
            "Epoch 42: Train MSE = 0.043175\n",
            "Epoch 43: Train MSE = 0.041865\n",
            "Epoch 44: Train MSE = 0.037057\n",
            "Epoch 45: Train MSE = 0.038496\n",
            "Epoch 46: Train MSE = 0.042997\n",
            "Epoch 47: Train MSE = 0.046491\n",
            "Epoch 48: Train MSE = 0.046057\n",
            "Epoch 49: Train MSE = 0.043121\n",
            "Epoch 50: Train MSE = 0.039673\n"
          ]
        }
      ]
    },
    {
      "cell_type": "code",
      "source": [
        "# --- ADD THESE LINES TO SAVE THE MODEL ---\n",
        "# Define a path where you want to save your model.\n",
        "# Use a meaningful name, especially for TRTR vs. TSTR models.\n",
        "# Example for TRTR Electricity model:\n",
        "MODEL_SAVE_PATH = '/content/drive/Shareddrives/sp_env/saved_models/LSTM/tstr_GAN_electricity.pth'\n",
        "\n",
        "# Save only the model's learned parameters (state_dict)\n",
        "torch.save(model.state_dict(), MODEL_SAVE_PATH)\n",
        "\n",
        "print(f\"Model saved to: {MODEL_SAVE_PATH}\")"
      ],
      "metadata": {
        "id": "T7ILU4X6dv5v"
      },
      "execution_count": null,
      "outputs": []
    },
    {
      "cell_type": "code",
      "source": [
        "#@title ✧.* model evaluation ✧.*\n",
        "model.eval()\n",
        "with torch.no_grad():\n",
        "    preds = model(X_test)\n",
        "    test_mse = loss_fn(preds, y_test).item()\n",
        "    test_mae = mean_absolute_error(y_test.numpy(), preds.numpy())\n",
        "\n",
        "    print(f\"Test MSE: {test_mse:.6f}\")\n",
        "    print(f\"Test MAE: {test_mae:.6f}\")"
      ],
      "metadata": {
        "id": "G6MjbcdAnRAR"
      },
      "execution_count": null,
      "outputs": []
    },
    {
      "cell_type": "markdown",
      "source": [
        "# Bootstrapping Sample"
      ],
      "metadata": {
        "id": "wwtrxZuWkq1X"
      }
    },
    {
      "cell_type": "code",
      "source": [
        "!pip install tsbootstrap"
      ],
      "metadata": {
        "id": "w6fV928blOfi"
      },
      "execution_count": null,
      "outputs": []
    },
    {
      "cell_type": "code",
      "source": [
        "from tsbootstrap import MovingBlockBootstrap\n",
        "import numpy as np\n",
        "\n",
        "bootstrap_configs = {\n",
        "    \"weather\": {\"block_length\": 36, \"n_bootstraps\": 15, \"rng\": 42},       # 6-hour pattern (10-min interval)\n",
        "    \"electricity\": {\"block_length\": 24, \"n_bootstraps\": 15, \"rng\": 42},   # 1-day pattern (hourly)\n",
        "    \"exchange\": {\"block_length\": 30, \"n_bootstraps\": 15, \"rng\": 42},      # 1-month pattern (daily)\n",
        "}\n",
        "\n",
        "# Example for weather\n",
        "dataset_name = \"electricity\"\n",
        "config = bootstrap_configs[dataset_name]\n",
        "\n",
        "real_test_array = real_data[selected_columns].to_numpy()  # shape (N, features)\n",
        "mbb = MovingBlockBootstrap(\n",
        "    n_bootstraps=config[\"n_bootstraps\"],\n",
        "    rng=config[\"rng\"],\n",
        "    block_length=config[\"block_length\"]\n",
        ")\n",
        "boot_samples = mbb.bootstrap(real_test_array, return_indices=False)\n"
      ],
      "metadata": {
        "id": "r3V4JBSEksXF"
      },
      "execution_count": null,
      "outputs": []
    },
    {
      "cell_type": "code",
      "source": [
        "model.load_state_dict(torch.load(MODEL_SAVE_PATH))"
      ],
      "metadata": {
        "id": "Xlo6IGrddr2R"
      },
      "execution_count": null,
      "outputs": []
    },
    {
      "cell_type": "code",
      "source": [
        "bootstrap_results = []\n",
        "\n",
        "for b_idx, boot_real in enumerate(boot_samples):\n",
        "    # 1. Match the synthetic data size\n",
        "    syn_trimmed = synthetic_data[:len(boot_real)]\n",
        "\n",
        "    # 2. Fidelity metrics\n",
        "    wasserstein = compute_wasserstein(boot_real, syn_trimmed, selected_columns)\n",
        "    kl = compute_kl_divergence(boot_real, syn_trimmed, selected_columns)\n",
        "\n",
        "    # 3. Utility metrics\n",
        "    # Preprocess this bootstrap sample for LSTM (as you do with real_data)\n",
        "    boot_tensor = torch.tensor(boot_real, dtype=torch.float32)\n",
        "    Xb_test, yb_test = make_sequences(boot_tensor, SEQ_LEN)\n",
        "\n",
        "    model.eval()\n",
        "    with torch.no_grad():\n",
        "        preds = model(Xb_test)\n",
        "        mse = mean_squared_error(yb_test.numpy(), preds.numpy())\n",
        "        rmse = np.sqrt(mse)\n",
        "        mae = mean_absolute_error(yb_test.numpy(), preds.numpy())\n",
        "\n",
        "    # 4. Store results\n",
        "    bootstrap_results.append({\n",
        "        'bootstrap': b_idx,\n",
        "        'wasserstein': np.mean(list(wasserstein.values())),\n",
        "        'kl': np.mean(list(kl.values())),\n",
        "        'rmse': rmse,\n",
        "        'mae': mae\n",
        "    })"
      ],
      "metadata": {
        "colab": {
          "base_uri": "https://localhost:8080/"
        },
        "id": "SPL4pVhwk3Ir",
        "outputId": "8c935550-5ef1-462c-d127-fbd33a967f11"
      },
      "execution_count": null,
      "outputs": [
        {
          "output_type": "stream",
          "name": "stdout",
          "text": [
            "(83448, 7) (83448, 7)\n",
            "0.10021858453899776\n",
            "0.05669165810827112\n",
            "0.03752338119424818\n",
            "0.042567328020814775\n",
            "0.13901075733175083\n",
            "0.0665104707907669\n",
            "0.07218631598525634\n",
            "12.98269657708128\n",
            "11.993517780809526\n",
            "13.35216420305712\n",
            "11.115823610489246\n",
            "14.089626967908005\n",
            "12.961194348525042\n",
            "13.564417829764349\n",
            "(83448, 7) (83448, 7)\n",
            "0.09906370276678504\n",
            "0.05684559188403834\n",
            "0.03835638597234235\n",
            "0.0423411876426289\n",
            "0.1378797908830637\n",
            "0.06686297868969797\n",
            "0.07445331992955256\n",
            "12.942092880204434\n",
            "12.035586277638794\n",
            "13.310711026563029\n",
            "11.090885129652843\n",
            "14.061975110546502\n",
            "12.9190613091815\n",
            "13.6744386585904\n",
            "(83448, 7) (83448, 7)\n",
            "0.09903971246857134\n",
            "0.057715180717347464\n",
            "0.037994342845340943\n",
            "0.04084144529016626\n",
            "0.13786787541460396\n",
            "0.06804465261612494\n",
            "0.06665586607152353\n",
            "12.975618433861392\n",
            "12.028166166716138\n",
            "13.379034887888519\n",
            "10.998099058737552\n",
            "14.166852322559402\n",
            "13.116404400468692\n",
            "13.644845853284144\n",
            "(83448, 7) (83448, 7)\n",
            "0.09757134826728263\n",
            "0.0574154771028461\n",
            "0.0382826864069686\n",
            "0.04233344694082692\n",
            "0.13662262755837173\n",
            "0.06742402132763865\n",
            "0.0693070036410491\n",
            "12.953958891255473\n",
            "11.961920349659971\n",
            "13.42130044022328\n",
            "10.883655565756449\n",
            "14.064650604269001\n",
            "13.015731828172534\n",
            "13.602113352942508\n",
            "(83448, 7) (83448, 7)\n",
            "0.09597225064146324\n",
            "0.05504588480932724\n",
            "0.03770133444472513\n",
            "0.041280486982775845\n",
            "0.13477896843132364\n",
            "0.06515828688294978\n",
            "0.06773930617327517\n",
            "13.096065997890584\n",
            "12.088762969218756\n",
            "13.439836995081048\n",
            "11.077702137564897\n",
            "14.174399543432601\n",
            "13.011781271705145\n",
            "13.617478194239808\n",
            "(83448, 7) (83448, 7)\n",
            "0.0977801837011823\n",
            "0.056403622775251\n",
            "0.037970678431308316\n",
            "0.04154295599652222\n",
            "0.13677629431968397\n",
            "0.06665063992274183\n",
            "0.06933380465880123\n",
            "13.018996901781149\n",
            "12.014786641443349\n",
            "13.383056904044642\n",
            "10.992933564002474\n",
            "14.187650477803006\n",
            "13.041252321195888\n",
            "13.569565137294525\n",
            "(83448, 7) (83448, 7)\n",
            "0.09886025056282821\n",
            "0.05635655369265237\n",
            "0.03814032010846397\n",
            "0.0425345904354779\n",
            "0.13786819189656865\n",
            "0.06620422480494645\n",
            "0.07074054376585938\n",
            "13.061480732857687\n",
            "11.978715761714321\n",
            "13.402929356043263\n",
            "11.043070731184377\n",
            "14.227215426936086\n",
            "12.958648256621302\n",
            "13.59041104319935\n",
            "(83448, 7) (83448, 7)\n",
            "0.0986142410735666\n",
            "0.056033957218969165\n",
            "0.038626226487864256\n",
            "0.042580774183693486\n",
            "0.13762293240056628\n",
            "0.06535664856666884\n",
            "0.06546014767704363\n",
            "13.001986969981816\n",
            "11.895004273776747\n",
            "13.44025351079842\n",
            "10.97361243081706\n",
            "14.185992667241033\n",
            "12.926746596172103\n",
            "13.516668047983869\n",
            "(83448, 7) (83448, 7)\n",
            "0.09871379091842444\n",
            "0.05702784089021954\n",
            "0.03718572950178699\n",
            "0.0413542013540109\n",
            "0.13742956333883832\n",
            "0.06705444468530553\n",
            "0.06846081323533337\n",
            "13.026070313634795\n",
            "11.978717776103931\n",
            "13.386908495783539\n",
            "11.06320907810939\n",
            "14.047326145653154\n",
            "13.001796717669196\n",
            "13.501899575169618\n",
            "(83448, 7) (83448, 7)\n",
            "0.09806089634654955\n",
            "0.057213358969221514\n",
            "0.03858101076593597\n",
            "0.04205408140522682\n",
            "0.1370731407377884\n",
            "0.06753651347361479\n",
            "0.0709105671909637\n",
            "12.996425487540566\n",
            "11.982559246467982\n",
            "13.370131543773644\n",
            "11.025345948865606\n",
            "14.10540015858585\n",
            "13.086389609593633\n",
            "13.658394802382793\n",
            "(83448, 7) (83448, 7)\n",
            "0.09763174399702165\n",
            "0.056759282295224256\n",
            "0.03753035821960997\n",
            "0.04123257614052745\n",
            "0.13645825577884246\n",
            "0.06722053504740468\n",
            "0.06890294445789624\n",
            "12.996527888527083\n",
            "12.00205726721192\n",
            "13.425764414500467\n",
            "11.003784715417051\n",
            "14.144404457966044\n",
            "13.108247738751983\n",
            "13.625013425048767\n",
            "(83448, 7) (83448, 7)\n",
            "0.09751286525683046\n",
            "0.05487419182033976\n",
            "0.03743105119400885\n",
            "0.04077793837817563\n",
            "0.13628678022686655\n",
            "0.06542865956603422\n",
            "0.06608947754417256\n",
            "12.957301907807986\n",
            "11.864533292014446\n",
            "13.448255263034993\n",
            "10.950050511390659\n",
            "14.200020601927891\n",
            "13.036698982008538\n",
            "13.514216180042784\n",
            "(83448, 7) (83448, 7)\n",
            "0.09813850372065983\n",
            "0.057137248348214334\n",
            "0.03826645995478873\n",
            "0.04208193997919687\n",
            "0.13703516535692067\n",
            "0.06713151909872449\n",
            "0.07076280669478187\n",
            "13.012020650768353\n",
            "12.041161393953457\n",
            "13.389235771843431\n",
            "11.069369675750023\n",
            "14.028501913023078\n",
            "13.010525205626093\n",
            "13.598606368951017\n",
            "(83448, 7) (83448, 7)\n",
            "0.10077159945074601\n",
            "0.057283720194299094\n",
            "0.03683130482352402\n",
            "0.04155191318098132\n",
            "0.13966681230770128\n",
            "0.06754480586674143\n",
            "0.06672894262009671\n",
            "12.934558255756288\n",
            "12.061778605738475\n",
            "13.367749049282546\n",
            "10.984946360815933\n",
            "14.086584645903217\n",
            "13.065216208236947\n",
            "13.584509395908904\n",
            "(83448, 7) (83448, 7)\n",
            "0.09887174530991004\n",
            "0.05683774170033998\n",
            "0.03723254062474855\n",
            "0.042009459198942584\n",
            "0.1375863942849051\n",
            "0.06715249848020233\n",
            "0.07124628566322995\n",
            "12.962281613377236\n",
            "11.970136250049585\n",
            "13.337711883101644\n",
            "11.033925471711834\n",
            "14.080218132193517\n",
            "13.026615447965144\n",
            "13.60474071502884\n"
          ]
        }
      ]
    },
    {
      "cell_type": "code",
      "source": [
        "print(bootstrap_results)\n",
        "\n",
        "# Assuming bootstrap_results is your list of dicts\n",
        "df_results = pd.DataFrame(bootstrap_results)\n",
        "\n",
        "df_results['Dataset'] = 'El'\n",
        "df_results['Model'] = 'GAN'\n",
        "\n",
        "df_results"
      ],
      "metadata": {
        "colab": {
          "base_uri": "https://localhost:8080/",
          "height": 557
        },
        "id": "7zYaN_finjp5",
        "outputId": "373e7f2a-0063-4aa5-94fe-3964c60ad178"
      },
      "execution_count": null,
      "outputs": [
        {
          "output_type": "stream",
          "name": "stdout",
          "text": [
            "[{'bootstrap': 0, 'wasserstein': 0.07352978513858656, 'kl': 12.865634473947795, 'rmse': 0.53972375, 'mae': 0.5068998}, {'bootstrap': 1, 'wasserstein': 0.07368613682401556, 'kl': 12.862107198911072, 'rmse': 0.53948784, 'mae': 0.5068369}, {'bootstrap': 2, 'wasserstein': 0.07259415363195407, 'kl': 12.901288731930833, 'rmse': 0.5395923, 'mae': 0.5063646}, {'bootstrap': 3, 'wasserstein': 0.07270808732071196, 'kl': 12.843333004611315, 'rmse': 0.53870803, 'mae': 0.5055409}, {'bootstrap': 4, 'wasserstein': 0.07109664548083429, 'kl': 12.929432444161835, 'rmse': 0.54074675, 'mae': 0.50748646}, {'bootstrap': 5, 'wasserstein': 0.07235116854364154, 'kl': 12.886891706795003, 'rmse': 0.53956324, 'mae': 0.50643796}, {'bootstrap': 6, 'wasserstein': 0.07295781075239957, 'kl': 12.894638758365199, 'rmse': 0.5401537, 'mae': 0.5072879}, {'bootstrap': 7, 'wasserstein': 0.07204213251548175, 'kl': 12.848609213824435, 'rmse': 0.540828, 'mae': 0.50773937}, {'bootstrap': 8, 'wasserstein': 0.0724609119891313, 'kl': 12.857989728874802, 'rmse': 0.53963244, 'mae': 0.50639135}, {'bootstrap': 9, 'wasserstein': 0.07306136698418582, 'kl': 12.889235256744296, 'rmse': 0.5386988, 'mae': 0.505658}, {'bootstrap': 10, 'wasserstein': 0.07224795656236095, 'kl': 12.900828558203331, 'rmse': 0.53903127, 'mae': 0.50572354}, {'bootstrap': 11, 'wasserstein': 0.07120013771234686, 'kl': 12.853010962603898, 'rmse': 0.54085547, 'mae': 0.5075598}, {'bootstrap': 12, 'wasserstein': 0.07293623473618382, 'kl': 12.878488711416493, 'rmse': 0.5386349, 'mae': 0.50542814}, {'bootstrap': 13, 'wasserstein': 0.07291129977772713, 'kl': 12.869334645948902, 'rmse': 0.54029536, 'mae': 0.5071251}, {'bootstrap': 14, 'wasserstein': 0.0729909521803255, 'kl': 12.8593756447754, 'rmse': 0.5388951, 'mae': 0.50582176}]\n"
          ]
        },
        {
          "output_type": "execute_result",
          "data": {
            "text/plain": [
              "    bootstrap  wasserstein         kl      rmse       mae Dataset Model\n",
              "0           0     0.073530  12.865634  0.539724  0.506900      El   GAN\n",
              "1           1     0.073686  12.862107  0.539488  0.506837      El   GAN\n",
              "2           2     0.072594  12.901289  0.539592  0.506365      El   GAN\n",
              "3           3     0.072708  12.843333  0.538708  0.505541      El   GAN\n",
              "4           4     0.071097  12.929432  0.540747  0.507486      El   GAN\n",
              "5           5     0.072351  12.886892  0.539563  0.506438      El   GAN\n",
              "6           6     0.072958  12.894639  0.540154  0.507288      El   GAN\n",
              "7           7     0.072042  12.848609  0.540828  0.507739      El   GAN\n",
              "8           8     0.072461  12.857990  0.539632  0.506391      El   GAN\n",
              "9           9     0.073061  12.889235  0.538699  0.505658      El   GAN\n",
              "10         10     0.072248  12.900829  0.539031  0.505724      El   GAN\n",
              "11         11     0.071200  12.853011  0.540855  0.507560      El   GAN\n",
              "12         12     0.072936  12.878489  0.538635  0.505428      El   GAN\n",
              "13         13     0.072911  12.869335  0.540295  0.507125      El   GAN\n",
              "14         14     0.072991  12.859376  0.538895  0.505822      El   GAN"
            ],
            "text/html": [
              "\n",
              "  <div id=\"df-75ea8b6e-b0f8-4337-a28d-a08f4c8402c8\" class=\"colab-df-container\">\n",
              "    <div>\n",
              "<style scoped>\n",
              "    .dataframe tbody tr th:only-of-type {\n",
              "        vertical-align: middle;\n",
              "    }\n",
              "\n",
              "    .dataframe tbody tr th {\n",
              "        vertical-align: top;\n",
              "    }\n",
              "\n",
              "    .dataframe thead th {\n",
              "        text-align: right;\n",
              "    }\n",
              "</style>\n",
              "<table border=\"1\" class=\"dataframe\">\n",
              "  <thead>\n",
              "    <tr style=\"text-align: right;\">\n",
              "      <th></th>\n",
              "      <th>bootstrap</th>\n",
              "      <th>wasserstein</th>\n",
              "      <th>kl</th>\n",
              "      <th>rmse</th>\n",
              "      <th>mae</th>\n",
              "      <th>Dataset</th>\n",
              "      <th>Model</th>\n",
              "    </tr>\n",
              "  </thead>\n",
              "  <tbody>\n",
              "    <tr>\n",
              "      <th>0</th>\n",
              "      <td>0</td>\n",
              "      <td>0.073530</td>\n",
              "      <td>12.865634</td>\n",
              "      <td>0.539724</td>\n",
              "      <td>0.506900</td>\n",
              "      <td>El</td>\n",
              "      <td>GAN</td>\n",
              "    </tr>\n",
              "    <tr>\n",
              "      <th>1</th>\n",
              "      <td>1</td>\n",
              "      <td>0.073686</td>\n",
              "      <td>12.862107</td>\n",
              "      <td>0.539488</td>\n",
              "      <td>0.506837</td>\n",
              "      <td>El</td>\n",
              "      <td>GAN</td>\n",
              "    </tr>\n",
              "    <tr>\n",
              "      <th>2</th>\n",
              "      <td>2</td>\n",
              "      <td>0.072594</td>\n",
              "      <td>12.901289</td>\n",
              "      <td>0.539592</td>\n",
              "      <td>0.506365</td>\n",
              "      <td>El</td>\n",
              "      <td>GAN</td>\n",
              "    </tr>\n",
              "    <tr>\n",
              "      <th>3</th>\n",
              "      <td>3</td>\n",
              "      <td>0.072708</td>\n",
              "      <td>12.843333</td>\n",
              "      <td>0.538708</td>\n",
              "      <td>0.505541</td>\n",
              "      <td>El</td>\n",
              "      <td>GAN</td>\n",
              "    </tr>\n",
              "    <tr>\n",
              "      <th>4</th>\n",
              "      <td>4</td>\n",
              "      <td>0.071097</td>\n",
              "      <td>12.929432</td>\n",
              "      <td>0.540747</td>\n",
              "      <td>0.507486</td>\n",
              "      <td>El</td>\n",
              "      <td>GAN</td>\n",
              "    </tr>\n",
              "    <tr>\n",
              "      <th>5</th>\n",
              "      <td>5</td>\n",
              "      <td>0.072351</td>\n",
              "      <td>12.886892</td>\n",
              "      <td>0.539563</td>\n",
              "      <td>0.506438</td>\n",
              "      <td>El</td>\n",
              "      <td>GAN</td>\n",
              "    </tr>\n",
              "    <tr>\n",
              "      <th>6</th>\n",
              "      <td>6</td>\n",
              "      <td>0.072958</td>\n",
              "      <td>12.894639</td>\n",
              "      <td>0.540154</td>\n",
              "      <td>0.507288</td>\n",
              "      <td>El</td>\n",
              "      <td>GAN</td>\n",
              "    </tr>\n",
              "    <tr>\n",
              "      <th>7</th>\n",
              "      <td>7</td>\n",
              "      <td>0.072042</td>\n",
              "      <td>12.848609</td>\n",
              "      <td>0.540828</td>\n",
              "      <td>0.507739</td>\n",
              "      <td>El</td>\n",
              "      <td>GAN</td>\n",
              "    </tr>\n",
              "    <tr>\n",
              "      <th>8</th>\n",
              "      <td>8</td>\n",
              "      <td>0.072461</td>\n",
              "      <td>12.857990</td>\n",
              "      <td>0.539632</td>\n",
              "      <td>0.506391</td>\n",
              "      <td>El</td>\n",
              "      <td>GAN</td>\n",
              "    </tr>\n",
              "    <tr>\n",
              "      <th>9</th>\n",
              "      <td>9</td>\n",
              "      <td>0.073061</td>\n",
              "      <td>12.889235</td>\n",
              "      <td>0.538699</td>\n",
              "      <td>0.505658</td>\n",
              "      <td>El</td>\n",
              "      <td>GAN</td>\n",
              "    </tr>\n",
              "    <tr>\n",
              "      <th>10</th>\n",
              "      <td>10</td>\n",
              "      <td>0.072248</td>\n",
              "      <td>12.900829</td>\n",
              "      <td>0.539031</td>\n",
              "      <td>0.505724</td>\n",
              "      <td>El</td>\n",
              "      <td>GAN</td>\n",
              "    </tr>\n",
              "    <tr>\n",
              "      <th>11</th>\n",
              "      <td>11</td>\n",
              "      <td>0.071200</td>\n",
              "      <td>12.853011</td>\n",
              "      <td>0.540855</td>\n",
              "      <td>0.507560</td>\n",
              "      <td>El</td>\n",
              "      <td>GAN</td>\n",
              "    </tr>\n",
              "    <tr>\n",
              "      <th>12</th>\n",
              "      <td>12</td>\n",
              "      <td>0.072936</td>\n",
              "      <td>12.878489</td>\n",
              "      <td>0.538635</td>\n",
              "      <td>0.505428</td>\n",
              "      <td>El</td>\n",
              "      <td>GAN</td>\n",
              "    </tr>\n",
              "    <tr>\n",
              "      <th>13</th>\n",
              "      <td>13</td>\n",
              "      <td>0.072911</td>\n",
              "      <td>12.869335</td>\n",
              "      <td>0.540295</td>\n",
              "      <td>0.507125</td>\n",
              "      <td>El</td>\n",
              "      <td>GAN</td>\n",
              "    </tr>\n",
              "    <tr>\n",
              "      <th>14</th>\n",
              "      <td>14</td>\n",
              "      <td>0.072991</td>\n",
              "      <td>12.859376</td>\n",
              "      <td>0.538895</td>\n",
              "      <td>0.505822</td>\n",
              "      <td>El</td>\n",
              "      <td>GAN</td>\n",
              "    </tr>\n",
              "  </tbody>\n",
              "</table>\n",
              "</div>\n",
              "    <div class=\"colab-df-buttons\">\n",
              "\n",
              "  <div class=\"colab-df-container\">\n",
              "    <button class=\"colab-df-convert\" onclick=\"convertToInteractive('df-75ea8b6e-b0f8-4337-a28d-a08f4c8402c8')\"\n",
              "            title=\"Convert this dataframe to an interactive table.\"\n",
              "            style=\"display:none;\">\n",
              "\n",
              "  <svg xmlns=\"http://www.w3.org/2000/svg\" height=\"24px\" viewBox=\"0 -960 960 960\">\n",
              "    <path d=\"M120-120v-720h720v720H120Zm60-500h600v-160H180v160Zm220 220h160v-160H400v160Zm0 220h160v-160H400v160ZM180-400h160v-160H180v160Zm440 0h160v-160H620v160ZM180-180h160v-160H180v160Zm440 0h160v-160H620v160Z\"/>\n",
              "  </svg>\n",
              "    </button>\n",
              "\n",
              "  <style>\n",
              "    .colab-df-container {\n",
              "      display:flex;\n",
              "      gap: 12px;\n",
              "    }\n",
              "\n",
              "    .colab-df-convert {\n",
              "      background-color: #E8F0FE;\n",
              "      border: none;\n",
              "      border-radius: 50%;\n",
              "      cursor: pointer;\n",
              "      display: none;\n",
              "      fill: #1967D2;\n",
              "      height: 32px;\n",
              "      padding: 0 0 0 0;\n",
              "      width: 32px;\n",
              "    }\n",
              "\n",
              "    .colab-df-convert:hover {\n",
              "      background-color: #E2EBFA;\n",
              "      box-shadow: 0px 1px 2px rgba(60, 64, 67, 0.3), 0px 1px 3px 1px rgba(60, 64, 67, 0.15);\n",
              "      fill: #174EA6;\n",
              "    }\n",
              "\n",
              "    .colab-df-buttons div {\n",
              "      margin-bottom: 4px;\n",
              "    }\n",
              "\n",
              "    [theme=dark] .colab-df-convert {\n",
              "      background-color: #3B4455;\n",
              "      fill: #D2E3FC;\n",
              "    }\n",
              "\n",
              "    [theme=dark] .colab-df-convert:hover {\n",
              "      background-color: #434B5C;\n",
              "      box-shadow: 0px 1px 3px 1px rgba(0, 0, 0, 0.15);\n",
              "      filter: drop-shadow(0px 1px 2px rgba(0, 0, 0, 0.3));\n",
              "      fill: #FFFFFF;\n",
              "    }\n",
              "  </style>\n",
              "\n",
              "    <script>\n",
              "      const buttonEl =\n",
              "        document.querySelector('#df-75ea8b6e-b0f8-4337-a28d-a08f4c8402c8 button.colab-df-convert');\n",
              "      buttonEl.style.display =\n",
              "        google.colab.kernel.accessAllowed ? 'block' : 'none';\n",
              "\n",
              "      async function convertToInteractive(key) {\n",
              "        const element = document.querySelector('#df-75ea8b6e-b0f8-4337-a28d-a08f4c8402c8');\n",
              "        const dataTable =\n",
              "          await google.colab.kernel.invokeFunction('convertToInteractive',\n",
              "                                                    [key], {});\n",
              "        if (!dataTable) return;\n",
              "\n",
              "        const docLinkHtml = 'Like what you see? Visit the ' +\n",
              "          '<a target=\"_blank\" href=https://colab.research.google.com/notebooks/data_table.ipynb>data table notebook</a>'\n",
              "          + ' to learn more about interactive tables.';\n",
              "        element.innerHTML = '';\n",
              "        dataTable['output_type'] = 'display_data';\n",
              "        await google.colab.output.renderOutput(dataTable, element);\n",
              "        const docLink = document.createElement('div');\n",
              "        docLink.innerHTML = docLinkHtml;\n",
              "        element.appendChild(docLink);\n",
              "      }\n",
              "    </script>\n",
              "  </div>\n",
              "\n",
              "\n",
              "    <div id=\"df-b8cbef97-ce18-41e1-a984-7a3fa7fab437\">\n",
              "      <button class=\"colab-df-quickchart\" onclick=\"quickchart('df-b8cbef97-ce18-41e1-a984-7a3fa7fab437')\"\n",
              "                title=\"Suggest charts\"\n",
              "                style=\"display:none;\">\n",
              "\n",
              "<svg xmlns=\"http://www.w3.org/2000/svg\" height=\"24px\"viewBox=\"0 0 24 24\"\n",
              "     width=\"24px\">\n",
              "    <g>\n",
              "        <path d=\"M19 3H5c-1.1 0-2 .9-2 2v14c0 1.1.9 2 2 2h14c1.1 0 2-.9 2-2V5c0-1.1-.9-2-2-2zM9 17H7v-7h2v7zm4 0h-2V7h2v10zm4 0h-2v-4h2v4z\"/>\n",
              "    </g>\n",
              "</svg>\n",
              "      </button>\n",
              "\n",
              "<style>\n",
              "  .colab-df-quickchart {\n",
              "      --bg-color: #E8F0FE;\n",
              "      --fill-color: #1967D2;\n",
              "      --hover-bg-color: #E2EBFA;\n",
              "      --hover-fill-color: #174EA6;\n",
              "      --disabled-fill-color: #AAA;\n",
              "      --disabled-bg-color: #DDD;\n",
              "  }\n",
              "\n",
              "  [theme=dark] .colab-df-quickchart {\n",
              "      --bg-color: #3B4455;\n",
              "      --fill-color: #D2E3FC;\n",
              "      --hover-bg-color: #434B5C;\n",
              "      --hover-fill-color: #FFFFFF;\n",
              "      --disabled-bg-color: #3B4455;\n",
              "      --disabled-fill-color: #666;\n",
              "  }\n",
              "\n",
              "  .colab-df-quickchart {\n",
              "    background-color: var(--bg-color);\n",
              "    border: none;\n",
              "    border-radius: 50%;\n",
              "    cursor: pointer;\n",
              "    display: none;\n",
              "    fill: var(--fill-color);\n",
              "    height: 32px;\n",
              "    padding: 0;\n",
              "    width: 32px;\n",
              "  }\n",
              "\n",
              "  .colab-df-quickchart:hover {\n",
              "    background-color: var(--hover-bg-color);\n",
              "    box-shadow: 0 1px 2px rgba(60, 64, 67, 0.3), 0 1px 3px 1px rgba(60, 64, 67, 0.15);\n",
              "    fill: var(--button-hover-fill-color);\n",
              "  }\n",
              "\n",
              "  .colab-df-quickchart-complete:disabled,\n",
              "  .colab-df-quickchart-complete:disabled:hover {\n",
              "    background-color: var(--disabled-bg-color);\n",
              "    fill: var(--disabled-fill-color);\n",
              "    box-shadow: none;\n",
              "  }\n",
              "\n",
              "  .colab-df-spinner {\n",
              "    border: 2px solid var(--fill-color);\n",
              "    border-color: transparent;\n",
              "    border-bottom-color: var(--fill-color);\n",
              "    animation:\n",
              "      spin 1s steps(1) infinite;\n",
              "  }\n",
              "\n",
              "  @keyframes spin {\n",
              "    0% {\n",
              "      border-color: transparent;\n",
              "      border-bottom-color: var(--fill-color);\n",
              "      border-left-color: var(--fill-color);\n",
              "    }\n",
              "    20% {\n",
              "      border-color: transparent;\n",
              "      border-left-color: var(--fill-color);\n",
              "      border-top-color: var(--fill-color);\n",
              "    }\n",
              "    30% {\n",
              "      border-color: transparent;\n",
              "      border-left-color: var(--fill-color);\n",
              "      border-top-color: var(--fill-color);\n",
              "      border-right-color: var(--fill-color);\n",
              "    }\n",
              "    40% {\n",
              "      border-color: transparent;\n",
              "      border-right-color: var(--fill-color);\n",
              "      border-top-color: var(--fill-color);\n",
              "    }\n",
              "    60% {\n",
              "      border-color: transparent;\n",
              "      border-right-color: var(--fill-color);\n",
              "    }\n",
              "    80% {\n",
              "      border-color: transparent;\n",
              "      border-right-color: var(--fill-color);\n",
              "      border-bottom-color: var(--fill-color);\n",
              "    }\n",
              "    90% {\n",
              "      border-color: transparent;\n",
              "      border-bottom-color: var(--fill-color);\n",
              "    }\n",
              "  }\n",
              "</style>\n",
              "\n",
              "      <script>\n",
              "        async function quickchart(key) {\n",
              "          const quickchartButtonEl =\n",
              "            document.querySelector('#' + key + ' button');\n",
              "          quickchartButtonEl.disabled = true;  // To prevent multiple clicks.\n",
              "          quickchartButtonEl.classList.add('colab-df-spinner');\n",
              "          try {\n",
              "            const charts = await google.colab.kernel.invokeFunction(\n",
              "                'suggestCharts', [key], {});\n",
              "          } catch (error) {\n",
              "            console.error('Error during call to suggestCharts:', error);\n",
              "          }\n",
              "          quickchartButtonEl.classList.remove('colab-df-spinner');\n",
              "          quickchartButtonEl.classList.add('colab-df-quickchart-complete');\n",
              "        }\n",
              "        (() => {\n",
              "          let quickchartButtonEl =\n",
              "            document.querySelector('#df-b8cbef97-ce18-41e1-a984-7a3fa7fab437 button');\n",
              "          quickchartButtonEl.style.display =\n",
              "            google.colab.kernel.accessAllowed ? 'block' : 'none';\n",
              "        })();\n",
              "      </script>\n",
              "    </div>\n",
              "\n",
              "  <div id=\"id_136ed771-f9fe-42a2-bed8-ddbdb9eccc78\">\n",
              "    <style>\n",
              "      .colab-df-generate {\n",
              "        background-color: #E8F0FE;\n",
              "        border: none;\n",
              "        border-radius: 50%;\n",
              "        cursor: pointer;\n",
              "        display: none;\n",
              "        fill: #1967D2;\n",
              "        height: 32px;\n",
              "        padding: 0 0 0 0;\n",
              "        width: 32px;\n",
              "      }\n",
              "\n",
              "      .colab-df-generate:hover {\n",
              "        background-color: #E2EBFA;\n",
              "        box-shadow: 0px 1px 2px rgba(60, 64, 67, 0.3), 0px 1px 3px 1px rgba(60, 64, 67, 0.15);\n",
              "        fill: #174EA6;\n",
              "      }\n",
              "\n",
              "      [theme=dark] .colab-df-generate {\n",
              "        background-color: #3B4455;\n",
              "        fill: #D2E3FC;\n",
              "      }\n",
              "\n",
              "      [theme=dark] .colab-df-generate:hover {\n",
              "        background-color: #434B5C;\n",
              "        box-shadow: 0px 1px 3px 1px rgba(0, 0, 0, 0.15);\n",
              "        filter: drop-shadow(0px 1px 2px rgba(0, 0, 0, 0.3));\n",
              "        fill: #FFFFFF;\n",
              "      }\n",
              "    </style>\n",
              "    <button class=\"colab-df-generate\" onclick=\"generateWithVariable('df_results')\"\n",
              "            title=\"Generate code using this dataframe.\"\n",
              "            style=\"display:none;\">\n",
              "\n",
              "  <svg xmlns=\"http://www.w3.org/2000/svg\" height=\"24px\"viewBox=\"0 0 24 24\"\n",
              "       width=\"24px\">\n",
              "    <path d=\"M7,19H8.4L18.45,9,17,7.55,7,17.6ZM5,21V16.75L18.45,3.32a2,2,0,0,1,2.83,0l1.4,1.43a1.91,1.91,0,0,1,.58,1.4,1.91,1.91,0,0,1-.58,1.4L9.25,21ZM18.45,9,17,7.55Zm-12,3A5.31,5.31,0,0,0,4.9,8.1,5.31,5.31,0,0,0,1,6.5,5.31,5.31,0,0,0,4.9,4.9,5.31,5.31,0,0,0,6.5,1,5.31,5.31,0,0,0,8.1,4.9,5.31,5.31,0,0,0,12,6.5,5.46,5.46,0,0,0,6.5,12Z\"/>\n",
              "  </svg>\n",
              "    </button>\n",
              "    <script>\n",
              "      (() => {\n",
              "      const buttonEl =\n",
              "        document.querySelector('#id_136ed771-f9fe-42a2-bed8-ddbdb9eccc78 button.colab-df-generate');\n",
              "      buttonEl.style.display =\n",
              "        google.colab.kernel.accessAllowed ? 'block' : 'none';\n",
              "\n",
              "      buttonEl.onclick = () => {\n",
              "        google.colab.notebook.generateWithVariable('df_results');\n",
              "      }\n",
              "      })();\n",
              "    </script>\n",
              "  </div>\n",
              "\n",
              "    </div>\n",
              "  </div>\n"
            ],
            "application/vnd.google.colaboratory.intrinsic+json": {
              "type": "dataframe",
              "variable_name": "df_results",
              "summary": "{\n  \"name\": \"df_results\",\n  \"rows\": 15,\n  \"fields\": [\n    {\n      \"column\": \"bootstrap\",\n      \"properties\": {\n        \"dtype\": \"number\",\n        \"std\": 4,\n        \"min\": 0,\n        \"max\": 14,\n        \"num_unique_values\": 15,\n        \"samples\": [\n          9,\n          11,\n          0\n        ],\n        \"semantic_type\": \"\",\n        \"description\": \"\"\n      }\n    },\n    {\n      \"column\": \"wasserstein\",\n      \"properties\": {\n        \"dtype\": \"number\",\n        \"std\": 0.000731550435492487,\n        \"min\": 0.07109664548083429,\n        \"max\": 0.07368613682401556,\n        \"num_unique_values\": 15,\n        \"samples\": [\n          0.07306136698418582,\n          0.07120013771234686,\n          0.07352978513858656\n        ],\n        \"semantic_type\": \"\",\n        \"description\": \"\"\n      }\n    },\n    {\n      \"column\": \"kl\",\n      \"properties\": {\n        \"dtype\": \"number\",\n        \"std\": 0.023979012630274767,\n        \"min\": 12.843333004611315,\n        \"max\": 12.929432444161835,\n        \"num_unique_values\": 15,\n        \"samples\": [\n          12.889235256744296,\n          12.853010962603898,\n          12.865634473947795\n        ],\n        \"semantic_type\": \"\",\n        \"description\": \"\"\n      }\n    },\n    {\n      \"column\": \"rmse\",\n      \"properties\": {\n        \"dtype\": \"float32\",\n        \"num_unique_values\": 15,\n        \"samples\": [\n          0.5386987924575806,\n          0.5408554673194885,\n          0.5397237539291382\n        ],\n        \"semantic_type\": \"\",\n        \"description\": \"\"\n      }\n    },\n    {\n      \"column\": \"mae\",\n      \"properties\": {\n        \"dtype\": \"float32\",\n        \"num_unique_values\": 15,\n        \"samples\": [\n          0.505657970905304,\n          0.5075597763061523,\n          0.5068997740745544\n        ],\n        \"semantic_type\": \"\",\n        \"description\": \"\"\n      }\n    },\n    {\n      \"column\": \"Dataset\",\n      \"properties\": {\n        \"dtype\": \"category\",\n        \"num_unique_values\": 1,\n        \"samples\": [\n          \"El\"\n        ],\n        \"semantic_type\": \"\",\n        \"description\": \"\"\n      }\n    },\n    {\n      \"column\": \"Model\",\n      \"properties\": {\n        \"dtype\": \"category\",\n        \"num_unique_values\": 1,\n        \"samples\": [\n          \"GAN\"\n        ],\n        \"semantic_type\": \"\",\n        \"description\": \"\"\n      }\n    }\n  ]\n}"
            }
          },
          "metadata": {},
          "execution_count": 22
        }
      ]
    },
    {
      "cell_type": "code",
      "source": [
        "summary_row = {\n",
        "    'Dataset': 'El',\n",
        "    'Model': 'GAN',\n",
        "    'Wasserstein': df_results['wasserstein'].mean(),\n",
        "    'KL': df_results['kl'].mean(),\n",
        "    'RMSE': df_results['rmse'].mean(),\n",
        "    'MAE': df_results['mae'].mean()\n",
        "}\n",
        "\n",
        "df_summary = pd.DataFrame([summary_row])\n",
        "print(df_summary)"
      ],
      "metadata": {
        "colab": {
          "base_uri": "https://localhost:8080/"
        },
        "id": "OwehLjFkqLYs",
        "outputId": "61cdba61-2ade-400d-db6d-9fd9434e3f0b"
      },
      "execution_count": null,
      "outputs": [
        {
          "output_type": "stream",
          "name": "stdout",
          "text": [
            "  Dataset Model  Wasserstein         KL      RMSE       MAE\n",
            "0      El   GAN     0.072585  12.876013  0.539656  0.506553\n"
          ]
        }
      ]
    }
  ]
}