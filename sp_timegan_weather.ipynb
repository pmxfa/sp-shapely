{
  "nbformat": 4,
  "nbformat_minor": 0,
  "metadata": {
    "colab": {
      "provenance": [],
      "gpuType": "L4",
      "authorship_tag": "ABX9TyNmaXD0vvlM4q/H0eFFUuLI",
      "include_colab_link": true
    },
    "kernelspec": {
      "name": "python3",
      "display_name": "Python 3"
    },
    "language_info": {
      "name": "python"
    },
    "accelerator": "GPU"
  },
  "cells": [
    {
      "cell_type": "markdown",
      "metadata": {
        "id": "view-in-github",
        "colab_type": "text"
      },
      "source": [
        "<a href=\"https://colab.research.google.com/github/pmxfa/sp-shapely/blob/main/sp_timegan_weather.ipynb\" target=\"_parent\"><img src=\"https://colab.research.google.com/assets/colab-badge.svg\" alt=\"Open In Colab\"/></a>"
      ]
    },
    {
      "cell_type": "markdown",
      "source": [
        "# Training"
      ],
      "metadata": {
        "id": "NcwQ6Yo09JC8"
      }
    },
    {
      "cell_type": "code",
      "execution_count": null,
      "metadata": {
        "id": "oaMLghK_ipz1",
        "colab": {
          "base_uri": "https://localhost:8080/"
        },
        "collapsed": true,
        "outputId": "887d37fe-ebb9-4328-eca8-d6be5e7073f4"
      },
      "outputs": [
        {
          "output_type": "stream",
          "name": "stdout",
          "text": [
            "Collecting synthcity\n",
            "  Downloading synthcity-0.2.11-py3-none-any.whl.metadata (37 kB)\n",
            "Requirement already satisfied: importlib-metadata in /usr/local/lib/python3.11/dist-packages (from synthcity) (8.6.1)\n",
            "Requirement already satisfied: pandas>=2.1 in /usr/local/lib/python3.11/dist-packages (from synthcity) (2.2.2)\n",
            "Collecting torch<2.3,>=2.1 (from synthcity)\n",
            "  Downloading torch-2.2.2-cp311-cp311-manylinux1_x86_64.whl.metadata (25 kB)\n",
            "Requirement already satisfied: scikit-learn>=1.2 in /usr/local/lib/python3.11/dist-packages (from synthcity) (1.6.1)\n",
            "Collecting nflows>=0.14 (from synthcity)\n",
            "  Downloading nflows-0.14.tar.gz (45 kB)\n",
            "\u001b[2K     \u001b[90m━━━━━━━━━━━━━━━━━━━━━━━━━━━━━━━━━━━━━━━━\u001b[0m \u001b[32m45.8/45.8 kB\u001b[0m \u001b[31m4.8 MB/s\u001b[0m eta \u001b[36m0:00:00\u001b[0m\n",
            "\u001b[?25h  Preparing metadata (setup.py) ... \u001b[?25l\u001b[?25hdone\n",
            "Collecting numpy<2.0,>=1.20 (from synthcity)\n",
            "  Downloading numpy-1.26.4-cp311-cp311-manylinux_2_17_x86_64.manylinux2014_x86_64.whl.metadata (61 kB)\n",
            "\u001b[2K     \u001b[90m━━━━━━━━━━━━━━━━━━━━━━━━━━━━━━━━━━━━━━━━\u001b[0m \u001b[32m61.0/61.0 kB\u001b[0m \u001b[31m6.4 MB/s\u001b[0m eta \u001b[36m0:00:00\u001b[0m\n",
            "\u001b[?25hCollecting lifelines<0.30.0,>=0.29.0 (from synthcity)\n",
            "  Downloading lifelines-0.29.0-py3-none-any.whl.metadata (3.2 kB)\n",
            "Collecting opacus>=1.3 (from synthcity)\n",
            "  Downloading opacus-1.5.3-py3-none-any.whl.metadata (8.4 kB)\n",
            "Collecting networkx<3.0,>2.0 (from synthcity)\n",
            "  Downloading networkx-2.8.8-py3-none-any.whl.metadata (5.1 kB)\n",
            "Collecting decaf-synthetic-data>=0.1.6 (from synthcity)\n",
            "  Downloading decaf_synthetic_data-0.1.6-py3-none-any.whl.metadata (2.5 kB)\n",
            "Collecting optuna>=3.1 (from synthcity)\n",
            "  Downloading optuna-4.3.0-py3-none-any.whl.metadata (17 kB)\n",
            "Requirement already satisfied: shap in /usr/local/lib/python3.11/dist-packages (from synthcity) (0.47.2)\n",
            "Requirement already satisfied: tenacity in /usr/local/lib/python3.11/dist-packages (from synthcity) (9.1.2)\n",
            "Requirement already satisfied: tqdm in /usr/local/lib/python3.11/dist-packages (from synthcity) (4.67.1)\n",
            "Collecting loguru (from synthcity)\n",
            "  Downloading loguru-0.7.3-py3-none-any.whl.metadata (22 kB)\n",
            "Collecting pydantic<2.0 (from synthcity)\n",
            "  Downloading pydantic-1.10.22-cp311-cp311-manylinux_2_17_x86_64.manylinux2014_x86_64.whl.metadata (154 kB)\n",
            "\u001b[2K     \u001b[90m━━━━━━━━━━━━━━━━━━━━━━━━━━━━━━━━━━━━━━\u001b[0m \u001b[32m154.1/154.1 kB\u001b[0m \u001b[31m13.7 MB/s\u001b[0m eta \u001b[36m0:00:00\u001b[0m\n",
            "\u001b[?25hRequirement already satisfied: cloudpickle in /usr/local/lib/python3.11/dist-packages (from synthcity) (3.1.1)\n",
            "Requirement already satisfied: scipy in /usr/local/lib/python3.11/dist-packages (from synthcity) (1.14.1)\n",
            "Requirement already satisfied: xgboost<3.0.0 in /usr/local/lib/python3.11/dist-packages (from synthcity) (2.1.4)\n",
            "Collecting geomloss (from synthcity)\n",
            "  Downloading geomloss-0.2.6.tar.gz (26 kB)\n",
            "  Preparing metadata (setup.py) ... \u001b[?25l\u001b[?25hdone\n",
            "Collecting pgmpy (from synthcity)\n",
            "  Downloading pgmpy-1.0.0-py3-none-any.whl.metadata (9.4 kB)\n",
            "Collecting redis (from synthcity)\n",
            "  Downloading redis-5.2.1-py3-none-any.whl.metadata (9.1 kB)\n",
            "Collecting pycox (from synthcity)\n",
            "  Downloading pycox-0.3.0-py3-none-any.whl.metadata (1.3 kB)\n",
            "Collecting xgbse>=0.3.1 (from synthcity)\n",
            "  Downloading xgbse-0.3.3-py3-none-any.whl.metadata (17 kB)\n",
            "Collecting pykeops (from synthcity)\n",
            "  Downloading pykeops-2.3.tar.gz (552 kB)\n",
            "\u001b[2K     \u001b[90m━━━━━━━━━━━━━━━━━━━━━━━━━━━━━━━━━━━━━━\u001b[0m \u001b[32m552.2/552.2 kB\u001b[0m \u001b[31m45.7 MB/s\u001b[0m eta \u001b[36m0:00:00\u001b[0m\n",
            "\u001b[?25h  Preparing metadata (setup.py) ... \u001b[?25l\u001b[?25hdone\n",
            "Collecting fflows (from synthcity)\n",
            "  Downloading fflows-0.0.3-py3-none-any.whl.metadata (3.4 kB)\n",
            "Collecting monai (from synthcity)\n",
            "  Downloading monai-1.4.0-py3-none-any.whl.metadata (11 kB)\n",
            "Collecting arfpy (from synthcity)\n",
            "  Downloading arfpy-0.1.1.tar.gz (11 kB)\n",
            "  Preparing metadata (setup.py) ... \u001b[?25l\u001b[?25hdone\n",
            "Collecting tsai (from synthcity)\n",
            "  Downloading tsai-0.4.0-py3-none-any.whl.metadata (16 kB)\n",
            "Collecting be-great>=0.0.5 (from synthcity)\n",
            "  Downloading be_great-0.0.8-py3-none-any.whl.metadata (5.7 kB)\n",
            "Collecting datasets>=2.5.2 (from be-great>=0.0.5->synthcity)\n",
            "  Downloading datasets-3.5.0-py3-none-any.whl.metadata (19 kB)\n",
            "Requirement already satisfied: transformers>=4.22.1 in /usr/local/lib/python3.11/dist-packages (from be-great>=0.0.5->synthcity) (4.51.3)\n",
            "Requirement already satisfied: accelerate>=0.20.1 in /usr/local/lib/python3.11/dist-packages (from be-great>=0.0.5->synthcity) (1.5.2)\n",
            "Collecting pytorch-lightning<2.0 (from decaf-synthetic-data>=0.1.6->synthcity)\n",
            "  Downloading pytorch_lightning-1.9.5-py3-none-any.whl.metadata (23 kB)\n",
            "Collecting torchtext>=0.10 (from decaf-synthetic-data>=0.1.6->synthcity)\n",
            "  Downloading torchtext-0.18.0-cp311-cp311-manylinux1_x86_64.whl.metadata (7.9 kB)\n",
            "Requirement already satisfied: matplotlib>=3.0 in /usr/local/lib/python3.11/dist-packages (from lifelines<0.30.0,>=0.29.0->synthcity) (3.10.0)\n",
            "Requirement already satisfied: autograd>=1.5 in /usr/local/lib/python3.11/dist-packages (from lifelines<0.30.0,>=0.29.0->synthcity) (1.7.0)\n",
            "Collecting autograd-gamma>=0.3 (from lifelines<0.30.0,>=0.29.0->synthcity)\n",
            "  Downloading autograd-gamma-0.5.0.tar.gz (4.0 kB)\n",
            "  Preparing metadata (setup.py) ... \u001b[?25l\u001b[?25hdone\n",
            "Collecting formulaic>=0.2.2 (from lifelines<0.30.0,>=0.29.0->synthcity)\n",
            "  Downloading formulaic-1.1.1-py3-none-any.whl.metadata (6.9 kB)\n",
            "Requirement already satisfied: tensorboard in /usr/local/lib/python3.11/dist-packages (from nflows>=0.14->synthcity) (2.18.0)\n",
            "Requirement already satisfied: opt-einsum>=3.3.0 in /usr/local/lib/python3.11/dist-packages (from opacus>=1.3->synthcity) (3.4.0)\n",
            "Collecting alembic>=1.5.0 (from optuna>=3.1->synthcity)\n",
            "  Downloading alembic-1.15.2-py3-none-any.whl.metadata (7.3 kB)\n",
            "Collecting colorlog (from optuna>=3.1->synthcity)\n",
            "  Downloading colorlog-6.9.0-py3-none-any.whl.metadata (10 kB)\n",
            "Requirement already satisfied: packaging>=20.0 in /usr/local/lib/python3.11/dist-packages (from optuna>=3.1->synthcity) (24.2)\n",
            "Requirement already satisfied: sqlalchemy>=1.4.2 in /usr/local/lib/python3.11/dist-packages (from optuna>=3.1->synthcity) (2.0.40)\n",
            "Requirement already satisfied: PyYAML in /usr/local/lib/python3.11/dist-packages (from optuna>=3.1->synthcity) (6.0.2)\n",
            "Requirement already satisfied: python-dateutil>=2.8.2 in /usr/local/lib/python3.11/dist-packages (from pandas>=2.1->synthcity) (2.8.2)\n",
            "Requirement already satisfied: pytz>=2020.1 in /usr/local/lib/python3.11/dist-packages (from pandas>=2.1->synthcity) (2025.2)\n",
            "Requirement already satisfied: tzdata>=2022.7 in /usr/local/lib/python3.11/dist-packages (from pandas>=2.1->synthcity) (2025.2)\n",
            "Requirement already satisfied: typing-extensions>=4.2.0 in /usr/local/lib/python3.11/dist-packages (from pydantic<2.0->synthcity) (4.13.2)\n",
            "Requirement already satisfied: joblib>=1.2.0 in /usr/local/lib/python3.11/dist-packages (from scikit-learn>=1.2->synthcity) (1.4.2)\n",
            "Requirement already satisfied: threadpoolctl>=3.1.0 in /usr/local/lib/python3.11/dist-packages (from scikit-learn>=1.2->synthcity) (3.6.0)\n",
            "Requirement already satisfied: filelock in /usr/local/lib/python3.11/dist-packages (from torch<2.3,>=2.1->synthcity) (3.18.0)\n",
            "Requirement already satisfied: sympy in /usr/local/lib/python3.11/dist-packages (from torch<2.3,>=2.1->synthcity) (1.13.1)\n",
            "Requirement already satisfied: jinja2 in /usr/local/lib/python3.11/dist-packages (from torch<2.3,>=2.1->synthcity) (3.1.6)\n",
            "Requirement already satisfied: fsspec in /usr/local/lib/python3.11/dist-packages (from torch<2.3,>=2.1->synthcity) (2025.3.2)\n",
            "Collecting nvidia-cuda-nvrtc-cu12==12.1.105 (from torch<2.3,>=2.1->synthcity)\n",
            "  Downloading nvidia_cuda_nvrtc_cu12-12.1.105-py3-none-manylinux1_x86_64.whl.metadata (1.5 kB)\n",
            "Collecting nvidia-cuda-runtime-cu12==12.1.105 (from torch<2.3,>=2.1->synthcity)\n",
            "  Downloading nvidia_cuda_runtime_cu12-12.1.105-py3-none-manylinux1_x86_64.whl.metadata (1.5 kB)\n",
            "Collecting nvidia-cuda-cupti-cu12==12.1.105 (from torch<2.3,>=2.1->synthcity)\n",
            "  Downloading nvidia_cuda_cupti_cu12-12.1.105-py3-none-manylinux1_x86_64.whl.metadata (1.6 kB)\n",
            "Collecting nvidia-cudnn-cu12==8.9.2.26 (from torch<2.3,>=2.1->synthcity)\n",
            "  Downloading nvidia_cudnn_cu12-8.9.2.26-py3-none-manylinux1_x86_64.whl.metadata (1.6 kB)\n",
            "Collecting nvidia-cublas-cu12==12.1.3.1 (from torch<2.3,>=2.1->synthcity)\n",
            "  Downloading nvidia_cublas_cu12-12.1.3.1-py3-none-manylinux1_x86_64.whl.metadata (1.5 kB)\n",
            "Collecting nvidia-cufft-cu12==11.0.2.54 (from torch<2.3,>=2.1->synthcity)\n",
            "  Downloading nvidia_cufft_cu12-11.0.2.54-py3-none-manylinux1_x86_64.whl.metadata (1.5 kB)\n",
            "Collecting nvidia-curand-cu12==10.3.2.106 (from torch<2.3,>=2.1->synthcity)\n",
            "  Downloading nvidia_curand_cu12-10.3.2.106-py3-none-manylinux1_x86_64.whl.metadata (1.5 kB)\n",
            "Collecting nvidia-cusolver-cu12==11.4.5.107 (from torch<2.3,>=2.1->synthcity)\n",
            "  Downloading nvidia_cusolver_cu12-11.4.5.107-py3-none-manylinux1_x86_64.whl.metadata (1.6 kB)\n",
            "Collecting nvidia-cusparse-cu12==12.1.0.106 (from torch<2.3,>=2.1->synthcity)\n",
            "  Downloading nvidia_cusparse_cu12-12.1.0.106-py3-none-manylinux1_x86_64.whl.metadata (1.6 kB)\n",
            "Collecting nvidia-nccl-cu12==2.19.3 (from torch<2.3,>=2.1->synthcity)\n",
            "  Downloading nvidia_nccl_cu12-2.19.3-py3-none-manylinux1_x86_64.whl.metadata (1.8 kB)\n",
            "Collecting nvidia-nvtx-cu12==12.1.105 (from torch<2.3,>=2.1->synthcity)\n",
            "  Downloading nvidia_nvtx_cu12-12.1.105-py3-none-manylinux1_x86_64.whl.metadata (1.7 kB)\n",
            "Collecting triton==2.2.0 (from torch<2.3,>=2.1->synthcity)\n",
            "  Downloading triton-2.2.0-cp311-cp311-manylinux_2_17_x86_64.manylinux2014_x86_64.whl.metadata (1.4 kB)\n",
            "Requirement already satisfied: nvidia-nvjitlink-cu12 in /usr/local/lib/python3.11/dist-packages (from nvidia-cusolver-cu12==11.4.5.107->torch<2.3,>=2.1->synthcity) (12.5.82)\n",
            "Requirement already satisfied: zipp>=3.20 in /usr/local/lib/python3.11/dist-packages (from importlib-metadata->synthcity) (3.21.0)\n",
            "Requirement already satisfied: statsmodels in /usr/local/lib/python3.11/dist-packages (from pgmpy->synthcity) (0.14.4)\n",
            "Collecting pyro-ppl (from pgmpy->synthcity)\n",
            "  Downloading pyro_ppl-1.9.1-py3-none-any.whl.metadata (7.8 kB)\n",
            "Collecting torchtuples>=0.2.0 (from pycox->synthcity)\n",
            "  Downloading torchtuples-0.2.2-py3-none-any.whl.metadata (3.8 kB)\n",
            "Collecting feather-format>=0.4.0 (from pycox->synthcity)\n",
            "  Downloading feather-format-0.4.1.tar.gz (3.2 kB)\n",
            "  Preparing metadata (setup.py) ... \u001b[?25l\u001b[?25hdone\n",
            "Requirement already satisfied: h5py>=2.9.0 in /usr/local/lib/python3.11/dist-packages (from pycox->synthcity) (3.13.0)\n",
            "Requirement already satisfied: numba>=0.44 in /usr/local/lib/python3.11/dist-packages (from pycox->synthcity) (0.60.0)\n",
            "Requirement already satisfied: requests>=2.22.0 in /usr/local/lib/python3.11/dist-packages (from pycox->synthcity) (2.32.3)\n",
            "Collecting py7zr>=0.11.3 (from pycox->synthcity)\n",
            "  Downloading py7zr-0.22.0-py3-none-any.whl.metadata (16 kB)\n",
            "Collecting pybind11 (from pykeops->synthcity)\n",
            "  Downloading pybind11-2.13.6-py3-none-any.whl.metadata (9.5 kB)\n",
            "Collecting keopscore==2.3 (from pykeops->synthcity)\n",
            "  Downloading keopscore-2.3.tar.gz (118 kB)\n",
            "\u001b[2K     \u001b[90m━━━━━━━━━━━━━━━━━━━━━━━━━━━━━━━━━━━━━━\u001b[0m \u001b[32m118.5/118.5 kB\u001b[0m \u001b[31m14.9 MB/s\u001b[0m eta \u001b[36m0:00:00\u001b[0m\n",
            "\u001b[?25h  Preparing metadata (setup.py) ... \u001b[?25l\u001b[?25hdone\n",
            "Requirement already satisfied: slicer==0.0.8 in /usr/local/lib/python3.11/dist-packages (from shap->synthcity) (0.0.8)\n",
            "Requirement already satisfied: pip in /usr/local/lib/python3.11/dist-packages (from tsai->synthcity) (24.1.2)\n",
            "Requirement already satisfied: fastai>=2.7.18 in /usr/local/lib/python3.11/dist-packages (from tsai->synthcity) (2.7.19)\n",
            "Collecting pyts>=0.13.0 (from tsai->synthcity)\n",
            "  Downloading pyts-0.13.0-py3-none-any.whl.metadata (10 kB)\n",
            "Requirement already satisfied: imbalanced-learn>=0.12.4 in /usr/local/lib/python3.11/dist-packages (from tsai->synthcity) (0.13.0)\n",
            "Collecting psutil>=6.1.0 (from tsai->synthcity)\n",
            "  Downloading psutil-7.0.0-cp36-abi3-manylinux_2_12_x86_64.manylinux2010_x86_64.manylinux_2_17_x86_64.manylinux2014_x86_64.whl.metadata (22 kB)\n",
            "Requirement already satisfied: huggingface-hub>=0.21.0 in /usr/local/lib/python3.11/dist-packages (from accelerate>=0.20.1->be-great>=0.0.5->synthcity) (0.30.2)\n",
            "Requirement already satisfied: safetensors>=0.4.3 in /usr/local/lib/python3.11/dist-packages (from accelerate>=0.20.1->be-great>=0.0.5->synthcity) (0.5.3)\n",
            "Requirement already satisfied: Mako in /usr/lib/python3/dist-packages (from alembic>=1.5.0->optuna>=3.1->synthcity) (1.1.3)\n",
            "Requirement already satisfied: pyarrow>=15.0.0 in /usr/local/lib/python3.11/dist-packages (from datasets>=2.5.2->be-great>=0.0.5->synthcity) (18.1.0)\n",
            "Collecting dill<0.3.9,>=0.3.0 (from datasets>=2.5.2->be-great>=0.0.5->synthcity)\n",
            "  Downloading dill-0.3.8-py3-none-any.whl.metadata (10 kB)\n",
            "Collecting xxhash (from datasets>=2.5.2->be-great>=0.0.5->synthcity)\n",
            "  Downloading xxhash-3.5.0-cp311-cp311-manylinux_2_17_x86_64.manylinux2014_x86_64.whl.metadata (12 kB)\n",
            "Collecting multiprocess<0.70.17 (from datasets>=2.5.2->be-great>=0.0.5->synthcity)\n",
            "  Downloading multiprocess-0.70.16-py311-none-any.whl.metadata (7.2 kB)\n",
            "Collecting fsspec (from torch<2.3,>=2.1->synthcity)\n",
            "  Downloading fsspec-2024.12.0-py3-none-any.whl.metadata (11 kB)\n",
            "Requirement already satisfied: aiohttp in /usr/local/lib/python3.11/dist-packages (from datasets>=2.5.2->be-great>=0.0.5->synthcity) (3.11.15)\n",
            "Requirement already satisfied: fastdownload<2,>=0.0.5 in /usr/local/lib/python3.11/dist-packages (from fastai>=2.7.18->tsai->synthcity) (0.0.7)\n",
            "Requirement already satisfied: fastcore<1.8,>=1.5.29 in /usr/local/lib/python3.11/dist-packages (from fastai>=2.7.18->tsai->synthcity) (1.7.29)\n",
            "Requirement already satisfied: torchvision>=0.11 in /usr/local/lib/python3.11/dist-packages (from fastai>=2.7.18->tsai->synthcity) (0.21.0+cu124)\n",
            "Requirement already satisfied: fastprogress>=0.2.4 in /usr/local/lib/python3.11/dist-packages (from fastai>=2.7.18->tsai->synthcity) (1.0.3)\n",
            "Requirement already satisfied: pillow>=9.0.0 in /usr/local/lib/python3.11/dist-packages (from fastai>=2.7.18->tsai->synthcity) (11.1.0)\n",
            "Requirement already satisfied: spacy<4 in /usr/local/lib/python3.11/dist-packages (from fastai>=2.7.18->tsai->synthcity) (3.8.5)\n"
          ]
        }
      ],
      "source": [
        "!pip install synthcity"
      ]
    },
    {
      "cell_type": "code",
      "source": [
        "from google.colab import drive\n",
        "drive.mount('/content/drive')\n",
        "\n",
        "import sys\n",
        "import warnings\n",
        "import pandas as pd\n",
        "import numpy as np\n",
        "from sklearn.preprocessing import MinMaxScaler\n",
        "\n",
        "import synthcity.logger as log\n",
        "from synthcity.plugins import Plugins\n",
        "from synthcity.plugins.core.dataloader import TimeSeriesDataLoader\n",
        "from synthcity.utils.serialization import save_to_file, load_from_file\n",
        "\n",
        "log.add(sink=sys.stderr, level=\"INFO\")"
      ],
      "metadata": {
        "id": "kfDi7FQF9LIv",
        "colab": {
          "base_uri": "https://localhost:8080/"
        },
        "outputId": "d3e3770a-4993-4cbc-8763-3728df900a1d",
        "collapsed": true
      },
      "execution_count": null,
      "outputs": [
        {
          "output_type": "stream",
          "name": "stdout",
          "text": [
            "Mounted at /content/drive\n",
            "[KeOps] Compiling cuda jit compiler engine ... OK\n",
            "[pyKeOps] Compiling nvrtc binder for python ... OK\n"
          ]
        }
      ]
    },
    {
      "cell_type": "code",
      "source": [
        "# Define file path\n",
        "file_path = \"/content/drive/Shareddrives/sp_env/datasets/Weather/weather.csv\"\n",
        "\n",
        "df = pd.read_csv(file_path)\n",
        "print(df.head())\n",
        "print(df.info())\n",
        "print('missing values: \\n', df.isnull().sum())"
      ],
      "metadata": {
        "id": "DCLsmN-F9NGv",
        "colab": {
          "base_uri": "https://localhost:8080/"
        },
        "outputId": "d3a069f8-bfb5-4ac7-b5bc-953738c98489"
      },
      "execution_count": null,
      "outputs": [
        {
          "output_type": "stream",
          "name": "stdout",
          "text": [
            "                  date  p (mbar)  T (degC)  Tpot (K)  Tdew (degC)  rh (%)  \\\n",
            "0  2020-01-01 00:10:00   1008.89      0.71    273.18        -1.33    86.1   \n",
            "1  2020-01-01 00:20:00   1008.76      0.75    273.22        -1.44    85.2   \n",
            "2  2020-01-01 00:30:00   1008.66      0.73    273.21        -1.48    85.1   \n",
            "3  2020-01-01 00:40:00   1008.64      0.37    272.86        -1.64    86.3   \n",
            "4  2020-01-01 00:50:00   1008.61      0.33    272.82        -1.50    87.4   \n",
            "\n",
            "   VPmax (mbar)  VPact (mbar)  VPdef (mbar)  sh (g/kg)  ...  wv (m/s)  \\\n",
            "0          6.43          5.54          0.89       3.42  ...      1.02   \n",
            "1          6.45          5.49          0.95       3.39  ...      0.43   \n",
            "2          6.44          5.48          0.96       3.39  ...      0.61   \n",
            "3          6.27          5.41          0.86       3.35  ...      1.11   \n",
            "4          6.26          5.47          0.79       3.38  ...      0.49   \n",
            "\n",
            "   max. wv (m/s)  wd (deg)  rain (mm)  raining (s)  SWDR (W/m�)  \\\n",
            "0           1.60     224.3        0.0          0.0          0.0   \n",
            "1           0.84     206.8        0.0          0.0          0.0   \n",
            "2           1.48     197.1        0.0          0.0          0.0   \n",
            "3           1.48     206.4        0.0          0.0          0.0   \n",
            "4           1.40     209.6        0.0          0.0          0.0   \n",
            "\n",
            "   PAR (�mol/m�/s)  max. PAR (�mol/m�/s)  Tlog (degC)     OT  \n",
            "0              0.0                   0.0        11.45  428.1  \n",
            "1              0.0                   0.0        11.51  428.0  \n",
            "2              0.0                   0.0        11.60  427.6  \n",
            "3              0.0                   0.0        11.70  430.0  \n",
            "4              0.0                   0.0        11.81  432.2  \n",
            "\n",
            "[5 rows x 22 columns]\n",
            "<class 'pandas.core.frame.DataFrame'>\n",
            "RangeIndex: 52696 entries, 0 to 52695\n",
            "Data columns (total 22 columns):\n",
            " #   Column                Non-Null Count  Dtype  \n",
            "---  ------                --------------  -----  \n",
            " 0   date                  52696 non-null  object \n",
            " 1   p (mbar)              52696 non-null  float64\n",
            " 2   T (degC)              52696 non-null  float64\n",
            " 3   Tpot (K)              52696 non-null  float64\n",
            " 4   Tdew (degC)           52696 non-null  float64\n",
            " 5   rh (%)                52696 non-null  float64\n",
            " 6   VPmax (mbar)          52696 non-null  float64\n",
            " 7   VPact (mbar)          52696 non-null  float64\n",
            " 8   VPdef (mbar)          52696 non-null  float64\n",
            " 9   sh (g/kg)             52696 non-null  float64\n",
            " 10  H2OC (mmol/mol)       52696 non-null  float64\n",
            " 11  rho (g/m**3)          52696 non-null  float64\n",
            " 12  wv (m/s)              52696 non-null  float64\n",
            " 13  max. wv (m/s)         52696 non-null  float64\n",
            " 14  wd (deg)              52696 non-null  float64\n",
            " 15  rain (mm)             52696 non-null  float64\n",
            " 16  raining (s)           52696 non-null  float64\n",
            " 17  SWDR (W/m�)           52696 non-null  float64\n",
            " 18  PAR (�mol/m�/s)       52696 non-null  float64\n",
            " 19  max. PAR (�mol/m�/s)  52696 non-null  float64\n",
            " 20  Tlog (degC)           52696 non-null  float64\n",
            " 21  OT                    52696 non-null  float64\n",
            "dtypes: float64(21), object(1)\n",
            "memory usage: 8.8+ MB\n",
            "None\n",
            "date                    0\n",
            "p (mbar)                0\n",
            "T (degC)                0\n",
            "Tpot (K)                0\n",
            "Tdew (degC)             0\n",
            "rh (%)                  0\n",
            "VPmax (mbar)            0\n",
            "VPact (mbar)            0\n",
            "VPdef (mbar)            0\n",
            "sh (g/kg)               0\n",
            "H2OC (mmol/mol)         0\n",
            "rho (g/m**3)            0\n",
            "wv (m/s)                0\n",
            "max. wv (m/s)           0\n",
            "wd (deg)                0\n",
            "rain (mm)               0\n",
            "raining (s)             0\n",
            "SWDR (W/m�)             0\n",
            "PAR (�mol/m�/s)         0\n",
            "max. PAR (�mol/m�/s)    0\n",
            "Tlog (degC)             0\n",
            "OT                      0\n",
            "dtype: int64\n"
          ]
        }
      ]
    },
    {
      "cell_type": "code",
      "source": [
        "# Set seed for reproducibility\n",
        "np.random.seed(42)\n",
        "\n",
        "# Convert 'date' to datetime and set as index (preserves chronological order)\n",
        "df['date'] = pd.to_datetime(df['date'])\n",
        "df.set_index('date', inplace=True)\n",
        "df.sort_index(inplace=True)\n",
        "\n",
        "# Exclude 'date' from feature selection (it's now the index anyway)\n",
        "columns = df.columns  # 'date' is no longer in df.columns\n",
        "selected_features = np.random.choice(columns, size=10, replace=False)\n",
        "\n",
        "print(f\"Selected features: {selected_features}\")\n",
        "\n",
        "# Keep only the selected features\n",
        "df = df[selected_features]"
      ],
      "metadata": {
        "colab": {
          "base_uri": "https://localhost:8080/"
        },
        "id": "m36lw5xogSIN",
        "outputId": "871b9d59-6ac7-498a-e7d7-da993dddc83e"
      },
      "execution_count": null,
      "outputs": [
        {
          "output_type": "stream",
          "name": "stdout",
          "text": [
            "Selected features: ['p (mbar)' 'PAR (�mol/m�/s)' 'raining (s)' 'T (degC)' 'sh (g/kg)'\n",
            " 'VPmax (mbar)' 'wv (m/s)' 'Tdew (degC)' 'max. PAR (�mol/m�/s)'\n",
            " 'SWDR (W/m�)']\n"
          ]
        }
      ]
    },
    {
      "cell_type": "code",
      "source": [
        "# Keep the latest 5000 rows\n",
        "df_latest = df.tail(5000)\n",
        "\n",
        "# Train-test split: 70% for training (for TimeGAN), 30% for testing (TSTR)\n",
        "train_size = int(0.7 * len(df_scaled))\n",
        "df_train = df_scaled.iloc[:train_size]\n",
        "df_test = df_scaled.iloc[train_size:]  # you might use this later for TSTR\n",
        "\n",
        "# Normalize the data using StandardScaler\n",
        "scaler = MinMaxScaler()\n",
        "scaled_train = scaler.fit_transform(df_train)\n",
        "df_scaled_train = pd.DataFrame(scaled_train, columns=df_train.columns, index=df_train.index)\n",
        "scaled_test = scaler.transform(df_test)\n",
        "df_scaled_test = pd.DataFrame(scaled_test, columns=df_test.columns, index=df_test.index)\n",
        "\n",
        "# Sequence length for time-series data (dataset = per 10 mins, 36 = 6 hrs)\n",
        "sequence_length = 36\n",
        "temporal_data = []\n",
        "observation_times = []\n",
        "\n",
        "# Generate sequences from df_train only\n",
        "for start in range(len(df_train) - sequence_length + 1):\n",
        "    sequence = df_train.iloc[start:start + sequence_length].reset_index(drop=True)\n",
        "    temporal_data.append(sequence)\n",
        "    observation_times.append(list(range(sequence_length)))  # relative time within the window\n",
        "\n",
        "# Dummy outcome for TimeGAN (can be used in DataLoader)\n",
        "dummy_outcome = pd.DataFrame(np.zeros(len(temporal_data)), columns=[\"outcome\"])\n",
        "\n",
        "# --- Create DataLoader for TimeGAN ---\n",
        "loader = TimeSeriesDataLoader(\n",
        "    temporal_data=temporal_data,\n",
        "    observation_times=observation_times,\n",
        "    static_data=None,\n",
        "    outcome=dummy_outcome,\n",
        ")\n",
        "\n",
        "# Print the loader info\n",
        "print(f\"TimeSeriesDataLoader created with {len(temporal_data)} sequences\")"
      ],
      "metadata": {
        "id": "siWRiBtn9O0V",
        "colab": {
          "base_uri": "https://localhost:8080/"
        },
        "outputId": "51b1a71a-7f84-40a5-8343-b8a3831c2620"
      },
      "execution_count": null,
      "outputs": [
        {
          "output_type": "stream",
          "name": "stdout",
          "text": [
            "TimeSeriesDataLoader created with 3465 sequences\n"
          ]
        }
      ]
    },
    {
      "cell_type": "code",
      "source": [
        "print(len(df_scaled_train))  # Check the length of the dataframe\n",
        "print(loader.dataframe())"
      ],
      "metadata": {
        "id": "FmZe08FM9Rd0",
        "colab": {
          "base_uri": "https://localhost:8080/"
        },
        "outputId": "3a71c30a-a2f5-4f86-c4f7-098e8dda7012"
      },
      "execution_count": null,
      "outputs": [
        {
          "output_type": "stream",
          "name": "stdout",
          "text": [
            "5000\n",
            "        seq_id  seq_time_id  seq_temporal_PAR (�mol/m�/s)  \\\n",
            "0            0            0                     -0.489582   \n",
            "1            0            1                     -0.489582   \n",
            "2            0            2                     -0.489582   \n",
            "3            0            3                     -0.489582   \n",
            "4            0            4                     -0.489582   \n",
            "...        ...          ...                           ...   \n",
            "124735    3464           31                      1.686200   \n",
            "124736    3464           32                      1.781566   \n",
            "124737    3464           33                      1.790925   \n",
            "124738    3464           34                      2.100668   \n",
            "124739    3464           35                      1.854765   \n",
            "\n",
            "        seq_temporal_SWDR (W/m�)  seq_temporal_T (degC)  \\\n",
            "0                      -0.476489              -1.140307   \n",
            "1                      -0.476489              -1.082832   \n",
            "2                      -0.476489              -0.991550   \n",
            "3                      -0.476489              -0.981407   \n",
            "4                      -0.476489              -0.984788   \n",
            "...                          ...                    ...   \n",
            "124735                  1.559720               0.874675   \n",
            "124736                  1.664691               0.878056   \n",
            "124737                  1.681775               0.881437   \n",
            "124738                  2.023452               0.932150   \n",
            "124739                  1.787315               0.999766   \n",
            "\n",
            "        seq_temporal_Tdew (degC)  seq_temporal_VPmax (mbar)  \\\n",
            "0                      -0.513990                  -0.984883   \n",
            "1                      -0.489481                  -0.941400   \n",
            "2                      -0.468034                  -0.876175   \n",
            "3                      -0.468034                  -0.870739   \n",
            "4                      -0.446588                  -0.870739   \n",
            "...                          ...                        ...   \n",
            "124735                  0.824865                   0.743581   \n",
            "124736                  0.830992                   0.743581   \n",
            "124737                  0.837120                   0.749016   \n",
            "124738                  0.861630                   0.803371   \n",
            "124739                  0.898394                   0.868596   \n",
            "\n",
            "        seq_temporal_max. PAR (�mol/m�/s)  seq_temporal_p (mbar)  \\\n",
            "0                               -0.487936               0.970766   \n",
            "1                               -0.487936               0.970766   \n",
            "2                               -0.487936               0.979837   \n",
            "3                               -0.487936               0.981651   \n",
            "4                               -0.487936               0.977116   \n",
            "...                                   ...                    ...   \n",
            "124735                           1.584735               1.028819   \n",
            "124736                           1.629585               1.027005   \n",
            "124737                           1.691363               1.023376   \n",
            "124738                           1.918709               1.022469   \n",
            "124739                           1.740338               1.017934   \n",
            "\n",
            "        seq_temporal_raining (s)  seq_temporal_sh (g/kg)  \\\n",
            "0                      -0.246097               -0.583301   \n",
            "1                      -0.246097               -0.565085   \n",
            "2                      -0.246097               -0.546869   \n",
            "3                      -0.246097               -0.546869   \n",
            "4                      -0.246097               -0.528653   \n",
            "...                          ...                     ...   \n",
            "124735                 -0.246097                0.673597   \n",
            "124736                 -0.246097                0.682705   \n",
            "124737                 -0.246097                0.682705   \n",
            "124738                 -0.246097                0.710029   \n",
            "124739                 -0.246097                0.746461   \n",
            "\n",
            "        seq_temporal_wv (m/s)  seq_out_outcome  \n",
            "0                   -0.756261              0.0  \n",
            "1                   -1.165378              0.0  \n",
            "2                   -1.187295              0.0  \n",
            "3                   -0.873152              0.0  \n",
            "4                   -0.997348              0.0  \n",
            "...                       ...              ...  \n",
            "124735               0.719484              0.0  \n",
            "124736               0.763318              0.0  \n",
            "124737               0.595288              0.0  \n",
            "124738              -0.025694              0.0  \n",
            "124739               0.193476              0.0  \n",
            "\n",
            "[124740 rows x 13 columns]\n"
          ]
        }
      ]
    },
    {
      "cell_type": "code",
      "source": [
        "from synthcity.plugins import Plugins\n",
        "\n",
        "hparams = {\n",
        "          \"mode\": \"LSTM\", # default mode = RNN;\n",
        "}\n",
        "\n",
        "# Load TimeGAN with custom parameters\n",
        "syn_model = Plugins().get(\"timegan\", **hparams)"
      ],
      "metadata": {
        "id": "oYqRdbxl9W74",
        "colab": {
          "base_uri": "https://localhost:8080/"
        },
        "outputId": "0cebac7c-3198-453e-a594-56ccc21715b0"
      },
      "execution_count": null,
      "outputs": [
        {
          "output_type": "stream",
          "name": "stderr",
          "text": [
            "[2025-04-17T03:42:33.277088+0000][2204][CRITICAL] module disabled: /usr/local/lib/python3.11/dist-packages/synthcity/plugins/generic/plugin_goggle.py\n"
          ]
        }
      ]
    },
    {
      "cell_type": "code",
      "source": [
        "# --- Print all parameters of initialized model ---\n",
        "for attr in dir(syn_model):\n",
        "    if not attr.startswith(\"_\") and not callable(getattr(syn_model, attr)):\n",
        "        print(f\"{attr}: {getattr(syn_model, attr)}\")"
      ],
      "metadata": {
        "id": "y9ZVw8pT9Y_Q",
        "colab": {
          "base_uri": "https://localhost:8080/"
        },
        "outputId": "38ae12fa-403d-4246-a8ae-59f022f29c59"
      },
      "execution_count": null,
      "outputs": [
        {
          "output_type": "stream",
          "name": "stdout",
          "text": [
            "batch_size: 64\n",
            "class_name: TimeGANPlugin\n",
            "clipping_value: 0\n",
            "compress_dataset: False\n",
            "dataloader_sampling_strategy: imbalanced_time_censoring\n",
            "device: cuda\n",
            "discriminator_batch_norm: False\n",
            "discriminator_dropout: 0.1\n",
            "discriminator_loss: None\n",
            "discriminator_lr: 0.001\n",
            "discriminator_n_iter: 1\n",
            "discriminator_n_layers_hidden: 3\n",
            "discriminator_n_units_hidden: 300\n",
            "discriminator_nonlin: leaky_relu\n",
            "discriminator_weight_decay: 0.001\n",
            "embedding_penalty: 10\n",
            "encoder: None\n",
            "encoder_max_clusters: 20\n",
            "expecting_conditional: False\n",
            "fitted: False\n",
            "gamma_penalty: 1\n",
            "generator_batch_norm: False\n",
            "generator_dropout: 0.01\n",
            "generator_loss: None\n",
            "generator_lr: 0.001\n",
            "generator_n_layers_hidden: 2\n",
            "generator_n_units_hidden: 150\n",
            "generator_nonlin: leaky_relu\n",
            "generator_nonlin_out_continuous: tanh\n",
            "generator_nonlin_out_discrete: softmax\n",
            "generator_residual: True\n",
            "generator_weight_decay: 0.001\n",
            "mode: LSTM\n",
            "module_name: synthcity.plugins.time_series.plugin_timegan\n",
            "module_relative_path: ../time_series/plugin_timegan.py\n",
            "moments_penalty: 100\n",
            "n_iter: 1000\n",
            "n_iter_print: 10\n",
            "outcome_encoder: TabularEncoder(cat_encoder_params={'handle_unknown': 'ignore',\n",
            "                                   'sparse_output': False},\n",
            "               categorical_encoder='onehot',\n",
            "               cont_encoder_params={'n_components': 20},\n",
            "               continuous_encoder='bayesian_gmm', max_clusters=20)\n",
            "random_state: 0\n",
            "sampling_patience: 500\n",
            "sampling_strategy: marginal\n",
            "strict: True\n",
            "use_horizon_condition: True\n",
            "workspace: workspace\n"
          ]
        }
      ]
    },
    {
      "cell_type": "markdown",
      "source": [
        "## fitting the model"
      ],
      "metadata": {
        "id": "IKG0O5Pg9hpG"
      }
    },
    {
      "cell_type": "code",
      "source": [
        "# --- Train the model ---\n",
        "syn_model.fit(loader)"
      ],
      "metadata": {
        "id": "-BKXe4G19l_8",
        "colab": {
          "base_uri": "https://localhost:8080/"
        },
        "outputId": "bb98d0c8-ac99-452b-9ae1-f0045e6f43b3"
      },
      "execution_count": null,
      "outputs": [
        {
          "output_type": "stream",
          "name": "stderr",
          "text": [
            "100%|██████████| 1000/1000 [2:49:36<00:00, 10.18s/it]\n"
          ]
        },
        {
          "output_type": "execute_result",
          "data": {
            "text/plain": [
              "<synthcity.plugins.time_series.plugin_timegan.TimeGANPlugin at 0x797e9b5063d0>"
            ]
          },
          "metadata": {},
          "execution_count": 36
        }
      ]
    },
    {
      "cell_type": "code",
      "source": [
        "# --- Generate Synthetic Data ---\n",
        "n_samples = len(temporal_data)\n",
        "syn_data = syn_model.generate(count=n_samples)\n",
        "print(syn_data.shape)"
      ],
      "metadata": {
        "id": "JviqEDru9nMO",
        "colab": {
          "base_uri": "https://localhost:8080/"
        },
        "outputId": "d632520b-7be3-4b4d-cf9f-4ddecef4854b"
      },
      "execution_count": null,
      "outputs": [
        {
          "output_type": "stream",
          "name": "stdout",
          "text": [
            "(113130, 13)\n"
          ]
        }
      ]
    },
    {
      "cell_type": "code",
      "source": [
        "# --- Save with automated format ---\n",
        "import datetime\n",
        "import os\n",
        "# Get the current date and time\n",
        "now = datetime.datetime.now()\n",
        "timestamp = now.strftime(\"%m%d%y-%H%M%S\")  # MMDDYY-HHMMSS format\n",
        "\n",
        "# Define the base directory\n",
        "base_dir = \"/content/drive/Shareddrives/sp_env/synthetic_datasets/TimeGAN/weather\"  #CHANGE THIS\n",
        "if not os.path.exists(base_dir):\n",
        "    os.makedirs(base_dir)\n",
        "\n",
        "# Construct the filename\n",
        "model_name = type(syn_model).__name__.lower() # Get model name dynamically\n",
        "filename = f\"{timestamp}-{model_name}-n_3000.csv\"\n",
        "filepath = os.path.join(base_dir, filename)\n",
        "\n",
        "# Save the data\n",
        "df_syn = syn_data.dataframe()\n",
        "df_syn.to_csv(filepath, index=False)\n",
        "\n",
        "print(f\"Synthetic data saved to: {filepath}\")"
      ],
      "metadata": {
        "id": "J4rF0HY29o65",
        "colab": {
          "base_uri": "https://localhost:8080/"
        },
        "outputId": "d6924edf-bcbe-4041-ab70-938755f8cedf"
      },
      "execution_count": null,
      "outputs": [
        {
          "output_type": "stream",
          "name": "stdout",
          "text": [
            "Synthetic data saved to: /content/drive/Shareddrives/sp_env/synthetic_datasets/TimeGAN/weather/041725-064438-timeganplugin-n_3000.csv\n"
          ]
        }
      ]
    },
    {
      "cell_type": "markdown",
      "source": [
        "# Evaluation"
      ],
      "metadata": {
        "id": "TICnBaoH9r8Z"
      }
    },
    {
      "cell_type": "markdown",
      "source": [
        "## Prerequisites"
      ],
      "metadata": {
        "id": "QlHAzxfV9uXf"
      }
    },
    {
      "cell_type": "code",
      "source": [
        "loader"
      ],
      "metadata": {
        "colab": {
          "base_uri": "https://localhost:8080/",
          "height": 461
        },
        "id": "bPHMTBRegEWp",
        "outputId": "efff7d81-97b9-47b5-efa9-7c8ce510c693"
      },
      "execution_count": null,
      "outputs": [
        {
          "output_type": "execute_result",
          "data": {
            "text/plain": [
              "        seq_id  seq_time_id  seq_temporal_PAR (�mol/m�/s)  \\\n",
              "0            0            0                     -0.489582   \n",
              "1            0            1                     -0.489582   \n",
              "2            0            2                     -0.489582   \n",
              "3            0            3                     -0.489582   \n",
              "4            0            4                     -0.489582   \n",
              "...        ...          ...                           ...   \n",
              "124735    3464           31                      1.686200   \n",
              "124736    3464           32                      1.781566   \n",
              "124737    3464           33                      1.790925   \n",
              "124738    3464           34                      2.100668   \n",
              "124739    3464           35                      1.854765   \n",
              "\n",
              "        seq_temporal_SWDR (W/m�)  seq_temporal_T (degC)  \\\n",
              "0                      -0.476489              -1.140307   \n",
              "1                      -0.476489              -1.082832   \n",
              "2                      -0.476489              -0.991550   \n",
              "3                      -0.476489              -0.981407   \n",
              "4                      -0.476489              -0.984788   \n",
              "...                          ...                    ...   \n",
              "124735                  1.559720               0.874675   \n",
              "124736                  1.664691               0.878056   \n",
              "124737                  1.681775               0.881437   \n",
              "124738                  2.023452               0.932150   \n",
              "124739                  1.787315               0.999766   \n",
              "\n",
              "        seq_temporal_Tdew (degC)  seq_temporal_VPmax (mbar)  \\\n",
              "0                      -0.513990                  -0.984883   \n",
              "1                      -0.489481                  -0.941400   \n",
              "2                      -0.468034                  -0.876175   \n",
              "3                      -0.468034                  -0.870739   \n",
              "4                      -0.446588                  -0.870739   \n",
              "...                          ...                        ...   \n",
              "124735                  0.824865                   0.743581   \n",
              "124736                  0.830992                   0.743581   \n",
              "124737                  0.837120                   0.749016   \n",
              "124738                  0.861630                   0.803371   \n",
              "124739                  0.898394                   0.868596   \n",
              "\n",
              "        seq_temporal_max. PAR (�mol/m�/s)  seq_temporal_p (mbar)  \\\n",
              "0                               -0.487936               0.970766   \n",
              "1                               -0.487936               0.970766   \n",
              "2                               -0.487936               0.979837   \n",
              "3                               -0.487936               0.981651   \n",
              "4                               -0.487936               0.977116   \n",
              "...                                   ...                    ...   \n",
              "124735                           1.584735               1.028819   \n",
              "124736                           1.629585               1.027005   \n",
              "124737                           1.691363               1.023376   \n",
              "124738                           1.918709               1.022469   \n",
              "124739                           1.740338               1.017934   \n",
              "\n",
              "        seq_temporal_raining (s)  seq_temporal_sh (g/kg)  \\\n",
              "0                      -0.246097               -0.583301   \n",
              "1                      -0.246097               -0.565085   \n",
              "2                      -0.246097               -0.546869   \n",
              "3                      -0.246097               -0.546869   \n",
              "4                      -0.246097               -0.528653   \n",
              "...                          ...                     ...   \n",
              "124735                 -0.246097                0.673597   \n",
              "124736                 -0.246097                0.682705   \n",
              "124737                 -0.246097                0.682705   \n",
              "124738                 -0.246097                0.710029   \n",
              "124739                 -0.246097                0.746461   \n",
              "\n",
              "        seq_temporal_wv (m/s)  seq_out_outcome  \n",
              "0                   -0.756261              0.0  \n",
              "1                   -1.165378              0.0  \n",
              "2                   -1.187295              0.0  \n",
              "3                   -0.873152              0.0  \n",
              "4                   -0.997348              0.0  \n",
              "...                       ...              ...  \n",
              "124735               0.719484              0.0  \n",
              "124736               0.763318              0.0  \n",
              "124737               0.595288              0.0  \n",
              "124738              -0.025694              0.0  \n",
              "124739               0.193476              0.0  \n",
              "\n",
              "[124740 rows x 13 columns]"
            ],
            "text/html": [
              "<div>\n",
              "<style scoped>\n",
              "    .dataframe tbody tr th:only-of-type {\n",
              "        vertical-align: middle;\n",
              "    }\n",
              "\n",
              "    .dataframe tbody tr th {\n",
              "        vertical-align: top;\n",
              "    }\n",
              "\n",
              "    .dataframe thead th {\n",
              "        text-align: right;\n",
              "    }\n",
              "</style>\n",
              "<table border=\"1\" class=\"dataframe\">\n",
              "  <thead>\n",
              "    <tr style=\"text-align: right;\">\n",
              "      <th></th>\n",
              "      <th>seq_id</th>\n",
              "      <th>seq_time_id</th>\n",
              "      <th>seq_temporal_PAR (�mol/m�/s)</th>\n",
              "      <th>seq_temporal_SWDR (W/m�)</th>\n",
              "      <th>seq_temporal_T (degC)</th>\n",
              "      <th>seq_temporal_Tdew (degC)</th>\n",
              "      <th>seq_temporal_VPmax (mbar)</th>\n",
              "      <th>seq_temporal_max. PAR (�mol/m�/s)</th>\n",
              "      <th>seq_temporal_p (mbar)</th>\n",
              "      <th>seq_temporal_raining (s)</th>\n",
              "      <th>seq_temporal_sh (g/kg)</th>\n",
              "      <th>seq_temporal_wv (m/s)</th>\n",
              "      <th>seq_out_outcome</th>\n",
              "    </tr>\n",
              "  </thead>\n",
              "  <tbody>\n",
              "    <tr>\n",
              "      <th>0</th>\n",
              "      <td>0</td>\n",
              "      <td>0</td>\n",
              "      <td>-0.489582</td>\n",
              "      <td>-0.476489</td>\n",
              "      <td>-1.140307</td>\n",
              "      <td>-0.513990</td>\n",
              "      <td>-0.984883</td>\n",
              "      <td>-0.487936</td>\n",
              "      <td>0.970766</td>\n",
              "      <td>-0.246097</td>\n",
              "      <td>-0.583301</td>\n",
              "      <td>-0.756261</td>\n",
              "      <td>0.0</td>\n",
              "    </tr>\n",
              "    <tr>\n",
              "      <th>1</th>\n",
              "      <td>0</td>\n",
              "      <td>1</td>\n",
              "      <td>-0.489582</td>\n",
              "      <td>-0.476489</td>\n",
              "      <td>-1.082832</td>\n",
              "      <td>-0.489481</td>\n",
              "      <td>-0.941400</td>\n",
              "      <td>-0.487936</td>\n",
              "      <td>0.970766</td>\n",
              "      <td>-0.246097</td>\n",
              "      <td>-0.565085</td>\n",
              "      <td>-1.165378</td>\n",
              "      <td>0.0</td>\n",
              "    </tr>\n",
              "    <tr>\n",
              "      <th>2</th>\n",
              "      <td>0</td>\n",
              "      <td>2</td>\n",
              "      <td>-0.489582</td>\n",
              "      <td>-0.476489</td>\n",
              "      <td>-0.991550</td>\n",
              "      <td>-0.468034</td>\n",
              "      <td>-0.876175</td>\n",
              "      <td>-0.487936</td>\n",
              "      <td>0.979837</td>\n",
              "      <td>-0.246097</td>\n",
              "      <td>-0.546869</td>\n",
              "      <td>-1.187295</td>\n",
              "      <td>0.0</td>\n",
              "    </tr>\n",
              "    <tr>\n",
              "      <th>3</th>\n",
              "      <td>0</td>\n",
              "      <td>3</td>\n",
              "      <td>-0.489582</td>\n",
              "      <td>-0.476489</td>\n",
              "      <td>-0.981407</td>\n",
              "      <td>-0.468034</td>\n",
              "      <td>-0.870739</td>\n",
              "      <td>-0.487936</td>\n",
              "      <td>0.981651</td>\n",
              "      <td>-0.246097</td>\n",
              "      <td>-0.546869</td>\n",
              "      <td>-0.873152</td>\n",
              "      <td>0.0</td>\n",
              "    </tr>\n",
              "    <tr>\n",
              "      <th>4</th>\n",
              "      <td>0</td>\n",
              "      <td>4</td>\n",
              "      <td>-0.489582</td>\n",
              "      <td>-0.476489</td>\n",
              "      <td>-0.984788</td>\n",
              "      <td>-0.446588</td>\n",
              "      <td>-0.870739</td>\n",
              "      <td>-0.487936</td>\n",
              "      <td>0.977116</td>\n",
              "      <td>-0.246097</td>\n",
              "      <td>-0.528653</td>\n",
              "      <td>-0.997348</td>\n",
              "      <td>0.0</td>\n",
              "    </tr>\n",
              "    <tr>\n",
              "      <th>...</th>\n",
              "      <td>...</td>\n",
              "      <td>...</td>\n",
              "      <td>...</td>\n",
              "      <td>...</td>\n",
              "      <td>...</td>\n",
              "      <td>...</td>\n",
              "      <td>...</td>\n",
              "      <td>...</td>\n",
              "      <td>...</td>\n",
              "      <td>...</td>\n",
              "      <td>...</td>\n",
              "      <td>...</td>\n",
              "      <td>...</td>\n",
              "    </tr>\n",
              "    <tr>\n",
              "      <th>124735</th>\n",
              "      <td>3464</td>\n",
              "      <td>31</td>\n",
              "      <td>1.686200</td>\n",
              "      <td>1.559720</td>\n",
              "      <td>0.874675</td>\n",
              "      <td>0.824865</td>\n",
              "      <td>0.743581</td>\n",
              "      <td>1.584735</td>\n",
              "      <td>1.028819</td>\n",
              "      <td>-0.246097</td>\n",
              "      <td>0.673597</td>\n",
              "      <td>0.719484</td>\n",
              "      <td>0.0</td>\n",
              "    </tr>\n",
              "    <tr>\n",
              "      <th>124736</th>\n",
              "      <td>3464</td>\n",
              "      <td>32</td>\n",
              "      <td>1.781566</td>\n",
              "      <td>1.664691</td>\n",
              "      <td>0.878056</td>\n",
              "      <td>0.830992</td>\n",
              "      <td>0.743581</td>\n",
              "      <td>1.629585</td>\n",
              "      <td>1.027005</td>\n",
              "      <td>-0.246097</td>\n",
              "      <td>0.682705</td>\n",
              "      <td>0.763318</td>\n",
              "      <td>0.0</td>\n",
              "    </tr>\n",
              "    <tr>\n",
              "      <th>124737</th>\n",
              "      <td>3464</td>\n",
              "      <td>33</td>\n",
              "      <td>1.790925</td>\n",
              "      <td>1.681775</td>\n",
              "      <td>0.881437</td>\n",
              "      <td>0.837120</td>\n",
              "      <td>0.749016</td>\n",
              "      <td>1.691363</td>\n",
              "      <td>1.023376</td>\n",
              "      <td>-0.246097</td>\n",
              "      <td>0.682705</td>\n",
              "      <td>0.595288</td>\n",
              "      <td>0.0</td>\n",
              "    </tr>\n",
              "    <tr>\n",
              "      <th>124738</th>\n",
              "      <td>3464</td>\n",
              "      <td>34</td>\n",
              "      <td>2.100668</td>\n",
              "      <td>2.023452</td>\n",
              "      <td>0.932150</td>\n",
              "      <td>0.861630</td>\n",
              "      <td>0.803371</td>\n",
              "      <td>1.918709</td>\n",
              "      <td>1.022469</td>\n",
              "      <td>-0.246097</td>\n",
              "      <td>0.710029</td>\n",
              "      <td>-0.025694</td>\n",
              "      <td>0.0</td>\n",
              "    </tr>\n",
              "    <tr>\n",
              "      <th>124739</th>\n",
              "      <td>3464</td>\n",
              "      <td>35</td>\n",
              "      <td>1.854765</td>\n",
              "      <td>1.787315</td>\n",
              "      <td>0.999766</td>\n",
              "      <td>0.898394</td>\n",
              "      <td>0.868596</td>\n",
              "      <td>1.740338</td>\n",
              "      <td>1.017934</td>\n",
              "      <td>-0.246097</td>\n",
              "      <td>0.746461</td>\n",
              "      <td>0.193476</td>\n",
              "      <td>0.0</td>\n",
              "    </tr>\n",
              "  </tbody>\n",
              "</table>\n",
              "<p>124740 rows × 13 columns</p>\n",
              "</div>"
            ]
          },
          "metadata": {},
          "execution_count": 40
        }
      ]
    },
    {
      "cell_type": "code",
      "source": [
        "# Define selected columns explicitly\n",
        "selected_columns = ['seq_temporal_PAR (�mol/m�/s)', 'seq_temporal_SWDR (W/m�)', 'seq_temporal_T (degC)',\t'seq_temporal_Tdew (degC)',\t'seq_temporal_VPmax (mbar)',\t'seq_temporal_max. PAR (�mol/m�/s)',\t'seq_temporal_p (mbar)',\t'seq_temporal_raining (s)',\t'seq_temporal_sh (g/kg)',\t'seq_temporal_wv (m/s)']\n",
        "# Ensure real_data and synthetic_data only contain the selected columns\n",
        "real_data = loader.dataframe()[selected_columns].to_numpy()\n",
        "synthetic_data = syn_data.dataframe()[selected_columns].to_numpy()"
      ],
      "metadata": {
        "id": "zUMHadsq9vw8"
      },
      "execution_count": null,
      "outputs": []
    },
    {
      "cell_type": "code",
      "source": [
        "print(real_data, \"\\n ------------------------------------------------------- \\n\", synthetic_data)\n",
        "print(type(real_data),type(synthetic_data))\n",
        "print(real_data.shape,synthetic_data.shape)"
      ],
      "metadata": {
        "id": "DumXr_Gg9y6U",
        "colab": {
          "base_uri": "https://localhost:8080/"
        },
        "outputId": "7ee31210-bf62-4ed5-d650-558f20634541"
      },
      "execution_count": null,
      "outputs": [
        {
          "output_type": "stream",
          "name": "stdout",
          "text": [
            "[[-0.48958181 -0.47648878 -1.14030659 ... -0.24609724 -0.58330095\n",
            "  -0.75626087]\n",
            " [-0.48958181 -0.47648878 -1.08283228 ... -0.24609724 -0.56508504\n",
            "  -1.16537829]\n",
            " [-0.48958181 -0.47648878 -0.99154955 ... -0.24609724 -0.54686912\n",
            "  -1.1872953 ]\n",
            " ...\n",
            " [ 1.79092525  1.68177474  0.88143688 ... -0.24609724  0.68270521\n",
            "   0.59528777]\n",
            " [ 2.10066753  2.02345234  0.93214951 ... -0.24609724  0.71002908\n",
            "  -0.02569404]\n",
            " [ 1.85476526  1.78731515  0.99976635 ... -0.24609724  0.74646091\n",
            "   0.19347601]] \n",
            " ------------------------------------------------------- \n",
            " [[-0.48949689 -0.47648878  1.22456085 ... -0.24609724 -0.01670865\n",
            "  -0.74878515]\n",
            " [-0.48948907 -0.47648878 -0.36324033 ... -0.24609724  0.10520755\n",
            "   0.36740728]\n",
            " [-0.48948194 -0.47648878 -0.60093091 ... -0.24609724  0.15317317\n",
            "  -0.93012676]\n",
            " ...\n",
            " [-0.48934068 -0.47648878  1.21858415 ... -0.24609724  0.62887574\n",
            "  -0.13767291]\n",
            " [-0.48936171 -0.47648878 -0.4905377  ... -0.24609724  0.62858938\n",
            "  -1.05388676]\n",
            " [-0.48935645 -0.47648878 -0.49028119 ... -0.24609724 -0.40342846\n",
            "   0.36853937]]\n",
            "<class 'numpy.ndarray'> <class 'numpy.ndarray'>\n",
            "(124740, 10) (113130, 10)\n"
          ]
        }
      ]
    },
    {
      "cell_type": "markdown",
      "source": [
        "## Generate distance metrics"
      ],
      "metadata": {
        "id": "0pU8BORS9vWk"
      }
    },
    {
      "cell_type": "markdown",
      "source": [
        "### Helper Functions"
      ],
      "metadata": {
        "id": "DVguOJWi-Fos"
      }
    },
    {
      "cell_type": "code",
      "source": [
        "from scipy.stats import wasserstein_distance, entropy\n",
        "import numpy as np\n",
        "\n",
        "def compute_wasserstein(real_data, synthetic_data, selected_columns):\n",
        "    \"\"\"\n",
        "    Computes Wasserstein Distance between real and synthetic time-series data.\n",
        "\n",
        "    \"\"\"\n",
        "\n",
        "    # Ensure both datasets have the same number of samples\n",
        "    min_length = min(len(real_data), len(synthetic_data))\n",
        "    real_trimmed = real_data[:min_length]  # Keep original order (no random sampling)\n",
        "    synthetic_trimmed = synthetic_data[:min_length]  # Match size\n",
        "    print(real_trimmed.shape,synthetic_trimmed.shape)\n",
        "\n",
        "    wasserstein_results = {}\n",
        "\n",
        "    # Compute Wasserstein Distance for each feature\n",
        "    for i, col in enumerate(selected_columns):\n",
        "        w_dist = wasserstein_distance(real_trimmed[:, i], synthetic_trimmed[:, i])\n",
        "        wasserstein_results[col] = w_dist\n",
        "        print(f\"{w_dist}\")\n",
        "\n",
        "    return wasserstein_results\n",
        "\n",
        "def compute_kl_divergence(real_data, synthetic_data, selected_columns, bins=50):\n",
        "    \"\"\"\n",
        "    Computes KL Divergence between real and synthetic time-series data.\n",
        "\n",
        "    \"\"\"\n",
        "\n",
        "    # Ensure both datasets have the same number of samples\n",
        "    min_length = min(len(real_data), len(synthetic_data))\n",
        "    real_trimmed = real_data[:min_length]  # Keep original order\n",
        "    synthetic_trimmed = synthetic_data[:min_length]  # Match size\n",
        "\n",
        "    kl_results = {}\n",
        "\n",
        "    for i, col in enumerate(selected_columns):\n",
        "        # Compute histogram-based probability distributions\n",
        "        real_hist, _ = np.histogram(real_trimmed[:, i], bins=bins, density=True)\n",
        "        synth_hist, _ = np.histogram(synthetic_trimmed[:, i], bins=bins, density=True)\n",
        "\n",
        "        # Avoid zero probabilities (KL Divergence is undefined for zero values)\n",
        "        real_hist += 1e-10\n",
        "        synth_hist += 1e-10\n",
        "\n",
        "        # Compute KL Divergence\n",
        "        kl_div = entropy(real_hist, synth_hist)\n",
        "        kl_results[col] = kl_div\n",
        "        print(f\"{kl_div}\")\n",
        "\n",
        "    return kl_results"
      ],
      "metadata": {
        "id": "GjGk3_Zx94Ko"
      },
      "execution_count": null,
      "outputs": []
    },
    {
      "cell_type": "markdown",
      "source": [
        "### Generate Metrics"
      ],
      "metadata": {
        "id": "yLnb7Vqg-IG_"
      }
    },
    {
      "cell_type": "code",
      "source": [
        "# Assuming df_scaled is the DataFrame containing your scaled ETD data\n",
        "\n",
        "# Compute Wasserstein Distance\n",
        "wasserstein_results = compute_wasserstein(real_data, synthetic_data, selected_columns)\n",
        "print(\"Wasserstein Distance Results:\")\n",
        "print(wasserstein_results)\n",
        "\n",
        "# Compute KL Divergence\n",
        "kl_results = compute_kl_divergence(real_data, synthetic_data, selected_columns)\n",
        "print(\"KL Divergence Results:\")\n",
        "print(kl_results)"
      ],
      "metadata": {
        "id": "olm0RYP89-SN",
        "colab": {
          "base_uri": "https://localhost:8080/"
        },
        "outputId": "0f5f9dd8-b09a-4241-ce9f-5e870f20da83"
      },
      "execution_count": null,
      "outputs": [
        {
          "output_type": "stream",
          "name": "stdout",
          "text": [
            "(113130, 10) (113130, 10)\n",
            "0.4852279555622918\n",
            "0.474036286285225\n",
            "0.1876984601534289\n",
            "0.44966887504583986\n",
            "0.2530056852486972\n",
            "0.4728836247111148\n",
            "0.6521579490880941\n",
            "0.17002787425002172\n",
            "0.23972583890384996\n",
            "0.23945477508683838\n",
            "Wasserstein Distance Results:\n",
            "{'seq_temporal_PAR (�mol/m�/s)': 0.4852279555622918, 'seq_temporal_SWDR (W/m�)': 0.474036286285225, 'seq_temporal_T (degC)': 0.1876984601534289, 'seq_temporal_Tdew (degC)': 0.44966887504583986, 'seq_temporal_VPmax (mbar)': 0.2530056852486972, 'seq_temporal_max. PAR (�mol/m�/s)': 0.4728836247111148, 'seq_temporal_p (mbar)': 0.6521579490880941, 'seq_temporal_raining (s)': 0.17002787425002172, 'seq_temporal_sh (g/kg)': 0.23972583890384996, 'seq_temporal_wv (m/s)': 0.23945477508683838}\n",
            "4.242986387961396\n",
            "3.845901913908606\n",
            "10.411177489686091\n",
            "11.515623165165554\n",
            "6.884882158379057\n",
            "3.383822733621905\n",
            "11.367472776635818\n",
            "0.5021326971410645\n",
            "10.617129494327695\n",
            "8.683382758410538\n",
            "KL Divergence Results:\n",
            "{'seq_temporal_PAR (�mol/m�/s)': 4.242986387961396, 'seq_temporal_SWDR (W/m�)': 3.845901913908606, 'seq_temporal_T (degC)': 10.411177489686091, 'seq_temporal_Tdew (degC)': 11.515623165165554, 'seq_temporal_VPmax (mbar)': 6.884882158379057, 'seq_temporal_max. PAR (�mol/m�/s)': 3.383822733621905, 'seq_temporal_p (mbar)': 11.367472776635818, 'seq_temporal_raining (s)': 0.5021326971410645, 'seq_temporal_sh (g/kg)': 10.617129494327695, 'seq_temporal_wv (m/s)': 8.683382758410538}\n"
          ]
        }
      ]
    },
    {
      "cell_type": "markdown",
      "source": [
        "# LSTM downstream"
      ],
      "metadata": {
        "id": "UpJLIRUZChiz"
      }
    },
    {
      "cell_type": "code",
      "source": [],
      "metadata": {
        "id": "OhcWWnI8JCF1"
      },
      "execution_count": null,
      "outputs": []
    }
  ]
}