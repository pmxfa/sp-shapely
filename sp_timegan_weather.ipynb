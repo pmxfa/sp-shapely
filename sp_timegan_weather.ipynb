{
  "nbformat": 4,
  "nbformat_minor": 0,
  "metadata": {
    "colab": {
      "provenance": [],
      "gpuType": "L4",
      "authorship_tag": "ABX9TyMc2Bhly53/9XGJmtbmSfb8",
      "include_colab_link": true
    },
    "kernelspec": {
      "name": "python3",
      "display_name": "Python 3"
    },
    "language_info": {
      "name": "python"
    },
    "accelerator": "GPU"
  },
  "cells": [
    {
      "cell_type": "markdown",
      "metadata": {
        "id": "view-in-github",
        "colab_type": "text"
      },
      "source": [
        "<a href=\"https://colab.research.google.com/github/pmxfa/sp-shapely/blob/main/sp_timegan_weather.ipynb\" target=\"_parent\"><img src=\"https://colab.research.google.com/assets/colab-badge.svg\" alt=\"Open In Colab\"/></a>"
      ]
    },
    {
      "cell_type": "code",
      "execution_count": null,
      "metadata": {
        "id": "oaMLghK_ipz1",
        "collapsed": true
      },
      "outputs": [],
      "source": [
        "!pip install synthcity"
      ]
    },
    {
      "cell_type": "markdown",
      "source": [
        "# Training"
      ],
      "metadata": {
        "id": "NcwQ6Yo09JC8"
      }
    },
    {
      "cell_type": "code",
      "source": [
        "from google.colab import drive\n",
        "drive.mount('/content/drive')\n",
        "\n",
        "import sys\n",
        "import warnings\n",
        "import pandas as pd\n",
        "import numpy as np\n",
        "from sklearn.preprocessing import MinMaxScaler\n",
        "\n",
        "import synthcity.logger as log\n",
        "from synthcity.plugins import Plugins\n",
        "from synthcity.plugins.core.dataloader import TimeSeriesDataLoader\n",
        "from synthcity.utils.serialization import save_to_file, load_from_file\n",
        "\n",
        "log.add(sink=sys.stderr, level=\"INFO\")"
      ],
      "metadata": {
        "id": "kfDi7FQF9LIv",
        "colab": {
          "base_uri": "https://localhost:8080/"
        },
        "outputId": "a7cd13dd-ad61-48c3-efcb-caaecb73da7e",
        "collapsed": true
      },
      "execution_count": 2,
      "outputs": [
        {
          "output_type": "stream",
          "name": "stdout",
          "text": [
            "Drive already mounted at /content/drive; to attempt to forcibly remount, call drive.mount(\"/content/drive\", force_remount=True).\n",
            "[KeOps] Compiling cuda jit compiler engine ... OK\n",
            "[pyKeOps] Compiling nvrtc binder for python ... OK\n"
          ]
        }
      ]
    },
    {
      "cell_type": "markdown",
      "source": [
        "## preprocessing"
      ],
      "metadata": {
        "id": "ZNOCXbWLpr6y"
      }
    },
    {
      "cell_type": "code",
      "source": [
        "# Define file path\n",
        "file_path = \"/content/drive/Shareddrives/sp_env/datasets/Weather/weather.csv\"\n",
        "\n",
        "df = pd.read_csv(file_path)\n",
        "print(df.head())\n",
        "print(df.info())\n",
        "print('missing values: \\n', df.isnull().sum())"
      ],
      "metadata": {
        "id": "DCLsmN-F9NGv",
        "colab": {
          "base_uri": "https://localhost:8080/"
        },
        "outputId": "4770de02-2281-4e23-ee5e-d09ded6d8dc5"
      },
      "execution_count": 3,
      "outputs": [
        {
          "output_type": "stream",
          "name": "stdout",
          "text": [
            "                  date  p (mbar)  T (degC)  Tpot (K)  Tdew (degC)  rh (%)  \\\n",
            "0  2020-01-01 00:10:00   1008.89      0.71    273.18        -1.33    86.1   \n",
            "1  2020-01-01 00:20:00   1008.76      0.75    273.22        -1.44    85.2   \n",
            "2  2020-01-01 00:30:00   1008.66      0.73    273.21        -1.48    85.1   \n",
            "3  2020-01-01 00:40:00   1008.64      0.37    272.86        -1.64    86.3   \n",
            "4  2020-01-01 00:50:00   1008.61      0.33    272.82        -1.50    87.4   \n",
            "\n",
            "   VPmax (mbar)  VPact (mbar)  VPdef (mbar)  sh (g/kg)  ...  wv (m/s)  \\\n",
            "0          6.43          5.54          0.89       3.42  ...      1.02   \n",
            "1          6.45          5.49          0.95       3.39  ...      0.43   \n",
            "2          6.44          5.48          0.96       3.39  ...      0.61   \n",
            "3          6.27          5.41          0.86       3.35  ...      1.11   \n",
            "4          6.26          5.47          0.79       3.38  ...      0.49   \n",
            "\n",
            "   max. wv (m/s)  wd (deg)  rain (mm)  raining (s)  SWDR (W/m�)  \\\n",
            "0           1.60     224.3        0.0          0.0          0.0   \n",
            "1           0.84     206.8        0.0          0.0          0.0   \n",
            "2           1.48     197.1        0.0          0.0          0.0   \n",
            "3           1.48     206.4        0.0          0.0          0.0   \n",
            "4           1.40     209.6        0.0          0.0          0.0   \n",
            "\n",
            "   PAR (�mol/m�/s)  max. PAR (�mol/m�/s)  Tlog (degC)     OT  \n",
            "0              0.0                   0.0        11.45  428.1  \n",
            "1              0.0                   0.0        11.51  428.0  \n",
            "2              0.0                   0.0        11.60  427.6  \n",
            "3              0.0                   0.0        11.70  430.0  \n",
            "4              0.0                   0.0        11.81  432.2  \n",
            "\n",
            "[5 rows x 22 columns]\n",
            "<class 'pandas.core.frame.DataFrame'>\n",
            "RangeIndex: 52696 entries, 0 to 52695\n",
            "Data columns (total 22 columns):\n",
            " #   Column                Non-Null Count  Dtype  \n",
            "---  ------                --------------  -----  \n",
            " 0   date                  52696 non-null  object \n",
            " 1   p (mbar)              52696 non-null  float64\n",
            " 2   T (degC)              52696 non-null  float64\n",
            " 3   Tpot (K)              52696 non-null  float64\n",
            " 4   Tdew (degC)           52696 non-null  float64\n",
            " 5   rh (%)                52696 non-null  float64\n",
            " 6   VPmax (mbar)          52696 non-null  float64\n",
            " 7   VPact (mbar)          52696 non-null  float64\n",
            " 8   VPdef (mbar)          52696 non-null  float64\n",
            " 9   sh (g/kg)             52696 non-null  float64\n",
            " 10  H2OC (mmol/mol)       52696 non-null  float64\n",
            " 11  rho (g/m**3)          52696 non-null  float64\n",
            " 12  wv (m/s)              52696 non-null  float64\n",
            " 13  max. wv (m/s)         52696 non-null  float64\n",
            " 14  wd (deg)              52696 non-null  float64\n",
            " 15  rain (mm)             52696 non-null  float64\n",
            " 16  raining (s)           52696 non-null  float64\n",
            " 17  SWDR (W/m�)           52696 non-null  float64\n",
            " 18  PAR (�mol/m�/s)       52696 non-null  float64\n",
            " 19  max. PAR (�mol/m�/s)  52696 non-null  float64\n",
            " 20  Tlog (degC)           52696 non-null  float64\n",
            " 21  OT                    52696 non-null  float64\n",
            "dtypes: float64(21), object(1)\n",
            "memory usage: 8.8+ MB\n",
            "None\n",
            "missing values: \n",
            " date                    0\n",
            "p (mbar)                0\n",
            "T (degC)                0\n",
            "Tpot (K)                0\n",
            "Tdew (degC)             0\n",
            "rh (%)                  0\n",
            "VPmax (mbar)            0\n",
            "VPact (mbar)            0\n",
            "VPdef (mbar)            0\n",
            "sh (g/kg)               0\n",
            "H2OC (mmol/mol)         0\n",
            "rho (g/m**3)            0\n",
            "wv (m/s)                0\n",
            "max. wv (m/s)           0\n",
            "wd (deg)                0\n",
            "rain (mm)               0\n",
            "raining (s)             0\n",
            "SWDR (W/m�)             0\n",
            "PAR (�mol/m�/s)         0\n",
            "max. PAR (�mol/m�/s)    0\n",
            "Tlog (degC)             0\n",
            "OT                      0\n",
            "dtype: int64\n"
          ]
        }
      ]
    },
    {
      "cell_type": "code",
      "source": [
        "# Set seed for reproducibility\n",
        "np.random.seed(42)\n",
        "\n",
        "# Convert 'date' to datetime and set as index (preserves chronological order)\n",
        "df['date'] = pd.to_datetime(df['date'])\n",
        "df.set_index('date', inplace=True)\n",
        "df.sort_index(inplace=True)\n",
        "\n",
        "# Exclude 'date' from feature selection (it's now the index anyway)\n",
        "columns = df.columns  # 'date' is no longer in df.columns\n",
        "selected_features = np.random.choice(columns, size=10, replace=False)\n",
        "\n",
        "print(f\"Selected features: {selected_features}\")\n",
        "\n",
        "# Keep only the selected features\n",
        "df = df[selected_features]"
      ],
      "metadata": {
        "colab": {
          "base_uri": "https://localhost:8080/"
        },
        "id": "m36lw5xogSIN",
        "outputId": "a5cee684-69e3-47b3-8982-a1d86cae778f"
      },
      "execution_count": 4,
      "outputs": [
        {
          "output_type": "stream",
          "name": "stdout",
          "text": [
            "Selected features: ['p (mbar)' 'PAR (�mol/m�/s)' 'raining (s)' 'T (degC)' 'sh (g/kg)'\n",
            " 'VPmax (mbar)' 'wv (m/s)' 'Tdew (degC)' 'max. PAR (�mol/m�/s)'\n",
            " 'SWDR (W/m�)']\n"
          ]
        }
      ]
    },
    {
      "cell_type": "code",
      "source": [
        "# Keep the latest 5000 rows\n",
        "df_latest = df.tail(5000)\n",
        "\n",
        "# Train-test split: 70% for training (for TimeGAN), 30% for testing (TSTR)\n",
        "train_size = int(0.7 * len(df_latest))\n",
        "df_train = df_latest.iloc[:train_size]\n",
        "df_test = df_latest.iloc[train_size:]  # you might use this later for TSTR\n",
        "\n",
        "# Normalize the data using MinMaxScaler\n",
        "scaler = MinMaxScaler()\n",
        "scaled_train = scaler.fit_transform(df_train)\n",
        "df_scaled_train = pd.DataFrame(scaled_train, columns=df_train.columns, index=df_train.index)\n",
        "scaled_test = scaler.transform(df_test)\n",
        "df_scaled_test = pd.DataFrame(scaled_test, columns=df_test.columns, index=df_test.index)\n",
        "\n",
        "# Sequence length for time-series data (dataset = per 10 mins, 36 = 6 hrs)\n",
        "sequence_length = 36\n",
        "temporal_data = []\n",
        "observation_times = []\n",
        "\n",
        "# Generate sequences from df_scaled_train only\n",
        "for start in range(len(df_scaled_train) - sequence_length + 1):\n",
        "    sequence = df_scaled_train.iloc[start:start + sequence_length].reset_index(drop=True)\n",
        "    temporal_data.append(sequence)\n",
        "    observation_times.append(list(range(sequence_length)))  # relative time within the window\n",
        "\n",
        "# Dummy outcome for TimeGAN (can be used in DataLoader)\n",
        "dummy_outcome = pd.DataFrame(np.zeros(len(temporal_data)), columns=[\"outcome\"])\n",
        "\n",
        "# --- Create DataLoader for TimeGAN ---\n",
        "loader = TimeSeriesDataLoader(\n",
        "    temporal_data=temporal_data,\n",
        "    observation_times=observation_times,\n",
        "    static_data=None,\n",
        "    outcome=dummy_outcome,\n",
        ")\n",
        "\n",
        "# Print the loader info\n",
        "print(f\"TimeSeriesDataLoader created with {len(temporal_data)} sequences\")"
      ],
      "metadata": {
        "id": "siWRiBtn9O0V",
        "colab": {
          "base_uri": "https://localhost:8080/"
        },
        "outputId": "a0c300b5-8d97-4f66-f4f0-320dfc4f6cff"
      },
      "execution_count": 5,
      "outputs": [
        {
          "output_type": "stream",
          "name": "stdout",
          "text": [
            "TimeSeriesDataLoader created with 3465 sequences\n"
          ]
        }
      ]
    },
    {
      "cell_type": "code",
      "source": [
        "print(len(df_scaled_train))  # Check the length of the dataframe\n",
        "print(loader.dataframe())"
      ],
      "metadata": {
        "id": "FmZe08FM9Rd0",
        "colab": {
          "base_uri": "https://localhost:8080/"
        },
        "outputId": "29c8334a-9fd9-4346-f39b-368c577c3ddf"
      },
      "execution_count": 6,
      "outputs": [
        {
          "output_type": "stream",
          "name": "stdout",
          "text": [
            "3500\n",
            "        seq_id  seq_time_id  seq_temporal_PAR (�mol/m�/s)  \\\n",
            "0            0            0                      0.000000   \n",
            "1            0            1                      0.000000   \n",
            "2            0            2                      0.000000   \n",
            "3            0            3                      0.000000   \n",
            "4            0            4                      0.000000   \n",
            "...        ...          ...                           ...   \n",
            "124735    3464           31                      0.379520   \n",
            "124736    3464           32                      0.396154   \n",
            "124737    3464           33                      0.397787   \n",
            "124738    3464           34                      0.451815   \n",
            "124739    3464           35                      0.408922   \n",
            "\n",
            "        seq_temporal_SWDR (W/m�)  seq_temporal_T (degC)  \\\n",
            "0                       0.000000               0.114042   \n",
            "1                       0.000000               0.127230   \n",
            "2                       0.000000               0.148177   \n",
            "3                       0.000000               0.150504   \n",
            "4                       0.000000               0.149728   \n",
            "...                          ...                    ...   \n",
            "124735                  0.341668               0.576416   \n",
            "124736                  0.359281               0.577192   \n",
            "124737                  0.362148               0.577967   \n",
            "124738                  0.419480               0.589604   \n",
            "124739                  0.379857               0.605120   \n",
            "\n",
            "        seq_temporal_Tdew (degC)  seq_temporal_VPmax (mbar)  \\\n",
            "0                       0.391513                   0.077118   \n",
            "1                       0.397918                   0.087231   \n",
            "2                       0.403523                   0.102402   \n",
            "3                       0.403523                   0.103666   \n",
            "4                       0.409127                   0.103666   \n",
            "...                          ...                        ...   \n",
            "124735                  0.741393                   0.479140   \n",
            "124736                  0.742994                   0.479140   \n",
            "124737                  0.744596                   0.480405   \n",
            "124738                  0.751001                   0.493047   \n",
            "124739                  0.760608                   0.508217   \n",
            "\n",
            "        seq_temporal_max. PAR (�mol/m�/s)  seq_temporal_p (mbar)  \\\n",
            "0                                0.000000               0.837838   \n",
            "1                                0.000000               0.837838   \n",
            "2                                0.000000               0.840744   \n",
            "3                                0.000000               0.841325   \n",
            "4                                0.000000               0.839872   \n",
            "...                                   ...                    ...   \n",
            "124735                           0.332190               0.856437   \n",
            "124736                           0.339379               0.855856   \n",
            "124737                           0.349280               0.854693   \n",
            "124738                           0.385717               0.854403   \n",
            "124739                           0.357129               0.852950   \n",
            "\n",
            "        seq_temporal_raining (s)  seq_temporal_sh (g/kg)  \\\n",
            "0                            0.0                0.292105   \n",
            "1                            0.0                0.297368   \n",
            "2                            0.0                0.302632   \n",
            "3                            0.0                0.302632   \n",
            "4                            0.0                0.307895   \n",
            "...                          ...                     ...   \n",
            "124735                       0.0                0.655263   \n",
            "124736                       0.0                0.657895   \n",
            "124737                       0.0                0.657895   \n",
            "124738                       0.0                0.665789   \n",
            "124739                       0.0                0.676316   \n",
            "\n",
            "        seq_temporal_wv (m/s)  seq_out_outcome  \n",
            "0                    0.132780              0.0  \n",
            "1                    0.055325              0.0  \n",
            "2                    0.051176              0.0  \n",
            "3                    0.110650              0.0  \n",
            "4                    0.087137              0.0  \n",
            "...                       ...              ...  \n",
            "124735               0.412172              0.0  \n",
            "124736               0.420470              0.0  \n",
            "124737               0.388658              0.0  \n",
            "124738               0.271093              0.0  \n",
            "124739               0.312586              0.0  \n",
            "\n",
            "[124740 rows x 13 columns]\n"
          ]
        }
      ]
    },
    {
      "cell_type": "code",
      "source": [
        "hparams = {\n",
        "          \"mode\": \"LSTM\", # default mode = RNN;\n",
        "          \"dataloader_sampling_strategy\": \"none\" # default = imbalanced_time_censoring\n",
        "}`\n",
        "# Load TimeGAN with custom parameters\n",
        "syn_model = Plugins().get(\"timegan\", **hparams)"
      ],
      "metadata": {
        "id": "oYqRdbxl9W74",
        "colab": {
          "base_uri": "https://localhost:8080/"
        },
        "outputId": "787ad093-aef6-4f73-88b6-36f1e7d1b23d"
      },
      "execution_count": 23,
      "outputs": [
        {
          "output_type": "stream",
          "name": "stderr",
          "text": [
            "[2025-05-07T10:35:02.239810+0000][3576][CRITICAL] module disabled: /usr/local/lib/python3.11/dist-packages/synthcity/plugins/generic/plugin_goggle.py\n"
          ]
        }
      ]
    },
    {
      "cell_type": "code",
      "source": [
        "# --- Print all parameters of initialized model ---\n",
        "for attr in dir(syn_model):\n",
        "    if not attr.startswith(\"_\") and not callable(getattr(syn_model, attr)):\n",
        "        print(f\"{attr}: {getattr(syn_model, attr)}\")"
      ],
      "metadata": {
        "id": "y9ZVw8pT9Y_Q",
        "colab": {
          "base_uri": "https://localhost:8080/"
        },
        "outputId": "e1f21e42-931d-41e4-bca8-3c6e67c5163e"
      },
      "execution_count": 24,
      "outputs": [
        {
          "output_type": "stream",
          "name": "stdout",
          "text": [
            "batch_size: 64\n",
            "class_name: TimeGANPlugin\n",
            "clipping_value: 0\n",
            "compress_dataset: False\n",
            "dataloader_sampling_strategy: none\n",
            "device: cuda\n",
            "discriminator_batch_norm: False\n",
            "discriminator_dropout: 0.1\n",
            "discriminator_loss: None\n",
            "discriminator_lr: 0.001\n",
            "discriminator_n_iter: 1\n",
            "discriminator_n_layers_hidden: 3\n",
            "discriminator_n_units_hidden: 300\n",
            "discriminator_nonlin: leaky_relu\n",
            "discriminator_weight_decay: 0.001\n",
            "embedding_penalty: 10\n",
            "encoder: None\n",
            "encoder_max_clusters: 20\n",
            "expecting_conditional: False\n",
            "fitted: False\n",
            "gamma_penalty: 1\n",
            "generator_batch_norm: False\n",
            "generator_dropout: 0.01\n",
            "generator_loss: None\n",
            "generator_lr: 0.001\n",
            "generator_n_layers_hidden: 2\n",
            "generator_n_units_hidden: 150\n",
            "generator_nonlin: leaky_relu\n",
            "generator_nonlin_out_continuous: tanh\n",
            "generator_nonlin_out_discrete: softmax\n",
            "generator_residual: True\n",
            "generator_weight_decay: 0.001\n",
            "mode: LSTM\n",
            "module_name: synthcity.plugins.time_series.plugin_timegan\n",
            "module_relative_path: ../time_series/plugin_timegan.py\n",
            "moments_penalty: 100\n",
            "n_iter: 1000\n",
            "n_iter_print: 10\n",
            "outcome_encoder: TabularEncoder(cat_encoder_params={'handle_unknown': 'ignore',\n",
            "                                   'sparse_output': False},\n",
            "               categorical_encoder='onehot',\n",
            "               cont_encoder_params={'n_components': 20},\n",
            "               continuous_encoder='bayesian_gmm', max_clusters=20)\n",
            "random_state: 0\n",
            "sampling_patience: 500\n",
            "sampling_strategy: marginal\n",
            "strict: True\n",
            "use_horizon_condition: True\n",
            "workspace: workspace\n"
          ]
        }
      ]
    },
    {
      "cell_type": "markdown",
      "source": [
        "## fitting the model"
      ],
      "metadata": {
        "id": "IKG0O5Pg9hpG"
      }
    },
    {
      "cell_type": "code",
      "source": [
        "print(loader.shape)\n",
        "\n",
        "# Train the model\n",
        "syn_model.fit(loader)"
      ],
      "metadata": {
        "id": "-BKXe4G19l_8",
        "colab": {
          "base_uri": "https://localhost:8080/"
        },
        "outputId": "8c945dca-1ef4-4c54-e0e4-da528a4f85e9"
      },
      "execution_count": 25,
      "outputs": [
        {
          "output_type": "stream",
          "name": "stdout",
          "text": [
            "(124740, 13)\n"
          ]
        },
        {
          "output_type": "stream",
          "name": "stderr",
          "text": [
            "100%|██████████| 1000/1000 [2:53:03<00:00, 10.38s/it]\n"
          ]
        },
        {
          "output_type": "execute_result",
          "data": {
            "text/plain": [
              "<synthcity.plugins.time_series.plugin_timegan.TimeGANPlugin at 0x7b6af6059b90>"
            ]
          },
          "metadata": {},
          "execution_count": 25
        }
      ]
    },
    {
      "cell_type": "code",
      "source": [
        "#@title optional: generate data from saved model\n",
        "from synthcity.utils.serialization import save_to_file, load_from_file\n",
        "\n",
        "# Save model to drive\n",
        "save_to_file('/content/drive/Shareddrives/sp_env/saved_models/GAN_Weather.pkl', syn_model)"
      ],
      "metadata": {
        "id": "hsxzIKNu22GC"
      },
      "execution_count": 26,
      "outputs": []
    },
    {
      "cell_type": "code",
      "source": [
        "# --- Generate Synthetic Data ---\n",
        "n_samples = len(temporal_data)\n",
        "print(\"n_samples:\", n_samples)\n",
        "syn_data = syn_model.generate(count=n_samples)\n",
        "print(syn_data.shape)"
      ],
      "metadata": {
        "id": "JviqEDru9nMO",
        "colab": {
          "base_uri": "https://localhost:8080/"
        },
        "outputId": "b3dc8144-9334-41a9-ca65-d198fbe1d8c4"
      },
      "execution_count": 27,
      "outputs": [
        {
          "output_type": "stream",
          "name": "stdout",
          "text": [
            "n_samples: 3465\n",
            "(75161, 13)\n"
          ]
        }
      ]
    },
    {
      "cell_type": "code",
      "source": [
        "# --- Save with automated format ---\n",
        "import datetime\n",
        "import os\n",
        "# Get the current date and time\n",
        "now = datetime.datetime.now()\n",
        "timestamp = now.strftime(\"%m%d%y-%H%M%S\")  # MMDDYY-HHMMSS format\n",
        "\n",
        "# Define the base directory\n",
        "base_dir = \"/content/drive/Shareddrives/sp_env/synthetic_datasets/TimeGAN/weather\"  #CHANGE THIS\n",
        "if not os.path.exists(base_dir):\n",
        "    os.makedirs(base_dir)\n",
        "\n",
        "# Construct the filename\n",
        "model_name = type(syn_model).__name__.lower() # Get model name dynamically\n",
        "filename = f\"{timestamp}-{model_name}-n_3500.csv\"\n",
        "filepath = os.path.join(base_dir, filename)\n",
        "\n",
        "# Save the data\n",
        "df_syn = syn_data.dataframe()\n",
        "df_syn.to_csv(filepath, index=False)\n",
        "\n",
        "print(f\"Synthetic data saved to: {filepath}\")"
      ],
      "metadata": {
        "id": "J4rF0HY29o65",
        "colab": {
          "base_uri": "https://localhost:8080/"
        },
        "outputId": "57b75242-d93c-4612-fcf8-1cc5f94a7f42"
      },
      "execution_count": 28,
      "outputs": [
        {
          "output_type": "stream",
          "name": "stdout",
          "text": [
            "Synthetic data saved to: /content/drive/Shareddrives/sp_env/synthetic_datasets/TimeGAN/weather/050725-134006-timeganplugin-n_3500.csv\n"
          ]
        }
      ]
    },
    {
      "cell_type": "markdown",
      "source": [
        "# Evaluation"
      ],
      "metadata": {
        "id": "TICnBaoH9r8Z"
      }
    },
    {
      "cell_type": "markdown",
      "source": [
        "## Prerequisites"
      ],
      "metadata": {
        "id": "QlHAzxfV9uXf"
      }
    },
    {
      "cell_type": "code",
      "source": [
        "loader"
      ],
      "metadata": {
        "colab": {
          "base_uri": "https://localhost:8080/",
          "height": 461
        },
        "id": "bPHMTBRegEWp",
        "outputId": "ec128d7b-7977-41f4-8d41-acd3af6f48ae"
      },
      "execution_count": 29,
      "outputs": [
        {
          "output_type": "execute_result",
          "data": {
            "text/plain": [
              "        seq_id  seq_time_id  seq_temporal_PAR (�mol/m�/s)  \\\n",
              "0            0            0                      0.000000   \n",
              "1            0            1                      0.000000   \n",
              "2            0            2                      0.000000   \n",
              "3            0            3                      0.000000   \n",
              "4            0            4                      0.000000   \n",
              "...        ...          ...                           ...   \n",
              "124735    3464           31                      0.379520   \n",
              "124736    3464           32                      0.396154   \n",
              "124737    3464           33                      0.397787   \n",
              "124738    3464           34                      0.451815   \n",
              "124739    3464           35                      0.408922   \n",
              "\n",
              "        seq_temporal_SWDR (W/m�)  seq_temporal_T (degC)  \\\n",
              "0                       0.000000               0.114042   \n",
              "1                       0.000000               0.127230   \n",
              "2                       0.000000               0.148177   \n",
              "3                       0.000000               0.150504   \n",
              "4                       0.000000               0.149728   \n",
              "...                          ...                    ...   \n",
              "124735                  0.341668               0.576416   \n",
              "124736                  0.359281               0.577192   \n",
              "124737                  0.362148               0.577967   \n",
              "124738                  0.419480               0.589604   \n",
              "124739                  0.379857               0.605120   \n",
              "\n",
              "        seq_temporal_Tdew (degC)  seq_temporal_VPmax (mbar)  \\\n",
              "0                       0.391513                   0.077118   \n",
              "1                       0.397918                   0.087231   \n",
              "2                       0.403523                   0.102402   \n",
              "3                       0.403523                   0.103666   \n",
              "4                       0.409127                   0.103666   \n",
              "...                          ...                        ...   \n",
              "124735                  0.741393                   0.479140   \n",
              "124736                  0.742994                   0.479140   \n",
              "124737                  0.744596                   0.480405   \n",
              "124738                  0.751001                   0.493047   \n",
              "124739                  0.760608                   0.508217   \n",
              "\n",
              "        seq_temporal_max. PAR (�mol/m�/s)  seq_temporal_p (mbar)  \\\n",
              "0                                0.000000               0.837838   \n",
              "1                                0.000000               0.837838   \n",
              "2                                0.000000               0.840744   \n",
              "3                                0.000000               0.841325   \n",
              "4                                0.000000               0.839872   \n",
              "...                                   ...                    ...   \n",
              "124735                           0.332190               0.856437   \n",
              "124736                           0.339379               0.855856   \n",
              "124737                           0.349280               0.854693   \n",
              "124738                           0.385717               0.854403   \n",
              "124739                           0.357129               0.852950   \n",
              "\n",
              "        seq_temporal_raining (s)  seq_temporal_sh (g/kg)  \\\n",
              "0                            0.0                0.292105   \n",
              "1                            0.0                0.297368   \n",
              "2                            0.0                0.302632   \n",
              "3                            0.0                0.302632   \n",
              "4                            0.0                0.307895   \n",
              "...                          ...                     ...   \n",
              "124735                       0.0                0.655263   \n",
              "124736                       0.0                0.657895   \n",
              "124737                       0.0                0.657895   \n",
              "124738                       0.0                0.665789   \n",
              "124739                       0.0                0.676316   \n",
              "\n",
              "        seq_temporal_wv (m/s)  seq_out_outcome  \n",
              "0                    0.132780              0.0  \n",
              "1                    0.055325              0.0  \n",
              "2                    0.051176              0.0  \n",
              "3                    0.110650              0.0  \n",
              "4                    0.087137              0.0  \n",
              "...                       ...              ...  \n",
              "124735               0.412172              0.0  \n",
              "124736               0.420470              0.0  \n",
              "124737               0.388658              0.0  \n",
              "124738               0.271093              0.0  \n",
              "124739               0.312586              0.0  \n",
              "\n",
              "[124740 rows x 13 columns]"
            ],
            "text/html": [
              "<div>\n",
              "<style scoped>\n",
              "    .dataframe tbody tr th:only-of-type {\n",
              "        vertical-align: middle;\n",
              "    }\n",
              "\n",
              "    .dataframe tbody tr th {\n",
              "        vertical-align: top;\n",
              "    }\n",
              "\n",
              "    .dataframe thead th {\n",
              "        text-align: right;\n",
              "    }\n",
              "</style>\n",
              "<table border=\"1\" class=\"dataframe\">\n",
              "  <thead>\n",
              "    <tr style=\"text-align: right;\">\n",
              "      <th></th>\n",
              "      <th>seq_id</th>\n",
              "      <th>seq_time_id</th>\n",
              "      <th>seq_temporal_PAR (�mol/m�/s)</th>\n",
              "      <th>seq_temporal_SWDR (W/m�)</th>\n",
              "      <th>seq_temporal_T (degC)</th>\n",
              "      <th>seq_temporal_Tdew (degC)</th>\n",
              "      <th>seq_temporal_VPmax (mbar)</th>\n",
              "      <th>seq_temporal_max. PAR (�mol/m�/s)</th>\n",
              "      <th>seq_temporal_p (mbar)</th>\n",
              "      <th>seq_temporal_raining (s)</th>\n",
              "      <th>seq_temporal_sh (g/kg)</th>\n",
              "      <th>seq_temporal_wv (m/s)</th>\n",
              "      <th>seq_out_outcome</th>\n",
              "    </tr>\n",
              "  </thead>\n",
              "  <tbody>\n",
              "    <tr>\n",
              "      <th>0</th>\n",
              "      <td>0</td>\n",
              "      <td>0</td>\n",
              "      <td>0.000000</td>\n",
              "      <td>0.000000</td>\n",
              "      <td>0.114042</td>\n",
              "      <td>0.391513</td>\n",
              "      <td>0.077118</td>\n",
              "      <td>0.000000</td>\n",
              "      <td>0.837838</td>\n",
              "      <td>0.0</td>\n",
              "      <td>0.292105</td>\n",
              "      <td>0.132780</td>\n",
              "      <td>0.0</td>\n",
              "    </tr>\n",
              "    <tr>\n",
              "      <th>1</th>\n",
              "      <td>0</td>\n",
              "      <td>1</td>\n",
              "      <td>0.000000</td>\n",
              "      <td>0.000000</td>\n",
              "      <td>0.127230</td>\n",
              "      <td>0.397918</td>\n",
              "      <td>0.087231</td>\n",
              "      <td>0.000000</td>\n",
              "      <td>0.837838</td>\n",
              "      <td>0.0</td>\n",
              "      <td>0.297368</td>\n",
              "      <td>0.055325</td>\n",
              "      <td>0.0</td>\n",
              "    </tr>\n",
              "    <tr>\n",
              "      <th>2</th>\n",
              "      <td>0</td>\n",
              "      <td>2</td>\n",
              "      <td>0.000000</td>\n",
              "      <td>0.000000</td>\n",
              "      <td>0.148177</td>\n",
              "      <td>0.403523</td>\n",
              "      <td>0.102402</td>\n",
              "      <td>0.000000</td>\n",
              "      <td>0.840744</td>\n",
              "      <td>0.0</td>\n",
              "      <td>0.302632</td>\n",
              "      <td>0.051176</td>\n",
              "      <td>0.0</td>\n",
              "    </tr>\n",
              "    <tr>\n",
              "      <th>3</th>\n",
              "      <td>0</td>\n",
              "      <td>3</td>\n",
              "      <td>0.000000</td>\n",
              "      <td>0.000000</td>\n",
              "      <td>0.150504</td>\n",
              "      <td>0.403523</td>\n",
              "      <td>0.103666</td>\n",
              "      <td>0.000000</td>\n",
              "      <td>0.841325</td>\n",
              "      <td>0.0</td>\n",
              "      <td>0.302632</td>\n",
              "      <td>0.110650</td>\n",
              "      <td>0.0</td>\n",
              "    </tr>\n",
              "    <tr>\n",
              "      <th>4</th>\n",
              "      <td>0</td>\n",
              "      <td>4</td>\n",
              "      <td>0.000000</td>\n",
              "      <td>0.000000</td>\n",
              "      <td>0.149728</td>\n",
              "      <td>0.409127</td>\n",
              "      <td>0.103666</td>\n",
              "      <td>0.000000</td>\n",
              "      <td>0.839872</td>\n",
              "      <td>0.0</td>\n",
              "      <td>0.307895</td>\n",
              "      <td>0.087137</td>\n",
              "      <td>0.0</td>\n",
              "    </tr>\n",
              "    <tr>\n",
              "      <th>...</th>\n",
              "      <td>...</td>\n",
              "      <td>...</td>\n",
              "      <td>...</td>\n",
              "      <td>...</td>\n",
              "      <td>...</td>\n",
              "      <td>...</td>\n",
              "      <td>...</td>\n",
              "      <td>...</td>\n",
              "      <td>...</td>\n",
              "      <td>...</td>\n",
              "      <td>...</td>\n",
              "      <td>...</td>\n",
              "      <td>...</td>\n",
              "    </tr>\n",
              "    <tr>\n",
              "      <th>124735</th>\n",
              "      <td>3464</td>\n",
              "      <td>31</td>\n",
              "      <td>0.379520</td>\n",
              "      <td>0.341668</td>\n",
              "      <td>0.576416</td>\n",
              "      <td>0.741393</td>\n",
              "      <td>0.479140</td>\n",
              "      <td>0.332190</td>\n",
              "      <td>0.856437</td>\n",
              "      <td>0.0</td>\n",
              "      <td>0.655263</td>\n",
              "      <td>0.412172</td>\n",
              "      <td>0.0</td>\n",
              "    </tr>\n",
              "    <tr>\n",
              "      <th>124736</th>\n",
              "      <td>3464</td>\n",
              "      <td>32</td>\n",
              "      <td>0.396154</td>\n",
              "      <td>0.359281</td>\n",
              "      <td>0.577192</td>\n",
              "      <td>0.742994</td>\n",
              "      <td>0.479140</td>\n",
              "      <td>0.339379</td>\n",
              "      <td>0.855856</td>\n",
              "      <td>0.0</td>\n",
              "      <td>0.657895</td>\n",
              "      <td>0.420470</td>\n",
              "      <td>0.0</td>\n",
              "    </tr>\n",
              "    <tr>\n",
              "      <th>124737</th>\n",
              "      <td>3464</td>\n",
              "      <td>33</td>\n",
              "      <td>0.397787</td>\n",
              "      <td>0.362148</td>\n",
              "      <td>0.577967</td>\n",
              "      <td>0.744596</td>\n",
              "      <td>0.480405</td>\n",
              "      <td>0.349280</td>\n",
              "      <td>0.854693</td>\n",
              "      <td>0.0</td>\n",
              "      <td>0.657895</td>\n",
              "      <td>0.388658</td>\n",
              "      <td>0.0</td>\n",
              "    </tr>\n",
              "    <tr>\n",
              "      <th>124738</th>\n",
              "      <td>3464</td>\n",
              "      <td>34</td>\n",
              "      <td>0.451815</td>\n",
              "      <td>0.419480</td>\n",
              "      <td>0.589604</td>\n",
              "      <td>0.751001</td>\n",
              "      <td>0.493047</td>\n",
              "      <td>0.385717</td>\n",
              "      <td>0.854403</td>\n",
              "      <td>0.0</td>\n",
              "      <td>0.665789</td>\n",
              "      <td>0.271093</td>\n",
              "      <td>0.0</td>\n",
              "    </tr>\n",
              "    <tr>\n",
              "      <th>124739</th>\n",
              "      <td>3464</td>\n",
              "      <td>35</td>\n",
              "      <td>0.408922</td>\n",
              "      <td>0.379857</td>\n",
              "      <td>0.605120</td>\n",
              "      <td>0.760608</td>\n",
              "      <td>0.508217</td>\n",
              "      <td>0.357129</td>\n",
              "      <td>0.852950</td>\n",
              "      <td>0.0</td>\n",
              "      <td>0.676316</td>\n",
              "      <td>0.312586</td>\n",
              "      <td>0.0</td>\n",
              "    </tr>\n",
              "  </tbody>\n",
              "</table>\n",
              "<p>124740 rows × 13 columns</p>\n",
              "</div>"
            ]
          },
          "metadata": {},
          "execution_count": 29
        }
      ]
    },
    {
      "cell_type": "code",
      "source": [
        "# Define selected columns explicitly\n",
        "selected_columns = ['seq_temporal_PAR (�mol/m�/s)', 'seq_temporal_SWDR (W/m�)', 'seq_temporal_T (degC)',\t'seq_temporal_Tdew (degC)',\t'seq_temporal_VPmax (mbar)',\t'seq_temporal_max. PAR (�mol/m�/s)',\t'seq_temporal_p (mbar)',\t'seq_temporal_raining (s)',\t'seq_temporal_sh (g/kg)',\t'seq_temporal_wv (m/s)']\n",
        "# Ensure real_data and synthetic_data only contain the selected columns\n",
        "real_data = loader.dataframe()[selected_columns].to_numpy()\n",
        "synthetic_data = syn_data.dataframe()[selected_columns].to_numpy()"
      ],
      "metadata": {
        "id": "zUMHadsq9vw8"
      },
      "execution_count": 30,
      "outputs": []
    },
    {
      "cell_type": "code",
      "source": [
        "print(real_data, \"\\n ------------------------------------------------------- \\n\", synthetic_data)\n",
        "print(type(real_data),type(synthetic_data))\n",
        "print(real_data.shape,synthetic_data.shape)"
      ],
      "metadata": {
        "id": "DumXr_Gg9y6U",
        "outputId": "62ff63cb-0fb6-4b60-bb61-ea2f9213fa40",
        "colab": {
          "base_uri": "https://localhost:8080/"
        }
      },
      "execution_count": 31,
      "outputs": [
        {
          "output_type": "stream",
          "name": "stdout",
          "text": [
            "[[0.         0.         0.11404189 ... 0.         0.29210526 0.13278008]\n",
            " [0.         0.         0.12723041 ... 0.         0.29736842 0.05532503]\n",
            " [0.         0.         0.14817688 ... 0.         0.30263158 0.05117566]\n",
            " ...\n",
            " [0.39778664 0.36214804 0.57796742 ... 0.         0.65789474 0.38865837]\n",
            " [0.45181468 0.41948019 0.58960434 ... 0.         0.66578947 0.27109267]\n",
            " [0.40892219 0.37985731 0.60512025 ... 0.         0.67631579 0.31258645]] \n",
            " ------------------------------------------------------- \n",
            " [[0.00000000e+00 0.00000000e+00 6.59008511e-01 ... 0.00000000e+00\n",
            "  4.20039350e-01 1.35567956e-01]\n",
            " [3.76885321e-05 0.00000000e+00 2.42707856e-01 ... 0.00000000e+00\n",
            "  5.04569243e-01 1.35470773e-01]\n",
            " [9.50433284e-06 0.00000000e+00 2.42746615e-01 ... 2.72382253e-06\n",
            "  5.04461608e-01 1.35184309e-01]\n",
            " ...\n",
            " [7.69884213e-05 0.00000000e+00 2.92376809e-01 ... 1.47643289e-05\n",
            "  6.42898767e-01 7.83156616e-02]\n",
            " [8.08675309e-05 0.00000000e+00 6.56675326e-01 ... 8.22913082e-06\n",
            "  6.42783858e-01 2.51136509e-01]\n",
            " [7.23326230e-05 0.00000000e+00 2.62853110e-01 ... 4.92952480e-06\n",
            "  3.44719104e-01 2.21085435e-01]]\n",
            "<class 'numpy.ndarray'> <class 'numpy.ndarray'>\n",
            "(124740, 10) (75161, 10)\n"
          ]
        }
      ]
    },
    {
      "cell_type": "markdown",
      "source": [
        "## Generate distance metrics"
      ],
      "metadata": {
        "id": "0pU8BORS9vWk"
      }
    },
    {
      "cell_type": "markdown",
      "source": [
        "### Helper Functions"
      ],
      "metadata": {
        "id": "DVguOJWi-Fos"
      }
    },
    {
      "cell_type": "code",
      "source": [
        "from scipy.stats import wasserstein_distance, entropy\n",
        "import numpy as np\n",
        "\n",
        "def compute_wasserstein(real_data, synthetic_data, selected_columns):\n",
        "    \"\"\"\n",
        "    Computes Wasserstein Distance between real and synthetic time-series data.\n",
        "\n",
        "    \"\"\"\n",
        "\n",
        "    # Ensure both datasets have the same number of samples\n",
        "    min_length = min(len(real_data), len(synthetic_data))\n",
        "    real_trimmed = real_data[:min_length]  # Keep original order (no random sampling)\n",
        "    synthetic_trimmed = synthetic_data[:min_length]  # Match size\n",
        "    print(real_trimmed.shape,synthetic_trimmed.shape)\n",
        "\n",
        "    wasserstein_results = {}\n",
        "\n",
        "    # Compute Wasserstein Distance for each feature\n",
        "    for i, col in enumerate(selected_columns):\n",
        "        w_dist = wasserstein_distance(real_trimmed[:, i], synthetic_trimmed[:, i])\n",
        "        wasserstein_results[col] = w_dist\n",
        "        print(f\"{w_dist}\")\n",
        "\n",
        "    return wasserstein_results\n",
        "\n",
        "def compute_kl_divergence(real_data, synthetic_data, selected_columns, bins=50):\n",
        "    \"\"\"\n",
        "    Computes KL Divergence between real and synthetic time-series data.\n",
        "\n",
        "    \"\"\"\n",
        "\n",
        "    # Ensure both datasets have the same number of samples\n",
        "    min_length = min(len(real_data), len(synthetic_data))\n",
        "    real_trimmed = real_data[:min_length]  # Keep original order\n",
        "    synthetic_trimmed = synthetic_data[:min_length]  # Match size\n",
        "\n",
        "    kl_results = {}\n",
        "\n",
        "    for i, col in enumerate(selected_columns):\n",
        "        # Compute histogram-based probability distributions\n",
        "        real_hist, _ = np.histogram(real_trimmed[:, i], bins=bins, density=True)\n",
        "        synth_hist, _ = np.histogram(synthetic_trimmed[:, i], bins=bins, density=True)\n",
        "\n",
        "        # Avoid zero probabilities (KL Divergence is undefined for zero values)\n",
        "        real_hist += 1e-10\n",
        "        synth_hist += 1e-10\n",
        "\n",
        "        # Compute KL Divergence\n",
        "        kl_div = entropy(real_hist, synth_hist)\n",
        "        kl_results[col] = kl_div\n",
        "        print(f\"{kl_div}\")\n",
        "\n",
        "    return kl_results"
      ],
      "metadata": {
        "id": "GjGk3_Zx94Ko"
      },
      "execution_count": 32,
      "outputs": []
    },
    {
      "cell_type": "markdown",
      "source": [
        "### Generate Metrics"
      ],
      "metadata": {
        "id": "yLnb7Vqg-IG_"
      }
    },
    {
      "cell_type": "code",
      "source": [
        "# Assuming df_scaled is the DataFrame containing your scaled ETD data\n",
        "\n",
        "# Compute Wasserstein Distance\n",
        "wasserstein_results = compute_wasserstein(real_data, synthetic_data, selected_columns)\n",
        "print(\"Wasserstein Distance Results:\")\n",
        "print(wasserstein_results)\n",
        "\n",
        "# Compute KL Divergence\n",
        "kl_results = compute_kl_divergence(real_data, synthetic_data, selected_columns)\n",
        "print(\"KL Divergence Results:\")\n",
        "print(kl_results)"
      ],
      "metadata": {
        "id": "olm0RYP89-SN",
        "colab": {
          "base_uri": "https://localhost:8080/"
        },
        "outputId": "72d7665d-541e-4aa7-ef46-03718920add9"
      },
      "execution_count": 33,
      "outputs": [
        {
          "output_type": "stream",
          "name": "stdout",
          "text": [
            "(75161, 10) (75161, 10)\n",
            "0.07775767367037037\n",
            "0.07297001506072363\n",
            "0.08057437347286017\n",
            "0.14067274022480525\n",
            "0.046833704824411786\n",
            "0.06984135454614405\n",
            "0.26704808604418634\n",
            "0.03534949833933424\n",
            "0.11284320252244102\n",
            "0.034651670627721703\n",
            "Wasserstein Distance Results:\n",
            "{'seq_temporal_PAR (�mol/m�/s)': 0.07775767367037037, 'seq_temporal_SWDR (W/m�)': 0.07297001506072363, 'seq_temporal_T (degC)': 0.08057437347286017, 'seq_temporal_Tdew (degC)': 0.14067274022480525, 'seq_temporal_VPmax (mbar)': 0.046833704824411786, 'seq_temporal_max. PAR (�mol/m�/s)': 0.06984135454614405, 'seq_temporal_p (mbar)': 0.26704808604418634, 'seq_temporal_raining (s)': 0.03534949833933424, 'seq_temporal_sh (g/kg)': 0.11284320252244102, 'seq_temporal_wv (m/s)': 0.034651670627721703}\n",
            "4.351929148919477\n",
            "4.593972739912829\n",
            "11.371749080496096\n",
            "14.123927023848248\n",
            "10.343157330912709\n",
            "3.6271750571125065\n",
            "10.7397138238509\n",
            "0.6057989368185298\n",
            "13.407676944585818\n",
            "10.602265927820701\n",
            "KL Divergence Results:\n",
            "{'seq_temporal_PAR (�mol/m�/s)': 4.351929148919477, 'seq_temporal_SWDR (W/m�)': 4.593972739912829, 'seq_temporal_T (degC)': 11.371749080496096, 'seq_temporal_Tdew (degC)': 14.123927023848248, 'seq_temporal_VPmax (mbar)': 10.343157330912709, 'seq_temporal_max. PAR (�mol/m�/s)': 3.6271750571125065, 'seq_temporal_p (mbar)': 10.7397138238509, 'seq_temporal_raining (s)': 0.6057989368185298, 'seq_temporal_sh (g/kg)': 13.407676944585818, 'seq_temporal_wv (m/s)': 10.602265927820701}\n"
          ]
        }
      ]
    },
    {
      "cell_type": "markdown",
      "source": [
        "# LSTM downstream"
      ],
      "metadata": {
        "id": "UpJLIRUZChiz"
      }
    },
    {
      "cell_type": "code",
      "source": [
        "real_data = df_scaled_test\n",
        "df_synth = pd.read_csv(filepath)\n",
        "\n",
        "# 2. Drop the unwanted column\n",
        "real_data = real_data.drop(columns=[\"seq_id\", \"seq_time_id\", \"seq_out_outcome\"], errors=\"ignore\")\n",
        "df_synth = df_synth.drop(columns=[\"seq_id\", \"seq_time_id\", \"seq_out_outcome\"], errors=\"ignore\")"
      ],
      "metadata": {
        "id": "V_3FV9QN_Na4"
      },
      "execution_count": 34,
      "outputs": []
    },
    {
      "cell_type": "code",
      "source": [
        "print(f\"real_data: {real_data.shape}, synthetic_data: {df_synth.shape}\")"
      ],
      "metadata": {
        "id": "ZtDTf3pf_SVS",
        "outputId": "7cf25cae-4c57-4ca4-af67-12a5e3e2f476",
        "colab": {
          "base_uri": "https://localhost:8080/"
        }
      },
      "execution_count": 35,
      "outputs": [
        {
          "output_type": "stream",
          "name": "stdout",
          "text": [
            "real_data: (1500, 10), synthetic_data: (75161, 10)\n"
          ]
        }
      ]
    },
    {
      "cell_type": "code",
      "source": [
        "import pandas as pd\n",
        "import numpy as np\n",
        "import torch\n",
        "import torch.nn as nn\n",
        "from torch.utils.data import DataLoader, TensorDataset\n",
        "from sklearn.preprocessing import MinMaxScaler\n",
        "from sklearn.metrics import mean_absolute_error, mean_squared_error"
      ],
      "metadata": {
        "id": "OhcWWnI8JCF1"
      },
      "execution_count": 36,
      "outputs": []
    },
    {
      "cell_type": "code",
      "source": [
        "# Convert to tensors (float32 for PyTorch)\n",
        "data_real = torch.tensor(real_data.values, dtype=torch.float32)\n",
        "data_synth = torch.tensor(df_synth.values, dtype=torch.float32)\n",
        "\n",
        "# ──────── Sequence builder ───────────\n",
        "def make_sequences(data, seq_len):\n",
        "    X, y = [], []\n",
        "    for i in range(len(data) - seq_len):\n",
        "        X.append(data[i:i+seq_len])\n",
        "        y.append(data[i+seq_len])\n",
        "    return torch.stack(X), torch.stack(y)\n",
        "\n",
        "SEQ_LEN = sequence_length\n",
        "\n",
        "# Sequences for synthetic (train)\n",
        "X_train, y_train = make_sequences(data_synth, SEQ_LEN)\n",
        "train_loader = DataLoader(TensorDataset(X_train, y_train), batch_size=32, shuffle=True)\n",
        "\n",
        "# Sequences for real (test)\n",
        "X_test, y_test = make_sequences(data_real, SEQ_LEN)"
      ],
      "metadata": {
        "id": "-P0H2Gq7wvJI"
      },
      "execution_count": 37,
      "outputs": []
    },
    {
      "cell_type": "code",
      "source": [
        "# ─── Model Definition ──────────────────────────────────────\n",
        "class ShallowLSTM(nn.Module):\n",
        "    def __init__(self, input_size, hidden_size=64):\n",
        "        super().__init__()\n",
        "        self.lstm = nn.LSTM(input_size, hidden_size, batch_first=True)\n",
        "        self.linear = nn.Linear(hidden_size, input_size)\n",
        "\n",
        "    def forward(self, x):\n",
        "        _, (hn, _) = self.lstm(x)  # hn shape: (1, batch, hidden_size)\n",
        "        out = self.linear(hn.squeeze(0))  # squeeze to (batch, hidden_size)\n",
        "        return out\n",
        "\n",
        "\n",
        "# ─── Model Init ─────────────────────────────────────────────\n",
        "model = ShallowLSTM(input_size=X_train.shape[2], hidden_size=64)\n",
        "\n",
        "# ─── Optimizer & Loss ───────────────────────────────────────\n",
        "loss_fn = nn.MSELoss()\n",
        "optimizer = torch.optim.Adam(model.parameters(), lr=0.002)\n",
        "\n",
        "# ─── Training ───────────────────────────────────────────────\n",
        "EPOCHS = 50\n",
        "for epoch in range(1, EPOCHS + 1):\n",
        "    model.train()\n",
        "    for xb, yb in train_loader:\n",
        "        pred = model(xb)\n",
        "        loss = loss_fn(pred, yb)\n",
        "        optimizer.zero_grad()\n",
        "        loss.backward()\n",
        "        optimizer.step()\n",
        "\n",
        "    # if epoch % 10 == 0 or epoch == 1:\n",
        "    print(f\"Epoch {epoch}: Train MSE = {loss.item():.6f}\")"
      ],
      "metadata": {
        "colab": {
          "base_uri": "https://localhost:8080/"
        },
        "id": "q78Gb_wzz-NI",
        "outputId": "0e9959d3-8db6-42e7-a966-ca1a5cb421a0"
      },
      "execution_count": 38,
      "outputs": [
        {
          "output_type": "stream",
          "name": "stdout",
          "text": [
            "Epoch 1: Train MSE = 0.011018\n",
            "Epoch 2: Train MSE = 0.012898\n",
            "Epoch 3: Train MSE = 0.011447\n",
            "Epoch 4: Train MSE = 0.005740\n",
            "Epoch 5: Train MSE = 0.010357\n",
            "Epoch 6: Train MSE = 0.006060\n",
            "Epoch 7: Train MSE = 0.006814\n",
            "Epoch 8: Train MSE = 0.008539\n",
            "Epoch 9: Train MSE = 0.007234\n",
            "Epoch 10: Train MSE = 0.007810\n",
            "Epoch 11: Train MSE = 0.007303\n",
            "Epoch 12: Train MSE = 0.014812\n",
            "Epoch 13: Train MSE = 0.008603\n",
            "Epoch 14: Train MSE = 0.007567\n",
            "Epoch 15: Train MSE = 0.014110\n",
            "Epoch 16: Train MSE = 0.014633\n",
            "Epoch 17: Train MSE = 0.009424\n",
            "Epoch 18: Train MSE = 0.013965\n",
            "Epoch 19: Train MSE = 0.007827\n",
            "Epoch 20: Train MSE = 0.009334\n",
            "Epoch 21: Train MSE = 0.007834\n",
            "Epoch 22: Train MSE = 0.012117\n",
            "Epoch 23: Train MSE = 0.007311\n",
            "Epoch 24: Train MSE = 0.007792\n",
            "Epoch 25: Train MSE = 0.008007\n",
            "Epoch 26: Train MSE = 0.011993\n",
            "Epoch 27: Train MSE = 0.013704\n",
            "Epoch 28: Train MSE = 0.011806\n",
            "Epoch 29: Train MSE = 0.010382\n",
            "Epoch 30: Train MSE = 0.010657\n",
            "Epoch 31: Train MSE = 0.007499\n",
            "Epoch 32: Train MSE = 0.007853\n",
            "Epoch 33: Train MSE = 0.008083\n",
            "Epoch 34: Train MSE = 0.014229\n",
            "Epoch 35: Train MSE = 0.014284\n",
            "Epoch 36: Train MSE = 0.011248\n",
            "Epoch 37: Train MSE = 0.008200\n",
            "Epoch 38: Train MSE = 0.009303\n",
            "Epoch 39: Train MSE = 0.007746\n",
            "Epoch 40: Train MSE = 0.010793\n",
            "Epoch 41: Train MSE = 0.009826\n",
            "Epoch 42: Train MSE = 0.012053\n",
            "Epoch 43: Train MSE = 0.005574\n",
            "Epoch 44: Train MSE = 0.007393\n",
            "Epoch 45: Train MSE = 0.011643\n",
            "Epoch 46: Train MSE = 0.017324\n",
            "Epoch 47: Train MSE = 0.011805\n",
            "Epoch 48: Train MSE = 0.011594\n",
            "Epoch 49: Train MSE = 0.010127\n",
            "Epoch 50: Train MSE = 0.011619\n"
          ]
        }
      ]
    },
    {
      "cell_type": "code",
      "source": [
        "model.eval()\n",
        "with torch.no_grad():\n",
        "    preds = model(X_test)\n",
        "    test_mse = loss_fn(preds, y_test).item()\n",
        "    test_mae = mean_absolute_error(y_test.numpy(), preds.numpy())\n",
        "\n",
        "    print(f\"Test MSE: {test_mse:.6f}\")\n",
        "    print(f\"Test MAE: {test_mae:.6f}\")"
      ],
      "metadata": {
        "id": "eP8HubZ800wQ",
        "outputId": "e489d459-f5d3-4bd5-adc2-31542bbc5c63",
        "colab": {
          "base_uri": "https://localhost:8080/"
        }
      },
      "execution_count": 39,
      "outputs": [
        {
          "output_type": "stream",
          "name": "stdout",
          "text": [
            "Test MSE: 0.439717\n",
            "Test MAE: 0.472249\n"
          ]
        }
      ]
    }
  ]
}