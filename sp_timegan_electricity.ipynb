{
  "nbformat": 4,
  "nbformat_minor": 0,
  "metadata": {
    "colab": {
      "provenance": [],
      "authorship_tag": "ABX9TyMrdb10vG1Zvcxc+WeCNxJf",
      "include_colab_link": true
    },
    "kernelspec": {
      "name": "python3",
      "display_name": "Python 3"
    },
    "language_info": {
      "name": "python"
    }
  },
  "cells": [
    {
      "cell_type": "markdown",
      "metadata": {
        "id": "view-in-github",
        "colab_type": "text"
      },
      "source": [
        "<a href=\"https://colab.research.google.com/github/pmxfa/sp-shapely/blob/main/sp_timegan_electricity.ipynb\" target=\"_parent\"><img src=\"https://colab.research.google.com/assets/colab-badge.svg\" alt=\"Open In Colab\"/></a>"
      ]
    },
    {
      "cell_type": "code",
      "execution_count": null,
      "metadata": {
        "id": "oaMLghK_ipz1",
        "collapsed": true
      },
      "outputs": [],
      "source": [
        "!pip install synthcity"
      ]
    },
    {
      "cell_type": "markdown",
      "source": [
        "# Training"
      ],
      "metadata": {
        "id": "NcwQ6Yo09JC8"
      }
    },
    {
      "cell_type": "code",
      "source": [
        "from google.colab import drive\n",
        "drive.mount('/content/drive')\n",
        "\n",
        "import sys\n",
        "import warnings\n",
        "import pandas as pd\n",
        "import numpy as np\n",
        "from sklearn.preprocessing import MinMaxScaler\n",
        "\n",
        "import synthcity.logger as log\n",
        "from synthcity.plugins import Plugins\n",
        "from synthcity.plugins.core.dataloader import TimeSeriesDataLoader\n",
        "\n",
        "log.add(sink=sys.stderr, level=\"INFO\")"
      ],
      "metadata": {
        "id": "kfDi7FQF9LIv",
        "colab": {
          "base_uri": "https://localhost:8080/"
        },
        "outputId": "1fb6fc1d-cdba-453a-bf52-56fe08cb3f67",
        "collapsed": true
      },
      "execution_count": 1,
      "outputs": [
        {
          "output_type": "stream",
          "name": "stdout",
          "text": [
            "Mounted at /content/drive\n",
            "[KeOps] Warning : CUDA libraries not found or could not be loaded; Switching to CPU only.\n"
          ]
        }
      ]
    },
    {
      "cell_type": "code",
      "source": [
        "file_path = \"/content/drive/Shareddrives/sp_env/datasets/Electricity Transformer Dataset (ETDataset)/ETTh1.csv\"\n",
        "\n",
        "df = pd.read_csv(file_path)\n",
        "print(df.head())\n",
        "print(df.info())\n",
        "print(df.isnull().sum())"
      ],
      "metadata": {
        "id": "DCLsmN-F9NGv",
        "colab": {
          "base_uri": "https://localhost:8080/"
        },
        "outputId": "3997f791-0710-495f-b56e-5c00de5c7b0c",
        "collapsed": true
      },
      "execution_count": 2,
      "outputs": [
        {
          "output_type": "stream",
          "name": "stdout",
          "text": [
            "                  date   HUFL   HULL   MUFL   MULL   LUFL   LULL         OT\n",
            "0  2016-07-01 00:00:00  5.827  2.009  1.599  0.462  4.203  1.340  30.531000\n",
            "1  2016-07-01 01:00:00  5.693  2.076  1.492  0.426  4.142  1.371  27.787001\n",
            "2  2016-07-01 02:00:00  5.157  1.741  1.279  0.355  3.777  1.218  27.787001\n",
            "3  2016-07-01 03:00:00  5.090  1.942  1.279  0.391  3.807  1.279  25.044001\n",
            "4  2016-07-01 04:00:00  5.358  1.942  1.492  0.462  3.868  1.279  21.948000\n",
            "<class 'pandas.core.frame.DataFrame'>\n",
            "RangeIndex: 17420 entries, 0 to 17419\n",
            "Data columns (total 8 columns):\n",
            " #   Column  Non-Null Count  Dtype  \n",
            "---  ------  --------------  -----  \n",
            " 0   date    17420 non-null  object \n",
            " 1   HUFL    17420 non-null  float64\n",
            " 2   HULL    17420 non-null  float64\n",
            " 3   MUFL    17420 non-null  float64\n",
            " 4   MULL    17420 non-null  float64\n",
            " 5   LUFL    17420 non-null  float64\n",
            " 6   LULL    17420 non-null  float64\n",
            " 7   OT      17420 non-null  float64\n",
            "dtypes: float64(7), object(1)\n",
            "memory usage: 1.1+ MB\n",
            "None\n",
            "date    0\n",
            "HUFL    0\n",
            "HULL    0\n",
            "MUFL    0\n",
            "MULL    0\n",
            "LUFL    0\n",
            "LULL    0\n",
            "OT      0\n",
            "dtype: int64\n"
          ]
        }
      ]
    },
    {
      "cell_type": "code",
      "source": [
        "# Convert 'date' to datetime, set as index, and sort\n",
        "df['date'] = pd.to_datetime(df['date'])\n",
        "df.set_index('date', inplace=True)\n",
        "df.sort_index(inplace=True)\n",
        "\n",
        "# Keep the latest 5000 rows\n",
        "df_latest = df.tail(5000)\n",
        "\n",
        "# Train-test split: 70% for training (for TimeGAN), 30% for testing (TSTR)\n",
        "train_size = int(0.7 * len(df_latest))\n",
        "df_train = df_latest.iloc[:train_size]\n",
        "df_test = df_latest.iloc[train_size:]  # use later for LSTM-TSTR\n",
        "\n",
        "# Normalize the data\n",
        "scaler = MinMaxScaler()\n",
        "scaled_train = scaler.fit_transform(df_train)\n",
        "df_scaled_train = pd.DataFrame(scaled_train, columns=df_train.columns, index=df_train.index)\n",
        "scaled_test = scaler.transform(df_test)\n",
        "df_scaled_test = pd.DataFrame(scaled_test, columns=df_test.columns, index=df_test.index)\n",
        "\n",
        "# Sequence length for time-series data (dataset = hourly; 24 hours)\n",
        "sequence_length = 24\n"
      ],
      "metadata": {
        "id": "siWRiBtn9O0V"
      },
      "execution_count": 3,
      "outputs": []
    },
    {
      "cell_type": "code",
      "source": [
        "temporal_data = []\n",
        "observation_times = []\n",
        "\n",
        "# Generate sequences from df_scaled_train only\n",
        "for start in range(len(df_scaled_train) - sequence_length + 1):\n",
        "    sequence = df_scaled_train.iloc[start:start + sequence_length].reset_index(drop=True)\n",
        "    temporal_data.append(sequence)\n",
        "    observation_times.append(list(range(sequence_length)))  # relative time within the window\n",
        "\n",
        "# Dummy outcome for TimeGAN (can be used in DataLoader)\n",
        "dummy_outcome = pd.DataFrame(np.zeros(len(temporal_data)), columns=[\"outcome\"])\n",
        "\n",
        "# Create DataLoader for TimeGAN\n",
        "loader = TimeSeriesDataLoader(\n",
        "    temporal_data=temporal_data,\n",
        "    observation_times=observation_times,\n",
        "    static_data=None,\n",
        "    outcome=dummy_outcome,\n",
        ")\n",
        "\n",
        "# Print the loader info\n",
        "print(f\"TimeSeriesDataLoader created with {len(temporal_data)} sequences\")"
      ],
      "metadata": {
        "id": "66Gckwx03gW7"
      },
      "execution_count": null,
      "outputs": []
    },
    {
      "cell_type": "code",
      "source": [
        "temporal_data_test = []\n",
        "observation_times_test = []\n",
        "\n",
        "# Generate sequences from df_scaled_test only\n",
        "for start in range(len(df_scaled_test) - sequence_length + 1):\n",
        "    sequence = df_scaled_test.iloc[start:start + sequence_length].reset_index(drop=True)\n",
        "    temporal_data_test.append(sequence)\n",
        "    observation_times_test.append(list(range(sequence_length)))  # relative time within the window\n",
        "\n",
        "# Dummy outcome for TimeGAN (can be used in DataLoader)\n",
        "dummy_outcome = pd.DataFrame(np.zeros(len(temporal_data_test)), columns=[\"outcome\"])\n",
        "\n",
        "# Create DataLoader for TimeGAN\n",
        "loader_test = TimeSeriesDataLoader(\n",
        "    temporal_data=temporal_data_test,\n",
        "    observation_times=observation_times_test,\n",
        "    static_data=None,\n",
        "    outcome=dummy_outcome,\n",
        ")\n",
        "\n",
        "# Print the loader info\n",
        "print(f\"TimeSeriesDataLoader TEST SET created with {len(temporal_data_test)} sequences\")"
      ],
      "metadata": {
        "colab": {
          "base_uri": "https://localhost:8080/"
        },
        "id": "RFJXVWHMjE6l",
        "outputId": "da8edccb-c1e6-401e-96da-1ce08247d6df"
      },
      "execution_count": 4,
      "outputs": [
        {
          "output_type": "stream",
          "name": "stdout",
          "text": [
            "TimeSeriesDataLoader TEST SET created with 1477 sequences\n"
          ]
        }
      ]
    },
    {
      "cell_type": "code",
      "source": [
        "print(len(df_train))\n",
        "print(loader.dataframe())"
      ],
      "metadata": {
        "id": "FmZe08FM9Rd0",
        "collapsed": true
      },
      "execution_count": null,
      "outputs": []
    },
    {
      "cell_type": "code",
      "source": [
        "hparams = {\n",
        "          \"mode\": \"LSTM\", # default mode = RNN;\n",
        "          \"dataloader_sampling_strategy\": \"none\" # default = imbalanced_time_censoring\n",
        "}\n",
        "\n",
        "# Load TimeGAN with custom parameters\n",
        "syn_model = Plugins().get(\"timegan\", **hparams)"
      ],
      "metadata": {
        "id": "oYqRdbxl9W74",
        "colab": {
          "base_uri": "https://localhost:8080/"
        },
        "outputId": "a596113e-010b-41dc-a9ae-4b930d3d3c37"
      },
      "execution_count": null,
      "outputs": [
        {
          "output_type": "stream",
          "name": "stderr",
          "text": [
            "[2025-05-07T10:55:46.427394+0000][1158][CRITICAL] module disabled: /usr/local/lib/python3.11/dist-packages/synthcity/plugins/generic/plugin_goggle.py\n",
            "[2025-05-07T10:55:46.427394+0000][1158][CRITICAL] module disabled: /usr/local/lib/python3.11/dist-packages/synthcity/plugins/generic/plugin_goggle.py\n",
            "[2025-05-07T10:55:46.427394+0000][1158][CRITICAL] module disabled: /usr/local/lib/python3.11/dist-packages/synthcity/plugins/generic/plugin_goggle.py\n"
          ]
        }
      ]
    },
    {
      "cell_type": "code",
      "source": [
        "# Print all parameters of initialized model\n",
        "for attr in dir(syn_model):\n",
        "    if not attr.startswith(\"_\") and not callable(getattr(syn_model, attr)):\n",
        "        print(f\"{attr}: {getattr(syn_model, attr)}\")"
      ],
      "metadata": {
        "id": "y9ZVw8pT9Y_Q",
        "colab": {
          "base_uri": "https://localhost:8080/"
        },
        "outputId": "3c7feedd-f295-4c00-99a4-42ff8e0dd7df"
      },
      "execution_count": null,
      "outputs": [
        {
          "output_type": "stream",
          "name": "stdout",
          "text": [
            "batch_size: 64\n",
            "class_name: TimeGANPlugin\n",
            "clipping_value: 0\n",
            "compress_dataset: False\n",
            "dataloader_sampling_strategy: none\n",
            "device: cuda\n",
            "discriminator_batch_norm: False\n",
            "discriminator_dropout: 0.1\n",
            "discriminator_loss: None\n",
            "discriminator_lr: 0.001\n",
            "discriminator_n_iter: 1\n",
            "discriminator_n_layers_hidden: 3\n",
            "discriminator_n_units_hidden: 300\n",
            "discriminator_nonlin: leaky_relu\n",
            "discriminator_weight_decay: 0.001\n",
            "embedding_penalty: 10\n",
            "encoder: None\n",
            "encoder_max_clusters: 20\n",
            "expecting_conditional: False\n",
            "fitted: False\n",
            "gamma_penalty: 1\n",
            "generator_batch_norm: False\n",
            "generator_dropout: 0.01\n",
            "generator_loss: None\n",
            "generator_lr: 0.001\n",
            "generator_n_layers_hidden: 2\n",
            "generator_n_units_hidden: 150\n",
            "generator_nonlin: leaky_relu\n",
            "generator_nonlin_out_continuous: tanh\n",
            "generator_nonlin_out_discrete: softmax\n",
            "generator_residual: True\n",
            "generator_weight_decay: 0.001\n",
            "mode: LSTM\n",
            "module_name: synthcity.plugins.time_series.plugin_timegan\n",
            "module_relative_path: ../time_series/plugin_timegan.py\n",
            "moments_penalty: 100\n",
            "n_iter: 1000\n",
            "n_iter_print: 10\n",
            "outcome_encoder: TabularEncoder(cat_encoder_params={'handle_unknown': 'ignore',\n",
            "                                   'sparse_output': False},\n",
            "               categorical_encoder='onehot',\n",
            "               cont_encoder_params={'n_components': 20},\n",
            "               continuous_encoder='bayesian_gmm', max_clusters=20)\n",
            "random_state: 0\n",
            "sampling_patience: 500\n",
            "sampling_strategy: marginal\n",
            "strict: True\n",
            "use_horizon_condition: True\n",
            "workspace: workspace\n"
          ]
        }
      ]
    },
    {
      "cell_type": "markdown",
      "source": [
        "## fitting the model"
      ],
      "metadata": {
        "id": "IKG0O5Pg9hpG"
      }
    },
    {
      "cell_type": "code",
      "source": [
        "print(loader.shape)"
      ],
      "metadata": {
        "id": "THzKqhIFcWlG",
        "outputId": "33db5309-8fd0-47f0-af5e-39ddbe776d0f",
        "colab": {
          "base_uri": "https://localhost:8080/"
        }
      },
      "execution_count": null,
      "outputs": [
        {
          "output_type": "stream",
          "name": "stdout",
          "text": [
            "(83448, 10)\n"
          ]
        }
      ]
    },
    {
      "cell_type": "code",
      "source": [
        "#  Train the model\n",
        "syn_model.fit(loader)"
      ],
      "metadata": {
        "id": "-BKXe4G19l_8",
        "colab": {
          "base_uri": "https://localhost:8080/"
        },
        "outputId": "2c673315-dc36-46ac-a921-5381803b2674"
      },
      "execution_count": null,
      "outputs": [
        {
          "output_type": "stream",
          "name": "stderr",
          "text": [
            "100%|██████████| 1000/1000 [2:09:12<00:00,  7.75s/it]\n"
          ]
        },
        {
          "output_type": "execute_result",
          "data": {
            "text/plain": [
              "<synthcity.plugins.time_series.plugin_timegan.TimeGANPlugin at 0x7ed4d27ecd50>"
            ]
          },
          "metadata": {},
          "execution_count": 9
        }
      ]
    },
    {
      "cell_type": "code",
      "source": [
        "saved_model = syn_model.save()"
      ],
      "metadata": {
        "id": "MMIE6K28AavA"
      },
      "execution_count": null,
      "outputs": []
    },
    {
      "cell_type": "code",
      "source": [
        "from synthcity.utils.serialization import save_to_file, load_from_file\n",
        "\n",
        "# Save model to drive\n",
        "# save_to_file('/content/drive/Shareddrives/sp_env/test_model.pkl', syn_model)\n",
        "save_to_file('/content/drive/Shareddrives/sp_env/saved_models/GAN_Electricity.pkl', syn_model)\n",
        "\n",
        "# Load the model\n",
        "# loaded_model = load_from_file('/content/drive/Shareddrives/sp_env/test_model.pkl')"
      ],
      "metadata": {
        "id": "GXR9yPgyDsfe"
      },
      "execution_count": null,
      "outputs": []
    },
    {
      "cell_type": "code",
      "source": [
        "n_samples = len(temporal_data)\n",
        "print(\"n_samples:\", n_samples)\n",
        "syn_data = syn_model.generate(count=n_samples)\n",
        "print(syn_data.shape)"
      ],
      "metadata": {
        "colab": {
          "base_uri": "https://localhost:8080/"
        },
        "id": "xziCvHeRjvaM",
        "outputId": "1f762270-0665-42c0-bba8-0c4b150dfc30"
      },
      "execution_count": null,
      "outputs": [
        {
          "output_type": "stream",
          "name": "stdout",
          "text": [
            "n_samples: 3477\n",
            "(43421, 10)\n"
          ]
        }
      ]
    },
    {
      "cell_type": "code",
      "source": [
        "# Save with automated format\n",
        "import datetime\n",
        "import os\n",
        "# Get the current date and time\n",
        "now = datetime.datetime.now()\n",
        "timestamp = now.strftime(\"%m%d%y-%H%M%S\")  # MMDDYY-HHMMSS format\n",
        "\n",
        "# Define the base directory\n",
        "base_dir = \"/content/drive/Shareddrives/sp_env/synthetic_datasets/TimeGAN/electricity\"  #CHANGE THIS\n",
        "if not os.path.exists(base_dir):\n",
        "    os.makedirs(base_dir)\n",
        "\n",
        "# Construct the filename\n",
        "model_name = type(syn_model).__name__.lower() # Get model name dynamically\n",
        "filename = f\"{timestamp}-{model_name}-n_3000.csv\"\n",
        "filepath = os.path.join(base_dir, filename)\n",
        "\n",
        "# Save the data\n",
        "df_syn = syn_data.dataframe()\n",
        "df_syn.to_csv(filepath, index=False)\n",
        "\n",
        "print(f\"Synthetic data saved to: {filepath}\")"
      ],
      "metadata": {
        "id": "J4rF0HY29o65",
        "colab": {
          "base_uri": "https://localhost:8080/"
        },
        "outputId": "36ee500b-3cb8-4839-f85b-1a912c54fc48"
      },
      "execution_count": null,
      "outputs": [
        {
          "output_type": "stream",
          "name": "stdout",
          "text": [
            "Synthetic data saved to: /content/drive/Shareddrives/sp_env/synthetic_datasets/TimeGAN/electricity/050725-132812-timeganplugin-n_3000.csv\n"
          ]
        }
      ]
    },
    {
      "cell_type": "markdown",
      "source": [
        "# Evaluation"
      ],
      "metadata": {
        "id": "TICnBaoH9r8Z"
      }
    },
    {
      "cell_type": "markdown",
      "source": [
        "## Prerequisites"
      ],
      "metadata": {
        "id": "QlHAzxfV9uXf"
      }
    },
    {
      "cell_type": "code",
      "source": [
        "syn_data = pd.read_csv('/content/drive/Shareddrives/sp_env/synthetic_datasets/TimeGAN/electricity/050725-132812-timeganplugin-n_3000.csv')"
      ],
      "metadata": {
        "id": "J1tmHjywjjJ8"
      },
      "execution_count": 5,
      "outputs": []
    },
    {
      "cell_type": "code",
      "source": [
        "# Define selected columns explicitly\n",
        "selected_columns = ['seq_temporal_HUFL', 'seq_temporal_HULL', 'seq_temporal_LUFL', 'seq_temporal_LULL', 'seq_temporal_MUFL', 'seq_temporal_MULL', 'seq_temporal_OT']\n",
        "\n",
        "# Ensure real_data and synthetic_data only contain the selected columns\n",
        "real_data = loader_test.dataframe()[selected_columns].to_numpy()\n",
        "synthetic_data = syn_data[selected_columns].to_numpy()"
      ],
      "metadata": {
        "id": "zUMHadsq9vw8"
      },
      "execution_count": 6,
      "outputs": []
    },
    {
      "cell_type": "code",
      "source": [
        "#  Check datasets\n",
        "\n",
        "print(real_data, \"\\n ------------------------------------------------------- \\n\", synthetic_data)\n",
        "print(type(real_data),type(synthetic_data))\n",
        "print(real_data.shape,synthetic_data.shape)\n",
        "\n",
        "\"\"\" TODO\n",
        "[] add adjusting off dataset to fit min length here\n",
        "[] remove min length stuff in helper funcs\n",
        "\"\"\""
      ],
      "metadata": {
        "id": "DumXr_Gg9y6U",
        "colab": {
          "base_uri": "https://localhost:8080/",
          "height": 348
        },
        "outputId": "778efde5-2aaf-4d2c-b40a-a4127a5573a5"
      },
      "execution_count": 7,
      "outputs": [
        {
          "output_type": "stream",
          "name": "stdout",
          "text": [
            "[[0.64238779 0.32967478 0.42980559 ... 0.67287374 0.33964623 0.67070109]\n",
            " [0.31229163 0.50270358 0.36846652 ... 0.32249713 0.55234947 0.69878968]\n",
            " [0.54529643 0.36752483 0.42102231 ... 0.56598494 0.38091834 0.75502396]\n",
            " ...\n",
            " [0.56471953 0.49729644 0.53506119 ... 0.56506958 0.4952653  0.79921214]\n",
            " [0.72005606 0.49729644 0.52627788 ... 0.72954808 0.4952653  0.77106644]\n",
            " [0.74109776 0.47566783 0.53506119 ... 0.74814312 0.44765052 0.75902034]] \n",
            " ------------------------------------------------------- \n",
            " [[0.8511261  0.5072802  0.33854351 ... 0.86287211 0.37202017 0.50054281]\n",
            " [0.85119168 0.5072618  0.65129147 ... 0.86286684 0.37195367 0.75588455]\n",
            " [0.80797667 0.28399383 0.38214453 ... 0.86282263 0.33302839 0.50060487]\n",
            " ...\n",
            " [0.67343941 0.56629246 0.43043925 ... 0.83052238 0.37179222 0.46109215]\n",
            " [0.78868023 0.44475754 0.38193633 ... 0.79199183 0.54619039 0.50064705]\n",
            " [0.85097307 0.2835606  0.65116624 ... 0.75196361 0.37169687 0.37934677]]\n",
            "<class 'numpy.ndarray'> <class 'numpy.ndarray'>\n",
            "(35448, 7) (43421, 7)\n"
          ]
        },
        {
          "output_type": "execute_result",
          "data": {
            "text/plain": [
              "' TODO\\n[] add adjusting off dataset to fit min length here\\n[] remove min length stuff in helper funcs\\n'"
            ],
            "application/vnd.google.colaboratory.intrinsic+json": {
              "type": "string"
            }
          },
          "metadata": {},
          "execution_count": 7
        }
      ]
    },
    {
      "cell_type": "markdown",
      "source": [
        "## Generate distance metrics"
      ],
      "metadata": {
        "id": "0pU8BORS9vWk"
      }
    },
    {
      "cell_type": "markdown",
      "source": [
        "### Helper Functions"
      ],
      "metadata": {
        "id": "DVguOJWi-Fos"
      }
    },
    {
      "cell_type": "code",
      "source": [
        "from scipy.stats import wasserstein_distance, entropy\n",
        "import numpy as np\n",
        "\n",
        "def compute_wasserstein(real_data, synthetic_data, selected_columns):\n",
        "    \"\"\"\n",
        "    Computes Wasserstein Distance between real and synthetic time-series data.\n",
        "\n",
        "    \"\"\"\n",
        "\n",
        "    # Ensure both datasets have the same number of samples\n",
        "    min_length = min(len(real_data), len(synthetic_data))\n",
        "    real_trimmed = real_data[:min_length]  # Keep original order (no random sampling)\n",
        "    synthetic_trimmed = synthetic_data[:min_length]  # Match size\n",
        "    print(real_trimmed.shape,synthetic_trimmed.shape)\n",
        "\n",
        "    wasserstein_results = {}\n",
        "\n",
        "    # Compute Wasserstein Distance for each feature\n",
        "    for i, col in enumerate(selected_columns):\n",
        "        w_dist = wasserstein_distance(real_trimmed[:, i], synthetic_trimmed[:, i])\n",
        "        wasserstein_results[col] = w_dist\n",
        "        print(f\"{w_dist}\")\n",
        "\n",
        "    return wasserstein_results\n",
        "\n",
        "def compute_kl_divergence(real_data, synthetic_data, selected_columns, bins=50):\n",
        "    \"\"\"\n",
        "    Computes KL Divergence between real and synthetic time-series data.\n",
        "\n",
        "    \"\"\"\n",
        "\n",
        "    # Ensure both datasets have the same number of samples\n",
        "    min_length = min(len(real_data), len(synthetic_data))\n",
        "    real_trimmed = real_data[:min_length]  # Keep original order\n",
        "    synthetic_trimmed = synthetic_data[:min_length]  # Match size\n",
        "\n",
        "    kl_results = {}\n",
        "\n",
        "    for i, col in enumerate(selected_columns):\n",
        "        # Compute histogram-based probability distributions\n",
        "        real_hist, _ = np.histogram(real_trimmed[:, i], bins=bins, density=True)\n",
        "        synth_hist, _ = np.histogram(synthetic_trimmed[:, i], bins=bins, density=True)\n",
        "\n",
        "        # Avoid zero probabilities (KL Divergence is undefined for zero values)\n",
        "        real_hist += 1e-10\n",
        "        synth_hist += 1e-10\n",
        "\n",
        "        # Compute KL Divergence\n",
        "        kl_div = entropy(real_hist, synth_hist)\n",
        "        kl_results[col] = kl_div\n",
        "        print(f\"{kl_div}\")\n",
        "\n",
        "    return kl_results"
      ],
      "metadata": {
        "id": "GjGk3_Zx94Ko"
      },
      "execution_count": 24,
      "outputs": []
    },
    {
      "cell_type": "markdown",
      "source": [
        "### Generate Metrics"
      ],
      "metadata": {
        "id": "yLnb7Vqg-IG_"
      }
    },
    {
      "cell_type": "code",
      "source": [
        "# Compute Wasserstein Distance\n",
        "wasserstein_results = compute_wasserstein(real_data, synthetic_data, selected_columns)\n",
        "print(\"Wasserstein Distance Results:\")\n",
        "print(wasserstein_results)\n",
        "\n",
        "# Compute KL Divergence\n",
        "kl_results = compute_kl_divergence(real_data, synthetic_data, selected_columns)\n",
        "print(\"KL Divergence Results:\")\n",
        "print(kl_results)"
      ],
      "metadata": {
        "id": "olm0RYP89-SN",
        "colab": {
          "base_uri": "https://localhost:8080/"
        },
        "outputId": "b8ab6365-74e9-4f77-fbcd-3ad22f92c303"
      },
      "execution_count": 9,
      "outputs": [
        {
          "output_type": "stream",
          "name": "stdout",
          "text": [
            "(35448, 7) (35448, 7)\n",
            "0.12589359866398342\n",
            "0.08450584982597788\n",
            "0.09317955417348268\n",
            "0.2239760852634426\n",
            "0.16200768196480073\n",
            "0.09962678698033475\n",
            "0.33575507662121135\n",
            "Wasserstein Distance Results:\n",
            "{'seq_temporal_HUFL': 0.12589359866398342, 'seq_temporal_HULL': 0.08450584982597788, 'seq_temporal_LUFL': 0.09317955417348268, 'seq_temporal_LULL': 0.2239760852634426, 'seq_temporal_MUFL': 0.16200768196480073, 'seq_temporal_MULL': 0.09962678698033475, 'seq_temporal_OT': 0.33575507662121135}\n",
            "11.436516277561278\n",
            "14.463556430780402\n",
            "13.979544374637179\n",
            "11.79633753592787\n",
            "12.691260723979555\n",
            "15.10601419655953\n",
            "13.45767585080329\n",
            "KL Divergence Results:\n",
            "{'seq_temporal_HUFL': 11.436516277561278, 'seq_temporal_HULL': 14.463556430780402, 'seq_temporal_LUFL': 13.979544374637179, 'seq_temporal_LULL': 11.79633753592787, 'seq_temporal_MUFL': 12.691260723979555, 'seq_temporal_MULL': 15.10601419655953, 'seq_temporal_OT': 13.45767585080329}\n"
          ]
        }
      ]
    },
    {
      "cell_type": "markdown",
      "source": [
        "# LSTM downstream"
      ],
      "metadata": {
        "id": "UpJLIRUZChiz"
      }
    },
    {
      "cell_type": "code",
      "source": [
        "filepath = '/content/drive/Shareddrives/sp_env/synthetic_datasets/TimeGAN/electricity/050725-132812-timeganplugin-n_3000.csv'"
      ],
      "metadata": {
        "id": "MWzW2ymrj-ZZ"
      },
      "execution_count": 8,
      "outputs": []
    },
    {
      "cell_type": "code",
      "source": [
        "real_data = loader_test.dataframe()\n",
        "df_synth = pd.read_csv(filepath)\n",
        "\n",
        "# 2. Drop the unwanted column\n",
        "real_data = real_data.drop(columns=[\"seq_id\", \"seq_time_id\", \"seq_out_outcome\"], errors=\"ignore\")\n",
        "df_synth = df_synth.drop(columns=[\"seq_id\", \"seq_time_id\", \"seq_out_outcome\"], errors=\"ignore\")"
      ],
      "metadata": {
        "id": "oidw2-H7OeUO"
      },
      "execution_count": 9,
      "outputs": []
    },
    {
      "cell_type": "code",
      "source": [
        "print(f\"real_data: {real_data.shape}, synthetic_data: {df_synth.shape}\")"
      ],
      "metadata": {
        "colab": {
          "base_uri": "https://localhost:8080/"
        },
        "id": "2V3bCF9WvLsa",
        "outputId": "1483e7db-404c-43cc-8143-03941b0cb639"
      },
      "execution_count": 10,
      "outputs": [
        {
          "output_type": "stream",
          "name": "stdout",
          "text": [
            "real_data: (35448, 7), synthetic_data: (43421, 7)\n"
          ]
        }
      ]
    },
    {
      "cell_type": "code",
      "source": [
        "#@title ✧.* libraries ✧.*\n",
        "\n",
        "import pandas as pd\n",
        "import numpy as np\n",
        "import torch\n",
        "import torch.nn as nn\n",
        "from torch.utils.data import DataLoader, TensorDataset\n",
        "from sklearn.preprocessing import MinMaxScaler\n",
        "from sklearn.metrics import mean_absolute_error, mean_squared_error"
      ],
      "metadata": {
        "id": "jBeVAcOyoPDz"
      },
      "execution_count": 11,
      "outputs": []
    },
    {
      "cell_type": "markdown",
      "source": [
        "recheck LSTM notebook for"
      ],
      "metadata": {
        "id": "AqxZ2PLWo9pN"
      }
    },
    {
      "cell_type": "code",
      "source": [
        "# Convert to tensors (float32 for PyTorch)\n",
        "data_real = torch.tensor(real_data.values, dtype=torch.float32)\n",
        "data_synth = torch.tensor(df_synth.values, dtype=torch.float32)\n",
        "\n",
        "# ──────── Sequence builder ───────────\n",
        "def make_sequences(data, seq_len):\n",
        "    X, y = [], []\n",
        "    for i in range(len(data) - seq_len):\n",
        "        X.append(data[i:i+seq_len])\n",
        "        y.append(data[i+seq_len])\n",
        "    return torch.stack(X), torch.stack(y)\n",
        "\n",
        "SEQ_LEN = sequence_length\n",
        "\n",
        "# Sequences for synthetic (train)\n",
        "X_train, y_train = make_sequences(data_synth, SEQ_LEN)\n",
        "train_loader = DataLoader(TensorDataset(X_train, y_train), batch_size=32, shuffle=True)\n",
        "\n",
        "# Sequences for real (test)\n",
        "X_test, y_test = make_sequences(data_real, SEQ_LEN)\n"
      ],
      "metadata": {
        "id": "txcyFCaxoZry"
      },
      "execution_count": 12,
      "outputs": []
    },
    {
      "cell_type": "code",
      "source": [
        "#@title ✧.* model definition and training ✧.*\n",
        "\n",
        "# ─── Model Definition ──────────────────────────────────────\n",
        "class ShallowLSTM(nn.Module):\n",
        "    def __init__(self, input_size, hidden_size=64):\n",
        "        super().__init__()\n",
        "        self.lstm = nn.LSTM(input_size, hidden_size, batch_first=True)\n",
        "        self.linear = nn.Linear(hidden_size, input_size)\n",
        "\n",
        "    def forward(self, x):\n",
        "        _, (hn, _) = self.lstm(x)  # hn shape: (1, batch, hidden_size)\n",
        "        out = self.linear(hn.squeeze(0))  # squeeze to (batch, hidden_size)\n",
        "        return out\n",
        "\n",
        "\n",
        "# ─── Model Init ─────────────────────────────────────────────\n",
        "model = ShallowLSTM(input_size=X_train.shape[2], hidden_size=64)\n",
        "\n",
        "# ─── Optimizer & Loss ───────────────────────────────────────\n",
        "loss_fn = nn.MSELoss()\n",
        "optimizer = torch.optim.Adam(model.parameters(), lr=0.002)\n"
      ],
      "metadata": {
        "id": "xb92SGsLojRK"
      },
      "execution_count": 13,
      "outputs": []
    },
    {
      "cell_type": "code",
      "source": [
        "# ─── Training ───────────────────────────────────────────────\n",
        "EPOCHS = 50\n",
        "for epoch in range(1, EPOCHS + 1):\n",
        "    model.train()\n",
        "    for xb, yb in train_loader:\n",
        "        pred = model(xb)\n",
        "        loss = loss_fn(pred, yb)\n",
        "        optimizer.zero_grad()\n",
        "        loss.backward()\n",
        "        optimizer.step()\n",
        "\n",
        "    # if epoch % 10 == 0 or epoch == 1:\n",
        "    print(f\"Epoch {epoch}: Train MSE = {loss.item():.6f}\")"
      ],
      "metadata": {
        "id": "nIvi0lLXHoeF",
        "colab": {
          "base_uri": "https://localhost:8080/"
        },
        "outputId": "fa737aec-a6aa-4d48-cfec-b5072b70eb79"
      },
      "execution_count": 16,
      "outputs": [
        {
          "output_type": "stream",
          "name": "stdout",
          "text": [
            "Epoch 1: Train MSE = 0.007642\n",
            "Epoch 2: Train MSE = 0.011635\n",
            "Epoch 3: Train MSE = 0.018346\n",
            "Epoch 4: Train MSE = 0.005398\n",
            "Epoch 5: Train MSE = 0.015337\n",
            "Epoch 6: Train MSE = 0.004294\n",
            "Epoch 7: Train MSE = 0.007427\n",
            "Epoch 8: Train MSE = 0.006197\n",
            "Epoch 9: Train MSE = 0.009642\n",
            "Epoch 10: Train MSE = 0.006557\n",
            "Epoch 11: Train MSE = 0.014314\n",
            "Epoch 12: Train MSE = 0.005609\n",
            "Epoch 13: Train MSE = 0.015649\n",
            "Epoch 14: Train MSE = 0.007543\n",
            "Epoch 15: Train MSE = 0.005711\n",
            "Epoch 16: Train MSE = 0.016780\n",
            "Epoch 17: Train MSE = 0.005017\n",
            "Epoch 18: Train MSE = 0.016860\n",
            "Epoch 19: Train MSE = 0.003761\n",
            "Epoch 20: Train MSE = 0.014678\n",
            "Epoch 21: Train MSE = 0.008587\n",
            "Epoch 22: Train MSE = 0.005302\n",
            "Epoch 23: Train MSE = 0.007783\n",
            "Epoch 24: Train MSE = 0.012379\n",
            "Epoch 25: Train MSE = 0.005020\n",
            "Epoch 26: Train MSE = 0.006488\n",
            "Epoch 27: Train MSE = 0.017566\n",
            "Epoch 28: Train MSE = 0.016631\n",
            "Epoch 29: Train MSE = 0.005578\n",
            "Epoch 30: Train MSE = 0.007281\n",
            "Epoch 31: Train MSE = 0.008753\n",
            "Epoch 32: Train MSE = 0.005988\n",
            "Epoch 33: Train MSE = 0.007557\n",
            "Epoch 34: Train MSE = 0.007099\n",
            "Epoch 35: Train MSE = 0.005178\n",
            "Epoch 36: Train MSE = 0.004782\n",
            "Epoch 37: Train MSE = 0.010786\n",
            "Epoch 38: Train MSE = 0.006319\n",
            "Epoch 39: Train MSE = 0.012873\n",
            "Epoch 40: Train MSE = 0.004200\n",
            "Epoch 41: Train MSE = 0.005361\n",
            "Epoch 42: Train MSE = 0.009626\n",
            "Epoch 43: Train MSE = 0.008418\n",
            "Epoch 44: Train MSE = 0.005202\n",
            "Epoch 45: Train MSE = 0.010247\n",
            "Epoch 46: Train MSE = 0.007280\n",
            "Epoch 47: Train MSE = 0.003893\n",
            "Epoch 48: Train MSE = 0.012735\n",
            "Epoch 49: Train MSE = 0.013544\n",
            "Epoch 50: Train MSE = 0.008081\n"
          ]
        }
      ]
    },
    {
      "cell_type": "code",
      "source": [
        "# --- ADD THESE LINES TO SAVE THE MODEL ---\n",
        "# Define a path where you want to save your model.\n",
        "# Use a meaningful name, especially for TRTR vs. TSTR models.\n",
        "# Example for TRTR Electricity model:\n",
        "MODEL_SAVE_PATH = '/content/drive/Shareddrives/sp_env/saved_models/LSTM/tstr_GAN_electricity_0.pth'\n",
        "\n",
        "# Save only the model's learned parameters (state_dict)\n",
        "# torch.save(model.state_dict(), MODEL_SAVE_PATH)\n",
        "\n",
        "# print(f\"Model saved to: {MODEL_SAVE_PATH}\")"
      ],
      "metadata": {
        "id": "qIdqDhf-CyZA"
      },
      "execution_count": 20,
      "outputs": []
    },
    {
      "cell_type": "code",
      "source": [
        "#@title ✧.* model evaluation ✧.*\n",
        "model.eval()\n",
        "with torch.no_grad():\n",
        "    preds = model(X_test)\n",
        "    test_mse = loss_fn(preds, y_test).item()\n",
        "    test_mae = mean_absolute_error(y_test.numpy(), preds.numpy())\n",
        "\n",
        "    print(f\"Test MSE: {test_mse:.6f}\")\n",
        "    print(f\"Test MAE: {test_mae:.6f}\")"
      ],
      "metadata": {
        "colab": {
          "base_uri": "https://localhost:8080/"
        },
        "id": "fKR1vr99zp5H",
        "outputId": "d1b86788-6d50-4169-bf6e-962e568ee140"
      },
      "execution_count": 15,
      "outputs": [
        {
          "output_type": "stream",
          "name": "stdout",
          "text": [
            "Test MSE: 0.372627\n",
            "Test MAE: 0.575080\n"
          ]
        }
      ]
    },
    {
      "cell_type": "markdown",
      "source": [
        "# Bootstrapping Sample"
      ],
      "metadata": {
        "id": "wwtrxZuWkq1X"
      }
    },
    {
      "cell_type": "code",
      "source": [
        "!pip install tsbootstrap"
      ],
      "metadata": {
        "id": "w6fV928blOfi",
        "collapsed": true
      },
      "execution_count": null,
      "outputs": []
    },
    {
      "cell_type": "code",
      "source": [
        "from tsbootstrap import MovingBlockBootstrap\n",
        "import numpy as np\n",
        "\n",
        "C_CONSTANT = 1\n",
        "n = len(loader_test)\n",
        "calculated_block_length = int(np.round(C_CONSTANT * (n**(1/3))))\n",
        "print(calculated_block_length, n)\n",
        "\n",
        "bootstrap_configs = {\n",
        "    \"weather\": {\"block_length\": calculated_block_length, \"n_bootstraps\": 15, \"rng\": 42},       # 6-hour pattern (10-min interval)\n",
        "    \"electricity\": {\"block_length\": calculated_block_length, \"n_bootstraps\": 15, \"rng\": 42},   # 1-day pattern (hourly)\n",
        "    \"exchange\": {\"block_length\": calculated_block_length, \"n_bootstraps\": 15, \"rng\": 42},      # 1-month pattern (daily)\n",
        "}\n",
        "\n",
        "# Example for weather\n",
        "dataset_name = \"electricity\"\n",
        "config = bootstrap_configs[dataset_name]\n",
        "\n",
        "real_test_array = real_data # shape (N, features)\n",
        "mbb = MovingBlockBootstrap(\n",
        "    n_bootstraps=config[\"n_bootstraps\"],\n",
        "    rng=config[\"rng\"],\n",
        "    block_length=config[\"block_length\"]\n",
        ")\n",
        "boot_samples = mbb.bootstrap(real_test_array, return_indices=False)\n"
      ],
      "metadata": {
        "id": "r3V4JBSEksXF",
        "colab": {
          "base_uri": "https://localhost:8080/"
        },
        "outputId": "353fbdef-7bb4-410b-da7c-274c304024de"
      },
      "execution_count": 46,
      "outputs": [
        {
          "output_type": "stream",
          "name": "stdout",
          "text": [
            "33 35448\n"
          ]
        }
      ]
    },
    {
      "cell_type": "code",
      "source": [
        "from tsbootstrap import MovingBlockBootstrap\n",
        "import numpy as np\n",
        "\n",
        "bootstrap_configs = {\n",
        "    \"weather\": {\"block_length\": 36, \"n_bootstraps\": 15, \"rng\": 42},       # 6-hour pattern (10-min interval)\n",
        "    \"electricity\": {\"block_length\": 33, \"n_bootstraps\": 15, \"rng\": 42},   # 1-day pattern (hourly)\n",
        "    \"exchange\": {\"block_length\": 30, \"n_bootstraps\": 15, \"rng\": 42},      # 1-month pattern (daily)\n",
        "}\n",
        "\n",
        "# Example for weather\n",
        "dataset_name = \"electricity\"\n",
        "config = bootstrap_configs[dataset_name]\n",
        "\n",
        "real_test_array = real_data[selected_columns].to_numpy()  # shape (N, features)\n",
        "mbb = MovingBlockBootstrap(\n",
        "    n_bootstraps=config[\"n_bootstraps\"],\n",
        "    rng=config[\"rng\"],\n",
        "    block_length=config[\"block_length\"]\n",
        ")\n",
        "boot_samples = mbb.bootstrap(real_test_array, return_indices=False)"
      ],
      "metadata": {
        "id": "TVkbYVAe5XW6"
      },
      "execution_count": 45,
      "outputs": []
    },
    {
      "cell_type": "code",
      "source": [
        "model.load_state_dict(torch.load(MODEL_SAVE_PATH))"
      ],
      "metadata": {
        "colab": {
          "base_uri": "https://localhost:8080/"
        },
        "id": "wFFXqWYVONy6",
        "outputId": "f036c83c-461d-4cfc-e715-789f461977b9"
      },
      "execution_count": 47,
      "outputs": [
        {
          "output_type": "execute_result",
          "data": {
            "text/plain": [
              "<All keys matched successfully>"
            ]
          },
          "metadata": {},
          "execution_count": 47
        }
      ]
    },
    {
      "cell_type": "code",
      "source": [
        "bootstrap_results = []\n",
        "\n",
        "for b_idx, boot_real in enumerate(boot_samples):\n",
        "    # 1. Match the synthetic data size\n",
        "    syn_trimmed = synthetic_data[:len(boot_real)]\n",
        "\n",
        "    # 2. Fidelity metrics\n",
        "    wasserstein = compute_wasserstein(boot_real, syn_trimmed, selected_columns)\n",
        "    kl = compute_kl_divergence(boot_real, syn_trimmed, selected_columns)\n",
        "\n",
        "    # 3. Utility metrics\n",
        "    # Preprocess this bootstrap sample for LSTM (as you do with real_data)\n",
        "    boot_tensor = torch.tensor(boot_real, dtype=torch.float32)\n",
        "    Xb_test, yb_test = make_sequences(boot_tensor, SEQ_LEN)\n",
        "\n",
        "    model.eval()\n",
        "    with torch.no_grad():\n",
        "        preds = model(Xb_test)\n",
        "        mse = mean_squared_error(yb_test.numpy(), preds.numpy())\n",
        "        rmse = np.sqrt(mse)\n",
        "        mae = mean_absolute_error(yb_test.numpy(), preds.numpy())\n",
        "\n",
        "    # 4. Store results\n",
        "    bootstrap_results.append({\n",
        "        'bootstrap': b_idx,\n",
        "        'wasserstein': np.mean(list(wasserstein.values())),\n",
        "        'kl': np.mean(list(kl.values())),\n",
        "        'rmse': rmse,\n",
        "        'mae': mae\n",
        "    })"
      ],
      "metadata": {
        "colab": {
          "base_uri": "https://localhost:8080/"
        },
        "id": "SPL4pVhwk3Ir",
        "outputId": "7d70c965-f440-4d0d-eb2d-a3d3b20fdbaf"
      },
      "execution_count": 48,
      "outputs": [
        {
          "output_type": "stream",
          "name": "stdout",
          "text": [
            "(35448, 7) (35448, 7)\n",
            "0.12914563555502948\n",
            "0.08444456076924557\n",
            "0.0943313710289266\n",
            "0.22713222648735615\n",
            "0.16571028613249733\n",
            "0.09997404629896306\n",
            "0.33653241992240696\n",
            "11.535450620231792\n",
            "14.578857319139273\n",
            "13.981218607197583\n",
            "11.796972477900463\n",
            "12.80546011863433\n",
            "14.858926705557746\n",
            "13.299183723225314\n",
            "(35448, 7) (35448, 7)\n",
            "0.13059058484831354\n",
            "0.08149787808521995\n",
            "0.09007617201389888\n",
            "0.2199837124293496\n",
            "0.16669850373570572\n",
            "0.0981056723832046\n",
            "0.33046520196814405\n",
            "11.460657195124432\n",
            "14.475172766548043\n",
            "13.956675210045075\n",
            "11.734721925182862\n",
            "12.585717301718379\n",
            "15.00054730814762\n",
            "13.532085086600611\n",
            "(35448, 7) (35448, 7)\n",
            "0.12691430342651505\n",
            "0.08329312114347895\n",
            "0.09322321938307844\n",
            "0.22496522886316245\n",
            "0.16337156547738524\n",
            "0.09917353128234202\n",
            "0.33639765890504425\n",
            "11.456667621883534\n",
            "14.45095865992481\n",
            "14.046994258841043\n",
            "11.691869018867397\n",
            "12.838930284691001\n",
            "15.093301733037032\n",
            "13.417889274070385\n",
            "(35448, 7) (35448, 7)\n",
            "0.12443852324004183\n",
            "0.08496579336885782\n",
            "0.09315935162026916\n",
            "0.22550182710620575\n",
            "0.16051431503468808\n",
            "0.09969251901571907\n",
            "0.33965152533763016\n",
            "11.473025429402151\n",
            "14.404927930268311\n",
            "13.952946417370347\n",
            "11.751910521302255\n",
            "12.609548184756102\n",
            "15.132781700265003\n",
            "13.385357883250181\n",
            "(35448, 7) (35448, 7)\n",
            "0.13232747983301701\n",
            "0.07858210109016799\n",
            "0.09211005733395633\n",
            "0.22013603303635354\n",
            "0.16898489356064428\n",
            "0.09439083278892418\n",
            "0.3391525103292877\n",
            "11.526337765603051\n",
            "14.327296978922869\n",
            "13.983172102712027\n",
            "11.779009153273615\n",
            "12.740388101816244\n",
            "14.782148108080305\n",
            "13.519265570706619\n",
            "(35448, 7) (35448, 7)\n",
            "0.12473944397882475\n",
            "0.08461728532460455\n",
            "0.09313292015122394\n",
            "0.22390442602526608\n",
            "0.1606386162771193\n",
            "0.1000865476225384\n",
            "0.33635134128957206\n",
            "11.41929712326893\n",
            "14.474767838554547\n",
            "14.072628658812585\n",
            "11.798945525049183\n",
            "12.67573062101356\n",
            "15.025831265611156\n",
            "13.500551527319708\n",
            "(35448, 7) (35448, 7)\n",
            "0.12221691538024436\n",
            "0.0856540970014683\n",
            "0.09373362952450141\n",
            "0.2253377577180658\n",
            "0.15797434727550097\n",
            "0.10047740372186756\n",
            "0.33652160832261513\n",
            "11.458163744577647\n",
            "14.448767422863039\n",
            "14.020227260767193\n",
            "11.765790606153535\n",
            "12.719326790408557\n",
            "15.117831778990418\n",
            "13.450426919077541\n",
            "(35448, 7) (35448, 7)\n",
            "0.12334917192484758\n",
            "0.08844819482396485\n",
            "0.0917717595877373\n",
            "0.2225462264480646\n",
            "0.15886852710820348\n",
            "0.10249380830450978\n",
            "0.32898939714412945\n",
            "11.560654617581122\n",
            "14.489581356955243\n",
            "14.120358411509851\n",
            "11.688302707046473\n",
            "12.62940086843254\n",
            "15.274997029974216\n",
            "13.515862030760953\n",
            "(35448, 7) (35448, 7)\n",
            "0.12374698953468369\n",
            "0.08661302214540702\n",
            "0.09445093084158118\n",
            "0.22713827458933397\n",
            "0.15964850978435655\n",
            "0.10075856865318361\n",
            "0.3352647312570772\n",
            "11.38056487034825\n",
            "14.706941479265655\n",
            "13.93093733417707\n",
            "11.957305341580323\n",
            "12.659851902643572\n",
            "14.979583480762036\n",
            "13.52768949540233\n",
            "(35448, 7) (35448, 7)\n",
            "0.12456305321116776\n",
            "0.08414143790226965\n",
            "0.0912891789072824\n",
            "0.22215943985788425\n",
            "0.16016579571386047\n",
            "0.0992312405932437\n",
            "0.33600739618111175\n",
            "11.427148298449971\n",
            "14.383846651401111\n",
            "13.949512865988565\n",
            "11.835504489135781\n",
            "12.814919587798993\n",
            "15.09003369269511\n",
            "13.396110850365273\n",
            "(35448, 7) (35448, 7)\n",
            "0.1263693178462159\n",
            "0.08284734253458216\n",
            "0.09492988696423656\n",
            "0.22401948386019985\n",
            "0.1628135845680518\n",
            "0.09822855366209558\n",
            "0.3369583612064986\n",
            "11.351415902943925\n",
            "14.445891726666474\n",
            "13.955697975963702\n",
            "11.786752116070634\n",
            "12.747727055828951\n",
            "14.974972217553967\n",
            "13.398769153062705\n",
            "(35448, 7) (35448, 7)\n",
            "0.12692352341522553\n",
            "0.08172063831380358\n",
            "0.08984905669542563\n",
            "0.219896281574826\n",
            "0.16273135472905084\n",
            "0.09842545425388984\n",
            "0.33438257512533576\n",
            "11.43656745148412\n",
            "14.418247934582938\n",
            "14.13321589193587\n",
            "11.604268486836435\n",
            "12.6507194501034\n",
            "14.989734613414992\n",
            "13.2918576375524\n",
            "(35448, 7) (35448, 7)\n",
            "0.12532507512053265\n",
            "0.08314995124066003\n",
            "0.09002945962543146\n",
            "0.22065121950691605\n",
            "0.16093467800236114\n",
            "0.0990542233596609\n",
            "0.33138811785462347\n",
            "11.507365651797086\n",
            "14.479399252725798\n",
            "13.923623230830835\n",
            "11.844287762667813\n",
            "12.596191205229923\n",
            "14.931679852393044\n",
            "13.399884209220495\n",
            "(35448, 7) (35448, 7)\n",
            "0.12642792588044077\n",
            "0.08634786332673296\n",
            "0.09523169544191958\n",
            "0.2266642122469203\n",
            "0.1629826763534146\n",
            "0.10002887162842265\n",
            "0.3344660079316091\n",
            "11.391976504719372\n",
            "14.51601742991125\n",
            "13.895204451886107\n",
            "11.661812740003764\n",
            "12.82825129133653\n",
            "15.09631918592792\n",
            "13.510188208124989\n",
            "(35448, 7) (35448, 7)\n",
            "0.12689335858394046\n",
            "0.08264928683149467\n",
            "0.09268901262033394\n",
            "0.22328942191740703\n",
            "0.16322170252679533\n",
            "0.09906841638497606\n",
            "0.3374144228290697\n",
            "11.431329718448252\n",
            "14.526790517999533\n",
            "13.870419982969215\n",
            "11.789359567453067\n",
            "12.825286213792188\n",
            "15.204581255215924\n",
            "13.518646743740188\n"
          ]
        }
      ]
    },
    {
      "cell_type": "code",
      "source": [
        "print(bootstrap_results)\n",
        "\n",
        "# Assuming bootstrap_results is your list of dicts\n",
        "df_results = pd.DataFrame(bootstrap_results)\n",
        "\n",
        "df_results['Dataset'] = 'electricity'\n",
        "df_results['Model'] = 'TimeGAN'\n",
        "\n",
        "df_results"
      ],
      "metadata": {
        "colab": {
          "base_uri": "https://localhost:8080/",
          "height": 557
        },
        "id": "7zYaN_finjp5",
        "outputId": "f0b1e91b-3ba0-4ddf-f03e-654911d6e0ae"
      },
      "execution_count": 49,
      "outputs": [
        {
          "output_type": "stream",
          "name": "stdout",
          "text": [
            "[{'bootstrap': 0, 'wasserstein': 0.16246722088491786, 'kl': 13.265152795983786, 'rmse': 0.24745769062034778, 'mae': 0.19066336750984192}, {'bootstrap': 1, 'wasserstein': 0.15963110363769092, 'kl': 13.249368113338146, 'rmse': 0.24503305214665672, 'mae': 0.18828018009662628}, {'bootstrap': 2, 'wasserstein': 0.16104837549728662, 'kl': 13.28523012161646, 'rmse': 0.24551766951627438, 'mae': 0.18936657905578613}, {'bootstrap': 3, 'wasserstein': 0.16113197924620168, 'kl': 13.244356866659192, 'rmse': 0.246219504484378, 'mae': 0.189455047249794}, {'bootstrap': 4, 'wasserstein': 0.160811986853193, 'kl': 13.236802540159248, 'rmse': 0.2475427701508971, 'mae': 0.18930254876613617}, {'bootstrap': 5, 'wasserstein': 0.1604957972384499, 'kl': 13.281107508518526, 'rmse': 0.2448350034391801, 'mae': 0.1890033781528473}, {'bootstrap': 6, 'wasserstein': 0.16027367984918048, 'kl': 13.28293350326256, 'rmse': 0.2437376969851629, 'mae': 0.18816086649894714}, {'bootstrap': 7, 'wasserstein': 0.15949529790592246, 'kl': 13.325593860322915, 'rmse': 0.24262147906095727, 'mae': 0.18696652352809906}, {'bootstrap': 8, 'wasserstein': 0.161088718115089, 'kl': 13.306124843454175, 'rmse': 0.2453647670220179, 'mae': 0.18908309936523438}, {'bootstrap': 9, 'wasserstein': 0.1596510774809743, 'kl': 13.271010919404972, 'rmse': 0.24490395804400322, 'mae': 0.18825607001781464}, {'bootstrap': 10, 'wasserstein': 0.16088093294884007, 'kl': 13.237318021155764, 'rmse': 0.2459617215168808, 'mae': 0.18916460871696472}, {'bootstrap': 11, 'wasserstein': 0.15913269772965102, 'kl': 13.217801637987165, 'rmse': 0.24475278782352705, 'mae': 0.18778875470161438}, {'bootstrap': 12, 'wasserstein': 0.1586475321014551, 'kl': 13.240347309266427, 'rmse': 0.24296603124636795, 'mae': 0.18684689700603485}, {'bootstrap': 13, 'wasserstein': 0.16173560754420854, 'kl': 13.271395687415705, 'rmse': 0.2459283378789683, 'mae': 0.18940572440624237}, {'bootstrap': 14, 'wasserstein': 0.16074651738485962, 'kl': 13.309487714231196, 'rmse': 0.24573125329505546, 'mae': 0.18938346207141876}]\n"
          ]
        },
        {
          "output_type": "execute_result",
          "data": {
            "text/plain": [
              "    bootstrap  wasserstein         kl      rmse       mae      Dataset  \\\n",
              "0           0     0.162467  13.265153  0.247458  0.190663  electricity   \n",
              "1           1     0.159631  13.249368  0.245033  0.188280  electricity   \n",
              "2           2     0.161048  13.285230  0.245518  0.189367  electricity   \n",
              "3           3     0.161132  13.244357  0.246220  0.189455  electricity   \n",
              "4           4     0.160812  13.236803  0.247543  0.189303  electricity   \n",
              "5           5     0.160496  13.281108  0.244835  0.189003  electricity   \n",
              "6           6     0.160274  13.282934  0.243738  0.188161  electricity   \n",
              "7           7     0.159495  13.325594  0.242621  0.186967  electricity   \n",
              "8           8     0.161089  13.306125  0.245365  0.189083  electricity   \n",
              "9           9     0.159651  13.271011  0.244904  0.188256  electricity   \n",
              "10         10     0.160881  13.237318  0.245962  0.189165  electricity   \n",
              "11         11     0.159133  13.217802  0.244753  0.187789  electricity   \n",
              "12         12     0.158648  13.240347  0.242966  0.186847  electricity   \n",
              "13         13     0.161736  13.271396  0.245928  0.189406  electricity   \n",
              "14         14     0.160747  13.309488  0.245731  0.189383  electricity   \n",
              "\n",
              "      Model  \n",
              "0   TimeGAN  \n",
              "1   TimeGAN  \n",
              "2   TimeGAN  \n",
              "3   TimeGAN  \n",
              "4   TimeGAN  \n",
              "5   TimeGAN  \n",
              "6   TimeGAN  \n",
              "7   TimeGAN  \n",
              "8   TimeGAN  \n",
              "9   TimeGAN  \n",
              "10  TimeGAN  \n",
              "11  TimeGAN  \n",
              "12  TimeGAN  \n",
              "13  TimeGAN  \n",
              "14  TimeGAN  "
            ],
            "text/html": [
              "\n",
              "  <div id=\"df-0a4bb29f-267a-47cd-8866-5b12d69935cd\" class=\"colab-df-container\">\n",
              "    <div>\n",
              "<style scoped>\n",
              "    .dataframe tbody tr th:only-of-type {\n",
              "        vertical-align: middle;\n",
              "    }\n",
              "\n",
              "    .dataframe tbody tr th {\n",
              "        vertical-align: top;\n",
              "    }\n",
              "\n",
              "    .dataframe thead th {\n",
              "        text-align: right;\n",
              "    }\n",
              "</style>\n",
              "<table border=\"1\" class=\"dataframe\">\n",
              "  <thead>\n",
              "    <tr style=\"text-align: right;\">\n",
              "      <th></th>\n",
              "      <th>bootstrap</th>\n",
              "      <th>wasserstein</th>\n",
              "      <th>kl</th>\n",
              "      <th>rmse</th>\n",
              "      <th>mae</th>\n",
              "      <th>Dataset</th>\n",
              "      <th>Model</th>\n",
              "    </tr>\n",
              "  </thead>\n",
              "  <tbody>\n",
              "    <tr>\n",
              "      <th>0</th>\n",
              "      <td>0</td>\n",
              "      <td>0.162467</td>\n",
              "      <td>13.265153</td>\n",
              "      <td>0.247458</td>\n",
              "      <td>0.190663</td>\n",
              "      <td>electricity</td>\n",
              "      <td>TimeGAN</td>\n",
              "    </tr>\n",
              "    <tr>\n",
              "      <th>1</th>\n",
              "      <td>1</td>\n",
              "      <td>0.159631</td>\n",
              "      <td>13.249368</td>\n",
              "      <td>0.245033</td>\n",
              "      <td>0.188280</td>\n",
              "      <td>electricity</td>\n",
              "      <td>TimeGAN</td>\n",
              "    </tr>\n",
              "    <tr>\n",
              "      <th>2</th>\n",
              "      <td>2</td>\n",
              "      <td>0.161048</td>\n",
              "      <td>13.285230</td>\n",
              "      <td>0.245518</td>\n",
              "      <td>0.189367</td>\n",
              "      <td>electricity</td>\n",
              "      <td>TimeGAN</td>\n",
              "    </tr>\n",
              "    <tr>\n",
              "      <th>3</th>\n",
              "      <td>3</td>\n",
              "      <td>0.161132</td>\n",
              "      <td>13.244357</td>\n",
              "      <td>0.246220</td>\n",
              "      <td>0.189455</td>\n",
              "      <td>electricity</td>\n",
              "      <td>TimeGAN</td>\n",
              "    </tr>\n",
              "    <tr>\n",
              "      <th>4</th>\n",
              "      <td>4</td>\n",
              "      <td>0.160812</td>\n",
              "      <td>13.236803</td>\n",
              "      <td>0.247543</td>\n",
              "      <td>0.189303</td>\n",
              "      <td>electricity</td>\n",
              "      <td>TimeGAN</td>\n",
              "    </tr>\n",
              "    <tr>\n",
              "      <th>5</th>\n",
              "      <td>5</td>\n",
              "      <td>0.160496</td>\n",
              "      <td>13.281108</td>\n",
              "      <td>0.244835</td>\n",
              "      <td>0.189003</td>\n",
              "      <td>electricity</td>\n",
              "      <td>TimeGAN</td>\n",
              "    </tr>\n",
              "    <tr>\n",
              "      <th>6</th>\n",
              "      <td>6</td>\n",
              "      <td>0.160274</td>\n",
              "      <td>13.282934</td>\n",
              "      <td>0.243738</td>\n",
              "      <td>0.188161</td>\n",
              "      <td>electricity</td>\n",
              "      <td>TimeGAN</td>\n",
              "    </tr>\n",
              "    <tr>\n",
              "      <th>7</th>\n",
              "      <td>7</td>\n",
              "      <td>0.159495</td>\n",
              "      <td>13.325594</td>\n",
              "      <td>0.242621</td>\n",
              "      <td>0.186967</td>\n",
              "      <td>electricity</td>\n",
              "      <td>TimeGAN</td>\n",
              "    </tr>\n",
              "    <tr>\n",
              "      <th>8</th>\n",
              "      <td>8</td>\n",
              "      <td>0.161089</td>\n",
              "      <td>13.306125</td>\n",
              "      <td>0.245365</td>\n",
              "      <td>0.189083</td>\n",
              "      <td>electricity</td>\n",
              "      <td>TimeGAN</td>\n",
              "    </tr>\n",
              "    <tr>\n",
              "      <th>9</th>\n",
              "      <td>9</td>\n",
              "      <td>0.159651</td>\n",
              "      <td>13.271011</td>\n",
              "      <td>0.244904</td>\n",
              "      <td>0.188256</td>\n",
              "      <td>electricity</td>\n",
              "      <td>TimeGAN</td>\n",
              "    </tr>\n",
              "    <tr>\n",
              "      <th>10</th>\n",
              "      <td>10</td>\n",
              "      <td>0.160881</td>\n",
              "      <td>13.237318</td>\n",
              "      <td>0.245962</td>\n",
              "      <td>0.189165</td>\n",
              "      <td>electricity</td>\n",
              "      <td>TimeGAN</td>\n",
              "    </tr>\n",
              "    <tr>\n",
              "      <th>11</th>\n",
              "      <td>11</td>\n",
              "      <td>0.159133</td>\n",
              "      <td>13.217802</td>\n",
              "      <td>0.244753</td>\n",
              "      <td>0.187789</td>\n",
              "      <td>electricity</td>\n",
              "      <td>TimeGAN</td>\n",
              "    </tr>\n",
              "    <tr>\n",
              "      <th>12</th>\n",
              "      <td>12</td>\n",
              "      <td>0.158648</td>\n",
              "      <td>13.240347</td>\n",
              "      <td>0.242966</td>\n",
              "      <td>0.186847</td>\n",
              "      <td>electricity</td>\n",
              "      <td>TimeGAN</td>\n",
              "    </tr>\n",
              "    <tr>\n",
              "      <th>13</th>\n",
              "      <td>13</td>\n",
              "      <td>0.161736</td>\n",
              "      <td>13.271396</td>\n",
              "      <td>0.245928</td>\n",
              "      <td>0.189406</td>\n",
              "      <td>electricity</td>\n",
              "      <td>TimeGAN</td>\n",
              "    </tr>\n",
              "    <tr>\n",
              "      <th>14</th>\n",
              "      <td>14</td>\n",
              "      <td>0.160747</td>\n",
              "      <td>13.309488</td>\n",
              "      <td>0.245731</td>\n",
              "      <td>0.189383</td>\n",
              "      <td>electricity</td>\n",
              "      <td>TimeGAN</td>\n",
              "    </tr>\n",
              "  </tbody>\n",
              "</table>\n",
              "</div>\n",
              "    <div class=\"colab-df-buttons\">\n",
              "\n",
              "  <div class=\"colab-df-container\">\n",
              "    <button class=\"colab-df-convert\" onclick=\"convertToInteractive('df-0a4bb29f-267a-47cd-8866-5b12d69935cd')\"\n",
              "            title=\"Convert this dataframe to an interactive table.\"\n",
              "            style=\"display:none;\">\n",
              "\n",
              "  <svg xmlns=\"http://www.w3.org/2000/svg\" height=\"24px\" viewBox=\"0 -960 960 960\">\n",
              "    <path d=\"M120-120v-720h720v720H120Zm60-500h600v-160H180v160Zm220 220h160v-160H400v160Zm0 220h160v-160H400v160ZM180-400h160v-160H180v160Zm440 0h160v-160H620v160ZM180-180h160v-160H180v160Zm440 0h160v-160H620v160Z\"/>\n",
              "  </svg>\n",
              "    </button>\n",
              "\n",
              "  <style>\n",
              "    .colab-df-container {\n",
              "      display:flex;\n",
              "      gap: 12px;\n",
              "    }\n",
              "\n",
              "    .colab-df-convert {\n",
              "      background-color: #E8F0FE;\n",
              "      border: none;\n",
              "      border-radius: 50%;\n",
              "      cursor: pointer;\n",
              "      display: none;\n",
              "      fill: #1967D2;\n",
              "      height: 32px;\n",
              "      padding: 0 0 0 0;\n",
              "      width: 32px;\n",
              "    }\n",
              "\n",
              "    .colab-df-convert:hover {\n",
              "      background-color: #E2EBFA;\n",
              "      box-shadow: 0px 1px 2px rgba(60, 64, 67, 0.3), 0px 1px 3px 1px rgba(60, 64, 67, 0.15);\n",
              "      fill: #174EA6;\n",
              "    }\n",
              "\n",
              "    .colab-df-buttons div {\n",
              "      margin-bottom: 4px;\n",
              "    }\n",
              "\n",
              "    [theme=dark] .colab-df-convert {\n",
              "      background-color: #3B4455;\n",
              "      fill: #D2E3FC;\n",
              "    }\n",
              "\n",
              "    [theme=dark] .colab-df-convert:hover {\n",
              "      background-color: #434B5C;\n",
              "      box-shadow: 0px 1px 3px 1px rgba(0, 0, 0, 0.15);\n",
              "      filter: drop-shadow(0px 1px 2px rgba(0, 0, 0, 0.3));\n",
              "      fill: #FFFFFF;\n",
              "    }\n",
              "  </style>\n",
              "\n",
              "    <script>\n",
              "      const buttonEl =\n",
              "        document.querySelector('#df-0a4bb29f-267a-47cd-8866-5b12d69935cd button.colab-df-convert');\n",
              "      buttonEl.style.display =\n",
              "        google.colab.kernel.accessAllowed ? 'block' : 'none';\n",
              "\n",
              "      async function convertToInteractive(key) {\n",
              "        const element = document.querySelector('#df-0a4bb29f-267a-47cd-8866-5b12d69935cd');\n",
              "        const dataTable =\n",
              "          await google.colab.kernel.invokeFunction('convertToInteractive',\n",
              "                                                    [key], {});\n",
              "        if (!dataTable) return;\n",
              "\n",
              "        const docLinkHtml = 'Like what you see? Visit the ' +\n",
              "          '<a target=\"_blank\" href=https://colab.research.google.com/notebooks/data_table.ipynb>data table notebook</a>'\n",
              "          + ' to learn more about interactive tables.';\n",
              "        element.innerHTML = '';\n",
              "        dataTable['output_type'] = 'display_data';\n",
              "        await google.colab.output.renderOutput(dataTable, element);\n",
              "        const docLink = document.createElement('div');\n",
              "        docLink.innerHTML = docLinkHtml;\n",
              "        element.appendChild(docLink);\n",
              "      }\n",
              "    </script>\n",
              "  </div>\n",
              "\n",
              "\n",
              "    <div id=\"df-c6bddfa4-7a5e-413d-a5b8-e43bbb7a6bb6\">\n",
              "      <button class=\"colab-df-quickchart\" onclick=\"quickchart('df-c6bddfa4-7a5e-413d-a5b8-e43bbb7a6bb6')\"\n",
              "                title=\"Suggest charts\"\n",
              "                style=\"display:none;\">\n",
              "\n",
              "<svg xmlns=\"http://www.w3.org/2000/svg\" height=\"24px\"viewBox=\"0 0 24 24\"\n",
              "     width=\"24px\">\n",
              "    <g>\n",
              "        <path d=\"M19 3H5c-1.1 0-2 .9-2 2v14c0 1.1.9 2 2 2h14c1.1 0 2-.9 2-2V5c0-1.1-.9-2-2-2zM9 17H7v-7h2v7zm4 0h-2V7h2v10zm4 0h-2v-4h2v4z\"/>\n",
              "    </g>\n",
              "</svg>\n",
              "      </button>\n",
              "\n",
              "<style>\n",
              "  .colab-df-quickchart {\n",
              "      --bg-color: #E8F0FE;\n",
              "      --fill-color: #1967D2;\n",
              "      --hover-bg-color: #E2EBFA;\n",
              "      --hover-fill-color: #174EA6;\n",
              "      --disabled-fill-color: #AAA;\n",
              "      --disabled-bg-color: #DDD;\n",
              "  }\n",
              "\n",
              "  [theme=dark] .colab-df-quickchart {\n",
              "      --bg-color: #3B4455;\n",
              "      --fill-color: #D2E3FC;\n",
              "      --hover-bg-color: #434B5C;\n",
              "      --hover-fill-color: #FFFFFF;\n",
              "      --disabled-bg-color: #3B4455;\n",
              "      --disabled-fill-color: #666;\n",
              "  }\n",
              "\n",
              "  .colab-df-quickchart {\n",
              "    background-color: var(--bg-color);\n",
              "    border: none;\n",
              "    border-radius: 50%;\n",
              "    cursor: pointer;\n",
              "    display: none;\n",
              "    fill: var(--fill-color);\n",
              "    height: 32px;\n",
              "    padding: 0;\n",
              "    width: 32px;\n",
              "  }\n",
              "\n",
              "  .colab-df-quickchart:hover {\n",
              "    background-color: var(--hover-bg-color);\n",
              "    box-shadow: 0 1px 2px rgba(60, 64, 67, 0.3), 0 1px 3px 1px rgba(60, 64, 67, 0.15);\n",
              "    fill: var(--button-hover-fill-color);\n",
              "  }\n",
              "\n",
              "  .colab-df-quickchart-complete:disabled,\n",
              "  .colab-df-quickchart-complete:disabled:hover {\n",
              "    background-color: var(--disabled-bg-color);\n",
              "    fill: var(--disabled-fill-color);\n",
              "    box-shadow: none;\n",
              "  }\n",
              "\n",
              "  .colab-df-spinner {\n",
              "    border: 2px solid var(--fill-color);\n",
              "    border-color: transparent;\n",
              "    border-bottom-color: var(--fill-color);\n",
              "    animation:\n",
              "      spin 1s steps(1) infinite;\n",
              "  }\n",
              "\n",
              "  @keyframes spin {\n",
              "    0% {\n",
              "      border-color: transparent;\n",
              "      border-bottom-color: var(--fill-color);\n",
              "      border-left-color: var(--fill-color);\n",
              "    }\n",
              "    20% {\n",
              "      border-color: transparent;\n",
              "      border-left-color: var(--fill-color);\n",
              "      border-top-color: var(--fill-color);\n",
              "    }\n",
              "    30% {\n",
              "      border-color: transparent;\n",
              "      border-left-color: var(--fill-color);\n",
              "      border-top-color: var(--fill-color);\n",
              "      border-right-color: var(--fill-color);\n",
              "    }\n",
              "    40% {\n",
              "      border-color: transparent;\n",
              "      border-right-color: var(--fill-color);\n",
              "      border-top-color: var(--fill-color);\n",
              "    }\n",
              "    60% {\n",
              "      border-color: transparent;\n",
              "      border-right-color: var(--fill-color);\n",
              "    }\n",
              "    80% {\n",
              "      border-color: transparent;\n",
              "      border-right-color: var(--fill-color);\n",
              "      border-bottom-color: var(--fill-color);\n",
              "    }\n",
              "    90% {\n",
              "      border-color: transparent;\n",
              "      border-bottom-color: var(--fill-color);\n",
              "    }\n",
              "  }\n",
              "</style>\n",
              "\n",
              "      <script>\n",
              "        async function quickchart(key) {\n",
              "          const quickchartButtonEl =\n",
              "            document.querySelector('#' + key + ' button');\n",
              "          quickchartButtonEl.disabled = true;  // To prevent multiple clicks.\n",
              "          quickchartButtonEl.classList.add('colab-df-spinner');\n",
              "          try {\n",
              "            const charts = await google.colab.kernel.invokeFunction(\n",
              "                'suggestCharts', [key], {});\n",
              "          } catch (error) {\n",
              "            console.error('Error during call to suggestCharts:', error);\n",
              "          }\n",
              "          quickchartButtonEl.classList.remove('colab-df-spinner');\n",
              "          quickchartButtonEl.classList.add('colab-df-quickchart-complete');\n",
              "        }\n",
              "        (() => {\n",
              "          let quickchartButtonEl =\n",
              "            document.querySelector('#df-c6bddfa4-7a5e-413d-a5b8-e43bbb7a6bb6 button');\n",
              "          quickchartButtonEl.style.display =\n",
              "            google.colab.kernel.accessAllowed ? 'block' : 'none';\n",
              "        })();\n",
              "      </script>\n",
              "    </div>\n",
              "\n",
              "  <div id=\"id_7fae0ba3-dc61-4869-85a1-8520a67aaf5a\">\n",
              "    <style>\n",
              "      .colab-df-generate {\n",
              "        background-color: #E8F0FE;\n",
              "        border: none;\n",
              "        border-radius: 50%;\n",
              "        cursor: pointer;\n",
              "        display: none;\n",
              "        fill: #1967D2;\n",
              "        height: 32px;\n",
              "        padding: 0 0 0 0;\n",
              "        width: 32px;\n",
              "      }\n",
              "\n",
              "      .colab-df-generate:hover {\n",
              "        background-color: #E2EBFA;\n",
              "        box-shadow: 0px 1px 2px rgba(60, 64, 67, 0.3), 0px 1px 3px 1px rgba(60, 64, 67, 0.15);\n",
              "        fill: #174EA6;\n",
              "      }\n",
              "\n",
              "      [theme=dark] .colab-df-generate {\n",
              "        background-color: #3B4455;\n",
              "        fill: #D2E3FC;\n",
              "      }\n",
              "\n",
              "      [theme=dark] .colab-df-generate:hover {\n",
              "        background-color: #434B5C;\n",
              "        box-shadow: 0px 1px 3px 1px rgba(0, 0, 0, 0.15);\n",
              "        filter: drop-shadow(0px 1px 2px rgba(0, 0, 0, 0.3));\n",
              "        fill: #FFFFFF;\n",
              "      }\n",
              "    </style>\n",
              "    <button class=\"colab-df-generate\" onclick=\"generateWithVariable('df_results')\"\n",
              "            title=\"Generate code using this dataframe.\"\n",
              "            style=\"display:none;\">\n",
              "\n",
              "  <svg xmlns=\"http://www.w3.org/2000/svg\" height=\"24px\"viewBox=\"0 0 24 24\"\n",
              "       width=\"24px\">\n",
              "    <path d=\"M7,19H8.4L18.45,9,17,7.55,7,17.6ZM5,21V16.75L18.45,3.32a2,2,0,0,1,2.83,0l1.4,1.43a1.91,1.91,0,0,1,.58,1.4,1.91,1.91,0,0,1-.58,1.4L9.25,21ZM18.45,9,17,7.55Zm-12,3A5.31,5.31,0,0,0,4.9,8.1,5.31,5.31,0,0,0,1,6.5,5.31,5.31,0,0,0,4.9,4.9,5.31,5.31,0,0,0,6.5,1,5.31,5.31,0,0,0,8.1,4.9,5.31,5.31,0,0,0,12,6.5,5.46,5.46,0,0,0,6.5,12Z\"/>\n",
              "  </svg>\n",
              "    </button>\n",
              "    <script>\n",
              "      (() => {\n",
              "      const buttonEl =\n",
              "        document.querySelector('#id_7fae0ba3-dc61-4869-85a1-8520a67aaf5a button.colab-df-generate');\n",
              "      buttonEl.style.display =\n",
              "        google.colab.kernel.accessAllowed ? 'block' : 'none';\n",
              "\n",
              "      buttonEl.onclick = () => {\n",
              "        google.colab.notebook.generateWithVariable('df_results');\n",
              "      }\n",
              "      })();\n",
              "    </script>\n",
              "  </div>\n",
              "\n",
              "    </div>\n",
              "  </div>\n"
            ],
            "application/vnd.google.colaboratory.intrinsic+json": {
              "type": "dataframe",
              "variable_name": "df_results",
              "summary": "{\n  \"name\": \"df_results\",\n  \"rows\": 15,\n  \"fields\": [\n    {\n      \"column\": \"bootstrap\",\n      \"properties\": {\n        \"dtype\": \"number\",\n        \"std\": 4,\n        \"min\": 0,\n        \"max\": 14,\n        \"num_unique_values\": 15,\n        \"samples\": [\n          9,\n          11,\n          0\n        ],\n        \"semantic_type\": \"\",\n        \"description\": \"\"\n      }\n    },\n    {\n      \"column\": \"wasserstein\",\n      \"properties\": {\n        \"dtype\": \"number\",\n        \"std\": 0.0010204870324272174,\n        \"min\": 0.1586475321014551,\n        \"max\": 0.16246722088491786,\n        \"num_unique_values\": 15,\n        \"samples\": [\n          0.1596510774809743,\n          0.15913269772965102,\n          0.16246722088491786\n        ],\n        \"semantic_type\": \"\",\n        \"description\": \"\"\n      }\n    },\n    {\n      \"column\": \"kl\",\n      \"properties\": {\n        \"dtype\": \"number\",\n        \"std\": 0.030841133004003044,\n        \"min\": 13.217801637987165,\n        \"max\": 13.325593860322915,\n        \"num_unique_values\": 15,\n        \"samples\": [\n          13.271010919404972,\n          13.217801637987165,\n          13.265152795983786\n        ],\n        \"semantic_type\": \"\",\n        \"description\": \"\"\n      }\n    },\n    {\n      \"column\": \"rmse\",\n      \"properties\": {\n        \"dtype\": \"number\",\n        \"std\": 0.0013977181069536294,\n        \"min\": 0.24262147906095727,\n        \"max\": 0.2475427701508971,\n        \"num_unique_values\": 15,\n        \"samples\": [\n          0.24490395804400322,\n          0.24475278782352705,\n          0.24745769062034778\n        ],\n        \"semantic_type\": \"\",\n        \"description\": \"\"\n      }\n    },\n    {\n      \"column\": \"mae\",\n      \"properties\": {\n        \"dtype\": \"number\",\n        \"std\": 0.0010197759677691579,\n        \"min\": 0.18684689700603485,\n        \"max\": 0.19066336750984192,\n        \"num_unique_values\": 15,\n        \"samples\": [\n          0.18825607001781464,\n          0.18778875470161438,\n          0.19066336750984192\n        ],\n        \"semantic_type\": \"\",\n        \"description\": \"\"\n      }\n    },\n    {\n      \"column\": \"Dataset\",\n      \"properties\": {\n        \"dtype\": \"category\",\n        \"num_unique_values\": 1,\n        \"samples\": [\n          \"electricity\"\n        ],\n        \"semantic_type\": \"\",\n        \"description\": \"\"\n      }\n    },\n    {\n      \"column\": \"Model\",\n      \"properties\": {\n        \"dtype\": \"category\",\n        \"num_unique_values\": 1,\n        \"samples\": [\n          \"TimeGAN\"\n        ],\n        \"semantic_type\": \"\",\n        \"description\": \"\"\n      }\n    }\n  ]\n}"
            }
          },
          "metadata": {},
          "execution_count": 49
        }
      ]
    },
    {
      "cell_type": "code",
      "source": [
        "summary_row = {\n",
        "    'Dataset': 'electricity',\n",
        "    'Model': 'TimeGAN',\n",
        "    'Wasserstein': df_results['wasserstein'].mean(),\n",
        "    'KL': df_results['kl'].mean(),\n",
        "    'RMSE': df_results['rmse'].mean(),\n",
        "    'MAE': df_results['mae'].mean()\n",
        "}\n",
        "\n",
        "df_summary = pd.DataFrame([summary_row])\n",
        "print(df_summary)"
      ],
      "metadata": {
        "colab": {
          "base_uri": "https://localhost:8080/"
        },
        "id": "OwehLjFkqLYs",
        "outputId": "ab6d126e-c527-432b-cf20-7318799bc6c1"
      },
      "execution_count": 50,
      "outputs": [
        {
          "output_type": "stream",
          "name": "stdout",
          "text": [
            "       Dataset    Model  Wasserstein         KL      RMSE       MAE\n",
            "0  electricity  TimeGAN     0.160483  13.268269  0.245238  0.188742\n"
          ]
        }
      ]
    }
  ]
}