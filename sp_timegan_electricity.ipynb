{
  "nbformat": 4,
  "nbformat_minor": 0,
  "metadata": {
    "colab": {
      "provenance": [],
      "gpuType": "T4",
      "authorship_tag": "ABX9TyPRmdaQi8Kl9oZgrQnaRx5N",
      "include_colab_link": true
    },
    "kernelspec": {
      "name": "python3",
      "display_name": "Python 3"
    },
    "language_info": {
      "name": "python"
    },
    "accelerator": "GPU"
  },
  "cells": [
    {
      "cell_type": "markdown",
      "metadata": {
        "id": "view-in-github",
        "colab_type": "text"
      },
      "source": [
        "<a href=\"https://colab.research.google.com/github/pmxfa/sp-shapely/blob/main/sp_timegan_electricity.ipynb\" target=\"_parent\"><img src=\"https://colab.research.google.com/assets/colab-badge.svg\" alt=\"Open In Colab\"/></a>"
      ]
    },
    {
      "cell_type": "code",
      "execution_count": null,
      "metadata": {
        "id": "oaMLghK_ipz1",
        "collapsed": true
      },
      "outputs": [],
      "source": [
        "!pip install synthcity"
      ]
    },
    {
      "cell_type": "markdown",
      "source": [
        "# Training"
      ],
      "metadata": {
        "id": "NcwQ6Yo09JC8"
      }
    },
    {
      "cell_type": "code",
      "source": [
        "from google.colab import drive\n",
        "drive.mount('/content/drive')\n",
        "\n",
        "import sys\n",
        "import warnings\n",
        "import pandas as pd\n",
        "import numpy as np\n",
        "from sklearn.preprocessing import MinMaxScaler\n",
        "\n",
        "import synthcity.logger as log\n",
        "from synthcity.plugins import Plugins\n",
        "from synthcity.plugins.core.dataloader import TimeSeriesDataLoader\n",
        "\n",
        "log.add(sink=sys.stderr, level=\"INFO\")"
      ],
      "metadata": {
        "id": "kfDi7FQF9LIv",
        "colab": {
          "base_uri": "https://localhost:8080/"
        },
        "outputId": "423c29a1-763a-41c0-fa3a-276d5d8cca08",
        "collapsed": true
      },
      "execution_count": 1,
      "outputs": [
        {
          "output_type": "stream",
          "name": "stdout",
          "text": [
            "Mounted at /content/drive\n",
            "[KeOps] Compiling cuda jit compiler engine ... OK\n",
            "[pyKeOps] Compiling nvrtc binder for python ... OK\n"
          ]
        }
      ]
    },
    {
      "cell_type": "code",
      "source": [
        "file_path = \"/content/drive/Shareddrives/sp_env/datasets/Electricity Transformer Dataset (ETDataset)/ETTh1.csv\"\n",
        "\n",
        "df = pd.read_csv(file_path)\n",
        "print(df.head())\n",
        "print(df.info())\n",
        "print(df.isnull().sum())"
      ],
      "metadata": {
        "id": "DCLsmN-F9NGv",
        "colab": {
          "base_uri": "https://localhost:8080/"
        },
        "outputId": "8b48f885-32ab-42f0-a230-f40491e7aa68",
        "collapsed": true
      },
      "execution_count": 2,
      "outputs": [
        {
          "output_type": "stream",
          "name": "stdout",
          "text": [
            "                  date   HUFL   HULL   MUFL   MULL   LUFL   LULL         OT\n",
            "0  2016-07-01 00:00:00  5.827  2.009  1.599  0.462  4.203  1.340  30.531000\n",
            "1  2016-07-01 01:00:00  5.693  2.076  1.492  0.426  4.142  1.371  27.787001\n",
            "2  2016-07-01 02:00:00  5.157  1.741  1.279  0.355  3.777  1.218  27.787001\n",
            "3  2016-07-01 03:00:00  5.090  1.942  1.279  0.391  3.807  1.279  25.044001\n",
            "4  2016-07-01 04:00:00  5.358  1.942  1.492  0.462  3.868  1.279  21.948000\n",
            "<class 'pandas.core.frame.DataFrame'>\n",
            "RangeIndex: 17420 entries, 0 to 17419\n",
            "Data columns (total 8 columns):\n",
            " #   Column  Non-Null Count  Dtype  \n",
            "---  ------  --------------  -----  \n",
            " 0   date    17420 non-null  object \n",
            " 1   HUFL    17420 non-null  float64\n",
            " 2   HULL    17420 non-null  float64\n",
            " 3   MUFL    17420 non-null  float64\n",
            " 4   MULL    17420 non-null  float64\n",
            " 5   LUFL    17420 non-null  float64\n",
            " 6   LULL    17420 non-null  float64\n",
            " 7   OT      17420 non-null  float64\n",
            "dtypes: float64(7), object(1)\n",
            "memory usage: 1.1+ MB\n",
            "None\n",
            "date    0\n",
            "HUFL    0\n",
            "HULL    0\n",
            "MUFL    0\n",
            "MULL    0\n",
            "LUFL    0\n",
            "LULL    0\n",
            "OT      0\n",
            "dtype: int64\n"
          ]
        }
      ]
    },
    {
      "cell_type": "code",
      "source": [
        "# Convert 'date' to datetime, set as index, and sort\n",
        "df['date'] = pd.to_datetime(df['date'])\n",
        "df.set_index('date', inplace=True)\n",
        "df.sort_index(inplace=True)\n",
        "\n",
        "# Keep the latest 5000 rows\n",
        "df_latest = df.tail(5000)\n",
        "\n",
        "# Train-test split: 70% for training (for TimeGAN), 30% for testing (TSTR)\n",
        "train_size = int(0.7 * len(df_latest))\n",
        "df_train = df_latest.iloc[:train_size]\n",
        "df_test = df_latest.iloc[train_size:]  # use later for LSTM-TSTR\n",
        "\n",
        "# Normalize the data\n",
        "scaler = MinMaxScaler()\n",
        "scaled_train = scaler.fit_transform(df_train)\n",
        "df_scaled_train = pd.DataFrame(scaled_train, columns=df_train.columns, index=df_train.index)\n",
        "scaled_test = scaler.transform(df_test)\n",
        "df_scaled_test = pd.DataFrame(scaled_test, columns=df_test.columns, index=df_test.index)\n",
        "\n",
        "# Sequence length for time-series data (dataset = hourly; 24 hours)\n",
        "sequence_length = 24\n",
        "# temporal_data = []\n",
        "# observation_times = []\n",
        "\n",
        "# # Generate sequences from df_scaled_train only\n",
        "# for start in range(len(df_scaled_train) - sequence_length + 1):\n",
        "#     sequence = df_scaled_train.iloc[start:start + sequence_length].reset_index(drop=True)\n",
        "#     temporal_data.append(sequence)\n",
        "#     observation_times.append(list(range(sequence_length)))  # relative time within the window\n",
        "\n",
        "# # Dummy outcome for TimeGAN (can be used in DataLoader)\n",
        "# dummy_outcome = pd.DataFrame(np.zeros(len(temporal_data)), columns=[\"outcome\"])\n",
        "\n",
        "# # Create DataLoader for TimeGAN\n",
        "# loader = TimeSeriesDataLoader(\n",
        "#     temporal_data=temporal_data,\n",
        "#     observation_times=observation_times,\n",
        "#     static_data=None,\n",
        "#     outcome=dummy_outcome,\n",
        "# )\n",
        "\n",
        "# # Print the loader info\n",
        "# print(f\"TimeSeriesDataLoader created with {len(temporal_data)} sequences\")\n"
      ],
      "metadata": {
        "id": "siWRiBtn9O0V"
      },
      "execution_count": 4,
      "outputs": []
    },
    {
      "cell_type": "code",
      "source": [
        "temporal_data_test = []\n",
        "observation_times_test = []\n",
        "\n",
        "# Generate sequences from df_scaled_test only\n",
        "for start in range(len(df_scaled_test) - sequence_length + 1):\n",
        "    sequence = df_scaled_test.iloc[start:start + sequence_length].reset_index(drop=True)\n",
        "    temporal_data_test.append(sequence)\n",
        "    observation_times_test.append(list(range(sequence_length)))  # relative time within the window\n",
        "\n",
        "# Dummy outcome for TimeGAN (can be used in DataLoader)\n",
        "dummy_outcome = pd.DataFrame(np.zeros(len(temporal_data_test)), columns=[\"outcome\"])\n",
        "\n",
        "# Create DataLoader for TimeGAN\n",
        "loader = TimeSeriesDataLoader(\n",
        "    temporal_data=temporal_data_test,\n",
        "    observation_times=observation_times_test,\n",
        "    static_data=None,\n",
        "    outcome=dummy_outcome,\n",
        ")\n",
        "\n",
        "# Print the loader info\n",
        "print(f\"TimeSeriesDataLoader TEST SET created with {len(temporal_data_test)} sequences\")"
      ],
      "metadata": {
        "colab": {
          "base_uri": "https://localhost:8080/"
        },
        "id": "RFJXVWHMjE6l",
        "outputId": "af5004ba-7da4-4508-96d2-7a6dff855b5c"
      },
      "execution_count": 9,
      "outputs": [
        {
          "output_type": "stream",
          "name": "stdout",
          "text": [
            "TimeSeriesDataLoader TEST SET created with 1477 sequences\n"
          ]
        }
      ]
    },
    {
      "cell_type": "code",
      "source": [
        "print(len(df_train))\n",
        "print(loader.dataframe())"
      ],
      "metadata": {
        "id": "FmZe08FM9Rd0",
        "colab": {
          "base_uri": "https://localhost:8080/"
        },
        "outputId": "6467ae07-6bc7-451f-dd93-963c872b0785",
        "collapsed": true
      },
      "execution_count": null,
      "outputs": [
        {
          "output_type": "stream",
          "name": "stdout",
          "text": [
            "3500\n",
            "       seq_id  seq_time_id  seq_temporal_HUFL  seq_temporal_HULL  \\\n",
            "0           0            0           0.642388           0.302720   \n",
            "1           0            1           0.613277           0.410782   \n",
            "2           0            2           0.656955           0.427003   \n",
            "3           0            3           0.647244           0.378339   \n",
            "4           0            4           0.711963           0.416189   \n",
            "...       ...          ...                ...                ...   \n",
            "83443    3476           19           0.841426           0.362118   \n",
            "83444    3476           20           0.865681           0.362118   \n",
            "83445    3476           21           0.864062           0.437818   \n",
            "83446    3476           22           0.930425           0.481075   \n",
            "83447    3476           23           0.791250           0.405375   \n",
            "\n",
            "       seq_temporal_LUFL  seq_temporal_LULL  seq_temporal_MUFL  \\\n",
            "0               0.429806           0.589646           0.659849   \n",
            "1               0.429806           0.666667           0.620829   \n",
            "2               0.364003           0.525673           0.675646   \n",
            "3               0.372786           0.525673           0.680301   \n",
            "4               0.425486           0.589646           0.741631   \n",
            "...                  ...                ...                ...   \n",
            "83443           0.605184           0.627946           0.841092   \n",
            "83444           0.605184           0.500000           0.878256   \n",
            "83445           0.627214           0.576599           0.880113   \n",
            "83446           0.776242           0.563973           0.916362   \n",
            "83447           0.385889           0.486953           0.827152   \n",
            "\n",
            "       seq_temporal_MULL  seq_temporal_OT  seq_out_outcome  \n",
            "0               0.330177         0.377483              0.0  \n",
            "1               0.403162         0.393583              0.0  \n",
            "2               0.393604         0.405629              0.0  \n",
            "3               0.374576         0.413622              0.0  \n",
            "4               0.419064         0.409625              0.0  \n",
            "...                  ...              ...              ...  \n",
            "83443           0.317492         0.642555              0.0  \n",
            "83444           0.301590         0.586321              0.0  \n",
            "83445           0.377792         0.614467              0.0  \n",
            "83446           0.377792         0.662651              0.0  \n",
            "83447           0.434876         0.730932              0.0  \n",
            "\n",
            "[83448 rows x 10 columns]\n"
          ]
        }
      ]
    },
    {
      "cell_type": "code",
      "source": [
        "hparams = {\n",
        "          \"mode\": \"LSTM\", # default mode = RNN;\n",
        "          \"dataloader_sampling_strategy\": \"none\" # default = imbalanced_time_censoring\n",
        "}\n",
        "\n",
        "# Load TimeGAN with custom parameters\n",
        "syn_model = Plugins().get(\"timegan\", **hparams)"
      ],
      "metadata": {
        "id": "oYqRdbxl9W74",
        "colab": {
          "base_uri": "https://localhost:8080/"
        },
        "outputId": "a596113e-010b-41dc-a9ae-4b930d3d3c37"
      },
      "execution_count": null,
      "outputs": [
        {
          "output_type": "stream",
          "name": "stderr",
          "text": [
            "[2025-05-07T10:55:46.427394+0000][1158][CRITICAL] module disabled: /usr/local/lib/python3.11/dist-packages/synthcity/plugins/generic/plugin_goggle.py\n",
            "[2025-05-07T10:55:46.427394+0000][1158][CRITICAL] module disabled: /usr/local/lib/python3.11/dist-packages/synthcity/plugins/generic/plugin_goggle.py\n",
            "[2025-05-07T10:55:46.427394+0000][1158][CRITICAL] module disabled: /usr/local/lib/python3.11/dist-packages/synthcity/plugins/generic/plugin_goggle.py\n"
          ]
        }
      ]
    },
    {
      "cell_type": "code",
      "source": [
        "# Print all parameters of initialized model\n",
        "for attr in dir(syn_model):\n",
        "    if not attr.startswith(\"_\") and not callable(getattr(syn_model, attr)):\n",
        "        print(f\"{attr}: {getattr(syn_model, attr)}\")"
      ],
      "metadata": {
        "id": "y9ZVw8pT9Y_Q",
        "colab": {
          "base_uri": "https://localhost:8080/"
        },
        "outputId": "3c7feedd-f295-4c00-99a4-42ff8e0dd7df"
      },
      "execution_count": null,
      "outputs": [
        {
          "output_type": "stream",
          "name": "stdout",
          "text": [
            "batch_size: 64\n",
            "class_name: TimeGANPlugin\n",
            "clipping_value: 0\n",
            "compress_dataset: False\n",
            "dataloader_sampling_strategy: none\n",
            "device: cuda\n",
            "discriminator_batch_norm: False\n",
            "discriminator_dropout: 0.1\n",
            "discriminator_loss: None\n",
            "discriminator_lr: 0.001\n",
            "discriminator_n_iter: 1\n",
            "discriminator_n_layers_hidden: 3\n",
            "discriminator_n_units_hidden: 300\n",
            "discriminator_nonlin: leaky_relu\n",
            "discriminator_weight_decay: 0.001\n",
            "embedding_penalty: 10\n",
            "encoder: None\n",
            "encoder_max_clusters: 20\n",
            "expecting_conditional: False\n",
            "fitted: False\n",
            "gamma_penalty: 1\n",
            "generator_batch_norm: False\n",
            "generator_dropout: 0.01\n",
            "generator_loss: None\n",
            "generator_lr: 0.001\n",
            "generator_n_layers_hidden: 2\n",
            "generator_n_units_hidden: 150\n",
            "generator_nonlin: leaky_relu\n",
            "generator_nonlin_out_continuous: tanh\n",
            "generator_nonlin_out_discrete: softmax\n",
            "generator_residual: True\n",
            "generator_weight_decay: 0.001\n",
            "mode: LSTM\n",
            "module_name: synthcity.plugins.time_series.plugin_timegan\n",
            "module_relative_path: ../time_series/plugin_timegan.py\n",
            "moments_penalty: 100\n",
            "n_iter: 1000\n",
            "n_iter_print: 10\n",
            "outcome_encoder: TabularEncoder(cat_encoder_params={'handle_unknown': 'ignore',\n",
            "                                   'sparse_output': False},\n",
            "               categorical_encoder='onehot',\n",
            "               cont_encoder_params={'n_components': 20},\n",
            "               continuous_encoder='bayesian_gmm', max_clusters=20)\n",
            "random_state: 0\n",
            "sampling_patience: 500\n",
            "sampling_strategy: marginal\n",
            "strict: True\n",
            "use_horizon_condition: True\n",
            "workspace: workspace\n"
          ]
        }
      ]
    },
    {
      "cell_type": "markdown",
      "source": [
        "## fitting the model"
      ],
      "metadata": {
        "id": "IKG0O5Pg9hpG"
      }
    },
    {
      "cell_type": "code",
      "source": [
        "print(loader.shape)"
      ],
      "metadata": {
        "id": "THzKqhIFcWlG",
        "outputId": "33db5309-8fd0-47f0-af5e-39ddbe776d0f",
        "colab": {
          "base_uri": "https://localhost:8080/"
        }
      },
      "execution_count": null,
      "outputs": [
        {
          "output_type": "stream",
          "name": "stdout",
          "text": [
            "(83448, 10)\n"
          ]
        }
      ]
    },
    {
      "cell_type": "code",
      "source": [
        "#  Train the model\n",
        "syn_model.fit(loader)"
      ],
      "metadata": {
        "id": "-BKXe4G19l_8",
        "colab": {
          "base_uri": "https://localhost:8080/"
        },
        "outputId": "2c673315-dc36-46ac-a921-5381803b2674"
      },
      "execution_count": null,
      "outputs": [
        {
          "output_type": "stream",
          "name": "stderr",
          "text": [
            "100%|██████████| 1000/1000 [2:09:12<00:00,  7.75s/it]\n"
          ]
        },
        {
          "output_type": "execute_result",
          "data": {
            "text/plain": [
              "<synthcity.plugins.time_series.plugin_timegan.TimeGANPlugin at 0x7ed4d27ecd50>"
            ]
          },
          "metadata": {},
          "execution_count": 9
        }
      ]
    },
    {
      "cell_type": "code",
      "source": [
        "saved_model = syn_model.save()"
      ],
      "metadata": {
        "id": "MMIE6K28AavA"
      },
      "execution_count": null,
      "outputs": []
    },
    {
      "cell_type": "code",
      "source": [
        "from synthcity.utils.serialization import save_to_file, load_from_file\n",
        "\n",
        "# Save model to drive\n",
        "# save_to_file('/content/drive/Shareddrives/sp_env/test_model.pkl', syn_model)\n",
        "save_to_file('/content/drive/Shareddrives/sp_env/saved_models/GAN_Electricity.pkl', syn_model)\n",
        "\n",
        "# Load the model\n",
        "# loaded_model = load_from_file('/content/drive/Shareddrives/sp_env/test_model.pkl')"
      ],
      "metadata": {
        "id": "GXR9yPgyDsfe"
      },
      "execution_count": null,
      "outputs": []
    },
    {
      "cell_type": "code",
      "source": [
        "n_samples = len(temporal_data)\n",
        "print(\"n_samples:\", n_samples)\n",
        "syn_data = syn_model.generate(count=n_samples)\n",
        "print(syn_data.shape)"
      ],
      "metadata": {
        "colab": {
          "base_uri": "https://localhost:8080/"
        },
        "id": "xziCvHeRjvaM",
        "outputId": "1f762270-0665-42c0-bba8-0c4b150dfc30"
      },
      "execution_count": null,
      "outputs": [
        {
          "output_type": "stream",
          "name": "stdout",
          "text": [
            "n_samples: 3477\n",
            "(43421, 10)\n"
          ]
        }
      ]
    },
    {
      "cell_type": "code",
      "source": [
        "# Save with automated format\n",
        "import datetime\n",
        "import os\n",
        "# Get the current date and time\n",
        "now = datetime.datetime.now()\n",
        "timestamp = now.strftime(\"%m%d%y-%H%M%S\")  # MMDDYY-HHMMSS format\n",
        "\n",
        "# Define the base directory\n",
        "base_dir = \"/content/drive/Shareddrives/sp_env/synthetic_datasets/TimeGAN/electricity\"  #CHANGE THIS\n",
        "if not os.path.exists(base_dir):\n",
        "    os.makedirs(base_dir)\n",
        "\n",
        "# Construct the filename\n",
        "model_name = type(syn_model).__name__.lower() # Get model name dynamically\n",
        "filename = f\"{timestamp}-{model_name}-n_3000.csv\"\n",
        "filepath = os.path.join(base_dir, filename)\n",
        "\n",
        "# Save the data\n",
        "df_syn = syn_data.dataframe()\n",
        "df_syn.to_csv(filepath, index=False)\n",
        "\n",
        "print(f\"Synthetic data saved to: {filepath}\")"
      ],
      "metadata": {
        "id": "J4rF0HY29o65",
        "colab": {
          "base_uri": "https://localhost:8080/"
        },
        "outputId": "36ee500b-3cb8-4839-f85b-1a912c54fc48"
      },
      "execution_count": null,
      "outputs": [
        {
          "output_type": "stream",
          "name": "stdout",
          "text": [
            "Synthetic data saved to: /content/drive/Shareddrives/sp_env/synthetic_datasets/TimeGAN/electricity/050725-132812-timeganplugin-n_3000.csv\n"
          ]
        }
      ]
    },
    {
      "cell_type": "markdown",
      "source": [
        "# Evaluation"
      ],
      "metadata": {
        "id": "TICnBaoH9r8Z"
      }
    },
    {
      "cell_type": "markdown",
      "source": [
        "## Prerequisites"
      ],
      "metadata": {
        "id": "QlHAzxfV9uXf"
      }
    },
    {
      "cell_type": "code",
      "source": [
        "syn_data = pd.read_csv('/content/drive/Shareddrives/sp_env/synthetic_datasets/TimeGAN/electricity/050725-132812-timeganplugin-n_3000.csv')"
      ],
      "metadata": {
        "id": "J1tmHjywjjJ8"
      },
      "execution_count": 10,
      "outputs": []
    },
    {
      "cell_type": "code",
      "source": [
        "# Define selected columns explicitly\n",
        "selected_columns = ['seq_temporal_HUFL', 'seq_temporal_HULL', 'seq_temporal_LUFL', 'seq_temporal_LULL', 'seq_temporal_MUFL', 'seq_temporal_MULL', 'seq_temporal_OT']\n",
        "\n",
        "# Ensure real_data and synthetic_data only contain the selected columns\n",
        "real_data = loader.dataframe()[selected_columns].to_numpy()\n",
        "synthetic_data = syn_data[selected_columns].to_numpy()"
      ],
      "metadata": {
        "id": "zUMHadsq9vw8"
      },
      "execution_count": 12,
      "outputs": []
    },
    {
      "cell_type": "code",
      "source": [
        "#  Check datasets\n",
        "\n",
        "print(real_data, \"\\n ------------------------------------------------------- \\n\", synthetic_data)\n",
        "print(type(real_data),type(synthetic_data))\n",
        "print(real_data.shape,synthetic_data.shape)\n",
        "\n",
        "\"\"\" TODO\n",
        "[] add adjusting off dataset to fit min length here\n",
        "[] remove min length stuff in helper funcs\n",
        "\"\"\""
      ],
      "metadata": {
        "id": "DumXr_Gg9y6U",
        "colab": {
          "base_uri": "https://localhost:8080/",
          "height": 331
        },
        "outputId": "2d330778-fc1f-4289-f17f-a7fe57371f52"
      },
      "execution_count": 13,
      "outputs": [
        {
          "output_type": "stream",
          "name": "stdout",
          "text": [
            "[[0.64238779 0.32967478 0.42980559 ... 0.67287374 0.33964623 0.67070109]\n",
            " [0.31229163 0.50270358 0.36846652 ... 0.32249713 0.55234947 0.69878968]\n",
            " [0.54529643 0.36752483 0.42102231 ... 0.56598494 0.38091834 0.75502396]\n",
            " ...\n",
            " [0.56471953 0.49729644 0.53506119 ... 0.56506958 0.4952653  0.79921214]\n",
            " [0.72005606 0.49729644 0.52627788 ... 0.72954808 0.4952653  0.77106644]\n",
            " [0.74109776 0.47566783 0.53506119 ... 0.74814312 0.44765052 0.75902034]] \n",
            " ------------------------------------------------------- \n",
            " [[0.8511261  0.5072802  0.33854351 ... 0.86287211 0.37202017 0.50054281]\n",
            " [0.85119168 0.5072618  0.65129147 ... 0.86286684 0.37195367 0.75588455]\n",
            " [0.80797667 0.28399383 0.38214453 ... 0.86282263 0.33302839 0.50060487]\n",
            " ...\n",
            " [0.67343941 0.56629246 0.43043925 ... 0.83052238 0.37179222 0.46109215]\n",
            " [0.78868023 0.44475754 0.38193633 ... 0.79199183 0.54619039 0.50064705]\n",
            " [0.85097307 0.2835606  0.65116624 ... 0.75196361 0.37169687 0.37934677]]\n",
            "<class 'numpy.ndarray'> <class 'numpy.ndarray'>\n",
            "(35448, 7) (43421, 7)\n"
          ]
        },
        {
          "output_type": "execute_result",
          "data": {
            "text/plain": [
              "' TODO\\n[] add adjusting off dataset to fit min length here\\n[] remove min length stuff in helper funcs\\n'"
            ],
            "application/vnd.google.colaboratory.intrinsic+json": {
              "type": "string"
            }
          },
          "metadata": {},
          "execution_count": 13
        }
      ]
    },
    {
      "cell_type": "markdown",
      "source": [
        "## Generate distance metrics"
      ],
      "metadata": {
        "id": "0pU8BORS9vWk"
      }
    },
    {
      "cell_type": "markdown",
      "source": [
        "### Helper Functions"
      ],
      "metadata": {
        "id": "DVguOJWi-Fos"
      }
    },
    {
      "cell_type": "code",
      "source": [
        "from scipy.stats import wasserstein_distance, entropy\n",
        "import numpy as np\n",
        "\n",
        "def compute_wasserstein(real_data, synthetic_data, selected_columns):\n",
        "    \"\"\"\n",
        "    Computes Wasserstein Distance between real and synthetic time-series data.\n",
        "\n",
        "    \"\"\"\n",
        "\n",
        "    # Ensure both datasets have the same number of samples\n",
        "    min_length = min(len(real_data), len(synthetic_data))\n",
        "    real_trimmed = real_data[:min_length]  # Keep original order (no random sampling)\n",
        "    synthetic_trimmed = synthetic_data[:min_length]  # Match size\n",
        "    print(real_trimmed.shape,synthetic_trimmed.shape)\n",
        "\n",
        "    wasserstein_results = {}\n",
        "\n",
        "    # Compute Wasserstein Distance for each feature\n",
        "    for i, col in enumerate(selected_columns):\n",
        "        w_dist = wasserstein_distance(real_trimmed[:, i], synthetic_trimmed[:, i])\n",
        "        wasserstein_results[col] = w_dist\n",
        "        print(f\"{w_dist}\")\n",
        "\n",
        "    return wasserstein_results\n",
        "\n",
        "def compute_kl_divergence(real_data, synthetic_data, selected_columns, bins=50):\n",
        "    \"\"\"\n",
        "    Computes KL Divergence between real and synthetic time-series data.\n",
        "\n",
        "    \"\"\"\n",
        "\n",
        "    # Ensure both datasets have the same number of samples\n",
        "    min_length = min(len(real_data), len(synthetic_data))\n",
        "    real_trimmed = real_data[:min_length]  # Keep original order\n",
        "    synthetic_trimmed = synthetic_data[:min_length]  # Match size\n",
        "\n",
        "    kl_results = {}\n",
        "\n",
        "    for i, col in enumerate(selected_columns):\n",
        "        # Compute histogram-based probability distributions\n",
        "        real_hist, _ = np.histogram(real_trimmed[:, i], bins=bins, density=True)\n",
        "        synth_hist, _ = np.histogram(synthetic_trimmed[:, i], bins=bins, density=True)\n",
        "\n",
        "        # Avoid zero probabilities (KL Divergence is undefined for zero values)\n",
        "        real_hist += 1e-10\n",
        "        synth_hist += 1e-10\n",
        "\n",
        "        # Compute KL Divergence\n",
        "        kl_div = entropy(real_hist, synth_hist)\n",
        "        kl_results[col] = kl_div\n",
        "        print(f\"{kl_div}\")\n",
        "\n",
        "    return kl_results"
      ],
      "metadata": {
        "id": "GjGk3_Zx94Ko"
      },
      "execution_count": 14,
      "outputs": []
    },
    {
      "cell_type": "markdown",
      "source": [
        "### Generate Metrics"
      ],
      "metadata": {
        "id": "yLnb7Vqg-IG_"
      }
    },
    {
      "cell_type": "code",
      "source": [
        "# Compute Wasserstein Distance\n",
        "wasserstein_results = compute_wasserstein(real_data, synthetic_data, selected_columns)\n",
        "print(\"Wasserstein Distance Results:\")\n",
        "print(wasserstein_results)\n",
        "\n",
        "# Compute KL Divergence\n",
        "kl_results = compute_kl_divergence(real_data, synthetic_data, selected_columns)\n",
        "print(\"KL Divergence Results:\")\n",
        "print(kl_results)"
      ],
      "metadata": {
        "id": "olm0RYP89-SN",
        "colab": {
          "base_uri": "https://localhost:8080/"
        },
        "outputId": "97029978-3588-4867-c4c9-379869071523"
      },
      "execution_count": 15,
      "outputs": [
        {
          "output_type": "stream",
          "name": "stdout",
          "text": [
            "(35448, 7) (35448, 7)\n",
            "0.12589359866398342\n",
            "0.08450584982597788\n",
            "0.09317955417348268\n",
            "0.2239760852634426\n",
            "0.16200768196480073\n",
            "0.09962678698033475\n",
            "0.33575507662121135\n",
            "Wasserstein Distance Results:\n",
            "{'seq_temporal_HUFL': 0.12589359866398342, 'seq_temporal_HULL': 0.08450584982597788, 'seq_temporal_LUFL': 0.09317955417348268, 'seq_temporal_LULL': 0.2239760852634426, 'seq_temporal_MUFL': 0.16200768196480073, 'seq_temporal_MULL': 0.09962678698033475, 'seq_temporal_OT': 0.33575507662121135}\n",
            "11.436516277561278\n",
            "14.463556430780402\n",
            "13.979544374637179\n",
            "11.79633753592787\n",
            "12.691260723979555\n",
            "15.10601419655953\n",
            "13.45767585080329\n",
            "KL Divergence Results:\n",
            "{'seq_temporal_HUFL': 11.436516277561278, 'seq_temporal_HULL': 14.463556430780402, 'seq_temporal_LUFL': 13.979544374637179, 'seq_temporal_LULL': 11.79633753592787, 'seq_temporal_MUFL': 12.691260723979555, 'seq_temporal_MULL': 15.10601419655953, 'seq_temporal_OT': 13.45767585080329}\n"
          ]
        }
      ]
    },
    {
      "cell_type": "markdown",
      "source": [
        "# LSTM downstream"
      ],
      "metadata": {
        "id": "UpJLIRUZChiz"
      }
    },
    {
      "cell_type": "code",
      "source": [
        "filepath = '/content/drive/Shareddrives/sp_env/synthetic_datasets/TimeGAN/electricity/050725-132812-timeganplugin-n_3000.csv'"
      ],
      "metadata": {
        "id": "MWzW2ymrj-ZZ"
      },
      "execution_count": 17,
      "outputs": []
    },
    {
      "cell_type": "code",
      "source": [
        "real_data = loader.dataframe()\n",
        "df_synth = pd.read_csv(filepath)\n",
        "\n",
        "# 2. Drop the unwanted column\n",
        "real_data = real_data.drop(columns=[\"seq_id\", \"seq_time_id\", \"seq_out_outcome\"], errors=\"ignore\")\n",
        "df_synth = df_synth.drop(columns=[\"seq_id\", \"seq_time_id\", \"seq_out_outcome\"], errors=\"ignore\")"
      ],
      "metadata": {
        "id": "oidw2-H7OeUO"
      },
      "execution_count": 20,
      "outputs": []
    },
    {
      "cell_type": "code",
      "source": [
        "print(f\"real_data: {real_data.shape}, synthetic_data: {df_synth.shape}\")"
      ],
      "metadata": {
        "colab": {
          "base_uri": "https://localhost:8080/"
        },
        "id": "2V3bCF9WvLsa",
        "outputId": "1c71e623-1f26-4b5c-9f96-3797e5c2a367"
      },
      "execution_count": 21,
      "outputs": [
        {
          "output_type": "stream",
          "name": "stdout",
          "text": [
            "real_data: (35448, 7), synthetic_data: (43421, 7)\n"
          ]
        }
      ]
    },
    {
      "cell_type": "code",
      "source": [
        "#@title ✧.* libraries ✧.*\n",
        "\n",
        "import pandas as pd\n",
        "import numpy as np\n",
        "import torch\n",
        "import torch.nn as nn\n",
        "from torch.utils.data import DataLoader, TensorDataset\n",
        "from sklearn.preprocessing import MinMaxScaler\n",
        "from sklearn.metrics import mean_absolute_error, mean_squared_error"
      ],
      "metadata": {
        "id": "jBeVAcOyoPDz"
      },
      "execution_count": 22,
      "outputs": []
    },
    {
      "cell_type": "markdown",
      "source": [
        "recheck LSTM notebook for"
      ],
      "metadata": {
        "id": "AqxZ2PLWo9pN"
      }
    },
    {
      "cell_type": "code",
      "source": [
        "# Convert to tensors (float32 for PyTorch)\n",
        "data_real = torch.tensor(real_data.values, dtype=torch.float32)\n",
        "data_synth = torch.tensor(df_synth.values, dtype=torch.float32)\n",
        "\n",
        "# ──────── Sequence builder ───────────\n",
        "def make_sequences(data, seq_len):\n",
        "    X, y = [], []\n",
        "    for i in range(len(data) - seq_len):\n",
        "        X.append(data[i:i+seq_len])\n",
        "        y.append(data[i+seq_len])\n",
        "    return torch.stack(X), torch.stack(y)\n",
        "\n",
        "SEQ_LEN = sequence_length\n",
        "\n",
        "# Sequences for synthetic (train)\n",
        "X_train, y_train = make_sequences(data_synth, SEQ_LEN)\n",
        "train_loader = DataLoader(TensorDataset(X_train, y_train), batch_size=32, shuffle=True)\n",
        "\n",
        "# Sequences for real (test)\n",
        "X_test, y_test = make_sequences(data_real, SEQ_LEN)\n"
      ],
      "metadata": {
        "id": "txcyFCaxoZry"
      },
      "execution_count": 23,
      "outputs": []
    },
    {
      "cell_type": "code",
      "source": [
        "#@title ✧.* model definition and training ✧.*\n",
        "\n",
        "# ─── Model Definition ──────────────────────────────────────\n",
        "class ShallowLSTM(nn.Module):\n",
        "    def __init__(self, input_size, hidden_size=64):\n",
        "        super().__init__()\n",
        "        self.lstm = nn.LSTM(input_size, hidden_size, batch_first=True)\n",
        "        self.linear = nn.Linear(hidden_size, input_size)\n",
        "\n",
        "    def forward(self, x):\n",
        "        _, (hn, _) = self.lstm(x)  # hn shape: (1, batch, hidden_size)\n",
        "        out = self.linear(hn.squeeze(0))  # squeeze to (batch, hidden_size)\n",
        "        return out\n",
        "\n",
        "\n",
        "# ─── Model Init ─────────────────────────────────────────────\n",
        "model = ShallowLSTM(input_size=X_train.shape[2], hidden_size=64)\n",
        "\n",
        "# ─── Optimizer & Loss ───────────────────────────────────────\n",
        "loss_fn = nn.MSELoss()\n",
        "optimizer = torch.optim.Adam(model.parameters(), lr=0.002)\n",
        "\n",
        "# ─── Training ───────────────────────────────────────────────\n",
        "EPOCHS = 50\n",
        "for epoch in range(1, EPOCHS + 1):\n",
        "    model.train()\n",
        "    for xb, yb in train_loader:\n",
        "        pred = model(xb)\n",
        "        loss = loss_fn(pred, yb)\n",
        "        optimizer.zero_grad()\n",
        "        loss.backward()\n",
        "        optimizer.step()\n",
        "\n",
        "    # if epoch % 10 == 0 or epoch == 1:\n",
        "    print(f\"Epoch {epoch}: Train MSE = {loss.item():.6f}\")"
      ],
      "metadata": {
        "id": "xb92SGsLojRK",
        "colab": {
          "base_uri": "https://localhost:8080/"
        },
        "outputId": "104f0f33-249c-4a0d-aaa8-097421df18bd"
      },
      "execution_count": 24,
      "outputs": [
        {
          "output_type": "stream",
          "name": "stdout",
          "text": [
            "Epoch 1: Train MSE = 0.007642\n",
            "Epoch 2: Train MSE = 0.011635\n",
            "Epoch 3: Train MSE = 0.018346\n",
            "Epoch 4: Train MSE = 0.005398\n",
            "Epoch 5: Train MSE = 0.015337\n",
            "Epoch 6: Train MSE = 0.004294\n",
            "Epoch 7: Train MSE = 0.007427\n",
            "Epoch 8: Train MSE = 0.006197\n",
            "Epoch 9: Train MSE = 0.009642\n",
            "Epoch 10: Train MSE = 0.006557\n",
            "Epoch 11: Train MSE = 0.014314\n",
            "Epoch 12: Train MSE = 0.005609\n",
            "Epoch 13: Train MSE = 0.015649\n",
            "Epoch 14: Train MSE = 0.007543\n",
            "Epoch 15: Train MSE = 0.005711\n",
            "Epoch 16: Train MSE = 0.016780\n",
            "Epoch 17: Train MSE = 0.005017\n",
            "Epoch 18: Train MSE = 0.016860\n",
            "Epoch 19: Train MSE = 0.003761\n",
            "Epoch 20: Train MSE = 0.014678\n",
            "Epoch 21: Train MSE = 0.008587\n",
            "Epoch 22: Train MSE = 0.005302\n",
            "Epoch 23: Train MSE = 0.007783\n",
            "Epoch 24: Train MSE = 0.012379\n",
            "Epoch 25: Train MSE = 0.005020\n",
            "Epoch 26: Train MSE = 0.006488\n",
            "Epoch 27: Train MSE = 0.017566\n",
            "Epoch 28: Train MSE = 0.016631\n",
            "Epoch 29: Train MSE = 0.005578\n",
            "Epoch 30: Train MSE = 0.007281\n",
            "Epoch 31: Train MSE = 0.008753\n",
            "Epoch 32: Train MSE = 0.005988\n",
            "Epoch 33: Train MSE = 0.007557\n",
            "Epoch 34: Train MSE = 0.007099\n",
            "Epoch 35: Train MSE = 0.005178\n",
            "Epoch 36: Train MSE = 0.004782\n",
            "Epoch 37: Train MSE = 0.010786\n",
            "Epoch 38: Train MSE = 0.006319\n",
            "Epoch 39: Train MSE = 0.012873\n",
            "Epoch 40: Train MSE = 0.004200\n",
            "Epoch 41: Train MSE = 0.005361\n",
            "Epoch 42: Train MSE = 0.009626\n",
            "Epoch 43: Train MSE = 0.008418\n",
            "Epoch 44: Train MSE = 0.005202\n",
            "Epoch 45: Train MSE = 0.010247\n",
            "Epoch 46: Train MSE = 0.007280\n",
            "Epoch 47: Train MSE = 0.003893\n",
            "Epoch 48: Train MSE = 0.012735\n",
            "Epoch 49: Train MSE = 0.013544\n",
            "Epoch 50: Train MSE = 0.008081\n"
          ]
        }
      ]
    },
    {
      "cell_type": "code",
      "source": [
        "#@title ✧.* model evaluation ✧.*\n",
        "model.eval()\n",
        "with torch.no_grad():\n",
        "    preds = model(X_test)\n",
        "    test_mse = loss_fn(preds, y_test).item()\n",
        "    test_mae = mean_absolute_error(y_test.numpy(), preds.numpy())\n",
        "\n",
        "    print(f\"Test MSE: {test_mse:.6f}\")\n",
        "    print(f\"Test MAE: {test_mae:.6f}\")"
      ],
      "metadata": {
        "colab": {
          "base_uri": "https://localhost:8080/"
        },
        "id": "fKR1vr99zp5H",
        "outputId": "994c1f99-d9c2-4bb8-89bc-51104bfa0918"
      },
      "execution_count": 25,
      "outputs": [
        {
          "output_type": "stream",
          "name": "stdout",
          "text": [
            "Test MSE: 0.060231\n",
            "Test MAE: 0.188900\n"
          ]
        }
      ]
    },
    {
      "cell_type": "markdown",
      "source": [
        "# Bootstrapping Sample"
      ],
      "metadata": {
        "id": "wwtrxZuWkq1X"
      }
    },
    {
      "cell_type": "code",
      "source": [
        "!pip install tsbootstrap"
      ],
      "metadata": {
        "colab": {
          "base_uri": "https://localhost:8080/"
        },
        "id": "w6fV928blOfi",
        "outputId": "fb5fe235-5dfd-434d-c26c-578ee8f36779"
      },
      "execution_count": 27,
      "outputs": [
        {
          "output_type": "stream",
          "name": "stdout",
          "text": [
            "Collecting tsbootstrap\n",
            "  Downloading tsbootstrap-0.1.5-py3-none-any.whl.metadata (28 kB)\n",
            "Requirement already satisfied: numpy<1.27,>=1.21 in /usr/local/lib/python3.11/dist-packages (from tsbootstrap) (1.26.4)\n",
            "Collecting scikit-base<0.11,>=0.10.0 (from tsbootstrap)\n",
            "  Downloading scikit_base-0.10.1-py3-none-any.whl.metadata (8.6 kB)\n",
            "Collecting scikit-learn<1.6.0,>=1.5.1 (from tsbootstrap)\n",
            "  Downloading scikit_learn-1.5.2-cp311-cp311-manylinux_2_17_x86_64.manylinux2014_x86_64.whl.metadata (13 kB)\n",
            "Collecting scipy<1.14.0,>=1.13 (from tsbootstrap)\n",
            "  Downloading scipy-1.13.1-cp311-cp311-manylinux_2_17_x86_64.manylinux2014_x86_64.whl.metadata (60 kB)\n",
            "\u001b[2K     \u001b[90m━━━━━━━━━━━━━━━━━━━━━━━━━━━━━━━━━━━━━━━━\u001b[0m \u001b[32m60.6/60.6 kB\u001b[0m \u001b[31m4.4 MB/s\u001b[0m eta \u001b[36m0:00:00\u001b[0m\n",
            "\u001b[?25hCollecting packaging<24.2,>=24.0 (from tsbootstrap)\n",
            "  Downloading packaging-24.1-py3-none-any.whl.metadata (3.2 kB)\n",
            "Requirement already satisfied: pydantic<3.0,>=2.0 in /usr/local/lib/python3.11/dist-packages (from tsbootstrap) (2.11.4)\n",
            "Requirement already satisfied: annotated-types>=0.6.0 in /usr/local/lib/python3.11/dist-packages (from pydantic<3.0,>=2.0->tsbootstrap) (0.7.0)\n",
            "Requirement already satisfied: pydantic-core==2.33.2 in /usr/local/lib/python3.11/dist-packages (from pydantic<3.0,>=2.0->tsbootstrap) (2.33.2)\n",
            "Requirement already satisfied: typing-extensions>=4.12.2 in /usr/local/lib/python3.11/dist-packages (from pydantic<3.0,>=2.0->tsbootstrap) (4.13.2)\n",
            "Requirement already satisfied: typing-inspection>=0.4.0 in /usr/local/lib/python3.11/dist-packages (from pydantic<3.0,>=2.0->tsbootstrap) (0.4.0)\n",
            "Requirement already satisfied: joblib>=1.2.0 in /usr/local/lib/python3.11/dist-packages (from scikit-learn<1.6.0,>=1.5.1->tsbootstrap) (1.5.0)\n",
            "Requirement already satisfied: threadpoolctl>=3.1.0 in /usr/local/lib/python3.11/dist-packages (from scikit-learn<1.6.0,>=1.5.1->tsbootstrap) (3.6.0)\n",
            "Downloading tsbootstrap-0.1.5-py3-none-any.whl (104 kB)\n",
            "\u001b[2K   \u001b[90m━━━━━━━━━━━━━━━━━━━━━━━━━━━━━━━━━━━━━━━━\u001b[0m \u001b[32m104.4/104.4 kB\u001b[0m \u001b[31m9.0 MB/s\u001b[0m eta \u001b[36m0:00:00\u001b[0m\n",
            "\u001b[?25hDownloading packaging-24.1-py3-none-any.whl (53 kB)\n",
            "\u001b[2K   \u001b[90m━━━━━━━━━━━━━━━━━━━━━━━━━━━━━━━━━━━━━━━━\u001b[0m \u001b[32m54.0/54.0 kB\u001b[0m \u001b[31m5.3 MB/s\u001b[0m eta \u001b[36m0:00:00\u001b[0m\n",
            "\u001b[?25hDownloading scikit_base-0.10.1-py3-none-any.whl (136 kB)\n",
            "\u001b[2K   \u001b[90m━━━━━━━━━━━━━━━━━━━━━━━━━━━━━━━━━━━━━━━━\u001b[0m \u001b[32m136.1/136.1 kB\u001b[0m \u001b[31m10.4 MB/s\u001b[0m eta \u001b[36m0:00:00\u001b[0m\n",
            "\u001b[?25hDownloading scikit_learn-1.5.2-cp311-cp311-manylinux_2_17_x86_64.manylinux2014_x86_64.whl (13.3 MB)\n",
            "\u001b[2K   \u001b[90m━━━━━━━━━━━━━━━━━━━━━━━━━━━━━━━━━━━━━━━━\u001b[0m \u001b[32m13.3/13.3 MB\u001b[0m \u001b[31m32.3 MB/s\u001b[0m eta \u001b[36m0:00:00\u001b[0m\n",
            "\u001b[?25hDownloading scipy-1.13.1-cp311-cp311-manylinux_2_17_x86_64.manylinux2014_x86_64.whl (38.6 MB)\n",
            "\u001b[2K   \u001b[90m━━━━━━━━━━━━━━━━━━━━━━━━━━━━━━━━━━━━━━━━\u001b[0m \u001b[32m38.6/38.6 MB\u001b[0m \u001b[31m23.9 MB/s\u001b[0m eta \u001b[36m0:00:00\u001b[0m\n",
            "\u001b[?25hInstalling collected packages: scipy, scikit-base, packaging, scikit-learn, tsbootstrap\n",
            "  Attempting uninstall: scipy\n",
            "    Found existing installation: scipy 1.15.3\n",
            "    Uninstalling scipy-1.15.3:\n",
            "      Successfully uninstalled scipy-1.15.3\n",
            "  Attempting uninstall: packaging\n",
            "    Found existing installation: packaging 24.2\n",
            "    Uninstalling packaging-24.2:\n",
            "      Successfully uninstalled packaging-24.2\n",
            "  Attempting uninstall: scikit-learn\n",
            "    Found existing installation: scikit-learn 1.6.1\n",
            "    Uninstalling scikit-learn-1.6.1:\n",
            "      Successfully uninstalled scikit-learn-1.6.1\n",
            "\u001b[31mERROR: pip's dependency resolver does not currently take into account all the packages that are installed. This behaviour is the source of the following dependency conflicts.\n",
            "tsfresh 0.21.0 requires scipy>=1.14.0; python_version >= \"3.10\", but you have scipy 1.13.1 which is incompatible.\n",
            "db-dtypes 1.4.3 requires packaging>=24.2.0, but you have packaging 24.1 which is incompatible.\n",
            "google-cloud-bigquery 3.32.0 requires packaging>=24.2.0, but you have packaging 24.1 which is incompatible.\n",
            "scikit-image 0.25.2 requires networkx>=3.0, but you have networkx 2.8.8 which is incompatible.\u001b[0m\u001b[31m\n",
            "\u001b[0mSuccessfully installed packaging-24.1 scikit-base-0.10.1 scikit-learn-1.5.2 scipy-1.13.1 tsbootstrap-0.1.5\n"
          ]
        }
      ]
    },
    {
      "cell_type": "code",
      "source": [
        "from tsbootstrap import MovingBlockBootstrap\n",
        "import numpy as np\n",
        "\n",
        "# Your real test set (for evaluation)\n",
        "real_test_array = real_data[selected_columns].to_numpy()  # shape (N, features)\n",
        "block_length = 3\n",
        "n_bootstraps = 15\n",
        "rng = 42\n",
        "\n",
        "mbb = MovingBlockBootstrap(n_bootstraps=n_bootstraps, rng=rng, block_length=block_length)\n",
        "boot_samples = mbb.bootstrap(real_test_array, return_indices=False)"
      ],
      "metadata": {
        "id": "r3V4JBSEksXF"
      },
      "execution_count": 49,
      "outputs": []
    },
    {
      "cell_type": "code",
      "source": [
        "bootstrap_results = []\n",
        "\n",
        "for b_idx, boot_real in enumerate(boot_samples):\n",
        "    # 1. Match the synthetic data size\n",
        "    syn_trimmed = synthetic_data[:len(boot_real)]\n",
        "\n",
        "    # 2. Fidelity metrics\n",
        "    wasserstein = compute_wasserstein(boot_real, syn_trimmed, selected_columns)\n",
        "    kl = compute_kl_divergence(boot_real, syn_trimmed, selected_columns)\n",
        "\n",
        "    # 3. Utility metrics\n",
        "    # Preprocess this bootstrap sample for LSTM (as you do with real_data)\n",
        "    boot_tensor = torch.tensor(boot_real, dtype=torch.float32)\n",
        "    Xb_test, yb_test = make_sequences(boot_tensor, SEQ_LEN)\n",
        "\n",
        "    model.eval()\n",
        "    with torch.no_grad():\n",
        "        preds = model(Xb_test)\n",
        "        mse = mean_squared_error(yb_test.numpy(), preds.numpy())\n",
        "        rmse = np.sqrt(mse)\n",
        "        mae = mean_absolute_error(yb_test.numpy(), preds.numpy())\n",
        "\n",
        "    # 4. Store results\n",
        "    bootstrap_results.append({\n",
        "        'bootstrap': b_idx,\n",
        "        'wasserstein': np.mean(list(wasserstein.values())),\n",
        "        'kl': np.mean(list(kl.values())),\n",
        "        'rmse': rmse,\n",
        "        'mae': mae\n",
        "    })"
      ],
      "metadata": {
        "colab": {
          "base_uri": "https://localhost:8080/"
        },
        "id": "SPL4pVhwk3Ir",
        "outputId": "29e4b484-3db3-4d93-e853-544e4a8849cf"
      },
      "execution_count": 50,
      "outputs": [
        {
          "output_type": "stream",
          "name": "stdout",
          "text": [
            "(35448, 7) (35448, 7)\n",
            "0.12494657342039268\n",
            "0.08524770663869706\n",
            "0.09274650392020567\n",
            "0.2235468449616882\n",
            "0.1609790952831771\n",
            "0.10059327414002733\n",
            "0.3358897071288522\n",
            "11.452708803957213\n",
            "14.520853903681033\n",
            "14.059685387494588\n",
            "11.853580191907618\n",
            "12.759649859886046\n",
            "15.012007596074183\n",
            "13.37044488031612\n",
            "(35448, 7) (35448, 7)\n",
            "0.12541191649591205\n",
            "0.08501346068664972\n",
            "0.09348650115795917\n",
            "0.22357893297323309\n",
            "0.16156505436756363\n",
            "0.10001961441785799\n",
            "0.33468981587888896\n",
            "11.439801135490331\n",
            "14.459012956123457\n",
            "13.867327356279638\n",
            "11.727715969052952\n",
            "12.586664759559634\n",
            "15.106799522962701\n",
            "13.462106440585657\n",
            "(35448, 7) (35448, 7)\n",
            "0.12475664140467574\n",
            "0.08501171692658535\n",
            "0.09418386642130627\n",
            "0.22330213837312907\n",
            "0.16092952362422933\n",
            "0.09974783079801423\n",
            "0.3334045093702899\n",
            "11.400139887772564\n",
            "14.474391967990432\n",
            "14.075681344286929\n",
            "11.838763805987695\n",
            "12.659701137237288\n",
            "15.082137710210272\n",
            "13.47198674532073\n",
            "(35448, 7) (35448, 7)\n",
            "0.12354632257163477\n",
            "0.08527881690710899\n",
            "0.09447210336807345\n",
            "0.22573265851707836\n",
            "0.15977257106097428\n",
            "0.10007786751551599\n",
            "0.3341156625904192\n",
            "11.541331469824534\n",
            "14.46610697532569\n",
            "13.909818896210783\n",
            "11.803198300516797\n",
            "12.667471890192681\n",
            "15.103467129929944\n",
            "13.490020386691732\n",
            "(35448, 7) (35448, 7)\n",
            "0.12512956930269115\n",
            "0.08377597008756384\n",
            "0.09262947304773426\n",
            "0.22383257273979662\n",
            "0.161145123829154\n",
            "0.09890497671953807\n",
            "0.33376125212115726\n",
            "11.341557946682205\n",
            "14.493133537421915\n",
            "13.99022173529662\n",
            "11.754104363287755\n",
            "12.692022119090742\n",
            "15.059114850308434\n",
            "13.517403101857605\n",
            "(35448, 7) (35448, 7)\n",
            "0.1265354209967996\n",
            "0.08569973604369557\n",
            "0.09479500318144578\n",
            "0.22453655292028787\n",
            "0.16302291031995186\n",
            "0.10054050429722829\n",
            "0.33674403931271063\n",
            "11.376651077171017\n",
            "14.392169004911175\n",
            "14.06961736316571\n",
            "11.819232798543919\n",
            "12.695345798941151\n",
            "15.143129828086163\n",
            "13.46669967560484\n",
            "(35448, 7) (35448, 7)\n",
            "0.12552954848304188\n",
            "0.08548582169605506\n",
            "0.09229594267490758\n",
            "0.22522173105567173\n",
            "0.16155173996882194\n",
            "0.09992202037478831\n",
            "0.33477986483070465\n",
            "11.603385484871904\n",
            "14.53277297500336\n",
            "13.977235497826495\n",
            "11.72137834853883\n",
            "12.707319284904685\n",
            "15.135449650219423\n",
            "13.444134686518142\n",
            "(35448, 7) (35448, 7)\n",
            "0.12874604331482095\n",
            "0.08383794553420358\n",
            "0.0908276632945022\n",
            "0.22358432565302847\n",
            "0.16479072286697707\n",
            "0.0993741993233281\n",
            "0.33703437728577695\n",
            "11.42857824074327\n",
            "14.393570481172658\n",
            "14.093152815237596\n",
            "11.79383494525152\n",
            "12.79160917947259\n",
            "15.254735784970496\n",
            "13.426167142226275\n",
            "(35448, 7) (35448, 7)\n",
            "0.12807091574647111\n",
            "0.08543497858120706\n",
            "0.09322646741396674\n",
            "0.22520551765510333\n",
            "0.16433365311037412\n",
            "0.10025018209509573\n",
            "0.3345285823662091\n",
            "11.545771449008756\n",
            "14.539009768644505\n",
            "13.943888379783985\n",
            "11.844202332023308\n",
            "12.629962666643866\n",
            "15.105041339526984\n",
            "13.61862844771721\n",
            "(35448, 7) (35448, 7)\n",
            "0.1222311505506025\n",
            "0.08443747684724558\n",
            "0.0939148678715452\n",
            "0.22371326615238155\n",
            "0.15802851279625538\n",
            "0.09966924778639014\n",
            "0.33786922352144416\n",
            "11.444586493498962\n",
            "14.567529883348877\n",
            "13.996942561681776\n",
            "11.83728557603247\n",
            "12.567526527945716\n",
            "15.010105300414839\n",
            "13.430603283395198\n",
            "(35448, 7) (35448, 7)\n",
            "0.12651023315627474\n",
            "0.08300782016448108\n",
            "0.092053171231129\n",
            "0.22267075062965214\n",
            "0.16247655644192407\n",
            "0.0986675064962627\n",
            "0.3341553480309262\n",
            "11.381964532164385\n",
            "14.365444922792324\n",
            "14.057264554806832\n",
            "11.815154923861801\n",
            "12.704685824093838\n",
            "15.188820143780664\n",
            "13.424178992292168\n",
            "(35448, 7) (35448, 7)\n",
            "0.12493592588900054\n",
            "0.0828095659984941\n",
            "0.09220789148692843\n",
            "0.2225509290894603\n",
            "0.16089682221510654\n",
            "0.09867733551665227\n",
            "0.3331893902103696\n",
            "11.343881666163464\n",
            "14.398806406366415\n",
            "14.016864426530326\n",
            "11.808054188602803\n",
            "12.628290923598163\n",
            "15.104213245222494\n",
            "13.540131630728984\n",
            "(35448, 7) (35448, 7)\n",
            "0.1280088727300433\n",
            "0.08380866561585107\n",
            "0.09282918175944005\n",
            "0.22426019742431663\n",
            "0.16431572438404357\n",
            "0.09902951190206831\n",
            "0.33544489653842646\n",
            "11.439276262683876\n",
            "14.511187125165767\n",
            "13.945268944011016\n",
            "11.776418978123184\n",
            "12.756060275928121\n",
            "14.9863287417687\n",
            "13.365866018646452\n",
            "(35448, 7) (35448, 7)\n",
            "0.12770604481436545\n",
            "0.08430654665647751\n",
            "0.09217658258005317\n",
            "0.22387771173177407\n",
            "0.16376776349226752\n",
            "0.09920078962822168\n",
            "0.3369096937175661\n",
            "11.409860073984229\n",
            "14.480466162707586\n",
            "13.956846428695279\n",
            "11.762375161484185\n",
            "12.757997342137742\n",
            "15.011750654728258\n",
            "13.419189893701711\n",
            "(35448, 7) (35448, 7)\n",
            "0.12870361228224728\n",
            "0.08435279848692954\n",
            "0.0915289602252847\n",
            "0.22387134149608906\n",
            "0.1647681468603371\n",
            "0.09994695034619461\n",
            "0.33589825903503906\n",
            "11.475345021336908\n",
            "14.490204078483012\n",
            "13.959354152658666\n",
            "11.79065459051397\n",
            "12.663423878933164\n",
            "15.1296314143678\n",
            "13.516324839145003\n"
          ]
        }
      ]
    },
    {
      "cell_type": "code",
      "source": [
        "print(bootstrap_results)\n",
        "\n",
        "# Assuming bootstrap_results is your list of dicts\n",
        "df_results = pd.DataFrame(bootstrap_results)\n",
        "\n",
        "df_results['Dataset'] = 'El'\n",
        "df_results['Model'] = 'GAN'\n",
        "\n",
        "df_results"
      ],
      "metadata": {
        "colab": {
          "base_uri": "https://localhost:8080/",
          "height": 557
        },
        "id": "7zYaN_finjp5",
        "outputId": "d6f0c865-9a9f-4133-ee5f-3c02ebbeaf72"
      },
      "execution_count": 51,
      "outputs": [
        {
          "output_type": "stream",
          "name": "stdout",
          "text": [
            "[{'bootstrap': 0, 'wasserstein': 0.1605642436418629, 'kl': 13.2898472319024, 'rmse': 0.24514847058072567, 'mae': 0.18892039358615875}, {'bootstrap': 1, 'wasserstein': 0.1605378994254378, 'kl': 13.235632591436339, 'rmse': 0.24483892140255611, 'mae': 0.18863175809383392}, {'bootstrap': 2, 'wasserstein': 0.1601908895597471, 'kl': 13.286114656972273, 'rmse': 0.24455941711391493, 'mae': 0.18842993676662445}, {'bootstrap': 3, 'wasserstein': 0.16042800036154356, 'kl': 13.283059292670307, 'rmse': 0.2446832805820269, 'mae': 0.1882953941822052}, {'bootstrap': 4, 'wasserstein': 0.15988270540680505, 'kl': 13.263936807706468, 'rmse': 0.2443408755162501, 'mae': 0.18790295720100403}, {'bootstrap': 5, 'wasserstein': 0.16169630958173137, 'kl': 13.280406506631996, 'rmse': 0.24647073027844368, 'mae': 0.18984928727149963}, {'bootstrap': 6, 'wasserstein': 0.1606838098691416, 'kl': 13.30309656112612, 'rmse': 0.24443279331760517, 'mae': 0.18849869072437286}, {'bootstrap': 7, 'wasserstein': 0.16117075389609106, 'kl': 13.311664084153486, 'rmse': 0.24581764263386563, 'mae': 0.18928273022174835}, {'bootstrap': 8, 'wasserstein': 0.16157861385263245, 'kl': 13.318072054764087, 'rmse': 0.24621575222666928, 'mae': 0.18951375782489777}, {'bootstrap': 9, 'wasserstein': 0.15998053507512353, 'kl': 13.264939946616833, 'rmse': 0.24470251654808767, 'mae': 0.1883559376001358}, {'bootstrap': 10, 'wasserstein': 0.15993448373580713, 'kl': 13.276787699113145, 'rmse': 0.24443117019360178, 'mae': 0.18809619545936584}, {'bootstrap': 11, 'wasserstein': 0.1593239800580017, 'kl': 13.262891783887522, 'rmse': 0.24405088682789233, 'mae': 0.18763820827007294}, {'bootstrap': 12, 'wasserstein': 0.16109957862202706, 'kl': 13.254343763761016, 'rmse': 0.24589814632237944, 'mae': 0.18910399079322815}, {'bootstrap': 13, 'wasserstein': 0.16113501894581791, 'kl': 13.256926531062714, 'rmse': 0.24588335974221545, 'mae': 0.18918530642986298}, {'bootstrap': 14, 'wasserstein': 0.16129572410458876, 'kl': 13.289276853634075, 'rmse': 0.24615917395801584, 'mae': 0.1896687000989914}]\n"
          ]
        },
        {
          "output_type": "execute_result",
          "data": {
            "text/plain": [
              "    bootstrap  wasserstein         kl      rmse       mae Dataset Model\n",
              "0           0     0.160564  13.289847  0.245148  0.188920      El   GAN\n",
              "1           1     0.160538  13.235633  0.244839  0.188632      El   GAN\n",
              "2           2     0.160191  13.286115  0.244559  0.188430      El   GAN\n",
              "3           3     0.160428  13.283059  0.244683  0.188295      El   GAN\n",
              "4           4     0.159883  13.263937  0.244341  0.187903      El   GAN\n",
              "5           5     0.161696  13.280407  0.246471  0.189849      El   GAN\n",
              "6           6     0.160684  13.303097  0.244433  0.188499      El   GAN\n",
              "7           7     0.161171  13.311664  0.245818  0.189283      El   GAN\n",
              "8           8     0.161579  13.318072  0.246216  0.189514      El   GAN\n",
              "9           9     0.159981  13.264940  0.244703  0.188356      El   GAN\n",
              "10         10     0.159934  13.276788  0.244431  0.188096      El   GAN\n",
              "11         11     0.159324  13.262892  0.244051  0.187638      El   GAN\n",
              "12         12     0.161100  13.254344  0.245898  0.189104      El   GAN\n",
              "13         13     0.161135  13.256927  0.245883  0.189185      El   GAN\n",
              "14         14     0.161296  13.289277  0.246159  0.189669      El   GAN"
            ],
            "text/html": [
              "\n",
              "  <div id=\"df-6bcf1da5-07ae-4a27-a763-851976d8ee3b\" class=\"colab-df-container\">\n",
              "    <div>\n",
              "<style scoped>\n",
              "    .dataframe tbody tr th:only-of-type {\n",
              "        vertical-align: middle;\n",
              "    }\n",
              "\n",
              "    .dataframe tbody tr th {\n",
              "        vertical-align: top;\n",
              "    }\n",
              "\n",
              "    .dataframe thead th {\n",
              "        text-align: right;\n",
              "    }\n",
              "</style>\n",
              "<table border=\"1\" class=\"dataframe\">\n",
              "  <thead>\n",
              "    <tr style=\"text-align: right;\">\n",
              "      <th></th>\n",
              "      <th>bootstrap</th>\n",
              "      <th>wasserstein</th>\n",
              "      <th>kl</th>\n",
              "      <th>rmse</th>\n",
              "      <th>mae</th>\n",
              "      <th>Dataset</th>\n",
              "      <th>Model</th>\n",
              "    </tr>\n",
              "  </thead>\n",
              "  <tbody>\n",
              "    <tr>\n",
              "      <th>0</th>\n",
              "      <td>0</td>\n",
              "      <td>0.160564</td>\n",
              "      <td>13.289847</td>\n",
              "      <td>0.245148</td>\n",
              "      <td>0.188920</td>\n",
              "      <td>El</td>\n",
              "      <td>GAN</td>\n",
              "    </tr>\n",
              "    <tr>\n",
              "      <th>1</th>\n",
              "      <td>1</td>\n",
              "      <td>0.160538</td>\n",
              "      <td>13.235633</td>\n",
              "      <td>0.244839</td>\n",
              "      <td>0.188632</td>\n",
              "      <td>El</td>\n",
              "      <td>GAN</td>\n",
              "    </tr>\n",
              "    <tr>\n",
              "      <th>2</th>\n",
              "      <td>2</td>\n",
              "      <td>0.160191</td>\n",
              "      <td>13.286115</td>\n",
              "      <td>0.244559</td>\n",
              "      <td>0.188430</td>\n",
              "      <td>El</td>\n",
              "      <td>GAN</td>\n",
              "    </tr>\n",
              "    <tr>\n",
              "      <th>3</th>\n",
              "      <td>3</td>\n",
              "      <td>0.160428</td>\n",
              "      <td>13.283059</td>\n",
              "      <td>0.244683</td>\n",
              "      <td>0.188295</td>\n",
              "      <td>El</td>\n",
              "      <td>GAN</td>\n",
              "    </tr>\n",
              "    <tr>\n",
              "      <th>4</th>\n",
              "      <td>4</td>\n",
              "      <td>0.159883</td>\n",
              "      <td>13.263937</td>\n",
              "      <td>0.244341</td>\n",
              "      <td>0.187903</td>\n",
              "      <td>El</td>\n",
              "      <td>GAN</td>\n",
              "    </tr>\n",
              "    <tr>\n",
              "      <th>5</th>\n",
              "      <td>5</td>\n",
              "      <td>0.161696</td>\n",
              "      <td>13.280407</td>\n",
              "      <td>0.246471</td>\n",
              "      <td>0.189849</td>\n",
              "      <td>El</td>\n",
              "      <td>GAN</td>\n",
              "    </tr>\n",
              "    <tr>\n",
              "      <th>6</th>\n",
              "      <td>6</td>\n",
              "      <td>0.160684</td>\n",
              "      <td>13.303097</td>\n",
              "      <td>0.244433</td>\n",
              "      <td>0.188499</td>\n",
              "      <td>El</td>\n",
              "      <td>GAN</td>\n",
              "    </tr>\n",
              "    <tr>\n",
              "      <th>7</th>\n",
              "      <td>7</td>\n",
              "      <td>0.161171</td>\n",
              "      <td>13.311664</td>\n",
              "      <td>0.245818</td>\n",
              "      <td>0.189283</td>\n",
              "      <td>El</td>\n",
              "      <td>GAN</td>\n",
              "    </tr>\n",
              "    <tr>\n",
              "      <th>8</th>\n",
              "      <td>8</td>\n",
              "      <td>0.161579</td>\n",
              "      <td>13.318072</td>\n",
              "      <td>0.246216</td>\n",
              "      <td>0.189514</td>\n",
              "      <td>El</td>\n",
              "      <td>GAN</td>\n",
              "    </tr>\n",
              "    <tr>\n",
              "      <th>9</th>\n",
              "      <td>9</td>\n",
              "      <td>0.159981</td>\n",
              "      <td>13.264940</td>\n",
              "      <td>0.244703</td>\n",
              "      <td>0.188356</td>\n",
              "      <td>El</td>\n",
              "      <td>GAN</td>\n",
              "    </tr>\n",
              "    <tr>\n",
              "      <th>10</th>\n",
              "      <td>10</td>\n",
              "      <td>0.159934</td>\n",
              "      <td>13.276788</td>\n",
              "      <td>0.244431</td>\n",
              "      <td>0.188096</td>\n",
              "      <td>El</td>\n",
              "      <td>GAN</td>\n",
              "    </tr>\n",
              "    <tr>\n",
              "      <th>11</th>\n",
              "      <td>11</td>\n",
              "      <td>0.159324</td>\n",
              "      <td>13.262892</td>\n",
              "      <td>0.244051</td>\n",
              "      <td>0.187638</td>\n",
              "      <td>El</td>\n",
              "      <td>GAN</td>\n",
              "    </tr>\n",
              "    <tr>\n",
              "      <th>12</th>\n",
              "      <td>12</td>\n",
              "      <td>0.161100</td>\n",
              "      <td>13.254344</td>\n",
              "      <td>0.245898</td>\n",
              "      <td>0.189104</td>\n",
              "      <td>El</td>\n",
              "      <td>GAN</td>\n",
              "    </tr>\n",
              "    <tr>\n",
              "      <th>13</th>\n",
              "      <td>13</td>\n",
              "      <td>0.161135</td>\n",
              "      <td>13.256927</td>\n",
              "      <td>0.245883</td>\n",
              "      <td>0.189185</td>\n",
              "      <td>El</td>\n",
              "      <td>GAN</td>\n",
              "    </tr>\n",
              "    <tr>\n",
              "      <th>14</th>\n",
              "      <td>14</td>\n",
              "      <td>0.161296</td>\n",
              "      <td>13.289277</td>\n",
              "      <td>0.246159</td>\n",
              "      <td>0.189669</td>\n",
              "      <td>El</td>\n",
              "      <td>GAN</td>\n",
              "    </tr>\n",
              "  </tbody>\n",
              "</table>\n",
              "</div>\n",
              "    <div class=\"colab-df-buttons\">\n",
              "\n",
              "  <div class=\"colab-df-container\">\n",
              "    <button class=\"colab-df-convert\" onclick=\"convertToInteractive('df-6bcf1da5-07ae-4a27-a763-851976d8ee3b')\"\n",
              "            title=\"Convert this dataframe to an interactive table.\"\n",
              "            style=\"display:none;\">\n",
              "\n",
              "  <svg xmlns=\"http://www.w3.org/2000/svg\" height=\"24px\" viewBox=\"0 -960 960 960\">\n",
              "    <path d=\"M120-120v-720h720v720H120Zm60-500h600v-160H180v160Zm220 220h160v-160H400v160Zm0 220h160v-160H400v160ZM180-400h160v-160H180v160Zm440 0h160v-160H620v160ZM180-180h160v-160H180v160Zm440 0h160v-160H620v160Z\"/>\n",
              "  </svg>\n",
              "    </button>\n",
              "\n",
              "  <style>\n",
              "    .colab-df-container {\n",
              "      display:flex;\n",
              "      gap: 12px;\n",
              "    }\n",
              "\n",
              "    .colab-df-convert {\n",
              "      background-color: #E8F0FE;\n",
              "      border: none;\n",
              "      border-radius: 50%;\n",
              "      cursor: pointer;\n",
              "      display: none;\n",
              "      fill: #1967D2;\n",
              "      height: 32px;\n",
              "      padding: 0 0 0 0;\n",
              "      width: 32px;\n",
              "    }\n",
              "\n",
              "    .colab-df-convert:hover {\n",
              "      background-color: #E2EBFA;\n",
              "      box-shadow: 0px 1px 2px rgba(60, 64, 67, 0.3), 0px 1px 3px 1px rgba(60, 64, 67, 0.15);\n",
              "      fill: #174EA6;\n",
              "    }\n",
              "\n",
              "    .colab-df-buttons div {\n",
              "      margin-bottom: 4px;\n",
              "    }\n",
              "\n",
              "    [theme=dark] .colab-df-convert {\n",
              "      background-color: #3B4455;\n",
              "      fill: #D2E3FC;\n",
              "    }\n",
              "\n",
              "    [theme=dark] .colab-df-convert:hover {\n",
              "      background-color: #434B5C;\n",
              "      box-shadow: 0px 1px 3px 1px rgba(0, 0, 0, 0.15);\n",
              "      filter: drop-shadow(0px 1px 2px rgba(0, 0, 0, 0.3));\n",
              "      fill: #FFFFFF;\n",
              "    }\n",
              "  </style>\n",
              "\n",
              "    <script>\n",
              "      const buttonEl =\n",
              "        document.querySelector('#df-6bcf1da5-07ae-4a27-a763-851976d8ee3b button.colab-df-convert');\n",
              "      buttonEl.style.display =\n",
              "        google.colab.kernel.accessAllowed ? 'block' : 'none';\n",
              "\n",
              "      async function convertToInteractive(key) {\n",
              "        const element = document.querySelector('#df-6bcf1da5-07ae-4a27-a763-851976d8ee3b');\n",
              "        const dataTable =\n",
              "          await google.colab.kernel.invokeFunction('convertToInteractive',\n",
              "                                                    [key], {});\n",
              "        if (!dataTable) return;\n",
              "\n",
              "        const docLinkHtml = 'Like what you see? Visit the ' +\n",
              "          '<a target=\"_blank\" href=https://colab.research.google.com/notebooks/data_table.ipynb>data table notebook</a>'\n",
              "          + ' to learn more about interactive tables.';\n",
              "        element.innerHTML = '';\n",
              "        dataTable['output_type'] = 'display_data';\n",
              "        await google.colab.output.renderOutput(dataTable, element);\n",
              "        const docLink = document.createElement('div');\n",
              "        docLink.innerHTML = docLinkHtml;\n",
              "        element.appendChild(docLink);\n",
              "      }\n",
              "    </script>\n",
              "  </div>\n",
              "\n",
              "\n",
              "    <div id=\"df-c51587e4-afdf-4b08-93a9-9c6fbf011f2e\">\n",
              "      <button class=\"colab-df-quickchart\" onclick=\"quickchart('df-c51587e4-afdf-4b08-93a9-9c6fbf011f2e')\"\n",
              "                title=\"Suggest charts\"\n",
              "                style=\"display:none;\">\n",
              "\n",
              "<svg xmlns=\"http://www.w3.org/2000/svg\" height=\"24px\"viewBox=\"0 0 24 24\"\n",
              "     width=\"24px\">\n",
              "    <g>\n",
              "        <path d=\"M19 3H5c-1.1 0-2 .9-2 2v14c0 1.1.9 2 2 2h14c1.1 0 2-.9 2-2V5c0-1.1-.9-2-2-2zM9 17H7v-7h2v7zm4 0h-2V7h2v10zm4 0h-2v-4h2v4z\"/>\n",
              "    </g>\n",
              "</svg>\n",
              "      </button>\n",
              "\n",
              "<style>\n",
              "  .colab-df-quickchart {\n",
              "      --bg-color: #E8F0FE;\n",
              "      --fill-color: #1967D2;\n",
              "      --hover-bg-color: #E2EBFA;\n",
              "      --hover-fill-color: #174EA6;\n",
              "      --disabled-fill-color: #AAA;\n",
              "      --disabled-bg-color: #DDD;\n",
              "  }\n",
              "\n",
              "  [theme=dark] .colab-df-quickchart {\n",
              "      --bg-color: #3B4455;\n",
              "      --fill-color: #D2E3FC;\n",
              "      --hover-bg-color: #434B5C;\n",
              "      --hover-fill-color: #FFFFFF;\n",
              "      --disabled-bg-color: #3B4455;\n",
              "      --disabled-fill-color: #666;\n",
              "  }\n",
              "\n",
              "  .colab-df-quickchart {\n",
              "    background-color: var(--bg-color);\n",
              "    border: none;\n",
              "    border-radius: 50%;\n",
              "    cursor: pointer;\n",
              "    display: none;\n",
              "    fill: var(--fill-color);\n",
              "    height: 32px;\n",
              "    padding: 0;\n",
              "    width: 32px;\n",
              "  }\n",
              "\n",
              "  .colab-df-quickchart:hover {\n",
              "    background-color: var(--hover-bg-color);\n",
              "    box-shadow: 0 1px 2px rgba(60, 64, 67, 0.3), 0 1px 3px 1px rgba(60, 64, 67, 0.15);\n",
              "    fill: var(--button-hover-fill-color);\n",
              "  }\n",
              "\n",
              "  .colab-df-quickchart-complete:disabled,\n",
              "  .colab-df-quickchart-complete:disabled:hover {\n",
              "    background-color: var(--disabled-bg-color);\n",
              "    fill: var(--disabled-fill-color);\n",
              "    box-shadow: none;\n",
              "  }\n",
              "\n",
              "  .colab-df-spinner {\n",
              "    border: 2px solid var(--fill-color);\n",
              "    border-color: transparent;\n",
              "    border-bottom-color: var(--fill-color);\n",
              "    animation:\n",
              "      spin 1s steps(1) infinite;\n",
              "  }\n",
              "\n",
              "  @keyframes spin {\n",
              "    0% {\n",
              "      border-color: transparent;\n",
              "      border-bottom-color: var(--fill-color);\n",
              "      border-left-color: var(--fill-color);\n",
              "    }\n",
              "    20% {\n",
              "      border-color: transparent;\n",
              "      border-left-color: var(--fill-color);\n",
              "      border-top-color: var(--fill-color);\n",
              "    }\n",
              "    30% {\n",
              "      border-color: transparent;\n",
              "      border-left-color: var(--fill-color);\n",
              "      border-top-color: var(--fill-color);\n",
              "      border-right-color: var(--fill-color);\n",
              "    }\n",
              "    40% {\n",
              "      border-color: transparent;\n",
              "      border-right-color: var(--fill-color);\n",
              "      border-top-color: var(--fill-color);\n",
              "    }\n",
              "    60% {\n",
              "      border-color: transparent;\n",
              "      border-right-color: var(--fill-color);\n",
              "    }\n",
              "    80% {\n",
              "      border-color: transparent;\n",
              "      border-right-color: var(--fill-color);\n",
              "      border-bottom-color: var(--fill-color);\n",
              "    }\n",
              "    90% {\n",
              "      border-color: transparent;\n",
              "      border-bottom-color: var(--fill-color);\n",
              "    }\n",
              "  }\n",
              "</style>\n",
              "\n",
              "      <script>\n",
              "        async function quickchart(key) {\n",
              "          const quickchartButtonEl =\n",
              "            document.querySelector('#' + key + ' button');\n",
              "          quickchartButtonEl.disabled = true;  // To prevent multiple clicks.\n",
              "          quickchartButtonEl.classList.add('colab-df-spinner');\n",
              "          try {\n",
              "            const charts = await google.colab.kernel.invokeFunction(\n",
              "                'suggestCharts', [key], {});\n",
              "          } catch (error) {\n",
              "            console.error('Error during call to suggestCharts:', error);\n",
              "          }\n",
              "          quickchartButtonEl.classList.remove('colab-df-spinner');\n",
              "          quickchartButtonEl.classList.add('colab-df-quickchart-complete');\n",
              "        }\n",
              "        (() => {\n",
              "          let quickchartButtonEl =\n",
              "            document.querySelector('#df-c51587e4-afdf-4b08-93a9-9c6fbf011f2e button');\n",
              "          quickchartButtonEl.style.display =\n",
              "            google.colab.kernel.accessAllowed ? 'block' : 'none';\n",
              "        })();\n",
              "      </script>\n",
              "    </div>\n",
              "\n",
              "  <div id=\"id_5b0e058b-57d6-4fd0-aa8b-e1eb2594b970\">\n",
              "    <style>\n",
              "      .colab-df-generate {\n",
              "        background-color: #E8F0FE;\n",
              "        border: none;\n",
              "        border-radius: 50%;\n",
              "        cursor: pointer;\n",
              "        display: none;\n",
              "        fill: #1967D2;\n",
              "        height: 32px;\n",
              "        padding: 0 0 0 0;\n",
              "        width: 32px;\n",
              "      }\n",
              "\n",
              "      .colab-df-generate:hover {\n",
              "        background-color: #E2EBFA;\n",
              "        box-shadow: 0px 1px 2px rgba(60, 64, 67, 0.3), 0px 1px 3px 1px rgba(60, 64, 67, 0.15);\n",
              "        fill: #174EA6;\n",
              "      }\n",
              "\n",
              "      [theme=dark] .colab-df-generate {\n",
              "        background-color: #3B4455;\n",
              "        fill: #D2E3FC;\n",
              "      }\n",
              "\n",
              "      [theme=dark] .colab-df-generate:hover {\n",
              "        background-color: #434B5C;\n",
              "        box-shadow: 0px 1px 3px 1px rgba(0, 0, 0, 0.15);\n",
              "        filter: drop-shadow(0px 1px 2px rgba(0, 0, 0, 0.3));\n",
              "        fill: #FFFFFF;\n",
              "      }\n",
              "    </style>\n",
              "    <button class=\"colab-df-generate\" onclick=\"generateWithVariable('df_results')\"\n",
              "            title=\"Generate code using this dataframe.\"\n",
              "            style=\"display:none;\">\n",
              "\n",
              "  <svg xmlns=\"http://www.w3.org/2000/svg\" height=\"24px\"viewBox=\"0 0 24 24\"\n",
              "       width=\"24px\">\n",
              "    <path d=\"M7,19H8.4L18.45,9,17,7.55,7,17.6ZM5,21V16.75L18.45,3.32a2,2,0,0,1,2.83,0l1.4,1.43a1.91,1.91,0,0,1,.58,1.4,1.91,1.91,0,0,1-.58,1.4L9.25,21ZM18.45,9,17,7.55Zm-12,3A5.31,5.31,0,0,0,4.9,8.1,5.31,5.31,0,0,0,1,6.5,5.31,5.31,0,0,0,4.9,4.9,5.31,5.31,0,0,0,6.5,1,5.31,5.31,0,0,0,8.1,4.9,5.31,5.31,0,0,0,12,6.5,5.46,5.46,0,0,0,6.5,12Z\"/>\n",
              "  </svg>\n",
              "    </button>\n",
              "    <script>\n",
              "      (() => {\n",
              "      const buttonEl =\n",
              "        document.querySelector('#id_5b0e058b-57d6-4fd0-aa8b-e1eb2594b970 button.colab-df-generate');\n",
              "      buttonEl.style.display =\n",
              "        google.colab.kernel.accessAllowed ? 'block' : 'none';\n",
              "\n",
              "      buttonEl.onclick = () => {\n",
              "        google.colab.notebook.generateWithVariable('df_results');\n",
              "      }\n",
              "      })();\n",
              "    </script>\n",
              "  </div>\n",
              "\n",
              "    </div>\n",
              "  </div>\n"
            ],
            "application/vnd.google.colaboratory.intrinsic+json": {
              "type": "dataframe",
              "variable_name": "df_results",
              "summary": "{\n  \"name\": \"df_results\",\n  \"rows\": 15,\n  \"fields\": [\n    {\n      \"column\": \"bootstrap\",\n      \"properties\": {\n        \"dtype\": \"number\",\n        \"std\": 4,\n        \"min\": 0,\n        \"max\": 14,\n        \"num_unique_values\": 15,\n        \"samples\": [\n          9,\n          11,\n          0\n        ],\n        \"semantic_type\": \"\",\n        \"description\": \"\"\n      }\n    },\n    {\n      \"column\": \"wasserstein\",\n      \"properties\": {\n        \"dtype\": \"number\",\n        \"std\": 0.0006900755900287821,\n        \"min\": 0.1593239800580017,\n        \"max\": 0.16169630958173137,\n        \"num_unique_values\": 15,\n        \"samples\": [\n          0.15998053507512353,\n          0.1593239800580017,\n          0.1605642436418629\n        ],\n        \"semantic_type\": \"\",\n        \"description\": \"\"\n      }\n    },\n    {\n      \"column\": \"kl\",\n      \"properties\": {\n        \"dtype\": \"number\",\n        \"std\": 0.022562842557310964,\n        \"min\": 13.235632591436339,\n        \"max\": 13.318072054764087,\n        \"num_unique_values\": 15,\n        \"samples\": [\n          13.264939946616833,\n          13.262891783887522,\n          13.2898472319024\n        ],\n        \"semantic_type\": \"\",\n        \"description\": \"\"\n      }\n    },\n    {\n      \"column\": \"rmse\",\n      \"properties\": {\n        \"dtype\": \"number\",\n        \"std\": 0.000810183001375207,\n        \"min\": 0.24405088682789233,\n        \"max\": 0.24647073027844368,\n        \"num_unique_values\": 15,\n        \"samples\": [\n          0.24470251654808767,\n          0.24405088682789233,\n          0.24514847058072567\n        ],\n        \"semantic_type\": \"\",\n        \"description\": \"\"\n      }\n    },\n    {\n      \"column\": \"mae\",\n      \"properties\": {\n        \"dtype\": \"number\",\n        \"std\": 0.0006646666587065904,\n        \"min\": 0.18763820827007294,\n        \"max\": 0.18984928727149963,\n        \"num_unique_values\": 15,\n        \"samples\": [\n          0.1883559376001358,\n          0.18763820827007294,\n          0.18892039358615875\n        ],\n        \"semantic_type\": \"\",\n        \"description\": \"\"\n      }\n    },\n    {\n      \"column\": \"Dataset\",\n      \"properties\": {\n        \"dtype\": \"category\",\n        \"num_unique_values\": 1,\n        \"samples\": [\n          \"El\"\n        ],\n        \"semantic_type\": \"\",\n        \"description\": \"\"\n      }\n    },\n    {\n      \"column\": \"Model\",\n      \"properties\": {\n        \"dtype\": \"category\",\n        \"num_unique_values\": 1,\n        \"samples\": [\n          \"GAN\"\n        ],\n        \"semantic_type\": \"\",\n        \"description\": \"\"\n      }\n    }\n  ]\n}"
            }
          },
          "metadata": {},
          "execution_count": 51
        }
      ]
    },
    {
      "cell_type": "code",
      "source": [
        "summary_row = {\n",
        "    'Dataset': 'El',\n",
        "    'Model': 'GAN',\n",
        "    'Wasserstein': df_results['wasserstein'].mean(),\n",
        "    'KL': df_results['kl'].mean(),\n",
        "    'RMSE': df_results['rmse'].mean(),\n",
        "    'MAE': df_results['mae'].mean()\n",
        "}\n",
        "\n",
        "df_summary = pd.DataFrame([summary_row])\n",
        "print(df_summary)"
      ],
      "metadata": {
        "id": "OwehLjFkqLYs",
        "outputId": "7981de49-1af2-4be1-fc80-a58cbbff79a6",
        "colab": {
          "base_uri": "https://localhost:8080/"
        }
      },
      "execution_count": 48,
      "outputs": [
        {
          "output_type": "stream",
          "name": "stdout",
          "text": [
            "  Dataset Model  Wasserstein         KL      RMSE       MAE\n",
            "0      El   GAN     0.163065  13.389357  0.246665  0.190882\n"
          ]
        }
      ]
    }
  ]
}