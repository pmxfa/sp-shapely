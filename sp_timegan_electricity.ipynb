{
  "nbformat": 4,
  "nbformat_minor": 0,
  "metadata": {
    "colab": {
      "provenance": [],
      "authorship_tag": "ABX9TyNBaWr9Kd3Arx9OE43O3rIF",
      "include_colab_link": true
    },
    "kernelspec": {
      "name": "python3",
      "display_name": "Python 3"
    },
    "language_info": {
      "name": "python"
    }
  },
  "cells": [
    {
      "cell_type": "markdown",
      "metadata": {
        "id": "view-in-github",
        "colab_type": "text"
      },
      "source": [
        "<a href=\"https://colab.research.google.com/github/pmxfa/sp-shapely/blob/main/sp_timegan_electricity.ipynb\" target=\"_parent\"><img src=\"https://colab.research.google.com/assets/colab-badge.svg\" alt=\"Open In Colab\"/></a>"
      ]
    },
    {
      "cell_type": "code",
      "execution_count": null,
      "metadata": {
        "id": "oaMLghK_ipz1",
        "collapsed": true
      },
      "outputs": [],
      "source": [
        "!pip install synthcity"
      ]
    },
    {
      "cell_type": "markdown",
      "source": [
        "# Training"
      ],
      "metadata": {
        "id": "NcwQ6Yo09JC8"
      }
    },
    {
      "cell_type": "code",
      "source": [
        "from google.colab import drive\n",
        "drive.mount('/content/drive')\n",
        "\n",
        "import sys\n",
        "import warnings\n",
        "import pandas as pd\n",
        "import numpy as np\n",
        "from sklearn.preprocessing import MinMaxScaler\n",
        "\n",
        "import synthcity.logger as log\n",
        "from synthcity.plugins import Plugins\n",
        "from synthcity.plugins.core.dataloader import TimeSeriesDataLoader\n",
        "\n",
        "log.add(sink=sys.stderr, level=\"INFO\")"
      ],
      "metadata": {
        "id": "kfDi7FQF9LIv",
        "colab": {
          "base_uri": "https://localhost:8080/"
        },
        "outputId": "cd04e086-1736-46f1-fb2c-3ad0fa30f701",
        "collapsed": true
      },
      "execution_count": 1,
      "outputs": [
        {
          "output_type": "stream",
          "name": "stdout",
          "text": [
            "Mounted at /content/drive\n",
            "[KeOps] Warning : CUDA libraries not found or could not be loaded; Switching to CPU only.\n"
          ]
        }
      ]
    },
    {
      "cell_type": "code",
      "source": [
        "file_path = \"/content/drive/Shareddrives/sp_env/datasets/Electricity Transformer Dataset (ETDataset)/ETTh1.csv\"\n",
        "\n",
        "df = pd.read_csv(file_path)\n",
        "print(df.head())\n",
        "print(df.info())\n",
        "print(df.isnull().sum())"
      ],
      "metadata": {
        "id": "DCLsmN-F9NGv",
        "colab": {
          "base_uri": "https://localhost:8080/"
        },
        "outputId": "329b30ad-2a0b-4067-935a-03b2e7f8a674",
        "collapsed": true
      },
      "execution_count": 2,
      "outputs": [
        {
          "output_type": "stream",
          "name": "stdout",
          "text": [
            "                  date   HUFL   HULL   MUFL   MULL   LUFL   LULL         OT\n",
            "0  2016-07-01 00:00:00  5.827  2.009  1.599  0.462  4.203  1.340  30.531000\n",
            "1  2016-07-01 01:00:00  5.693  2.076  1.492  0.426  4.142  1.371  27.787001\n",
            "2  2016-07-01 02:00:00  5.157  1.741  1.279  0.355  3.777  1.218  27.787001\n",
            "3  2016-07-01 03:00:00  5.090  1.942  1.279  0.391  3.807  1.279  25.044001\n",
            "4  2016-07-01 04:00:00  5.358  1.942  1.492  0.462  3.868  1.279  21.948000\n",
            "<class 'pandas.core.frame.DataFrame'>\n",
            "RangeIndex: 17420 entries, 0 to 17419\n",
            "Data columns (total 8 columns):\n",
            " #   Column  Non-Null Count  Dtype  \n",
            "---  ------  --------------  -----  \n",
            " 0   date    17420 non-null  object \n",
            " 1   HUFL    17420 non-null  float64\n",
            " 2   HULL    17420 non-null  float64\n",
            " 3   MUFL    17420 non-null  float64\n",
            " 4   MULL    17420 non-null  float64\n",
            " 5   LUFL    17420 non-null  float64\n",
            " 6   LULL    17420 non-null  float64\n",
            " 7   OT      17420 non-null  float64\n",
            "dtypes: float64(7), object(1)\n",
            "memory usage: 1.1+ MB\n",
            "None\n",
            "date    0\n",
            "HUFL    0\n",
            "HULL    0\n",
            "MUFL    0\n",
            "MULL    0\n",
            "LUFL    0\n",
            "LULL    0\n",
            "OT      0\n",
            "dtype: int64\n"
          ]
        }
      ]
    },
    {
      "cell_type": "code",
      "source": [
        "# Convert 'date' to datetime, set as index, and sort\n",
        "df['date'] = pd.to_datetime(df['date'])\n",
        "df.set_index('date', inplace=True)\n",
        "df.sort_index(inplace=True)\n",
        "\n",
        "# Keep the latest 5000 rows\n",
        "df_latest = df.tail(5000)\n",
        "\n",
        "# Train-test split: 70% for training (for TimeGAN), 30% for testing (TSTR)\n",
        "train_size = int(0.7 * len(df_latest))\n",
        "df_train = df_latest.iloc[:train_size]\n",
        "df_test = df_latest.iloc[train_size:]  # use later for LSTM-TSTR\n",
        "\n",
        "# Normalize the data\n",
        "scaler = MinMaxScaler()\n",
        "scaled_train = scaler.fit_transform(df_train)\n",
        "df_scaled_train = pd.DataFrame(scaled_train, columns=df_train.columns, index=df_train.index)\n",
        "scaled_test = scaler.transform(df_test)\n",
        "df_scaled_test = pd.DataFrame(scaled_test, columns=df_test.columns, index=df_test.index)\n",
        "\n",
        "# Sequence length for time-series data (dataset = hourly; 24 hours)\n",
        "sequence_length = 24\n",
        "# temporal_data = []\n",
        "# observation_times = []\n",
        "\n",
        "# # Generate sequences from df_scaled_train only\n",
        "# for start in range(len(df_scaled_train) - sequence_length + 1):\n",
        "#     sequence = df_scaled_train.iloc[start:start + sequence_length].reset_index(drop=True)\n",
        "#     temporal_data.append(sequence)\n",
        "#     observation_times.append(list(range(sequence_length)))  # relative time within the window\n",
        "\n",
        "# # Dummy outcome for TimeGAN (can be used in DataLoader)\n",
        "# dummy_outcome = pd.DataFrame(np.zeros(len(temporal_data)), columns=[\"outcome\"])\n",
        "\n",
        "# # Create DataLoader for TimeGAN\n",
        "# loader = TimeSeriesDataLoader(\n",
        "#     temporal_data=temporal_data,\n",
        "#     observation_times=observation_times,\n",
        "#     static_data=None,\n",
        "#     outcome=dummy_outcome,\n",
        "# )\n",
        "\n",
        "# # Print the loader info\n",
        "# print(f\"TimeSeriesDataLoader created with {len(temporal_data)} sequences\")\n"
      ],
      "metadata": {
        "id": "siWRiBtn9O0V"
      },
      "execution_count": 3,
      "outputs": []
    },
    {
      "cell_type": "code",
      "source": [
        "temporal_data_test = []\n",
        "observation_times_test = []\n",
        "\n",
        "# Generate sequences from df_scaled_test only\n",
        "for start in range(len(df_scaled_test) - sequence_length + 1):\n",
        "    sequence = df_scaled_test.iloc[start:start + sequence_length].reset_index(drop=True)\n",
        "    temporal_data_test.append(sequence)\n",
        "    observation_times_test.append(list(range(sequence_length)))  # relative time within the window\n",
        "\n",
        "# Dummy outcome for TimeGAN (can be used in DataLoader)\n",
        "dummy_outcome = pd.DataFrame(np.zeros(len(temporal_data_test)), columns=[\"outcome\"])\n",
        "\n",
        "# Create DataLoader for TimeGAN\n",
        "loader_test = TimeSeriesDataLoader(\n",
        "    temporal_data=temporal_data_test,\n",
        "    observation_times=observation_times_test,\n",
        "    static_data=None,\n",
        "    outcome=dummy_outcome,\n",
        ")\n",
        "\n",
        "# Print the loader info\n",
        "print(f\"TimeSeriesDataLoader TEST SET created with {len(temporal_data_test)} sequences\")"
      ],
      "metadata": {
        "colab": {
          "base_uri": "https://localhost:8080/"
        },
        "id": "RFJXVWHMjE6l",
        "outputId": "72aa58fb-ed2c-4b65-aa7a-3bab77846255"
      },
      "execution_count": 4,
      "outputs": [
        {
          "output_type": "stream",
          "name": "stdout",
          "text": [
            "TimeSeriesDataLoader TEST SET created with 1477 sequences\n"
          ]
        }
      ]
    },
    {
      "cell_type": "code",
      "source": [
        "print(len(df_train))\n",
        "print(loader.dataframe())"
      ],
      "metadata": {
        "id": "FmZe08FM9Rd0",
        "collapsed": true
      },
      "execution_count": null,
      "outputs": []
    },
    {
      "cell_type": "code",
      "source": [
        "hparams = {\n",
        "          \"mode\": \"LSTM\", # default mode = RNN;\n",
        "          \"dataloader_sampling_strategy\": \"none\" # default = imbalanced_time_censoring\n",
        "}\n",
        "\n",
        "# Load TimeGAN with custom parameters\n",
        "syn_model = Plugins().get(\"timegan\", **hparams)"
      ],
      "metadata": {
        "id": "oYqRdbxl9W74",
        "colab": {
          "base_uri": "https://localhost:8080/"
        },
        "outputId": "a596113e-010b-41dc-a9ae-4b930d3d3c37"
      },
      "execution_count": null,
      "outputs": [
        {
          "output_type": "stream",
          "name": "stderr",
          "text": [
            "[2025-05-07T10:55:46.427394+0000][1158][CRITICAL] module disabled: /usr/local/lib/python3.11/dist-packages/synthcity/plugins/generic/plugin_goggle.py\n",
            "[2025-05-07T10:55:46.427394+0000][1158][CRITICAL] module disabled: /usr/local/lib/python3.11/dist-packages/synthcity/plugins/generic/plugin_goggle.py\n",
            "[2025-05-07T10:55:46.427394+0000][1158][CRITICAL] module disabled: /usr/local/lib/python3.11/dist-packages/synthcity/plugins/generic/plugin_goggle.py\n"
          ]
        }
      ]
    },
    {
      "cell_type": "code",
      "source": [
        "# Print all parameters of initialized model\n",
        "for attr in dir(syn_model):\n",
        "    if not attr.startswith(\"_\") and not callable(getattr(syn_model, attr)):\n",
        "        print(f\"{attr}: {getattr(syn_model, attr)}\")"
      ],
      "metadata": {
        "id": "y9ZVw8pT9Y_Q",
        "colab": {
          "base_uri": "https://localhost:8080/"
        },
        "outputId": "3c7feedd-f295-4c00-99a4-42ff8e0dd7df"
      },
      "execution_count": null,
      "outputs": [
        {
          "output_type": "stream",
          "name": "stdout",
          "text": [
            "batch_size: 64\n",
            "class_name: TimeGANPlugin\n",
            "clipping_value: 0\n",
            "compress_dataset: False\n",
            "dataloader_sampling_strategy: none\n",
            "device: cuda\n",
            "discriminator_batch_norm: False\n",
            "discriminator_dropout: 0.1\n",
            "discriminator_loss: None\n",
            "discriminator_lr: 0.001\n",
            "discriminator_n_iter: 1\n",
            "discriminator_n_layers_hidden: 3\n",
            "discriminator_n_units_hidden: 300\n",
            "discriminator_nonlin: leaky_relu\n",
            "discriminator_weight_decay: 0.001\n",
            "embedding_penalty: 10\n",
            "encoder: None\n",
            "encoder_max_clusters: 20\n",
            "expecting_conditional: False\n",
            "fitted: False\n",
            "gamma_penalty: 1\n",
            "generator_batch_norm: False\n",
            "generator_dropout: 0.01\n",
            "generator_loss: None\n",
            "generator_lr: 0.001\n",
            "generator_n_layers_hidden: 2\n",
            "generator_n_units_hidden: 150\n",
            "generator_nonlin: leaky_relu\n",
            "generator_nonlin_out_continuous: tanh\n",
            "generator_nonlin_out_discrete: softmax\n",
            "generator_residual: True\n",
            "generator_weight_decay: 0.001\n",
            "mode: LSTM\n",
            "module_name: synthcity.plugins.time_series.plugin_timegan\n",
            "module_relative_path: ../time_series/plugin_timegan.py\n",
            "moments_penalty: 100\n",
            "n_iter: 1000\n",
            "n_iter_print: 10\n",
            "outcome_encoder: TabularEncoder(cat_encoder_params={'handle_unknown': 'ignore',\n",
            "                                   'sparse_output': False},\n",
            "               categorical_encoder='onehot',\n",
            "               cont_encoder_params={'n_components': 20},\n",
            "               continuous_encoder='bayesian_gmm', max_clusters=20)\n",
            "random_state: 0\n",
            "sampling_patience: 500\n",
            "sampling_strategy: marginal\n",
            "strict: True\n",
            "use_horizon_condition: True\n",
            "workspace: workspace\n"
          ]
        }
      ]
    },
    {
      "cell_type": "markdown",
      "source": [
        "## fitting the model"
      ],
      "metadata": {
        "id": "IKG0O5Pg9hpG"
      }
    },
    {
      "cell_type": "code",
      "source": [
        "print(loader.shape)"
      ],
      "metadata": {
        "id": "THzKqhIFcWlG",
        "outputId": "33db5309-8fd0-47f0-af5e-39ddbe776d0f",
        "colab": {
          "base_uri": "https://localhost:8080/"
        }
      },
      "execution_count": null,
      "outputs": [
        {
          "output_type": "stream",
          "name": "stdout",
          "text": [
            "(83448, 10)\n"
          ]
        }
      ]
    },
    {
      "cell_type": "code",
      "source": [
        "#  Train the model\n",
        "syn_model.fit(loader)"
      ],
      "metadata": {
        "id": "-BKXe4G19l_8",
        "colab": {
          "base_uri": "https://localhost:8080/"
        },
        "outputId": "2c673315-dc36-46ac-a921-5381803b2674"
      },
      "execution_count": null,
      "outputs": [
        {
          "output_type": "stream",
          "name": "stderr",
          "text": [
            "100%|██████████| 1000/1000 [2:09:12<00:00,  7.75s/it]\n"
          ]
        },
        {
          "output_type": "execute_result",
          "data": {
            "text/plain": [
              "<synthcity.plugins.time_series.plugin_timegan.TimeGANPlugin at 0x7ed4d27ecd50>"
            ]
          },
          "metadata": {},
          "execution_count": 9
        }
      ]
    },
    {
      "cell_type": "code",
      "source": [
        "saved_model = syn_model.save()"
      ],
      "metadata": {
        "id": "MMIE6K28AavA"
      },
      "execution_count": null,
      "outputs": []
    },
    {
      "cell_type": "code",
      "source": [
        "from synthcity.utils.serialization import save_to_file, load_from_file\n",
        "\n",
        "# Save model to drive\n",
        "# save_to_file('/content/drive/Shareddrives/sp_env/test_model.pkl', syn_model)\n",
        "save_to_file('/content/drive/Shareddrives/sp_env/saved_models/GAN_Electricity.pkl', syn_model)\n",
        "\n",
        "# Load the model\n",
        "# loaded_model = load_from_file('/content/drive/Shareddrives/sp_env/test_model.pkl')"
      ],
      "metadata": {
        "id": "GXR9yPgyDsfe"
      },
      "execution_count": null,
      "outputs": []
    },
    {
      "cell_type": "code",
      "source": [
        "n_samples = len(temporal_data)\n",
        "print(\"n_samples:\", n_samples)\n",
        "syn_data = syn_model.generate(count=n_samples)\n",
        "print(syn_data.shape)"
      ],
      "metadata": {
        "colab": {
          "base_uri": "https://localhost:8080/"
        },
        "id": "xziCvHeRjvaM",
        "outputId": "1f762270-0665-42c0-bba8-0c4b150dfc30"
      },
      "execution_count": null,
      "outputs": [
        {
          "output_type": "stream",
          "name": "stdout",
          "text": [
            "n_samples: 3477\n",
            "(43421, 10)\n"
          ]
        }
      ]
    },
    {
      "cell_type": "code",
      "source": [
        "# Save with automated format\n",
        "import datetime\n",
        "import os\n",
        "# Get the current date and time\n",
        "now = datetime.datetime.now()\n",
        "timestamp = now.strftime(\"%m%d%y-%H%M%S\")  # MMDDYY-HHMMSS format\n",
        "\n",
        "# Define the base directory\n",
        "base_dir = \"/content/drive/Shareddrives/sp_env/synthetic_datasets/TimeGAN/electricity\"  #CHANGE THIS\n",
        "if not os.path.exists(base_dir):\n",
        "    os.makedirs(base_dir)\n",
        "\n",
        "# Construct the filename\n",
        "model_name = type(syn_model).__name__.lower() # Get model name dynamically\n",
        "filename = f\"{timestamp}-{model_name}-n_3000.csv\"\n",
        "filepath = os.path.join(base_dir, filename)\n",
        "\n",
        "# Save the data\n",
        "df_syn = syn_data.dataframe()\n",
        "df_syn.to_csv(filepath, index=False)\n",
        "\n",
        "print(f\"Synthetic data saved to: {filepath}\")"
      ],
      "metadata": {
        "id": "J4rF0HY29o65",
        "colab": {
          "base_uri": "https://localhost:8080/"
        },
        "outputId": "36ee500b-3cb8-4839-f85b-1a912c54fc48"
      },
      "execution_count": null,
      "outputs": [
        {
          "output_type": "stream",
          "name": "stdout",
          "text": [
            "Synthetic data saved to: /content/drive/Shareddrives/sp_env/synthetic_datasets/TimeGAN/electricity/050725-132812-timeganplugin-n_3000.csv\n"
          ]
        }
      ]
    },
    {
      "cell_type": "markdown",
      "source": [
        "# Evaluation"
      ],
      "metadata": {
        "id": "TICnBaoH9r8Z"
      }
    },
    {
      "cell_type": "markdown",
      "source": [
        "## Prerequisites"
      ],
      "metadata": {
        "id": "QlHAzxfV9uXf"
      }
    },
    {
      "cell_type": "code",
      "source": [
        "syn_data = pd.read_csv('/content/drive/Shareddrives/sp_env/synthetic_datasets/TimeGAN/electricity/050725-132812-timeganplugin-n_3000.csv')"
      ],
      "metadata": {
        "id": "J1tmHjywjjJ8"
      },
      "execution_count": 5,
      "outputs": []
    },
    {
      "cell_type": "code",
      "source": [
        "# Define selected columns explicitly\n",
        "selected_columns = ['seq_temporal_HUFL', 'seq_temporal_HULL', 'seq_temporal_LUFL', 'seq_temporal_LULL', 'seq_temporal_MUFL', 'seq_temporal_MULL', 'seq_temporal_OT']\n",
        "\n",
        "# Ensure real_data and synthetic_data only contain the selected columns\n",
        "real_data = loader_test.dataframe()[selected_columns].to_numpy()\n",
        "synthetic_data = syn_data[selected_columns].to_numpy()"
      ],
      "metadata": {
        "id": "zUMHadsq9vw8"
      },
      "execution_count": 6,
      "outputs": []
    },
    {
      "cell_type": "code",
      "source": [
        "#  Check datasets\n",
        "\n",
        "print(real_data, \"\\n ------------------------------------------------------- \\n\", synthetic_data)\n",
        "print(type(real_data),type(synthetic_data))\n",
        "print(real_data.shape,synthetic_data.shape)\n",
        "\n",
        "\"\"\" TODO\n",
        "[] add adjusting off dataset to fit min length here\n",
        "[] remove min length stuff in helper funcs\n",
        "\"\"\""
      ],
      "metadata": {
        "id": "DumXr_Gg9y6U",
        "colab": {
          "base_uri": "https://localhost:8080/",
          "height": 348
        },
        "outputId": "7d89dc71-ffde-418f-fcf9-274432b8ef51"
      },
      "execution_count": 7,
      "outputs": [
        {
          "output_type": "stream",
          "name": "stdout",
          "text": [
            "[[0.64238779 0.32967478 0.42980559 ... 0.67287374 0.33964623 0.67070109]\n",
            " [0.31229163 0.50270358 0.36846652 ... 0.32249713 0.55234947 0.69878968]\n",
            " [0.54529643 0.36752483 0.42102231 ... 0.56598494 0.38091834 0.75502396]\n",
            " ...\n",
            " [0.56471953 0.49729644 0.53506119 ... 0.56506958 0.4952653  0.79921214]\n",
            " [0.72005606 0.49729644 0.52627788 ... 0.72954808 0.4952653  0.77106644]\n",
            " [0.74109776 0.47566783 0.53506119 ... 0.74814312 0.44765052 0.75902034]] \n",
            " ------------------------------------------------------- \n",
            " [[0.8511261  0.5072802  0.33854351 ... 0.86287211 0.37202017 0.50054281]\n",
            " [0.85119168 0.5072618  0.65129147 ... 0.86286684 0.37195367 0.75588455]\n",
            " [0.80797667 0.28399383 0.38214453 ... 0.86282263 0.33302839 0.50060487]\n",
            " ...\n",
            " [0.67343941 0.56629246 0.43043925 ... 0.83052238 0.37179222 0.46109215]\n",
            " [0.78868023 0.44475754 0.38193633 ... 0.79199183 0.54619039 0.50064705]\n",
            " [0.85097307 0.2835606  0.65116624 ... 0.75196361 0.37169687 0.37934677]]\n",
            "<class 'numpy.ndarray'> <class 'numpy.ndarray'>\n",
            "(35448, 7) (43421, 7)\n"
          ]
        },
        {
          "output_type": "execute_result",
          "data": {
            "text/plain": [
              "' TODO\\n[] add adjusting off dataset to fit min length here\\n[] remove min length stuff in helper funcs\\n'"
            ],
            "application/vnd.google.colaboratory.intrinsic+json": {
              "type": "string"
            }
          },
          "metadata": {},
          "execution_count": 7
        }
      ]
    },
    {
      "cell_type": "markdown",
      "source": [
        "## Generate distance metrics"
      ],
      "metadata": {
        "id": "0pU8BORS9vWk"
      }
    },
    {
      "cell_type": "markdown",
      "source": [
        "### Helper Functions"
      ],
      "metadata": {
        "id": "DVguOJWi-Fos"
      }
    },
    {
      "cell_type": "code",
      "source": [
        "from scipy.stats import wasserstein_distance, entropy\n",
        "import numpy as np\n",
        "\n",
        "def compute_wasserstein(real_data, synthetic_data, selected_columns):\n",
        "    \"\"\"\n",
        "    Computes Wasserstein Distance between real and synthetic time-series data.\n",
        "\n",
        "    \"\"\"\n",
        "\n",
        "    # Ensure both datasets have the same number of samples\n",
        "    min_length = min(len(real_data), len(synthetic_data))\n",
        "    real_trimmed = real_data[:min_length]  # Keep original order (no random sampling)\n",
        "    synthetic_trimmed = synthetic_data[:min_length]  # Match size\n",
        "    print(real_trimmed.shape,synthetic_trimmed.shape)\n",
        "\n",
        "    wasserstein_results = {}\n",
        "\n",
        "    # Compute Wasserstein Distance for each feature\n",
        "    for i, col in enumerate(selected_columns):\n",
        "        w_dist = wasserstein_distance(real_trimmed[:, i], synthetic_trimmed[:, i])\n",
        "        wasserstein_results[col] = w_dist\n",
        "        print(f\"{w_dist}\")\n",
        "\n",
        "    return wasserstein_results\n",
        "\n",
        "def compute_kl_divergence(real_data, synthetic_data, selected_columns, bins=50):\n",
        "    \"\"\"\n",
        "    Computes KL Divergence between real and synthetic time-series data.\n",
        "\n",
        "    \"\"\"\n",
        "\n",
        "    # Ensure both datasets have the same number of samples\n",
        "    min_length = min(len(real_data), len(synthetic_data))\n",
        "    real_trimmed = real_data[:min_length]  # Keep original order\n",
        "    synthetic_trimmed = synthetic_data[:min_length]  # Match size\n",
        "\n",
        "    kl_results = {}\n",
        "\n",
        "    for i, col in enumerate(selected_columns):\n",
        "        # Compute histogram-based probability distributions\n",
        "        real_hist, _ = np.histogram(real_trimmed[:, i], bins=bins, density=True)\n",
        "        synth_hist, _ = np.histogram(synthetic_trimmed[:, i], bins=bins, density=True)\n",
        "\n",
        "        # Avoid zero probabilities (KL Divergence is undefined for zero values)\n",
        "        real_hist += 1e-10\n",
        "        synth_hist += 1e-10\n",
        "\n",
        "        # Compute KL Divergence\n",
        "        kl_div = entropy(real_hist, synth_hist)\n",
        "        kl_results[col] = kl_div\n",
        "        print(f\"{kl_div}\")\n",
        "\n",
        "    return kl_results"
      ],
      "metadata": {
        "id": "GjGk3_Zx94Ko"
      },
      "execution_count": 8,
      "outputs": []
    },
    {
      "cell_type": "markdown",
      "source": [
        "### Generate Metrics"
      ],
      "metadata": {
        "id": "yLnb7Vqg-IG_"
      }
    },
    {
      "cell_type": "code",
      "source": [
        "# Compute Wasserstein Distance\n",
        "wasserstein_results = compute_wasserstein(real_data, synthetic_data, selected_columns)\n",
        "print(\"Wasserstein Distance Results:\")\n",
        "print(wasserstein_results)\n",
        "\n",
        "# Compute KL Divergence\n",
        "kl_results = compute_kl_divergence(real_data, synthetic_data, selected_columns)\n",
        "print(\"KL Divergence Results:\")\n",
        "print(kl_results)"
      ],
      "metadata": {
        "id": "olm0RYP89-SN",
        "colab": {
          "base_uri": "https://localhost:8080/"
        },
        "outputId": "b8ab6365-74e9-4f77-fbcd-3ad22f92c303"
      },
      "execution_count": 9,
      "outputs": [
        {
          "output_type": "stream",
          "name": "stdout",
          "text": [
            "(35448, 7) (35448, 7)\n",
            "0.12589359866398342\n",
            "0.08450584982597788\n",
            "0.09317955417348268\n",
            "0.2239760852634426\n",
            "0.16200768196480073\n",
            "0.09962678698033475\n",
            "0.33575507662121135\n",
            "Wasserstein Distance Results:\n",
            "{'seq_temporal_HUFL': 0.12589359866398342, 'seq_temporal_HULL': 0.08450584982597788, 'seq_temporal_LUFL': 0.09317955417348268, 'seq_temporal_LULL': 0.2239760852634426, 'seq_temporal_MUFL': 0.16200768196480073, 'seq_temporal_MULL': 0.09962678698033475, 'seq_temporal_OT': 0.33575507662121135}\n",
            "11.436516277561278\n",
            "14.463556430780402\n",
            "13.979544374637179\n",
            "11.79633753592787\n",
            "12.691260723979555\n",
            "15.10601419655953\n",
            "13.45767585080329\n",
            "KL Divergence Results:\n",
            "{'seq_temporal_HUFL': 11.436516277561278, 'seq_temporal_HULL': 14.463556430780402, 'seq_temporal_LUFL': 13.979544374637179, 'seq_temporal_LULL': 11.79633753592787, 'seq_temporal_MUFL': 12.691260723979555, 'seq_temporal_MULL': 15.10601419655953, 'seq_temporal_OT': 13.45767585080329}\n"
          ]
        }
      ]
    },
    {
      "cell_type": "markdown",
      "source": [
        "# LSTM downstream"
      ],
      "metadata": {
        "id": "UpJLIRUZChiz"
      }
    },
    {
      "cell_type": "code",
      "source": [
        "filepath = '/content/drive/Shareddrives/sp_env/synthetic_datasets/TimeGAN/electricity/050725-132812-timeganplugin-n_3000.csv'"
      ],
      "metadata": {
        "id": "MWzW2ymrj-ZZ"
      },
      "execution_count": 10,
      "outputs": []
    },
    {
      "cell_type": "code",
      "source": [
        "real_data = loader_test.dataframe()\n",
        "df_synth = pd.read_csv(filepath)\n",
        "\n",
        "# 2. Drop the unwanted column\n",
        "real_data = real_data.drop(columns=[\"seq_id\", \"seq_time_id\", \"seq_out_outcome\"], errors=\"ignore\")\n",
        "df_synth = df_synth.drop(columns=[\"seq_id\", \"seq_time_id\", \"seq_out_outcome\"], errors=\"ignore\")"
      ],
      "metadata": {
        "id": "oidw2-H7OeUO"
      },
      "execution_count": 11,
      "outputs": []
    },
    {
      "cell_type": "code",
      "source": [
        "print(f\"real_data: {real_data.shape}, synthetic_data: {df_synth.shape}\")"
      ],
      "metadata": {
        "colab": {
          "base_uri": "https://localhost:8080/"
        },
        "id": "2V3bCF9WvLsa",
        "outputId": "53457e00-f38a-40fb-ad82-a3bae7ee8992"
      },
      "execution_count": 12,
      "outputs": [
        {
          "output_type": "stream",
          "name": "stdout",
          "text": [
            "real_data: (35448, 7), synthetic_data: (43421, 7)\n"
          ]
        }
      ]
    },
    {
      "cell_type": "code",
      "source": [
        "#@title ✧.* libraries ✧.*\n",
        "\n",
        "import pandas as pd\n",
        "import numpy as np\n",
        "import torch\n",
        "import torch.nn as nn\n",
        "from torch.utils.data import DataLoader, TensorDataset\n",
        "from sklearn.preprocessing import MinMaxScaler\n",
        "from sklearn.metrics import mean_absolute_error, mean_squared_error"
      ],
      "metadata": {
        "id": "jBeVAcOyoPDz"
      },
      "execution_count": 13,
      "outputs": []
    },
    {
      "cell_type": "markdown",
      "source": [
        "recheck LSTM notebook for"
      ],
      "metadata": {
        "id": "AqxZ2PLWo9pN"
      }
    },
    {
      "cell_type": "code",
      "source": [
        "# Convert to tensors (float32 for PyTorch)\n",
        "data_real = torch.tensor(real_data.values, dtype=torch.float32)\n",
        "data_synth = torch.tensor(df_synth.values, dtype=torch.float32)\n",
        "\n",
        "# ──────── Sequence builder ───────────\n",
        "def make_sequences(data, seq_len):\n",
        "    X, y = [], []\n",
        "    for i in range(len(data) - seq_len):\n",
        "        X.append(data[i:i+seq_len])\n",
        "        y.append(data[i+seq_len])\n",
        "    return torch.stack(X), torch.stack(y)\n",
        "\n",
        "SEQ_LEN = sequence_length\n",
        "\n",
        "# Sequences for synthetic (train)\n",
        "X_train, y_train = make_sequences(data_synth, SEQ_LEN)\n",
        "train_loader = DataLoader(TensorDataset(X_train, y_train), batch_size=32, shuffle=True)\n",
        "\n",
        "# Sequences for real (test)\n",
        "X_test, y_test = make_sequences(data_real, SEQ_LEN)\n"
      ],
      "metadata": {
        "id": "txcyFCaxoZry"
      },
      "execution_count": 14,
      "outputs": []
    },
    {
      "cell_type": "code",
      "source": [
        "#@title ✧.* model definition and training ✧.*\n",
        "\n",
        "# ─── Model Definition ──────────────────────────────────────\n",
        "class ShallowLSTM(nn.Module):\n",
        "    def __init__(self, input_size, hidden_size=64):\n",
        "        super().__init__()\n",
        "        self.lstm = nn.LSTM(input_size, hidden_size, batch_first=True)\n",
        "        self.linear = nn.Linear(hidden_size, input_size)\n",
        "\n",
        "    def forward(self, x):\n",
        "        _, (hn, _) = self.lstm(x)  # hn shape: (1, batch, hidden_size)\n",
        "        out = self.linear(hn.squeeze(0))  # squeeze to (batch, hidden_size)\n",
        "        return out\n",
        "\n",
        "\n",
        "# ─── Model Init ─────────────────────────────────────────────\n",
        "model = ShallowLSTM(input_size=X_train.shape[2], hidden_size=64)\n",
        "\n",
        "# ─── Optimizer & Loss ───────────────────────────────────────\n",
        "loss_fn = nn.MSELoss()\n",
        "optimizer = torch.optim.Adam(model.parameters(), lr=0.002)\n"
      ],
      "metadata": {
        "id": "xb92SGsLojRK"
      },
      "execution_count": 15,
      "outputs": []
    },
    {
      "cell_type": "code",
      "source": [
        "# ─── Training ───────────────────────────────────────────────\n",
        "EPOCHS = 50\n",
        "for epoch in range(1, EPOCHS + 1):\n",
        "    model.train()\n",
        "    for xb, yb in train_loader:\n",
        "        pred = model(xb)\n",
        "        loss = loss_fn(pred, yb)\n",
        "        optimizer.zero_grad()\n",
        "        loss.backward()\n",
        "        optimizer.step()\n",
        "\n",
        "    # if epoch % 10 == 0 or epoch == 1:\n",
        "    print(f\"Epoch {epoch}: Train MSE = {loss.item():.6f}\")"
      ],
      "metadata": {
        "id": "nIvi0lLXHoeF",
        "outputId": "fa737aec-a6aa-4d48-cfec-b5072b70eb79",
        "colab": {
          "base_uri": "https://localhost:8080/"
        }
      },
      "execution_count": 16,
      "outputs": [
        {
          "output_type": "stream",
          "name": "stdout",
          "text": [
            "Epoch 1: Train MSE = 0.007642\n",
            "Epoch 2: Train MSE = 0.011635\n",
            "Epoch 3: Train MSE = 0.018346\n",
            "Epoch 4: Train MSE = 0.005398\n",
            "Epoch 5: Train MSE = 0.015337\n",
            "Epoch 6: Train MSE = 0.004294\n",
            "Epoch 7: Train MSE = 0.007427\n",
            "Epoch 8: Train MSE = 0.006197\n",
            "Epoch 9: Train MSE = 0.009642\n",
            "Epoch 10: Train MSE = 0.006557\n",
            "Epoch 11: Train MSE = 0.014314\n",
            "Epoch 12: Train MSE = 0.005609\n",
            "Epoch 13: Train MSE = 0.015649\n",
            "Epoch 14: Train MSE = 0.007543\n",
            "Epoch 15: Train MSE = 0.005711\n",
            "Epoch 16: Train MSE = 0.016780\n",
            "Epoch 17: Train MSE = 0.005017\n",
            "Epoch 18: Train MSE = 0.016860\n",
            "Epoch 19: Train MSE = 0.003761\n",
            "Epoch 20: Train MSE = 0.014678\n",
            "Epoch 21: Train MSE = 0.008587\n",
            "Epoch 22: Train MSE = 0.005302\n",
            "Epoch 23: Train MSE = 0.007783\n",
            "Epoch 24: Train MSE = 0.012379\n",
            "Epoch 25: Train MSE = 0.005020\n",
            "Epoch 26: Train MSE = 0.006488\n",
            "Epoch 27: Train MSE = 0.017566\n",
            "Epoch 28: Train MSE = 0.016631\n",
            "Epoch 29: Train MSE = 0.005578\n",
            "Epoch 30: Train MSE = 0.007281\n",
            "Epoch 31: Train MSE = 0.008753\n",
            "Epoch 32: Train MSE = 0.005988\n",
            "Epoch 33: Train MSE = 0.007557\n",
            "Epoch 34: Train MSE = 0.007099\n",
            "Epoch 35: Train MSE = 0.005178\n",
            "Epoch 36: Train MSE = 0.004782\n",
            "Epoch 37: Train MSE = 0.010786\n",
            "Epoch 38: Train MSE = 0.006319\n",
            "Epoch 39: Train MSE = 0.012873\n",
            "Epoch 40: Train MSE = 0.004200\n",
            "Epoch 41: Train MSE = 0.005361\n",
            "Epoch 42: Train MSE = 0.009626\n",
            "Epoch 43: Train MSE = 0.008418\n",
            "Epoch 44: Train MSE = 0.005202\n",
            "Epoch 45: Train MSE = 0.010247\n",
            "Epoch 46: Train MSE = 0.007280\n",
            "Epoch 47: Train MSE = 0.003893\n",
            "Epoch 48: Train MSE = 0.012735\n",
            "Epoch 49: Train MSE = 0.013544\n",
            "Epoch 50: Train MSE = 0.008081\n"
          ]
        }
      ]
    },
    {
      "cell_type": "code",
      "source": [
        "# --- ADD THESE LINES TO SAVE THE MODEL ---\n",
        "# Define a path where you want to save your model.\n",
        "# Use a meaningful name, especially for TRTR vs. TSTR models.\n",
        "# Example for TRTR Electricity model:\n",
        "MODEL_SAVE_PATH = '/content/drive/Shareddrives/sp_env/saved_models/LSTM/tstr_GAN_electricity.pth'\n",
        "\n",
        "# Save only the model's learned parameters (state_dict)\n",
        "torch.save(model.state_dict(), MODEL_SAVE_PATH)\n",
        "\n",
        "print(f\"Model saved to: {MODEL_SAVE_PATH}\")"
      ],
      "metadata": {
        "id": "qIdqDhf-CyZA",
        "outputId": "7a9b5f62-3e64-4483-fd1c-9681768c7ebe",
        "colab": {
          "base_uri": "https://localhost:8080/"
        }
      },
      "execution_count": 17,
      "outputs": [
        {
          "output_type": "stream",
          "name": "stdout",
          "text": [
            "Model saved to: /content/drive/Shareddrives/sp_env/saved_models/LSTM/tstr_GAN_electricity.pth\n"
          ]
        }
      ]
    },
    {
      "cell_type": "code",
      "source": [
        "#@title ✧.* model evaluation ✧.*\n",
        "model.eval()\n",
        "with torch.no_grad():\n",
        "    preds = model(X_test)\n",
        "    test_mse = loss_fn(preds, y_test).item()\n",
        "    test_mae = mean_absolute_error(y_test.numpy(), preds.numpy())\n",
        "\n",
        "    print(f\"Test MSE: {test_mse:.6f}\")\n",
        "    print(f\"Test MAE: {test_mae:.6f}\")"
      ],
      "metadata": {
        "colab": {
          "base_uri": "https://localhost:8080/"
        },
        "id": "fKR1vr99zp5H",
        "outputId": "ff95a4c0-534e-4da6-827f-a02a07eb5628"
      },
      "execution_count": 18,
      "outputs": [
        {
          "output_type": "stream",
          "name": "stdout",
          "text": [
            "Test MSE: 0.060231\n",
            "Test MAE: 0.188900\n"
          ]
        }
      ]
    },
    {
      "cell_type": "markdown",
      "source": [
        "# Bootstrapping Sample"
      ],
      "metadata": {
        "id": "wwtrxZuWkq1X"
      }
    },
    {
      "cell_type": "code",
      "source": [
        "!pip install tsbootstrap"
      ],
      "metadata": {
        "id": "w6fV928blOfi",
        "collapsed": true,
        "outputId": "100a8dfb-e44e-4430-8429-2c3aecc0c91e",
        "colab": {
          "base_uri": "https://localhost:8080/"
        }
      },
      "execution_count": 20,
      "outputs": [
        {
          "output_type": "stream",
          "name": "stdout",
          "text": [
            "Collecting tsbootstrap\n",
            "  Downloading tsbootstrap-0.1.5-py3-none-any.whl.metadata (28 kB)\n",
            "Requirement already satisfied: numpy<1.27,>=1.21 in /usr/local/lib/python3.11/dist-packages (from tsbootstrap) (1.26.4)\n",
            "Collecting scikit-base<0.11,>=0.10.0 (from tsbootstrap)\n",
            "  Downloading scikit_base-0.10.1-py3-none-any.whl.metadata (8.6 kB)\n",
            "Collecting scikit-learn<1.6.0,>=1.5.1 (from tsbootstrap)\n",
            "  Downloading scikit_learn-1.5.2-cp311-cp311-manylinux_2_17_x86_64.manylinux2014_x86_64.whl.metadata (13 kB)\n",
            "Collecting scipy<1.14.0,>=1.13 (from tsbootstrap)\n",
            "  Downloading scipy-1.13.1-cp311-cp311-manylinux_2_17_x86_64.manylinux2014_x86_64.whl.metadata (60 kB)\n",
            "\u001b[2K     \u001b[90m━━━━━━━━━━━━━━━━━━━━━━━━━━━━━━━━━━━━━━━━\u001b[0m \u001b[32m60.6/60.6 kB\u001b[0m \u001b[31m3.2 MB/s\u001b[0m eta \u001b[36m0:00:00\u001b[0m\n",
            "\u001b[?25hCollecting packaging<24.2,>=24.0 (from tsbootstrap)\n",
            "  Downloading packaging-24.1-py3-none-any.whl.metadata (3.2 kB)\n",
            "Requirement already satisfied: pydantic<3.0,>=2.0 in /usr/local/lib/python3.11/dist-packages (from tsbootstrap) (2.11.4)\n",
            "Requirement already satisfied: annotated-types>=0.6.0 in /usr/local/lib/python3.11/dist-packages (from pydantic<3.0,>=2.0->tsbootstrap) (0.7.0)\n",
            "Requirement already satisfied: pydantic-core==2.33.2 in /usr/local/lib/python3.11/dist-packages (from pydantic<3.0,>=2.0->tsbootstrap) (2.33.2)\n",
            "Requirement already satisfied: typing-extensions>=4.12.2 in /usr/local/lib/python3.11/dist-packages (from pydantic<3.0,>=2.0->tsbootstrap) (4.13.2)\n",
            "Requirement already satisfied: typing-inspection>=0.4.0 in /usr/local/lib/python3.11/dist-packages (from pydantic<3.0,>=2.0->tsbootstrap) (0.4.0)\n",
            "Requirement already satisfied: joblib>=1.2.0 in /usr/local/lib/python3.11/dist-packages (from scikit-learn<1.6.0,>=1.5.1->tsbootstrap) (1.5.0)\n",
            "Requirement already satisfied: threadpoolctl>=3.1.0 in /usr/local/lib/python3.11/dist-packages (from scikit-learn<1.6.0,>=1.5.1->tsbootstrap) (3.6.0)\n",
            "Downloading tsbootstrap-0.1.5-py3-none-any.whl (104 kB)\n",
            "\u001b[2K   \u001b[90m━━━━━━━━━━━━━━━━━━━━━━━━━━━━━━━━━━━━━━━━\u001b[0m \u001b[32m104.4/104.4 kB\u001b[0m \u001b[31m7.0 MB/s\u001b[0m eta \u001b[36m0:00:00\u001b[0m\n",
            "\u001b[?25hDownloading packaging-24.1-py3-none-any.whl (53 kB)\n",
            "\u001b[2K   \u001b[90m━━━━━━━━━━━━━━━━━━━━━━━━━━━━━━━━━━━━━━━━\u001b[0m \u001b[32m54.0/54.0 kB\u001b[0m \u001b[31m3.8 MB/s\u001b[0m eta \u001b[36m0:00:00\u001b[0m\n",
            "\u001b[?25hDownloading scikit_base-0.10.1-py3-none-any.whl (136 kB)\n",
            "\u001b[2K   \u001b[90m━━━━━━━━━━━━━━━━━━━━━━━━━━━━━━━━━━━━━━━━\u001b[0m \u001b[32m136.1/136.1 kB\u001b[0m \u001b[31m9.6 MB/s\u001b[0m eta \u001b[36m0:00:00\u001b[0m\n",
            "\u001b[?25hDownloading scikit_learn-1.5.2-cp311-cp311-manylinux_2_17_x86_64.manylinux2014_x86_64.whl (13.3 MB)\n",
            "\u001b[2K   \u001b[90m━━━━━━━━━━━━━━━━━━━━━━━━━━━━━━━━━━━━━━━━\u001b[0m \u001b[32m13.3/13.3 MB\u001b[0m \u001b[31m95.8 MB/s\u001b[0m eta \u001b[36m0:00:00\u001b[0m\n",
            "\u001b[?25hDownloading scipy-1.13.1-cp311-cp311-manylinux_2_17_x86_64.manylinux2014_x86_64.whl (38.6 MB)\n",
            "\u001b[2K   \u001b[90m━━━━━━━━━━━━━━━━━━━━━━━━━━━━━━━━━━━━━━━━\u001b[0m \u001b[32m38.6/38.6 MB\u001b[0m \u001b[31m22.8 MB/s\u001b[0m eta \u001b[36m0:00:00\u001b[0m\n",
            "\u001b[?25hInstalling collected packages: scipy, scikit-base, packaging, scikit-learn, tsbootstrap\n",
            "  Attempting uninstall: scipy\n",
            "    Found existing installation: scipy 1.15.3\n",
            "    Uninstalling scipy-1.15.3:\n",
            "      Successfully uninstalled scipy-1.15.3\n",
            "  Attempting uninstall: packaging\n",
            "    Found existing installation: packaging 24.2\n",
            "    Uninstalling packaging-24.2:\n",
            "      Successfully uninstalled packaging-24.2\n",
            "  Attempting uninstall: scikit-learn\n",
            "    Found existing installation: scikit-learn 1.6.1\n",
            "    Uninstalling scikit-learn-1.6.1:\n",
            "      Successfully uninstalled scikit-learn-1.6.1\n",
            "\u001b[31mERROR: pip's dependency resolver does not currently take into account all the packages that are installed. This behaviour is the source of the following dependency conflicts.\n",
            "google-cloud-bigquery 3.32.0 requires packaging>=24.2.0, but you have packaging 24.1 which is incompatible.\n",
            "scikit-image 0.25.2 requires networkx>=3.0, but you have networkx 2.8.8 which is incompatible.\n",
            "tsfresh 0.21.0 requires scipy>=1.14.0; python_version >= \"3.10\", but you have scipy 1.13.1 which is incompatible.\n",
            "db-dtypes 1.4.3 requires packaging>=24.2.0, but you have packaging 24.1 which is incompatible.\u001b[0m\u001b[31m\n",
            "\u001b[0mSuccessfully installed packaging-24.1 scikit-base-0.10.1 scikit-learn-1.5.2 scipy-1.13.1 tsbootstrap-0.1.5\n"
          ]
        }
      ]
    },
    {
      "cell_type": "code",
      "source": [
        "from tsbootstrap import MovingBlockBootstrap\n",
        "import numpy as np\n",
        "\n",
        "bootstrap_configs = {\n",
        "    \"weather\": {\"block_length\": 36, \"n_bootstraps\": 15, \"rng\": 42},       # 6-hour pattern (10-min interval)\n",
        "    \"electricity\": {\"block_length\": 24, \"n_bootstraps\": 15, \"rng\": 42},   # 1-day pattern (hourly)\n",
        "    \"exchange\": {\"block_length\": 30, \"n_bootstraps\": 15, \"rng\": 42},      # 1-month pattern (daily)\n",
        "}\n",
        "\n",
        "# Example for weather\n",
        "dataset_name = \"electricity\"\n",
        "config = bootstrap_configs[dataset_name]\n",
        "\n",
        "real_test_array = real_data[selected_columns].to_numpy()  # shape (N, features)\n",
        "mbb = MovingBlockBootstrap(\n",
        "    n_bootstraps=config[\"n_bootstraps\"],\n",
        "    rng=config[\"rng\"],\n",
        "    block_length=config[\"block_length\"]\n",
        ")\n",
        "boot_samples = mbb.bootstrap(real_test_array, return_indices=False)\n"
      ],
      "metadata": {
        "id": "r3V4JBSEksXF"
      },
      "execution_count": 23,
      "outputs": []
    },
    {
      "cell_type": "code",
      "source": [
        "model.load_state_dict(torch.load(MODEL_SAVE_PATH))"
      ],
      "metadata": {
        "id": "wFFXqWYVONy6",
        "outputId": "35051858-8830-40c2-def8-8ca8dc8f36c6",
        "colab": {
          "base_uri": "https://localhost:8080/"
        }
      },
      "execution_count": 25,
      "outputs": [
        {
          "output_type": "execute_result",
          "data": {
            "text/plain": [
              "<All keys matched successfully>"
            ]
          },
          "metadata": {},
          "execution_count": 25
        }
      ]
    },
    {
      "cell_type": "code",
      "source": [
        "bootstrap_results = []\n",
        "\n",
        "for b_idx, boot_real in enumerate(boot_samples):\n",
        "    # 1. Match the synthetic data size\n",
        "    syn_trimmed = synthetic_data[:len(boot_real)]\n",
        "\n",
        "    # 2. Fidelity metrics\n",
        "    wasserstein = compute_wasserstein(boot_real, syn_trimmed, selected_columns)\n",
        "    kl = compute_kl_divergence(boot_real, syn_trimmed, selected_columns)\n",
        "\n",
        "    # 3. Utility metrics\n",
        "    # Preprocess this bootstrap sample for LSTM (as you do with real_data)\n",
        "    boot_tensor = torch.tensor(boot_real, dtype=torch.float32)\n",
        "    Xb_test, yb_test = make_sequences(boot_tensor, SEQ_LEN)\n",
        "\n",
        "    model.eval()\n",
        "    with torch.no_grad():\n",
        "        preds = model(Xb_test)\n",
        "        mse = mean_squared_error(yb_test.numpy(), preds.numpy())\n",
        "        rmse = np.sqrt(mse)\n",
        "        mae = mean_absolute_error(yb_test.numpy(), preds.numpy())\n",
        "\n",
        "    # 4. Store results\n",
        "    bootstrap_results.append({\n",
        "        'bootstrap': b_idx,\n",
        "        'wasserstein': np.mean(list(wasserstein.values())),\n",
        "        'kl': np.mean(list(kl.values())),\n",
        "        'rmse': rmse,\n",
        "        'mae': mae\n",
        "    })"
      ],
      "metadata": {
        "colab": {
          "base_uri": "https://localhost:8080/"
        },
        "id": "SPL4pVhwk3Ir",
        "outputId": "20b40db6-b972-4f97-c1b2-2a10344013f9"
      },
      "execution_count": 26,
      "outputs": [
        {
          "output_type": "stream",
          "name": "stdout",
          "text": [
            "(35448, 7) (35448, 7)\n",
            "0.12629808393726177\n",
            "0.08302169078762894\n",
            "0.09361613698202868\n",
            "0.2238750465741284\n",
            "0.162539357723731\n",
            "0.09927551451175128\n",
            "0.3331598464918357\n",
            "11.375785192605088\n",
            "14.52953528581811\n",
            "13.940625518091212\n",
            "11.746758616034878\n",
            "12.691615716973075\n",
            "14.956244906758794\n",
            "13.442675463586168\n",
            "(35448, 7) (35448, 7)\n",
            "0.12781715864971524\n",
            "0.08402150046521507\n",
            "0.0931879448335285\n",
            "0.22318203908110712\n",
            "0.16405819411914557\n",
            "0.09914975365824384\n",
            "0.33240511035641457\n",
            "11.489385364484672\n",
            "14.51462260449909\n",
            "14.017100427140146\n",
            "11.809124770840935\n",
            "12.672360318677915\n",
            "15.097296894552109\n",
            "13.503077747312618\n",
            "(35448, 7) (35448, 7)\n",
            "0.12527220997383734\n",
            "0.08301268480612087\n",
            "0.09240877853449549\n",
            "0.22541876151159568\n",
            "0.16147681485683688\n",
            "0.09886341087792563\n",
            "0.34093146227217613\n",
            "11.429630782647152\n",
            "14.375784761557867\n",
            "13.998061086883268\n",
            "11.749080918176222\n",
            "12.7570447312333\n",
            "15.026733243101349\n",
            "13.320206844635315\n",
            "(35448, 7) (35448, 7)\n",
            "0.12905576479587752\n",
            "0.08191425280048419\n",
            "0.09315168129819659\n",
            "0.2223238856427728\n",
            "0.1656475798315097\n",
            "0.09753201680955638\n",
            "0.34023693165688335\n",
            "11.49316918444834\n",
            "14.422871952809322\n",
            "13.993830164104198\n",
            "11.782602597615544\n",
            "12.64987229686996\n",
            "14.941803925417997\n",
            "13.508896717780093\n",
            "(35448, 7) (35448, 7)\n",
            "0.1231166045364283\n",
            "0.08486757942296934\n",
            "0.09417186453175411\n",
            "0.22464036448145736\n",
            "0.15894626343687393\n",
            "0.09963093337314018\n",
            "0.3352193379020833\n",
            "11.376505026886031\n",
            "14.465082610040955\n",
            "13.968034207275567\n",
            "11.76016429592949\n",
            "12.634028706134448\n",
            "15.07821623939062\n",
            "13.393858798963665\n",
            "(35448, 7) (35448, 7)\n",
            "0.12201362059461941\n",
            "0.08688981201869192\n",
            "0.09205437416543785\n",
            "0.22374610616378393\n",
            "0.15755890429628322\n",
            "0.10143616617950957\n",
            "0.330500647206796\n",
            "11.443473180000108\n",
            "14.545947377625682\n",
            "13.919224382676973\n",
            "11.762846295628059\n",
            "12.65943866625696\n",
            "15.142030634810354\n",
            "13.496726822581415\n",
            "(35448, 7) (35448, 7)\n",
            "0.12706914484856696\n",
            "0.08442635086031648\n",
            "0.09289971417839277\n",
            "0.22491010908077952\n",
            "0.16304461852556232\n",
            "0.0993875483064556\n",
            "0.33788960994267286\n",
            "11.403155122964458\n",
            "14.48315768686392\n",
            "13.933739493563069\n",
            "11.912875324886823\n",
            "12.788842171731016\n",
            "15.108013112267558\n",
            "13.296207143861313\n",
            "(35448, 7) (35448, 7)\n",
            "0.12657661956019356\n",
            "0.08431993469994419\n",
            "0.0930284178568281\n",
            "0.22348597720796637\n",
            "0.1627003741310476\n",
            "0.09952208266119231\n",
            "0.33597903285553216\n",
            "11.413799487038704\n",
            "14.493346415038681\n",
            "14.069003877503233\n",
            "11.805535609328773\n",
            "12.802633482678349\n",
            "15.06330584802747\n",
            "13.554704728724131\n",
            "(35448, 7) (35448, 7)\n",
            "0.12543032468055776\n",
            "0.08077559616238843\n",
            "0.08979305852230847\n",
            "0.21900658585097194\n",
            "0.16110504329354935\n",
            "0.09792884143324747\n",
            "0.3322506025246268\n",
            "11.409555969413326\n",
            "14.342933851917632\n",
            "14.026515855570786\n",
            "11.778834123597827\n",
            "12.591208380662483\n",
            "14.93493011672923\n",
            "13.33975222759976\n",
            "(35448, 7) (35448, 7)\n",
            "0.12559507998021138\n",
            "0.08645261301489321\n",
            "0.0940652274933388\n",
            "0.22593304542818352\n",
            "0.16193215796494448\n",
            "0.10018332177063528\n",
            "0.3334174518281363\n",
            "11.489646224043458\n",
            "14.50738531523592\n",
            "13.895123269158338\n",
            "11.68058863725174\n",
            "12.802166765305316\n",
            "15.08320690574368\n",
            "13.473728130218378\n",
            "(35448, 7) (35448, 7)\n",
            "0.12696969179914283\n",
            "0.08320128117616679\n",
            "0.0920129110407648\n",
            "0.2229487922754058\n",
            "0.16309595209208688\n",
            "0.09930167631166043\n",
            "0.33618791588530755\n",
            "11.373805818030887\n",
            "14.437664297741632\n",
            "13.908309950626764\n",
            "11.753342651238762\n",
            "12.806294265884453\n",
            "15.132598617554434\n",
            "13.476185353239332\n",
            "(35448, 7) (35448, 7)\n",
            "0.12254995563578237\n",
            "0.08334791558023956\n",
            "0.0933754500203717\n",
            "0.22415693225676478\n",
            "0.15843991473267174\n",
            "0.09840535032290829\n",
            "0.33371931168931646\n",
            "11.346274746881141\n",
            "14.477942228823572\n",
            "13.977111991174368\n",
            "11.854869840604602\n",
            "12.703624587054536\n",
            "15.05725471134153\n",
            "13.472545800431249\n",
            "(35448, 7) (35448, 7)\n",
            "0.12731419720476797\n",
            "0.08526785352922694\n",
            "0.09332202980317893\n",
            "0.22565324542384418\n",
            "0.16365788010381724\n",
            "0.09970609663451581\n",
            "0.3362138682585869\n",
            "11.47921192993142\n",
            "14.422528541621912\n",
            "13.90239886029802\n",
            "11.926114028259358\n",
            "12.63913537922641\n",
            "15.086096017744218\n",
            "13.463827252308366\n",
            "(35448, 7) (35448, 7)\n",
            "0.12830180172525724\n",
            "0.08838747545649166\n",
            "0.09690196899820958\n",
            "0.23019057532672899\n",
            "0.16512665499510326\n",
            "0.10193186635325967\n",
            "0.34032396426067285\n",
            "11.52294996001221\n",
            "14.500873994526899\n",
            "13.931413276172124\n",
            "11.899770386583974\n",
            "12.926679137254585\n",
            "15.170606812770771\n",
            "13.463944219056815\n",
            "(35448, 7) (35448, 7)\n",
            "0.12794659912498382\n",
            "0.08396719102996456\n",
            "0.09379274754801094\n",
            "0.22574726297353387\n",
            "0.16439772065426245\n",
            "0.09925171860054526\n",
            "0.3338784464987837\n",
            "11.343308841993023\n",
            "14.530674736073\n",
            "13.851267203250298\n",
            "11.76275775731387\n",
            "12.662224079902964\n",
            "15.055163944921343\n",
            "13.632324484388771\n"
          ]
        }
      ]
    },
    {
      "cell_type": "code",
      "source": [
        "print(bootstrap_results)\n",
        "\n",
        "# Assuming bootstrap_results is your list of dicts\n",
        "df_results = pd.DataFrame(bootstrap_results)\n",
        "\n",
        "df_results['Dataset'] = 'electricity'\n",
        "df_results['Model'] = 'TimeGAN'\n",
        "\n",
        "df_results"
      ],
      "metadata": {
        "colab": {
          "base_uri": "https://localhost:8080/",
          "height": 557
        },
        "id": "7zYaN_finjp5",
        "outputId": "140ddf03-0066-4316-ac16-494f9daf94f0"
      },
      "execution_count": 28,
      "outputs": [
        {
          "output_type": "stream",
          "name": "stdout",
          "text": [
            "[{'bootstrap': 0, 'wasserstein': 0.16025509671548083, 'kl': 13.240462957123905, 'rmse': 0.24527323645522592, 'mae': 0.1888773888349533}, {'bootstrap': 1, 'wasserstein': 0.16054595730905286, 'kl': 13.300424018215354, 'rmse': 0.24519140328230418, 'mae': 0.18865540623664856}, {'bootstrap': 2, 'wasserstein': 0.16105487469042684, 'kl': 13.236648909747784, 'rmse': 0.24602294841925007, 'mae': 0.18944697082042694}, {'bootstrap': 3, 'wasserstein': 0.16140887326218295, 'kl': 13.256149548435065, 'rmse': 0.24725863852129862, 'mae': 0.18977488577365875}, {'bootstrap': 4, 'wasserstein': 0.16008470681210094, 'kl': 13.23941284066011, 'rmse': 0.24394004974919012, 'mae': 0.18808887898921967}, {'bootstrap': 5, 'wasserstein': 0.15917137580358884, 'kl': 13.281383908511364, 'rmse': 0.2428154572192651, 'mae': 0.18705077469348907}, {'bootstrap': 6, 'wasserstein': 0.1613752993918209, 'kl': 13.275141436591166, 'rmse': 0.246074547094118, 'mae': 0.1895068734884262}, {'bootstrap': 7, 'wasserstein': 0.1608017769961006, 'kl': 13.314618492619905, 'rmse': 0.24579876674210024, 'mae': 0.18904468417167664}, {'bootstrap': 8, 'wasserstein': 0.15804143606680718, 'kl': 13.20339007507015, 'rmse': 0.24332611781329652, 'mae': 0.18687458336353302}, {'bootstrap': 9, 'wasserstein': 0.161082699640049, 'kl': 13.275977892422404, 'rmse': 0.24472462043691853, 'mae': 0.18827705085277557}, {'bootstrap': 10, 'wasserstein': 0.16053117436864786, 'kl': 13.269742993473752, 'rmse': 0.24557894645049178, 'mae': 0.1890808790922165}, {'bootstrap': 11, 'wasserstein': 0.15914211860543642, 'kl': 13.269946272330143, 'rmse': 0.24321598433169886, 'mae': 0.1873147338628769}, {'bootstrap': 12, 'wasserstein': 0.16159073870827687, 'kl': 13.274187429912814, 'rmse': 0.2463141771136986, 'mae': 0.18928612768650055}, {'bootstrap': 13, 'wasserstein': 0.16445204387367474, 'kl': 13.34517682662534, 'rmse': 0.2491894935009593, 'mae': 0.19231201708316803}, {'bootstrap': 14, 'wasserstein': 0.16128309806144064, 'kl': 13.262531578263324, 'rmse': 0.24635520549068562, 'mae': 0.18961797654628754}]\n"
          ]
        },
        {
          "output_type": "execute_result",
          "data": {
            "text/plain": [
              "    bootstrap  wasserstein         kl      rmse       mae      Dataset  \\\n",
              "0           0     0.160255  13.240463  0.245273  0.188877  electricity   \n",
              "1           1     0.160546  13.300424  0.245191  0.188655  electricity   \n",
              "2           2     0.161055  13.236649  0.246023  0.189447  electricity   \n",
              "3           3     0.161409  13.256150  0.247259  0.189775  electricity   \n",
              "4           4     0.160085  13.239413  0.243940  0.188089  electricity   \n",
              "5           5     0.159171  13.281384  0.242815  0.187051  electricity   \n",
              "6           6     0.161375  13.275141  0.246075  0.189507  electricity   \n",
              "7           7     0.160802  13.314618  0.245799  0.189045  electricity   \n",
              "8           8     0.158041  13.203390  0.243326  0.186875  electricity   \n",
              "9           9     0.161083  13.275978  0.244725  0.188277  electricity   \n",
              "10         10     0.160531  13.269743  0.245579  0.189081  electricity   \n",
              "11         11     0.159142  13.269946  0.243216  0.187315  electricity   \n",
              "12         12     0.161591  13.274187  0.246314  0.189286  electricity   \n",
              "13         13     0.164452  13.345177  0.249189  0.192312  electricity   \n",
              "14         14     0.161283  13.262532  0.246355  0.189618  electricity   \n",
              "\n",
              "      Model  \n",
              "0   TimeGAN  \n",
              "1   TimeGAN  \n",
              "2   TimeGAN  \n",
              "3   TimeGAN  \n",
              "4   TimeGAN  \n",
              "5   TimeGAN  \n",
              "6   TimeGAN  \n",
              "7   TimeGAN  \n",
              "8   TimeGAN  \n",
              "9   TimeGAN  \n",
              "10  TimeGAN  \n",
              "11  TimeGAN  \n",
              "12  TimeGAN  \n",
              "13  TimeGAN  \n",
              "14  TimeGAN  "
            ],
            "text/html": [
              "\n",
              "  <div id=\"df-7dc218ce-36d2-41d1-a5a3-c5865a8cc7ea\" class=\"colab-df-container\">\n",
              "    <div>\n",
              "<style scoped>\n",
              "    .dataframe tbody tr th:only-of-type {\n",
              "        vertical-align: middle;\n",
              "    }\n",
              "\n",
              "    .dataframe tbody tr th {\n",
              "        vertical-align: top;\n",
              "    }\n",
              "\n",
              "    .dataframe thead th {\n",
              "        text-align: right;\n",
              "    }\n",
              "</style>\n",
              "<table border=\"1\" class=\"dataframe\">\n",
              "  <thead>\n",
              "    <tr style=\"text-align: right;\">\n",
              "      <th></th>\n",
              "      <th>bootstrap</th>\n",
              "      <th>wasserstein</th>\n",
              "      <th>kl</th>\n",
              "      <th>rmse</th>\n",
              "      <th>mae</th>\n",
              "      <th>Dataset</th>\n",
              "      <th>Model</th>\n",
              "    </tr>\n",
              "  </thead>\n",
              "  <tbody>\n",
              "    <tr>\n",
              "      <th>0</th>\n",
              "      <td>0</td>\n",
              "      <td>0.160255</td>\n",
              "      <td>13.240463</td>\n",
              "      <td>0.245273</td>\n",
              "      <td>0.188877</td>\n",
              "      <td>electricity</td>\n",
              "      <td>TimeGAN</td>\n",
              "    </tr>\n",
              "    <tr>\n",
              "      <th>1</th>\n",
              "      <td>1</td>\n",
              "      <td>0.160546</td>\n",
              "      <td>13.300424</td>\n",
              "      <td>0.245191</td>\n",
              "      <td>0.188655</td>\n",
              "      <td>electricity</td>\n",
              "      <td>TimeGAN</td>\n",
              "    </tr>\n",
              "    <tr>\n",
              "      <th>2</th>\n",
              "      <td>2</td>\n",
              "      <td>0.161055</td>\n",
              "      <td>13.236649</td>\n",
              "      <td>0.246023</td>\n",
              "      <td>0.189447</td>\n",
              "      <td>electricity</td>\n",
              "      <td>TimeGAN</td>\n",
              "    </tr>\n",
              "    <tr>\n",
              "      <th>3</th>\n",
              "      <td>3</td>\n",
              "      <td>0.161409</td>\n",
              "      <td>13.256150</td>\n",
              "      <td>0.247259</td>\n",
              "      <td>0.189775</td>\n",
              "      <td>electricity</td>\n",
              "      <td>TimeGAN</td>\n",
              "    </tr>\n",
              "    <tr>\n",
              "      <th>4</th>\n",
              "      <td>4</td>\n",
              "      <td>0.160085</td>\n",
              "      <td>13.239413</td>\n",
              "      <td>0.243940</td>\n",
              "      <td>0.188089</td>\n",
              "      <td>electricity</td>\n",
              "      <td>TimeGAN</td>\n",
              "    </tr>\n",
              "    <tr>\n",
              "      <th>5</th>\n",
              "      <td>5</td>\n",
              "      <td>0.159171</td>\n",
              "      <td>13.281384</td>\n",
              "      <td>0.242815</td>\n",
              "      <td>0.187051</td>\n",
              "      <td>electricity</td>\n",
              "      <td>TimeGAN</td>\n",
              "    </tr>\n",
              "    <tr>\n",
              "      <th>6</th>\n",
              "      <td>6</td>\n",
              "      <td>0.161375</td>\n",
              "      <td>13.275141</td>\n",
              "      <td>0.246075</td>\n",
              "      <td>0.189507</td>\n",
              "      <td>electricity</td>\n",
              "      <td>TimeGAN</td>\n",
              "    </tr>\n",
              "    <tr>\n",
              "      <th>7</th>\n",
              "      <td>7</td>\n",
              "      <td>0.160802</td>\n",
              "      <td>13.314618</td>\n",
              "      <td>0.245799</td>\n",
              "      <td>0.189045</td>\n",
              "      <td>electricity</td>\n",
              "      <td>TimeGAN</td>\n",
              "    </tr>\n",
              "    <tr>\n",
              "      <th>8</th>\n",
              "      <td>8</td>\n",
              "      <td>0.158041</td>\n",
              "      <td>13.203390</td>\n",
              "      <td>0.243326</td>\n",
              "      <td>0.186875</td>\n",
              "      <td>electricity</td>\n",
              "      <td>TimeGAN</td>\n",
              "    </tr>\n",
              "    <tr>\n",
              "      <th>9</th>\n",
              "      <td>9</td>\n",
              "      <td>0.161083</td>\n",
              "      <td>13.275978</td>\n",
              "      <td>0.244725</td>\n",
              "      <td>0.188277</td>\n",
              "      <td>electricity</td>\n",
              "      <td>TimeGAN</td>\n",
              "    </tr>\n",
              "    <tr>\n",
              "      <th>10</th>\n",
              "      <td>10</td>\n",
              "      <td>0.160531</td>\n",
              "      <td>13.269743</td>\n",
              "      <td>0.245579</td>\n",
              "      <td>0.189081</td>\n",
              "      <td>electricity</td>\n",
              "      <td>TimeGAN</td>\n",
              "    </tr>\n",
              "    <tr>\n",
              "      <th>11</th>\n",
              "      <td>11</td>\n",
              "      <td>0.159142</td>\n",
              "      <td>13.269946</td>\n",
              "      <td>0.243216</td>\n",
              "      <td>0.187315</td>\n",
              "      <td>electricity</td>\n",
              "      <td>TimeGAN</td>\n",
              "    </tr>\n",
              "    <tr>\n",
              "      <th>12</th>\n",
              "      <td>12</td>\n",
              "      <td>0.161591</td>\n",
              "      <td>13.274187</td>\n",
              "      <td>0.246314</td>\n",
              "      <td>0.189286</td>\n",
              "      <td>electricity</td>\n",
              "      <td>TimeGAN</td>\n",
              "    </tr>\n",
              "    <tr>\n",
              "      <th>13</th>\n",
              "      <td>13</td>\n",
              "      <td>0.164452</td>\n",
              "      <td>13.345177</td>\n",
              "      <td>0.249189</td>\n",
              "      <td>0.192312</td>\n",
              "      <td>electricity</td>\n",
              "      <td>TimeGAN</td>\n",
              "    </tr>\n",
              "    <tr>\n",
              "      <th>14</th>\n",
              "      <td>14</td>\n",
              "      <td>0.161283</td>\n",
              "      <td>13.262532</td>\n",
              "      <td>0.246355</td>\n",
              "      <td>0.189618</td>\n",
              "      <td>electricity</td>\n",
              "      <td>TimeGAN</td>\n",
              "    </tr>\n",
              "  </tbody>\n",
              "</table>\n",
              "</div>\n",
              "    <div class=\"colab-df-buttons\">\n",
              "\n",
              "  <div class=\"colab-df-container\">\n",
              "    <button class=\"colab-df-convert\" onclick=\"convertToInteractive('df-7dc218ce-36d2-41d1-a5a3-c5865a8cc7ea')\"\n",
              "            title=\"Convert this dataframe to an interactive table.\"\n",
              "            style=\"display:none;\">\n",
              "\n",
              "  <svg xmlns=\"http://www.w3.org/2000/svg\" height=\"24px\" viewBox=\"0 -960 960 960\">\n",
              "    <path d=\"M120-120v-720h720v720H120Zm60-500h600v-160H180v160Zm220 220h160v-160H400v160Zm0 220h160v-160H400v160ZM180-400h160v-160H180v160Zm440 0h160v-160H620v160ZM180-180h160v-160H180v160Zm440 0h160v-160H620v160Z\"/>\n",
              "  </svg>\n",
              "    </button>\n",
              "\n",
              "  <style>\n",
              "    .colab-df-container {\n",
              "      display:flex;\n",
              "      gap: 12px;\n",
              "    }\n",
              "\n",
              "    .colab-df-convert {\n",
              "      background-color: #E8F0FE;\n",
              "      border: none;\n",
              "      border-radius: 50%;\n",
              "      cursor: pointer;\n",
              "      display: none;\n",
              "      fill: #1967D2;\n",
              "      height: 32px;\n",
              "      padding: 0 0 0 0;\n",
              "      width: 32px;\n",
              "    }\n",
              "\n",
              "    .colab-df-convert:hover {\n",
              "      background-color: #E2EBFA;\n",
              "      box-shadow: 0px 1px 2px rgba(60, 64, 67, 0.3), 0px 1px 3px 1px rgba(60, 64, 67, 0.15);\n",
              "      fill: #174EA6;\n",
              "    }\n",
              "\n",
              "    .colab-df-buttons div {\n",
              "      margin-bottom: 4px;\n",
              "    }\n",
              "\n",
              "    [theme=dark] .colab-df-convert {\n",
              "      background-color: #3B4455;\n",
              "      fill: #D2E3FC;\n",
              "    }\n",
              "\n",
              "    [theme=dark] .colab-df-convert:hover {\n",
              "      background-color: #434B5C;\n",
              "      box-shadow: 0px 1px 3px 1px rgba(0, 0, 0, 0.15);\n",
              "      filter: drop-shadow(0px 1px 2px rgba(0, 0, 0, 0.3));\n",
              "      fill: #FFFFFF;\n",
              "    }\n",
              "  </style>\n",
              "\n",
              "    <script>\n",
              "      const buttonEl =\n",
              "        document.querySelector('#df-7dc218ce-36d2-41d1-a5a3-c5865a8cc7ea button.colab-df-convert');\n",
              "      buttonEl.style.display =\n",
              "        google.colab.kernel.accessAllowed ? 'block' : 'none';\n",
              "\n",
              "      async function convertToInteractive(key) {\n",
              "        const element = document.querySelector('#df-7dc218ce-36d2-41d1-a5a3-c5865a8cc7ea');\n",
              "        const dataTable =\n",
              "          await google.colab.kernel.invokeFunction('convertToInteractive',\n",
              "                                                    [key], {});\n",
              "        if (!dataTable) return;\n",
              "\n",
              "        const docLinkHtml = 'Like what you see? Visit the ' +\n",
              "          '<a target=\"_blank\" href=https://colab.research.google.com/notebooks/data_table.ipynb>data table notebook</a>'\n",
              "          + ' to learn more about interactive tables.';\n",
              "        element.innerHTML = '';\n",
              "        dataTable['output_type'] = 'display_data';\n",
              "        await google.colab.output.renderOutput(dataTable, element);\n",
              "        const docLink = document.createElement('div');\n",
              "        docLink.innerHTML = docLinkHtml;\n",
              "        element.appendChild(docLink);\n",
              "      }\n",
              "    </script>\n",
              "  </div>\n",
              "\n",
              "\n",
              "    <div id=\"df-3c0ceb8c-5374-4a65-9ccd-4b36a1ef86f6\">\n",
              "      <button class=\"colab-df-quickchart\" onclick=\"quickchart('df-3c0ceb8c-5374-4a65-9ccd-4b36a1ef86f6')\"\n",
              "                title=\"Suggest charts\"\n",
              "                style=\"display:none;\">\n",
              "\n",
              "<svg xmlns=\"http://www.w3.org/2000/svg\" height=\"24px\"viewBox=\"0 0 24 24\"\n",
              "     width=\"24px\">\n",
              "    <g>\n",
              "        <path d=\"M19 3H5c-1.1 0-2 .9-2 2v14c0 1.1.9 2 2 2h14c1.1 0 2-.9 2-2V5c0-1.1-.9-2-2-2zM9 17H7v-7h2v7zm4 0h-2V7h2v10zm4 0h-2v-4h2v4z\"/>\n",
              "    </g>\n",
              "</svg>\n",
              "      </button>\n",
              "\n",
              "<style>\n",
              "  .colab-df-quickchart {\n",
              "      --bg-color: #E8F0FE;\n",
              "      --fill-color: #1967D2;\n",
              "      --hover-bg-color: #E2EBFA;\n",
              "      --hover-fill-color: #174EA6;\n",
              "      --disabled-fill-color: #AAA;\n",
              "      --disabled-bg-color: #DDD;\n",
              "  }\n",
              "\n",
              "  [theme=dark] .colab-df-quickchart {\n",
              "      --bg-color: #3B4455;\n",
              "      --fill-color: #D2E3FC;\n",
              "      --hover-bg-color: #434B5C;\n",
              "      --hover-fill-color: #FFFFFF;\n",
              "      --disabled-bg-color: #3B4455;\n",
              "      --disabled-fill-color: #666;\n",
              "  }\n",
              "\n",
              "  .colab-df-quickchart {\n",
              "    background-color: var(--bg-color);\n",
              "    border: none;\n",
              "    border-radius: 50%;\n",
              "    cursor: pointer;\n",
              "    display: none;\n",
              "    fill: var(--fill-color);\n",
              "    height: 32px;\n",
              "    padding: 0;\n",
              "    width: 32px;\n",
              "  }\n",
              "\n",
              "  .colab-df-quickchart:hover {\n",
              "    background-color: var(--hover-bg-color);\n",
              "    box-shadow: 0 1px 2px rgba(60, 64, 67, 0.3), 0 1px 3px 1px rgba(60, 64, 67, 0.15);\n",
              "    fill: var(--button-hover-fill-color);\n",
              "  }\n",
              "\n",
              "  .colab-df-quickchart-complete:disabled,\n",
              "  .colab-df-quickchart-complete:disabled:hover {\n",
              "    background-color: var(--disabled-bg-color);\n",
              "    fill: var(--disabled-fill-color);\n",
              "    box-shadow: none;\n",
              "  }\n",
              "\n",
              "  .colab-df-spinner {\n",
              "    border: 2px solid var(--fill-color);\n",
              "    border-color: transparent;\n",
              "    border-bottom-color: var(--fill-color);\n",
              "    animation:\n",
              "      spin 1s steps(1) infinite;\n",
              "  }\n",
              "\n",
              "  @keyframes spin {\n",
              "    0% {\n",
              "      border-color: transparent;\n",
              "      border-bottom-color: var(--fill-color);\n",
              "      border-left-color: var(--fill-color);\n",
              "    }\n",
              "    20% {\n",
              "      border-color: transparent;\n",
              "      border-left-color: var(--fill-color);\n",
              "      border-top-color: var(--fill-color);\n",
              "    }\n",
              "    30% {\n",
              "      border-color: transparent;\n",
              "      border-left-color: var(--fill-color);\n",
              "      border-top-color: var(--fill-color);\n",
              "      border-right-color: var(--fill-color);\n",
              "    }\n",
              "    40% {\n",
              "      border-color: transparent;\n",
              "      border-right-color: var(--fill-color);\n",
              "      border-top-color: var(--fill-color);\n",
              "    }\n",
              "    60% {\n",
              "      border-color: transparent;\n",
              "      border-right-color: var(--fill-color);\n",
              "    }\n",
              "    80% {\n",
              "      border-color: transparent;\n",
              "      border-right-color: var(--fill-color);\n",
              "      border-bottom-color: var(--fill-color);\n",
              "    }\n",
              "    90% {\n",
              "      border-color: transparent;\n",
              "      border-bottom-color: var(--fill-color);\n",
              "    }\n",
              "  }\n",
              "</style>\n",
              "\n",
              "      <script>\n",
              "        async function quickchart(key) {\n",
              "          const quickchartButtonEl =\n",
              "            document.querySelector('#' + key + ' button');\n",
              "          quickchartButtonEl.disabled = true;  // To prevent multiple clicks.\n",
              "          quickchartButtonEl.classList.add('colab-df-spinner');\n",
              "          try {\n",
              "            const charts = await google.colab.kernel.invokeFunction(\n",
              "                'suggestCharts', [key], {});\n",
              "          } catch (error) {\n",
              "            console.error('Error during call to suggestCharts:', error);\n",
              "          }\n",
              "          quickchartButtonEl.classList.remove('colab-df-spinner');\n",
              "          quickchartButtonEl.classList.add('colab-df-quickchart-complete');\n",
              "        }\n",
              "        (() => {\n",
              "          let quickchartButtonEl =\n",
              "            document.querySelector('#df-3c0ceb8c-5374-4a65-9ccd-4b36a1ef86f6 button');\n",
              "          quickchartButtonEl.style.display =\n",
              "            google.colab.kernel.accessAllowed ? 'block' : 'none';\n",
              "        })();\n",
              "      </script>\n",
              "    </div>\n",
              "\n",
              "  <div id=\"id_e104035c-a3c8-4020-87cc-bbf5fa05a707\">\n",
              "    <style>\n",
              "      .colab-df-generate {\n",
              "        background-color: #E8F0FE;\n",
              "        border: none;\n",
              "        border-radius: 50%;\n",
              "        cursor: pointer;\n",
              "        display: none;\n",
              "        fill: #1967D2;\n",
              "        height: 32px;\n",
              "        padding: 0 0 0 0;\n",
              "        width: 32px;\n",
              "      }\n",
              "\n",
              "      .colab-df-generate:hover {\n",
              "        background-color: #E2EBFA;\n",
              "        box-shadow: 0px 1px 2px rgba(60, 64, 67, 0.3), 0px 1px 3px 1px rgba(60, 64, 67, 0.15);\n",
              "        fill: #174EA6;\n",
              "      }\n",
              "\n",
              "      [theme=dark] .colab-df-generate {\n",
              "        background-color: #3B4455;\n",
              "        fill: #D2E3FC;\n",
              "      }\n",
              "\n",
              "      [theme=dark] .colab-df-generate:hover {\n",
              "        background-color: #434B5C;\n",
              "        box-shadow: 0px 1px 3px 1px rgba(0, 0, 0, 0.15);\n",
              "        filter: drop-shadow(0px 1px 2px rgba(0, 0, 0, 0.3));\n",
              "        fill: #FFFFFF;\n",
              "      }\n",
              "    </style>\n",
              "    <button class=\"colab-df-generate\" onclick=\"generateWithVariable('df_results')\"\n",
              "            title=\"Generate code using this dataframe.\"\n",
              "            style=\"display:none;\">\n",
              "\n",
              "  <svg xmlns=\"http://www.w3.org/2000/svg\" height=\"24px\"viewBox=\"0 0 24 24\"\n",
              "       width=\"24px\">\n",
              "    <path d=\"M7,19H8.4L18.45,9,17,7.55,7,17.6ZM5,21V16.75L18.45,3.32a2,2,0,0,1,2.83,0l1.4,1.43a1.91,1.91,0,0,1,.58,1.4,1.91,1.91,0,0,1-.58,1.4L9.25,21ZM18.45,9,17,7.55Zm-12,3A5.31,5.31,0,0,0,4.9,8.1,5.31,5.31,0,0,0,1,6.5,5.31,5.31,0,0,0,4.9,4.9,5.31,5.31,0,0,0,6.5,1,5.31,5.31,0,0,0,8.1,4.9,5.31,5.31,0,0,0,12,6.5,5.46,5.46,0,0,0,6.5,12Z\"/>\n",
              "  </svg>\n",
              "    </button>\n",
              "    <script>\n",
              "      (() => {\n",
              "      const buttonEl =\n",
              "        document.querySelector('#id_e104035c-a3c8-4020-87cc-bbf5fa05a707 button.colab-df-generate');\n",
              "      buttonEl.style.display =\n",
              "        google.colab.kernel.accessAllowed ? 'block' : 'none';\n",
              "\n",
              "      buttonEl.onclick = () => {\n",
              "        google.colab.notebook.generateWithVariable('df_results');\n",
              "      }\n",
              "      })();\n",
              "    </script>\n",
              "  </div>\n",
              "\n",
              "    </div>\n",
              "  </div>\n"
            ],
            "application/vnd.google.colaboratory.intrinsic+json": {
              "type": "dataframe",
              "variable_name": "df_results",
              "summary": "{\n  \"name\": \"df_results\",\n  \"rows\": 15,\n  \"fields\": [\n    {\n      \"column\": \"bootstrap\",\n      \"properties\": {\n        \"dtype\": \"number\",\n        \"std\": 4,\n        \"min\": 0,\n        \"max\": 14,\n        \"num_unique_values\": 15,\n        \"samples\": [\n          9,\n          11,\n          0\n        ],\n        \"semantic_type\": \"\",\n        \"description\": \"\"\n      }\n    },\n    {\n      \"column\": \"wasserstein\",\n      \"properties\": {\n        \"dtype\": \"number\",\n        \"std\": 0.0014369128536016109,\n        \"min\": 0.15804143606680718,\n        \"max\": 0.16445204387367474,\n        \"num_unique_values\": 15,\n        \"samples\": [\n          0.161082699640049,\n          0.15914211860543642,\n          0.16025509671548083\n        ],\n        \"semantic_type\": \"\",\n        \"description\": \"\"\n      }\n    },\n    {\n      \"column\": \"kl\",\n      \"properties\": {\n        \"dtype\": \"number\",\n        \"std\": 0.034205904108982714,\n        \"min\": 13.20339007507015,\n        \"max\": 13.34517682662534,\n        \"num_unique_values\": 15,\n        \"samples\": [\n          13.275977892422404,\n          13.269946272330143,\n          13.240462957123905\n        ],\n        \"semantic_type\": \"\",\n        \"description\": \"\"\n      }\n    },\n    {\n      \"column\": \"rmse\",\n      \"properties\": {\n        \"dtype\": \"number\",\n        \"std\": 0.0016689298415898566,\n        \"min\": 0.2428154572192651,\n        \"max\": 0.2491894935009593,\n        \"num_unique_values\": 15,\n        \"samples\": [\n          0.24472462043691853,\n          0.24321598433169886,\n          0.24527323645522592\n        ],\n        \"semantic_type\": \"\",\n        \"description\": \"\"\n      }\n    },\n    {\n      \"column\": \"mae\",\n      \"properties\": {\n        \"dtype\": \"number\",\n        \"std\": 0.0013343990960748612,\n        \"min\": 0.18687458336353302,\n        \"max\": 0.19231201708316803,\n        \"num_unique_values\": 15,\n        \"samples\": [\n          0.18827705085277557,\n          0.1873147338628769,\n          0.1888773888349533\n        ],\n        \"semantic_type\": \"\",\n        \"description\": \"\"\n      }\n    },\n    {\n      \"column\": \"Dataset\",\n      \"properties\": {\n        \"dtype\": \"category\",\n        \"num_unique_values\": 1,\n        \"samples\": [\n          \"electricity\"\n        ],\n        \"semantic_type\": \"\",\n        \"description\": \"\"\n      }\n    },\n    {\n      \"column\": \"Model\",\n      \"properties\": {\n        \"dtype\": \"category\",\n        \"num_unique_values\": 1,\n        \"samples\": [\n          \"TimeGAN\"\n        ],\n        \"semantic_type\": \"\",\n        \"description\": \"\"\n      }\n    }\n  ]\n}"
            }
          },
          "metadata": {},
          "execution_count": 28
        }
      ]
    },
    {
      "cell_type": "code",
      "source": [
        "summary_row = {\n",
        "    'Dataset': 'electricity',\n",
        "    'Model': 'TimeGAN',\n",
        "    'Wasserstein': df_results['wasserstein'].mean(),\n",
        "    'KL': df_results['kl'].mean(),\n",
        "    'RMSE': df_results['rmse'].mean(),\n",
        "    'MAE': df_results['mae'].mean()\n",
        "}\n",
        "\n",
        "df_summary = pd.DataFrame([summary_row])\n",
        "print(df_summary)"
      ],
      "metadata": {
        "colab": {
          "base_uri": "https://localhost:8080/"
        },
        "id": "OwehLjFkqLYs",
        "outputId": "a520ec93-5df1-4a62-8731-ee0e633ec28c"
      },
      "execution_count": 30,
      "outputs": [
        {
          "output_type": "stream",
          "name": "stdout",
          "text": [
            "       Dataset    Model  Wasserstein        KL      RMSE       MAE\n",
            "0  electricity  TimeGAN     0.160721  13.26968  0.245405  0.188881\n"
          ]
        }
      ]
    }
  ]
}