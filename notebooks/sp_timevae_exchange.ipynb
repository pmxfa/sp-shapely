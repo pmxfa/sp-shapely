{
  "nbformat": 4,
  "nbformat_minor": 0,
  "metadata": {
    "colab": {
      "provenance": [],
      "authorship_tag": "ABX9TyMDDR4T18rmo9gdg6Muxmzu",
      "include_colab_link": true
    },
    "kernelspec": {
      "name": "python3",
      "display_name": "Python 3"
    },
    "language_info": {
      "name": "python"
    }
  },
  "cells": [
    {
      "cell_type": "markdown",
      "metadata": {
        "id": "view-in-github",
        "colab_type": "text"
      },
      "source": [
        "<a href=\"https://colab.research.google.com/github/pmxfa/sp-shapely/blob/main/sp_timevae_exchange.ipynb\" target=\"_parent\"><img src=\"https://colab.research.google.com/assets/colab-badge.svg\" alt=\"Open In Colab\"/></a>"
      ]
    },
    {
      "cell_type": "code",
      "execution_count": null,
      "metadata": {
        "id": "oaMLghK_ipz1",
        "collapsed": true
      },
      "outputs": [],
      "source": [
        "!pip install synthcity"
      ]
    },
    {
      "cell_type": "markdown",
      "source": [
        "# Training"
      ],
      "metadata": {
        "id": "NcwQ6Yo09JC8"
      }
    },
    {
      "cell_type": "code",
      "source": [
        "from google.colab import drive\n",
        "drive.mount('/content/drive')\n",
        "\n",
        "import sys\n",
        "import warnings\n",
        "import pandas as pd\n",
        "import numpy as np\n",
        "from sklearn.preprocessing import MinMaxScaler\n",
        "\n",
        "import synthcity.logger as log\n",
        "from synthcity.plugins import Plugins\n",
        "from synthcity.plugins.core.dataloader import TimeSeriesDataLoader\n",
        "from synthcity.utils.serialization import save_to_file, load_from_file\n",
        "\n",
        "log.add(sink=sys.stderr, level=\"INFO\")"
      ],
      "metadata": {
        "id": "kfDi7FQF9LIv",
        "colab": {
          "base_uri": "https://localhost:8080/"
        },
        "outputId": "70baeb9f-e15b-4530-c55e-9f48e8b3c6e2",
        "collapsed": true
      },
      "execution_count": 1,
      "outputs": [
        {
          "output_type": "stream",
          "name": "stdout",
          "text": [
            "Mounted at /content/drive\n",
            "[KeOps] Warning : CUDA libraries not found or could not be loaded; Switching to CPU only.\n"
          ]
        }
      ]
    },
    {
      "cell_type": "code",
      "source": [
        "# Define file path\n",
        "file_path = \"/content/drive/Shareddrives/sp_env/datasets/Exchange Rate/exchange_rate.txt\"\n",
        "\n",
        "df = pd.read_csv(file_path)\n",
        "print(df.head())\n",
        "print(df.info())\n",
        "print(df.isnull().sum())"
      ],
      "metadata": {
        "id": "DCLsmN-F9NGv",
        "colab": {
          "base_uri": "https://localhost:8080/"
        },
        "outputId": "c6fa6987-a601-49f6-8446-b2be865227c0"
      },
      "execution_count": 2,
      "outputs": [
        {
          "output_type": "stream",
          "name": "stdout",
          "text": [
            "   0.785500  1.611000  0.861698  0.634196  0.211242  0.006838  0.593000  \\\n",
            "0    0.7818    1.6100  0.861104  0.633513  0.211242  0.006863    0.5940   \n",
            "1    0.7867    1.6293  0.861030  0.648508  0.211242  0.006975    0.5973   \n",
            "2    0.7860    1.6370  0.862069  0.650618  0.211242  0.006953    0.5970   \n",
            "3    0.7849    1.6530  0.861995  0.656254  0.211242  0.006940    0.5985   \n",
            "4    0.7866    1.6537  0.861030  0.654879  0.211242  0.006887    0.6040   \n",
            "\n",
            "   0.525486  \n",
            "0  0.523972  \n",
            "1  0.526316  \n",
            "2  0.523834  \n",
            "3  0.527426  \n",
            "4  0.526177  \n",
            "<class 'pandas.core.frame.DataFrame'>\n",
            "RangeIndex: 7587 entries, 0 to 7586\n",
            "Data columns (total 8 columns):\n",
            " #   Column    Non-Null Count  Dtype  \n",
            "---  ------    --------------  -----  \n",
            " 0   0.785500  7587 non-null   float64\n",
            " 1   1.611000  7587 non-null   float64\n",
            " 2   0.861698  7587 non-null   float64\n",
            " 3   0.634196  7587 non-null   float64\n",
            " 4   0.211242  7587 non-null   float64\n",
            " 5   0.006838  7587 non-null   float64\n",
            " 6   0.593000  7587 non-null   float64\n",
            " 7   0.525486  7587 non-null   float64\n",
            "dtypes: float64(8)\n",
            "memory usage: 474.3 KB\n",
            "None\n",
            "0.785500    0\n",
            "1.611000    0\n",
            "0.861698    0\n",
            "0.634196    0\n",
            "0.211242    0\n",
            "0.006838    0\n",
            "0.593000    0\n",
            "0.525486    0\n",
            "dtype: int64\n"
          ]
        }
      ]
    },
    {
      "cell_type": "code",
      "source": [
        "# for exchange dataset only\n",
        "df.columns = [\n",
        "    'Australia', 'British_Pound', 'Canada', 'Switzerland',\n",
        "    'China', 'Japan', 'New_Zealand', 'Singapore'\n",
        "]\n",
        "\n",
        "# set seed and randomly choose 2 features\n",
        "np.random.seed(42)\n",
        "\n",
        "# Filter the dataframe to only include selected features\n",
        "# df_latest = df_latest[selected_features]\n",
        "selected_features = np.random.choice(df.columns, size=2, replace=False)\n",
        "print(f\"Selected features: {selected_features}\")\n",
        "\n",
        "# Immediately filter your full DataFrame down to just those two series:\n",
        "df = df[selected_features]\n",
        "\n",
        "# Set the index as a daily date range starting from 1990-01-01\n",
        "df.index = pd.date_range(start='1990-01-01', periods=len(df), freq='D')\n",
        "\n",
        "# Optional: show the first few rows\n",
        "print(df.head())"
      ],
      "metadata": {
        "colab": {
          "base_uri": "https://localhost:8080/"
        },
        "id": "5oUv4bBtKwyH",
        "outputId": "eb37e70d-c38d-4991-9200-c0644bbcb500"
      },
      "execution_count": 3,
      "outputs": [
        {
          "output_type": "stream",
          "name": "stdout",
          "text": [
            "Selected features: ['British_Pound' 'Japan']\n",
            "            British_Pound     Japan\n",
            "1990-01-01         1.6100  0.006863\n",
            "1990-01-02         1.6293  0.006975\n",
            "1990-01-03         1.6370  0.006953\n",
            "1990-01-04         1.6530  0.006940\n",
            "1990-01-05         1.6537  0.006887\n"
          ]
        }
      ]
    },
    {
      "cell_type": "code",
      "source": [
        "print(len(df))"
      ],
      "metadata": {
        "colab": {
          "base_uri": "https://localhost:8080/"
        },
        "id": "p28jUQPKXED-",
        "outputId": "32795629-14e3-44f3-b838-79a65ba1cb5f"
      },
      "execution_count": 4,
      "outputs": [
        {
          "output_type": "stream",
          "name": "stdout",
          "text": [
            "7587\n"
          ]
        }
      ]
    },
    {
      "cell_type": "code",
      "source": [
        "# Keep the latest 5000 rows\n",
        "df_latest = df.tail(5000)\n",
        "\n",
        "# Train-test split: 70% for training (for TimeGAN), 30% for testing (TSTR)\n",
        "train_size = int(0.7 * len(df_latest))\n",
        "df_train = df_latest.iloc[:train_size]\n",
        "df_test = df_latest.iloc[train_size:]  # use later for LSTM-TSTR\n",
        "\n",
        "# Normalize the data\n",
        "scaler = MinMaxScaler()\n",
        "scaled_train = scaler.fit_transform(df_train)\n",
        "df_scaled_train = pd.DataFrame(scaled_train, columns=df_train.columns, index=df_train.index)\n",
        "scaled_test = scaler.transform(df_test)\n",
        "df_scaled_test = pd.DataFrame(scaled_test, columns=df_test.columns, index=df_test.index)\n",
        "\n",
        "\n",
        "# set sequence length to 30 to capture monthly patterns\n",
        "# dataset = daily\n",
        "sequence_length = 30"
      ],
      "metadata": {
        "id": "siWRiBtn9O0V"
      },
      "execution_count": 8,
      "outputs": []
    },
    {
      "cell_type": "code",
      "source": [
        "temporal_data = []\n",
        "observation_times = []\n",
        "\n",
        "for start in range(len(df_scaled_train) - sequence_length + 1):\n",
        "    sequence = df_scaled_train.iloc[start:start + sequence_length].reset_index(drop=True)\n",
        "    temporal_data.append(sequence)\n",
        "    observation_times.append(list(range(sequence_length)))  # relative time within the window\n",
        "\n",
        "\n",
        "# Dummy outcome for data loader\n",
        "dummy_outcome = pd.DataFrame(np.zeros(len(temporal_data)), columns=[\"outcome\"])\n",
        "\n",
        "# --- Create DataLoader for TimeGAN ---\n",
        "loader = TimeSeriesDataLoader(\n",
        "    temporal_data=temporal_data,  # List of sequences (DataFrames)\n",
        "    observation_times=observation_times,  # List of time indices (DataFrames)\n",
        "    static_data=None,  # No static data for now (can be set if needed)\n",
        "    outcome=dummy_outcome,  # Dummy outcome for forecasting\n",
        ")\n",
        "\n",
        "# Print the loader info\n",
        "print(f\"TimeSeriesDataLoader created with {len(temporal_data)} sequences\")"
      ],
      "metadata": {
        "id": "AopY8x8U5ktM"
      },
      "execution_count": null,
      "outputs": []
    },
    {
      "cell_type": "code",
      "source": [
        "temporal_data_test = []\n",
        "observation_times_test = []\n",
        "\n",
        "# Generate sequences from df_scaled_test only\n",
        "for start in range(len(df_scaled_test) - sequence_length + 1):\n",
        "    sequence = df_scaled_test.iloc[start:start + sequence_length].reset_index(drop=True)\n",
        "    temporal_data_test.append(sequence)\n",
        "    observation_times_test.append(list(range(sequence_length)))  # relative time within the window\n",
        "\n",
        "# Dummy outcome for TimeGAN (can be used in DataLoader)\n",
        "dummy_outcome = pd.DataFrame(np.zeros(len(temporal_data_test)), columns=[\"outcome\"])\n",
        "\n",
        "# Create DataLoader for TimeGAN\n",
        "loader_test = TimeSeriesDataLoader(\n",
        "    temporal_data=temporal_data_test,\n",
        "    observation_times=observation_times_test,\n",
        "    static_data=None,\n",
        "    outcome=dummy_outcome,\n",
        ")\n",
        "\n",
        "# Print the loader info\n",
        "print(f\"TimeSeriesDataLoader TEST SET created with {len(temporal_data_test)} sequences\")"
      ],
      "metadata": {
        "id": "XvCo9NKm5n3Y",
        "outputId": "5f3ef9b3-21ff-4ff9-d321-81278d9209b5",
        "colab": {
          "base_uri": "https://localhost:8080/"
        }
      },
      "execution_count": 9,
      "outputs": [
        {
          "output_type": "stream",
          "name": "stdout",
          "text": [
            "TimeSeriesDataLoader TEST SET created with 1471 sequences\n"
          ]
        }
      ]
    },
    {
      "cell_type": "code",
      "source": [
        "print(len(df_scaled_test))  # Check the length of the dataframe\n",
        "print(loader.dataframe())"
      ],
      "metadata": {
        "id": "FmZe08FM9Rd0",
        "colab": {
          "base_uri": "https://localhost:8080/"
        },
        "outputId": "0538489e-a9b7-421c-d64c-69d5cb726721"
      },
      "execution_count": null,
      "outputs": [
        {
          "output_type": "stream",
          "name": "stdout",
          "text": [
            "3500\n",
            "        seq_id  seq_time_id  seq_temporal_British_Pound  seq_temporal_Japan  \\\n",
            "0            0            0                    0.175634            0.327109   \n",
            "1            0            1                    0.177668            0.321058   \n",
            "2            0            2                    0.168709            0.315871   \n",
            "3            0            3                    0.163281            0.314661   \n",
            "4            0            4                    0.165788            0.318638   \n",
            "...        ...          ...                         ...                 ...   \n",
            "104125    3470           25                    0.325966            0.882434   \n",
            "104126    3470           26                    0.327503            0.875692   \n",
            "104127    3470           27                    0.313072            0.865318   \n",
            "104128    3470           28                    0.312271            0.866010   \n",
            "104129    3470           29                    0.305651            0.874308   \n",
            "\n",
            "        seq_out_outcome  \n",
            "0                   0.0  \n",
            "1                   0.0  \n",
            "2                   0.0  \n",
            "3                   0.0  \n",
            "4                   0.0  \n",
            "...                 ...  \n",
            "104125              0.0  \n",
            "104126              0.0  \n",
            "104127              0.0  \n",
            "104128              0.0  \n",
            "104129              0.0  \n",
            "\n",
            "[104130 rows x 5 columns]\n"
          ]
        }
      ]
    },
    {
      "cell_type": "markdown",
      "source": [
        "All available hyperparameters are listed below:\n",
        "\n",
        "model = plugin_timegan.TimeGAN( n_iter=500, generator_n_layers_hidden=3, generator_n_units_hidden=100, generator_nonlin=\"relu\", generator_dropout=0.1, discriminator_n_layers_hidden=3, discriminator_n_units_hidden=100, discriminator_nonlin=\"leaky_relu\", discriminator_dropout=0.1, discriminator_n_iter=2, lr=0.0002, weight_decay=0.0001, batch_size=200, encoder_max_clusters=10, mode=\"LSTM\", gamma_penalty=10.0, moments_penalty=10.0, embedding_penalty=5.0 )"
      ],
      "metadata": {
        "id": "iWcB_INh9U-Z"
      }
    },
    {
      "cell_type": "code",
      "source": [
        "syn_model = Plugins().get(\"timevae\")"
      ],
      "metadata": {
        "id": "oYqRdbxl9W74",
        "colab": {
          "base_uri": "https://localhost:8080/"
        },
        "outputId": "cd961ee6-a21d-4b35-9d2d-207469394326"
      },
      "execution_count": null,
      "outputs": [
        {
          "output_type": "stream",
          "name": "stderr",
          "text": [
            "[2025-05-01T07:02:34.357757+0000][1547][CRITICAL] module disabled: /usr/local/lib/python3.11/dist-packages/synthcity/plugins/generic/plugin_goggle.py\n",
            "[2025-05-01T07:02:34.357757+0000][1547][CRITICAL] module disabled: /usr/local/lib/python3.11/dist-packages/synthcity/plugins/generic/plugin_goggle.py\n"
          ]
        }
      ]
    },
    {
      "cell_type": "code",
      "source": [
        "# Print all parameters of initialized model\n",
        "for attr in dir(syn_model):\n",
        "    if not attr.startswith(\"_\") and not callable(getattr(syn_model, attr)):\n",
        "        print(f\"{attr}: {getattr(syn_model, attr)}\")"
      ],
      "metadata": {
        "id": "y9ZVw8pT9Y_Q",
        "colab": {
          "base_uri": "https://localhost:8080/"
        },
        "outputId": "a1d0fb22-5fa2-415e-e6ae-761e0775d54f"
      },
      "execution_count": null,
      "outputs": [
        {
          "output_type": "stream",
          "name": "stdout",
          "text": [
            "batch_size: 64\n",
            "class_name: TimeVAEPlugin\n",
            "clipping_value: 0\n",
            "compress_dataset: False\n",
            "decoder_batch_norm: False\n",
            "decoder_dropout: 0.01\n",
            "decoder_n_layers_hidden: 2\n",
            "decoder_n_units_hidden: 150\n",
            "decoder_nonlin: leaky_relu\n",
            "decoder_nonlin_out_continuous: tanh\n",
            "decoder_nonlin_out_discrete: softmax\n",
            "decoder_residual: True\n",
            "device: cuda\n",
            "embedding_penalty: 10\n",
            "encoder: None\n",
            "encoder_batch_norm: False\n",
            "encoder_dropout: 0.1\n",
            "encoder_max_clusters: 20\n",
            "encoder_n_layers_hidden: 3\n",
            "encoder_n_units_hidden: 300\n",
            "encoder_nonlin: leaky_relu\n",
            "expecting_conditional: False\n",
            "fitted: False\n",
            "gamma_penalty: 1\n",
            "lr: 0.001\n",
            "mode: LSTM\n",
            "module_name: synthcity.plugins.time_series.plugin_timevae\n",
            "module_relative_path: ../time_series/plugin_timevae.py\n",
            "moments_penalty: 100\n",
            "n_iter: 1000\n",
            "n_iter_print: 10\n",
            "outcome_encoder: TabularEncoder(cat_encoder_params={'handle_unknown': 'ignore',\n",
            "                                   'sparse_output': False},\n",
            "               categorical_encoder='onehot',\n",
            "               cont_encoder_params={'n_components': 20},\n",
            "               continuous_encoder='bayesian_gmm', max_clusters=20)\n",
            "random_state: 0\n",
            "sampling_patience: 500\n",
            "sampling_strategy: marginal\n",
            "strict: True\n",
            "weight_decay: 0.001\n",
            "workspace: workspace\n"
          ]
        }
      ]
    },
    {
      "cell_type": "markdown",
      "source": [
        "## fitting the model"
      ],
      "metadata": {
        "id": "IKG0O5Pg9hpG"
      }
    },
    {
      "cell_type": "code",
      "source": [
        "print(loader.shape)\n",
        "\n",
        "# Train the model\n",
        "syn_model.fit(loader)\n",
        "\n",
        "save_to_file('/content/drive/Shareddrives/sp_env/saved_models/VAE_Exchange.pkl', syn_model)"
      ],
      "metadata": {
        "id": "-BKXe4G19l_8",
        "colab": {
          "base_uri": "https://localhost:8080/"
        },
        "outputId": "35f843f7-59c3-4f16-fbd8-6740f688b71d"
      },
      "execution_count": null,
      "outputs": [
        {
          "output_type": "stream",
          "name": "stdout",
          "text": [
            "(104130, 5)\n"
          ]
        }
      ]
    },
    {
      "cell_type": "code",
      "source": [
        "# --- Generate Synthetic Data ---\n",
        "n_samples = len(temporal_data)\n",
        "syn_data = syn_model.generate(count=n_samples)\n",
        "print(syn_data.shape)"
      ],
      "metadata": {
        "id": "JviqEDru9nMO",
        "colab": {
          "base_uri": "https://localhost:8080/"
        },
        "outputId": "e36e6f60-f0de-4aed-86d8-e09e46d751d7"
      },
      "execution_count": null,
      "outputs": [
        {
          "output_type": "stream",
          "name": "stdout",
          "text": [
            "(104130, 5)\n"
          ]
        }
      ]
    },
    {
      "cell_type": "code",
      "source": [
        "# --- Save with automated format ---\n",
        "import datetime\n",
        "import os\n",
        "# Get the current date and time\n",
        "now = datetime.datetime.now()\n",
        "timestamp = now.strftime(\"%m%d%y-%H%M%S\")  # MMDDYY-HHMMSS format\n",
        "\n",
        "# Define the base directory\n",
        "base_dir = \"/content/drive/Shareddrives/sp_env/synthetic_datasets/TimeVAE/exchange\"  #CHANGE THIS\n",
        "if not os.path.exists(base_dir):\n",
        "    os.makedirs(base_dir)\n",
        "\n",
        "# Construct the filename\n",
        "model_name = type(syn_model).__name__.lower() # Get model name dynamically\n",
        "filename = f\"{timestamp}-{model_name}-3500.csv\"\n",
        "filepath = os.path.join(base_dir, filename)\n",
        "\n",
        "# Save the data\n",
        "df_syn = syn_data.dataframe()\n",
        "df_syn.to_csv(filepath, index=False)\n",
        "\n",
        "print(f\"Synthetic data saved to: {filepath}\")"
      ],
      "metadata": {
        "id": "J4rF0HY29o65",
        "colab": {
          "base_uri": "https://localhost:8080/"
        },
        "outputId": "0aba97a2-c38b-47e2-ccb1-a61431fa8777"
      },
      "execution_count": null,
      "outputs": [
        {
          "output_type": "stream",
          "name": "stdout",
          "text": [
            "Synthetic data saved to: /content/drive/Shareddrives/sp_env/synthetic_datasets/TimeVAE/exchange/050125-072914-timevaeplugin-3500.csv\n"
          ]
        }
      ]
    },
    {
      "cell_type": "markdown",
      "source": [
        "# Evaluation"
      ],
      "metadata": {
        "id": "TICnBaoH9r8Z"
      }
    },
    {
      "cell_type": "markdown",
      "source": [
        "## Prerequisites"
      ],
      "metadata": {
        "id": "QlHAzxfV9uXf"
      }
    },
    {
      "cell_type": "code",
      "source": [
        "syn_data = pd.read_csv('/content/drive/Shareddrives/sp_env/synthetic_datasets/TimeVAE/exchange/050125-072914-timevaeplugin-3500.csv')"
      ],
      "metadata": {
        "id": "UPPeQBcv5xg7"
      },
      "execution_count": 10,
      "outputs": []
    },
    {
      "cell_type": "code",
      "source": [
        "selected_columns = ['seq_temporal_British_Pound','seq_temporal_Japan']\n",
        "# Ensure real_data and synthetic_data only contain the selected columns\n",
        "real_data = loader_test.dataframe()[selected_columns].to_numpy()\n",
        "synthetic_data = syn_data[selected_columns].to_numpy()"
      ],
      "metadata": {
        "id": "zUMHadsq9vw8"
      },
      "execution_count": 12,
      "outputs": []
    },
    {
      "cell_type": "code",
      "source": [
        "print(real_data, \"\\n ------------------------------------------------------- \\n\", synthetic_data)\n",
        "print(type(real_data),type(synthetic_data))\n",
        "print(real_data.shape,synthetic_data.shape)"
      ],
      "metadata": {
        "id": "DumXr_Gg9y6U",
        "colab": {
          "base_uri": "https://localhost:8080/"
        },
        "outputId": "cecd6486-3210-498d-e878-fd531d13bccb"
      },
      "execution_count": 13,
      "outputs": [
        {
          "output_type": "stream",
          "name": "stdout",
          "text": [
            "[[ 0.30750644  0.87102351]\n",
            " [ 0.3059454   0.88191563]\n",
            " [ 0.3059454   0.88520055]\n",
            " ...\n",
            " [-0.18759935  0.197787  ]\n",
            " [-0.18787898  0.19657676]\n",
            " [-0.18787898  0.19657676]] \n",
            " ------------------------------------------------------- \n",
            " [[0.89194132 0.94418034]\n",
            " [0.35438725 0.63338469]\n",
            " [0.18833139 0.83318373]\n",
            " ...\n",
            " [0.44900523 0.29225317]\n",
            " [0.44900523 0.57334021]\n",
            " [0.23076167 0.57334021]]\n",
            "<class 'numpy.ndarray'> <class 'numpy.ndarray'>\n",
            "(44130, 2) (104130, 2)\n"
          ]
        }
      ]
    },
    {
      "cell_type": "markdown",
      "source": [
        "## Generate distance metrics"
      ],
      "metadata": {
        "id": "0pU8BORS9vWk"
      }
    },
    {
      "cell_type": "markdown",
      "source": [
        "### Helper Functions"
      ],
      "metadata": {
        "id": "DVguOJWi-Fos"
      }
    },
    {
      "cell_type": "code",
      "source": [
        "from scipy.stats import wasserstein_distance, entropy\n",
        "import numpy as np\n",
        "\n",
        "def compute_wasserstein(real_data, synthetic_data, selected_columns):\n",
        "    \"\"\"\n",
        "    Computes Wasserstein Distance between real and synthetic time-series data.\n",
        "\n",
        "    \"\"\"\n",
        "\n",
        "    # Ensure both datasets have the same number of samples\n",
        "    min_length = min(len(real_data), len(synthetic_data))\n",
        "    real_trimmed = real_data[:min_length]  # Keep original order (no random sampling)\n",
        "    synthetic_trimmed = synthetic_data[:min_length]  # Match size\n",
        "    print(real_trimmed.shape,synthetic_trimmed.shape)\n",
        "\n",
        "    wasserstein_results = {}\n",
        "\n",
        "    # Compute Wasserstein Distance for each feature\n",
        "    for i, col in enumerate(selected_columns):\n",
        "        w_dist = wasserstein_distance(real_trimmed[:, i], synthetic_trimmed[:, i])\n",
        "        wasserstein_results[col] = w_dist\n",
        "        print(f\"{w_dist}\")\n",
        "\n",
        "    return wasserstein_results\n",
        "\n",
        "def compute_kl_divergence(real_data, synthetic_data, selected_columns, bins=50):\n",
        "    \"\"\"\n",
        "    Computes KL Divergence between real and synthetic time-series data.\n",
        "\n",
        "    \"\"\"\n",
        "\n",
        "    # Ensure both datasets have the same number of samples\n",
        "    min_length = min(len(real_data), len(synthetic_data))\n",
        "    real_trimmed = real_data[:min_length]  # Keep original order\n",
        "    synthetic_trimmed = synthetic_data[:min_length]  # Match size\n",
        "\n",
        "    kl_results = {}\n",
        "\n",
        "    for i, col in enumerate(selected_columns):\n",
        "        # Compute histogram-based probability distributions\n",
        "        real_hist, _ = np.histogram(real_trimmed[:, i], bins=bins, density=True)\n",
        "        synth_hist, _ = np.histogram(synthetic_trimmed[:, i], bins=bins, density=True)\n",
        "\n",
        "        # Avoid zero probabilities (KL Divergence is undefined for zero values)\n",
        "        real_hist += 1e-10\n",
        "        synth_hist += 1e-10\n",
        "\n",
        "        # Compute KL Divergence\n",
        "        kl_div = entropy(real_hist, synth_hist)\n",
        "        kl_results[col] = kl_div\n",
        "        print(f\"{kl_div}\")\n",
        "\n",
        "    return kl_results"
      ],
      "metadata": {
        "id": "krpvQN9Ac8jL"
      },
      "execution_count": 14,
      "outputs": []
    },
    {
      "cell_type": "markdown",
      "source": [
        "### Generate Metrics"
      ],
      "metadata": {
        "id": "yLnb7Vqg-IG_"
      }
    },
    {
      "cell_type": "code",
      "source": [
        "wasserstein_results = compute_wasserstein(real_data, synthetic_data, selected_columns)\n",
        "print(\"Wasserstein Distance Results:\")\n",
        "print(wasserstein_results)\n",
        "\n",
        "kl_results = compute_kl_divergence(real_data, synthetic_data, selected_columns)\n",
        "print(\"KL Divergence Results:\")\n",
        "print(kl_results)"
      ],
      "metadata": {
        "id": "olm0RYP89-SN",
        "colab": {
          "base_uri": "https://localhost:8080/"
        },
        "outputId": "a860952e-dd63-44ad-900d-8768c7e9e1c2"
      },
      "execution_count": 15,
      "outputs": [
        {
          "output_type": "stream",
          "name": "stdout",
          "text": [
            "(44130, 2) (44130, 2)\n",
            "0.21537685601539203\n",
            "0.14475753302922684\n",
            "Wasserstein Distance Results:\n",
            "{'seq_temporal_British_Pound': 0.21537685601539203, 'seq_temporal_Japan': 0.14475753302922684}\n",
            "17.01785977924572\n",
            "16.084912038127758\n",
            "KL Divergence Results:\n",
            "{'seq_temporal_British_Pound': 17.01785977924572, 'seq_temporal_Japan': 16.084912038127758}\n"
          ]
        }
      ]
    },
    {
      "cell_type": "markdown",
      "source": [
        "# LSTM downstream"
      ],
      "metadata": {
        "id": "UpJLIRUZChiz"
      }
    },
    {
      "cell_type": "code",
      "source": [
        "real_data = loader_test.dataframe()\n",
        "df_synth = pd.read_csv(\"/content/drive/Shareddrives/sp_env/synthetic_datasets/TimeVAE/exchange/050125-072914-timevaeplugin-3500.csv\")\n",
        "\n",
        "# drop unwanted column\n",
        "real_data = real_data.drop(columns=[\"seq_id\", \"seq_time_id\", \"seq_out_outcome\"], errors=\"ignore\")\n",
        "df_synth = df_synth.drop(columns=[\"seq_id\", \"seq_time_id\", \"seq_out_outcome\"], errors=\"ignore\")\n",
        "\n",
        "print(f\"real_data: {real_data.shape}, synthetic_data: {df_synth.shape}\")"
      ],
      "metadata": {
        "id": "khhlwxCBbe_2",
        "outputId": "9ad54490-27f9-431e-84c2-f1410ff216b4",
        "colab": {
          "base_uri": "https://localhost:8080/"
        }
      },
      "execution_count": 16,
      "outputs": [
        {
          "output_type": "stream",
          "name": "stdout",
          "text": [
            "real_data: (44130, 2), synthetic_data: (104130, 2)\n"
          ]
        }
      ]
    },
    {
      "cell_type": "code",
      "source": [
        "import pandas as pd\n",
        "import numpy as np\n",
        "import torch\n",
        "import torch.nn as nn\n",
        "from torch.utils.data import DataLoader, TensorDataset\n",
        "from sklearn.preprocessing import MinMaxScaler\n",
        "from sklearn.metrics import mean_absolute_error, mean_squared_error"
      ],
      "metadata": {
        "id": "X2CedqTacCMA"
      },
      "execution_count": 17,
      "outputs": []
    },
    {
      "cell_type": "code",
      "source": [
        "# Convert to tensors (float32 for PyTorch)\n",
        "data_real = torch.tensor(real_data.values, dtype=torch.float32)\n",
        "data_synth = torch.tensor(df_synth.values, dtype=torch.float32)\n",
        "\n",
        "#  Sequence builder\n",
        "def make_sequences(data, seq_len):\n",
        "    X, y = [], []\n",
        "    for i in range(len(data) - seq_len):\n",
        "        X.append(data[i:i+seq_len])\n",
        "        y.append(data[i+seq_len])\n",
        "    return torch.stack(X), torch.stack(y)\n",
        "\n",
        "SEQ_LEN = sequence_length\n",
        "\n",
        "# Sequences for synthetic (train)\n",
        "X_train, y_train = make_sequences(data_synth, SEQ_LEN)\n",
        "train_loader = DataLoader(TensorDataset(X_train, y_train), batch_size=32, shuffle=True)\n",
        "\n",
        "# Sequences for real (test)\n",
        "X_test, y_test = make_sequences(data_real, SEQ_LEN)"
      ],
      "metadata": {
        "id": "ZX9Ocd84cDmp"
      },
      "execution_count": 18,
      "outputs": []
    },
    {
      "cell_type": "code",
      "source": [
        "# ─── Model Definition ──────────────────────────────────────\n",
        "class ShallowLSTM(nn.Module):\n",
        "    def __init__(self, input_size, hidden_size=64):\n",
        "        super().__init__()\n",
        "        self.lstm = nn.LSTM(input_size, hidden_size, batch_first=True)\n",
        "        self.linear = nn.Linear(hidden_size, input_size)\n",
        "\n",
        "    def forward(self, x):\n",
        "        _, (hn, _) = self.lstm(x)  # hn shape: (1, batch, hidden_size)\n",
        "        out = self.linear(hn.squeeze(0))  # squeeze to (batch, hidden_size)\n",
        "        return out\n",
        "\n",
        "\n",
        "# ─── Model Init ─────────────────────────────────────────────\n",
        "model = ShallowLSTM(input_size=X_train.shape[2], hidden_size=64)\n",
        "\n",
        "# ─── Optimizer & Loss ───────────────────────────────────────\n",
        "loss_fn = nn.MSELoss()\n",
        "optimizer = torch.optim.Adam(model.parameters(), lr=0.002)"
      ],
      "metadata": {
        "id": "sPEYraOIcHSn"
      },
      "execution_count": 19,
      "outputs": []
    },
    {
      "cell_type": "code",
      "source": [
        "# ─── Training ───────────────────────────────────────────────\n",
        "EPOCHS = 50\n",
        "for epoch in range(1, EPOCHS + 1):\n",
        "    model.train()\n",
        "    for xb, yb in train_loader:\n",
        "        pred = model(xb)\n",
        "        loss = loss_fn(pred, yb)\n",
        "        optimizer.zero_grad()\n",
        "        loss.backward()\n",
        "        optimizer.step()\n",
        "\n",
        "    # if epoch % 10 == 0 or epoch == 1:\n",
        "    print(f\"Epoch {epoch}: Train MSE = {loss.item():.6f}\")"
      ],
      "metadata": {
        "id": "QA4UJhRE7x_s",
        "outputId": "4b43deb1-e6cd-40ad-f085-53d157a3296e",
        "colab": {
          "base_uri": "https://localhost:8080/"
        }
      },
      "execution_count": 20,
      "outputs": [
        {
          "output_type": "stream",
          "name": "stdout",
          "text": [
            "Epoch 1: Train MSE = 0.051888\n",
            "Epoch 2: Train MSE = 0.025994\n",
            "Epoch 3: Train MSE = 0.069100\n",
            "Epoch 4: Train MSE = 0.108610\n",
            "Epoch 5: Train MSE = 0.053252\n",
            "Epoch 6: Train MSE = 0.113041\n",
            "Epoch 7: Train MSE = 0.106269\n",
            "Epoch 8: Train MSE = 0.053315\n",
            "Epoch 9: Train MSE = 0.069478\n",
            "Epoch 10: Train MSE = 0.102155\n",
            "Epoch 11: Train MSE = 0.047958\n",
            "Epoch 12: Train MSE = 0.076143\n",
            "Epoch 13: Train MSE = 0.084339\n",
            "Epoch 14: Train MSE = 0.041524\n",
            "Epoch 15: Train MSE = 0.079919\n",
            "Epoch 16: Train MSE = 0.075968\n",
            "Epoch 17: Train MSE = 0.084748\n",
            "Epoch 18: Train MSE = 0.111051\n",
            "Epoch 19: Train MSE = 0.086398\n",
            "Epoch 20: Train MSE = 0.093235\n",
            "Epoch 21: Train MSE = 0.044364\n",
            "Epoch 22: Train MSE = 0.057127\n",
            "Epoch 23: Train MSE = 0.031280\n",
            "Epoch 24: Train MSE = 0.121597\n",
            "Epoch 25: Train MSE = 0.067504\n",
            "Epoch 26: Train MSE = 0.043946\n",
            "Epoch 27: Train MSE = 0.077169\n",
            "Epoch 28: Train MSE = 0.056605\n",
            "Epoch 29: Train MSE = 0.063538\n",
            "Epoch 30: Train MSE = 0.079572\n",
            "Epoch 31: Train MSE = 0.061354\n",
            "Epoch 32: Train MSE = 0.074685\n",
            "Epoch 33: Train MSE = 0.104400\n",
            "Epoch 34: Train MSE = 0.076474\n",
            "Epoch 35: Train MSE = 0.102380\n",
            "Epoch 36: Train MSE = 0.068965\n",
            "Epoch 37: Train MSE = 0.030714\n",
            "Epoch 38: Train MSE = 0.079262\n",
            "Epoch 39: Train MSE = 0.073909\n",
            "Epoch 40: Train MSE = 0.044861\n",
            "Epoch 41: Train MSE = 0.085759\n",
            "Epoch 42: Train MSE = 0.098164\n",
            "Epoch 43: Train MSE = 0.087088\n",
            "Epoch 44: Train MSE = 0.095357\n",
            "Epoch 45: Train MSE = 0.116369\n",
            "Epoch 46: Train MSE = 0.062929\n",
            "Epoch 47: Train MSE = 0.071898\n",
            "Epoch 48: Train MSE = 0.103941\n",
            "Epoch 49: Train MSE = 0.062694\n",
            "Epoch 50: Train MSE = 0.079858\n"
          ]
        }
      ]
    },
    {
      "cell_type": "code",
      "source": [
        "MODEL_SAVE_PATH = '/content/drive/Shareddrives/sp_env/saved_models/LSTM/tstr_VAE_exchange.pth'\n",
        "\n",
        "# Save only the model's learned parameters (state_dict)\n",
        "torch.save(model.state_dict(), MODEL_SAVE_PATH)\n",
        "\n",
        "print(f\"Model saved to: {MODEL_SAVE_PATH}\")"
      ],
      "metadata": {
        "id": "QzCh4qBE76FT",
        "outputId": "274ecf05-09a5-4d22-d037-db607452537d",
        "colab": {
          "base_uri": "https://localhost:8080/"
        }
      },
      "execution_count": 21,
      "outputs": [
        {
          "output_type": "stream",
          "name": "stdout",
          "text": [
            "Model saved to: /content/drive/Shareddrives/sp_env/saved_models/LSTM/tstr_VAE_exchange.pth\n"
          ]
        }
      ]
    },
    {
      "cell_type": "code",
      "source": [
        "#@title ✧.* model evaluation ✧.*\n",
        "model.eval()\n",
        "with torch.no_grad():\n",
        "    preds = model(X_test)\n",
        "    test_mse = loss_fn(preds, y_test).item()\n",
        "    test_mae = mean_absolute_error(y_test.numpy(), preds.numpy())\n",
        "\n",
        "    print(f\"Test MSE: {test_mse:.6f}\")\n",
        "    print(f\"Test MAE: {test_mae:.6f}\")"
      ],
      "metadata": {
        "id": "bsUSFfngcKJN",
        "outputId": "1b958cf1-d009-4bfa-ef31-8abc02885bb0",
        "colab": {
          "base_uri": "https://localhost:8080/"
        }
      },
      "execution_count": 22,
      "outputs": [
        {
          "output_type": "stream",
          "name": "stdout",
          "text": [
            "Test MSE: 0.057347\n",
            "Test MAE: 0.191393\n"
          ]
        }
      ]
    },
    {
      "cell_type": "code",
      "source": [
        "!pip install tsbootstrap"
      ],
      "metadata": {
        "id": "0qk8ExTLB9Cs"
      },
      "execution_count": null,
      "outputs": []
    },
    {
      "cell_type": "code",
      "source": [
        "len(loader_test)"
      ],
      "metadata": {
        "id": "Vik7Mp5EnFqe",
        "outputId": "5cc150d2-6f6a-4ac4-da13-2510708e25e3",
        "colab": {
          "base_uri": "https://localhost:8080/"
        }
      },
      "execution_count": 23,
      "outputs": [
        {
          "output_type": "execute_result",
          "data": {
            "text/plain": [
              "44130"
            ]
          },
          "metadata": {},
          "execution_count": 23
        }
      ]
    },
    {
      "cell_type": "code",
      "source": [
        "from tsbootstrap import MovingBlockBootstrap\n",
        "import numpy as np\n",
        "\n",
        "C_CONSTANT = 1\n",
        "n = len(loader_test)\n",
        "calculated_block_length = int(np.round(C_CONSTANT * (n**(1/3))))\n",
        "print(calculated_block_length)\n",
        "\n",
        "bootstrap_configs = {\n",
        "    \"weather\": {\"block_length\": calculated_block_length, \"n_bootstraps\": 15, \"rng\": 42},       # 6-hour pattern (10-min interval)\n",
        "    \"electricity\": {\"block_length\": calculated_block_length, \"n_bootstraps\": 15, \"rng\": 42},   # 1-day pattern (hourly)\n",
        "    \"exchange\": {\"block_length\": calculated_block_length, \"n_bootstraps\": 15, \"rng\": 42},      # 1-month pattern (daily)\n",
        "}\n",
        "\n",
        "# Example for weather\n",
        "dataset_name = \"weather\"\n",
        "config = bootstrap_configs[dataset_name]\n",
        "\n",
        "real_test_array = real_data # shape (N, features)\n",
        "mbb = MovingBlockBootstrap(\n",
        "    n_bootstraps=config[\"n_bootstraps\"],\n",
        "    rng=config[\"rng\"],\n",
        "    block_length=config[\"block_length\"]\n",
        ")\n",
        "boot_samples = mbb.bootstrap(real_test_array, return_indices=False)\n"
      ],
      "metadata": {
        "id": "r3V4JBSEksXF",
        "colab": {
          "base_uri": "https://localhost:8080/"
        },
        "outputId": "8433a836-5fa3-4e24-ad64-c0dcc3c76ad6"
      },
      "execution_count": 26,
      "outputs": [
        {
          "output_type": "stream",
          "name": "stdout",
          "text": [
            "35\n"
          ]
        }
      ]
    },
    {
      "cell_type": "code",
      "source": [
        "model.load_state_dict(torch.load(MODEL_SAVE_PATH))"
      ],
      "metadata": {
        "colab": {
          "base_uri": "https://localhost:8080/"
        },
        "id": "Xlo6IGrddr2R",
        "outputId": "2071b6bd-d78c-4688-c794-20dd228f6f52"
      },
      "execution_count": 27,
      "outputs": [
        {
          "output_type": "execute_result",
          "data": {
            "text/plain": [
              "<All keys matched successfully>"
            ]
          },
          "metadata": {},
          "execution_count": 27
        }
      ]
    },
    {
      "cell_type": "code",
      "source": [
        "bootstrap_results = []\n",
        "\n",
        "for b_idx, boot_real in enumerate(boot_samples):\n",
        "    # 1. Match the synthetic data size\n",
        "    syn_trimmed = synthetic_data[:len(boot_real)]\n",
        "\n",
        "    # 2. Fidelity metrics\n",
        "    wasserstein = compute_wasserstein(boot_real, syn_trimmed, selected_columns)\n",
        "    kl = compute_kl_divergence(boot_real, syn_trimmed, selected_columns)\n",
        "\n",
        "    # 3. Utility metrics\n",
        "    # Preprocess this bootstrap sample for LSTM (as you do with real_data)\n",
        "    boot_tensor = torch.tensor(boot_real, dtype=torch.float32)\n",
        "    Xb_test, yb_test = make_sequences(boot_tensor, SEQ_LEN)\n",
        "\n",
        "    model.eval()\n",
        "    with torch.no_grad():\n",
        "        preds = model(Xb_test)\n",
        "        mse = mean_squared_error(yb_test.numpy(), preds.numpy())\n",
        "        rmse = np.sqrt(mse)\n",
        "        mae = mean_absolute_error(yb_test.numpy(), preds.numpy())\n",
        "\n",
        "    # 4. Store results\n",
        "    bootstrap_results.append({\n",
        "        'bootstrap': b_idx,\n",
        "        'wasserstein': np.mean(list(wasserstein.values())),\n",
        "        'kl': np.mean(list(kl.values())),\n",
        "        'rmse': rmse,\n",
        "        'mae': mae\n",
        "    })"
      ],
      "metadata": {
        "colab": {
          "base_uri": "https://localhost:8080/"
        },
        "id": "SPL4pVhwk3Ir",
        "outputId": "5c9ee2da-5d4b-44a0-9bac-d07666a44091"
      },
      "execution_count": 28,
      "outputs": [
        {
          "output_type": "stream",
          "name": "stdout",
          "text": [
            "(44130, 2) (44130, 2)\n",
            "0.21770328632170077\n",
            "0.1448137899837803\n",
            "16.85052690518597\n",
            "16.058477603997716\n",
            "(44130, 2) (44130, 2)\n",
            "0.2182330815362547\n",
            "0.14489440741049867\n",
            "16.98792292602977\n",
            "15.875836019108954\n",
            "(44130, 2) (44130, 2)\n",
            "0.218552476917958\n",
            "0.14476726273109575\n",
            "16.913053911440617\n",
            "15.99586001670041\n",
            "(44130, 2) (44130, 2)\n",
            "0.20300957061803743\n",
            "0.14458687028919529\n",
            "17.31777220243694\n",
            "16.15102051441206\n",
            "(44130, 2) (44130, 2)\n",
            "0.21276826948764369\n",
            "0.1412879270670639\n",
            "17.127523270125195\n",
            "16.279897165076957\n",
            "(44130, 2) (44130, 2)\n",
            "0.21578306552301132\n",
            "0.14715958202170018\n",
            "17.006549313854315\n",
            "15.971226670237446\n",
            "(44130, 2) (44130, 2)\n",
            "0.21829672586634402\n",
            "0.14734800425957617\n",
            "16.742045323541134\n",
            "16.313229016586025\n",
            "(44130, 2) (44130, 2)\n",
            "0.21544128917975147\n",
            "0.14493229780863226\n",
            "17.170707923632932\n",
            "16.12495257921139\n",
            "(44130, 2) (44130, 2)\n",
            "0.2195414003772076\n",
            "0.14973988716929285\n",
            "16.949080592448357\n",
            "16.109059291784053\n",
            "(44130, 2) (44130, 2)\n",
            "0.2071759176868616\n",
            "0.14981170349233144\n",
            "17.29608776222599\n",
            "16.122809114475334\n",
            "(44130, 2) (44130, 2)\n",
            "0.21194963601480074\n",
            "0.1435199463511424\n",
            "16.987747410533025\n",
            "16.224641162305996\n",
            "(44130, 2) (44130, 2)\n",
            "0.22081202290621327\n",
            "0.15120263927121252\n",
            "16.80169408463336\n",
            "16.05649340704538\n",
            "(44130, 2) (44130, 2)\n",
            "0.22230506836964892\n",
            "0.14253441362653121\n",
            "16.72572448948069\n",
            "15.487920605000031\n",
            "(44130, 2) (44130, 2)\n",
            "0.22052711297799404\n",
            "0.1424704422203049\n",
            "17.097951547665772\n",
            "15.94872139423764\n",
            "(44130, 2) (44130, 2)\n",
            "0.21478706500996175\n",
            "0.14561049136936086\n",
            "16.979762067921772\n",
            "16.330486260838445\n"
          ]
        }
      ]
    },
    {
      "cell_type": "code",
      "source": [
        "print(bootstrap_results)\n",
        "\n",
        "# Assuming bootstrap_results is your list of dicts\n",
        "df_results = pd.DataFrame(bootstrap_results)\n",
        "\n",
        "df_results['Dataset'] = 'exchange'\n",
        "df_results['Model'] = 'TimeVAE'\n",
        "\n",
        "df_results"
      ],
      "metadata": {
        "colab": {
          "base_uri": "https://localhost:8080/",
          "height": 557
        },
        "id": "7zYaN_finjp5",
        "outputId": "3275afc5-14bf-489a-b754-6e97e50e2a25"
      },
      "execution_count": 29,
      "outputs": [
        {
          "output_type": "stream",
          "name": "stdout",
          "text": [
            "[{'bootstrap': 0, 'wasserstein': 0.18125853815274054, 'kl': 16.454502254591844, 'rmse': 0.23948624274535438, 'mae': 0.19181044399738312}, {'bootstrap': 1, 'wasserstein': 0.1815637444733767, 'kl': 16.431879472569364, 'rmse': 0.24013693314240617, 'mae': 0.1910630464553833}, {'bootstrap': 2, 'wasserstein': 0.18165986982452687, 'kl': 16.454456964070513, 'rmse': 0.2410412086992411, 'mae': 0.19348469376564026}, {'bootstrap': 3, 'wasserstein': 0.17379822045361637, 'kl': 16.7343963584245, 'rmse': 0.23078483791829438, 'mae': 0.1844160258769989}, {'bootstrap': 4, 'wasserstein': 0.17702809827735377, 'kl': 16.703710217601078, 'rmse': 0.2362568803067926, 'mae': 0.18900267779827118}, {'bootstrap': 5, 'wasserstein': 0.18147132377235575, 'kl': 16.488887992045882, 'rmse': 0.2425638320569777, 'mae': 0.19411256909370422}, {'bootstrap': 6, 'wasserstein': 0.1828223650629601, 'kl': 16.527637170063578, 'rmse': 0.2435247587951548, 'mae': 0.19343525171279907}, {'bootstrap': 7, 'wasserstein': 0.18018679349419187, 'kl': 16.64783025142216, 'rmse': 0.24179432856831976, 'mae': 0.19415892660617828}, {'bootstrap': 8, 'wasserstein': 0.18464064377325023, 'kl': 16.529069942116205, 'rmse': 0.2415487726710603, 'mae': 0.194013774394989}, {'bootstrap': 9, 'wasserstein': 0.1784938105895965, 'kl': 16.709448438350663, 'rmse': 0.23499988857733337, 'mae': 0.1886654794216156}, {'bootstrap': 10, 'wasserstein': 0.17773479118297159, 'kl': 16.60619428641951, 'rmse': 0.23738156552950018, 'mae': 0.18795515596866608}, {'bootstrap': 11, 'wasserstein': 0.1860073310887129, 'kl': 16.42909374583937, 'rmse': 0.2432576194855773, 'mae': 0.1959117352962494}, {'bootstrap': 12, 'wasserstein': 0.18241974099809005, 'kl': 16.106822547240363, 'rmse': 0.2453530153602908, 'mae': 0.194541335105896}, {'bootstrap': 13, 'wasserstein': 0.18149877759914945, 'kl': 16.523336470951705, 'rmse': 0.2436749709636827, 'mae': 0.1946624219417572}, {'bootstrap': 14, 'wasserstein': 0.1801987781896613, 'kl': 16.65512416438011, 'rmse': 0.24017016785597947, 'mae': 0.1922822892665863}]\n"
          ]
        },
        {
          "output_type": "execute_result",
          "data": {
            "text/plain": [
              "    bootstrap  wasserstein         kl      rmse       mae   Dataset    Model\n",
              "0           0     0.181259  16.454502  0.239486  0.191810  exchange  TimeVAE\n",
              "1           1     0.181564  16.431879  0.240137  0.191063  exchange  TimeVAE\n",
              "2           2     0.181660  16.454457  0.241041  0.193485  exchange  TimeVAE\n",
              "3           3     0.173798  16.734396  0.230785  0.184416  exchange  TimeVAE\n",
              "4           4     0.177028  16.703710  0.236257  0.189003  exchange  TimeVAE\n",
              "5           5     0.181471  16.488888  0.242564  0.194113  exchange  TimeVAE\n",
              "6           6     0.182822  16.527637  0.243525  0.193435  exchange  TimeVAE\n",
              "7           7     0.180187  16.647830  0.241794  0.194159  exchange  TimeVAE\n",
              "8           8     0.184641  16.529070  0.241549  0.194014  exchange  TimeVAE\n",
              "9           9     0.178494  16.709448  0.235000  0.188665  exchange  TimeVAE\n",
              "10         10     0.177735  16.606194  0.237382  0.187955  exchange  TimeVAE\n",
              "11         11     0.186007  16.429094  0.243258  0.195912  exchange  TimeVAE\n",
              "12         12     0.182420  16.106823  0.245353  0.194541  exchange  TimeVAE\n",
              "13         13     0.181499  16.523336  0.243675  0.194662  exchange  TimeVAE\n",
              "14         14     0.180199  16.655124  0.240170  0.192282  exchange  TimeVAE"
            ],
            "text/html": [
              "\n",
              "  <div id=\"df-6fa68c15-eaaa-4e27-9b0e-8697d6e3cc4e\" class=\"colab-df-container\">\n",
              "    <div>\n",
              "<style scoped>\n",
              "    .dataframe tbody tr th:only-of-type {\n",
              "        vertical-align: middle;\n",
              "    }\n",
              "\n",
              "    .dataframe tbody tr th {\n",
              "        vertical-align: top;\n",
              "    }\n",
              "\n",
              "    .dataframe thead th {\n",
              "        text-align: right;\n",
              "    }\n",
              "</style>\n",
              "<table border=\"1\" class=\"dataframe\">\n",
              "  <thead>\n",
              "    <tr style=\"text-align: right;\">\n",
              "      <th></th>\n",
              "      <th>bootstrap</th>\n",
              "      <th>wasserstein</th>\n",
              "      <th>kl</th>\n",
              "      <th>rmse</th>\n",
              "      <th>mae</th>\n",
              "      <th>Dataset</th>\n",
              "      <th>Model</th>\n",
              "    </tr>\n",
              "  </thead>\n",
              "  <tbody>\n",
              "    <tr>\n",
              "      <th>0</th>\n",
              "      <td>0</td>\n",
              "      <td>0.181259</td>\n",
              "      <td>16.454502</td>\n",
              "      <td>0.239486</td>\n",
              "      <td>0.191810</td>\n",
              "      <td>exchange</td>\n",
              "      <td>TimeVAE</td>\n",
              "    </tr>\n",
              "    <tr>\n",
              "      <th>1</th>\n",
              "      <td>1</td>\n",
              "      <td>0.181564</td>\n",
              "      <td>16.431879</td>\n",
              "      <td>0.240137</td>\n",
              "      <td>0.191063</td>\n",
              "      <td>exchange</td>\n",
              "      <td>TimeVAE</td>\n",
              "    </tr>\n",
              "    <tr>\n",
              "      <th>2</th>\n",
              "      <td>2</td>\n",
              "      <td>0.181660</td>\n",
              "      <td>16.454457</td>\n",
              "      <td>0.241041</td>\n",
              "      <td>0.193485</td>\n",
              "      <td>exchange</td>\n",
              "      <td>TimeVAE</td>\n",
              "    </tr>\n",
              "    <tr>\n",
              "      <th>3</th>\n",
              "      <td>3</td>\n",
              "      <td>0.173798</td>\n",
              "      <td>16.734396</td>\n",
              "      <td>0.230785</td>\n",
              "      <td>0.184416</td>\n",
              "      <td>exchange</td>\n",
              "      <td>TimeVAE</td>\n",
              "    </tr>\n",
              "    <tr>\n",
              "      <th>4</th>\n",
              "      <td>4</td>\n",
              "      <td>0.177028</td>\n",
              "      <td>16.703710</td>\n",
              "      <td>0.236257</td>\n",
              "      <td>0.189003</td>\n",
              "      <td>exchange</td>\n",
              "      <td>TimeVAE</td>\n",
              "    </tr>\n",
              "    <tr>\n",
              "      <th>5</th>\n",
              "      <td>5</td>\n",
              "      <td>0.181471</td>\n",
              "      <td>16.488888</td>\n",
              "      <td>0.242564</td>\n",
              "      <td>0.194113</td>\n",
              "      <td>exchange</td>\n",
              "      <td>TimeVAE</td>\n",
              "    </tr>\n",
              "    <tr>\n",
              "      <th>6</th>\n",
              "      <td>6</td>\n",
              "      <td>0.182822</td>\n",
              "      <td>16.527637</td>\n",
              "      <td>0.243525</td>\n",
              "      <td>0.193435</td>\n",
              "      <td>exchange</td>\n",
              "      <td>TimeVAE</td>\n",
              "    </tr>\n",
              "    <tr>\n",
              "      <th>7</th>\n",
              "      <td>7</td>\n",
              "      <td>0.180187</td>\n",
              "      <td>16.647830</td>\n",
              "      <td>0.241794</td>\n",
              "      <td>0.194159</td>\n",
              "      <td>exchange</td>\n",
              "      <td>TimeVAE</td>\n",
              "    </tr>\n",
              "    <tr>\n",
              "      <th>8</th>\n",
              "      <td>8</td>\n",
              "      <td>0.184641</td>\n",
              "      <td>16.529070</td>\n",
              "      <td>0.241549</td>\n",
              "      <td>0.194014</td>\n",
              "      <td>exchange</td>\n",
              "      <td>TimeVAE</td>\n",
              "    </tr>\n",
              "    <tr>\n",
              "      <th>9</th>\n",
              "      <td>9</td>\n",
              "      <td>0.178494</td>\n",
              "      <td>16.709448</td>\n",
              "      <td>0.235000</td>\n",
              "      <td>0.188665</td>\n",
              "      <td>exchange</td>\n",
              "      <td>TimeVAE</td>\n",
              "    </tr>\n",
              "    <tr>\n",
              "      <th>10</th>\n",
              "      <td>10</td>\n",
              "      <td>0.177735</td>\n",
              "      <td>16.606194</td>\n",
              "      <td>0.237382</td>\n",
              "      <td>0.187955</td>\n",
              "      <td>exchange</td>\n",
              "      <td>TimeVAE</td>\n",
              "    </tr>\n",
              "    <tr>\n",
              "      <th>11</th>\n",
              "      <td>11</td>\n",
              "      <td>0.186007</td>\n",
              "      <td>16.429094</td>\n",
              "      <td>0.243258</td>\n",
              "      <td>0.195912</td>\n",
              "      <td>exchange</td>\n",
              "      <td>TimeVAE</td>\n",
              "    </tr>\n",
              "    <tr>\n",
              "      <th>12</th>\n",
              "      <td>12</td>\n",
              "      <td>0.182420</td>\n",
              "      <td>16.106823</td>\n",
              "      <td>0.245353</td>\n",
              "      <td>0.194541</td>\n",
              "      <td>exchange</td>\n",
              "      <td>TimeVAE</td>\n",
              "    </tr>\n",
              "    <tr>\n",
              "      <th>13</th>\n",
              "      <td>13</td>\n",
              "      <td>0.181499</td>\n",
              "      <td>16.523336</td>\n",
              "      <td>0.243675</td>\n",
              "      <td>0.194662</td>\n",
              "      <td>exchange</td>\n",
              "      <td>TimeVAE</td>\n",
              "    </tr>\n",
              "    <tr>\n",
              "      <th>14</th>\n",
              "      <td>14</td>\n",
              "      <td>0.180199</td>\n",
              "      <td>16.655124</td>\n",
              "      <td>0.240170</td>\n",
              "      <td>0.192282</td>\n",
              "      <td>exchange</td>\n",
              "      <td>TimeVAE</td>\n",
              "    </tr>\n",
              "  </tbody>\n",
              "</table>\n",
              "</div>\n",
              "    <div class=\"colab-df-buttons\">\n",
              "\n",
              "  <div class=\"colab-df-container\">\n",
              "    <button class=\"colab-df-convert\" onclick=\"convertToInteractive('df-6fa68c15-eaaa-4e27-9b0e-8697d6e3cc4e')\"\n",
              "            title=\"Convert this dataframe to an interactive table.\"\n",
              "            style=\"display:none;\">\n",
              "\n",
              "  <svg xmlns=\"http://www.w3.org/2000/svg\" height=\"24px\" viewBox=\"0 -960 960 960\">\n",
              "    <path d=\"M120-120v-720h720v720H120Zm60-500h600v-160H180v160Zm220 220h160v-160H400v160Zm0 220h160v-160H400v160ZM180-400h160v-160H180v160Zm440 0h160v-160H620v160ZM180-180h160v-160H180v160Zm440 0h160v-160H620v160Z\"/>\n",
              "  </svg>\n",
              "    </button>\n",
              "\n",
              "  <style>\n",
              "    .colab-df-container {\n",
              "      display:flex;\n",
              "      gap: 12px;\n",
              "    }\n",
              "\n",
              "    .colab-df-convert {\n",
              "      background-color: #E8F0FE;\n",
              "      border: none;\n",
              "      border-radius: 50%;\n",
              "      cursor: pointer;\n",
              "      display: none;\n",
              "      fill: #1967D2;\n",
              "      height: 32px;\n",
              "      padding: 0 0 0 0;\n",
              "      width: 32px;\n",
              "    }\n",
              "\n",
              "    .colab-df-convert:hover {\n",
              "      background-color: #E2EBFA;\n",
              "      box-shadow: 0px 1px 2px rgba(60, 64, 67, 0.3), 0px 1px 3px 1px rgba(60, 64, 67, 0.15);\n",
              "      fill: #174EA6;\n",
              "    }\n",
              "\n",
              "    .colab-df-buttons div {\n",
              "      margin-bottom: 4px;\n",
              "    }\n",
              "\n",
              "    [theme=dark] .colab-df-convert {\n",
              "      background-color: #3B4455;\n",
              "      fill: #D2E3FC;\n",
              "    }\n",
              "\n",
              "    [theme=dark] .colab-df-convert:hover {\n",
              "      background-color: #434B5C;\n",
              "      box-shadow: 0px 1px 3px 1px rgba(0, 0, 0, 0.15);\n",
              "      filter: drop-shadow(0px 1px 2px rgba(0, 0, 0, 0.3));\n",
              "      fill: #FFFFFF;\n",
              "    }\n",
              "  </style>\n",
              "\n",
              "    <script>\n",
              "      const buttonEl =\n",
              "        document.querySelector('#df-6fa68c15-eaaa-4e27-9b0e-8697d6e3cc4e button.colab-df-convert');\n",
              "      buttonEl.style.display =\n",
              "        google.colab.kernel.accessAllowed ? 'block' : 'none';\n",
              "\n",
              "      async function convertToInteractive(key) {\n",
              "        const element = document.querySelector('#df-6fa68c15-eaaa-4e27-9b0e-8697d6e3cc4e');\n",
              "        const dataTable =\n",
              "          await google.colab.kernel.invokeFunction('convertToInteractive',\n",
              "                                                    [key], {});\n",
              "        if (!dataTable) return;\n",
              "\n",
              "        const docLinkHtml = 'Like what you see? Visit the ' +\n",
              "          '<a target=\"_blank\" href=https://colab.research.google.com/notebooks/data_table.ipynb>data table notebook</a>'\n",
              "          + ' to learn more about interactive tables.';\n",
              "        element.innerHTML = '';\n",
              "        dataTable['output_type'] = 'display_data';\n",
              "        await google.colab.output.renderOutput(dataTable, element);\n",
              "        const docLink = document.createElement('div');\n",
              "        docLink.innerHTML = docLinkHtml;\n",
              "        element.appendChild(docLink);\n",
              "      }\n",
              "    </script>\n",
              "  </div>\n",
              "\n",
              "\n",
              "    <div id=\"df-ab102b4d-0c53-4449-92bc-d3e8a247736d\">\n",
              "      <button class=\"colab-df-quickchart\" onclick=\"quickchart('df-ab102b4d-0c53-4449-92bc-d3e8a247736d')\"\n",
              "                title=\"Suggest charts\"\n",
              "                style=\"display:none;\">\n",
              "\n",
              "<svg xmlns=\"http://www.w3.org/2000/svg\" height=\"24px\"viewBox=\"0 0 24 24\"\n",
              "     width=\"24px\">\n",
              "    <g>\n",
              "        <path d=\"M19 3H5c-1.1 0-2 .9-2 2v14c0 1.1.9 2 2 2h14c1.1 0 2-.9 2-2V5c0-1.1-.9-2-2-2zM9 17H7v-7h2v7zm4 0h-2V7h2v10zm4 0h-2v-4h2v4z\"/>\n",
              "    </g>\n",
              "</svg>\n",
              "      </button>\n",
              "\n",
              "<style>\n",
              "  .colab-df-quickchart {\n",
              "      --bg-color: #E8F0FE;\n",
              "      --fill-color: #1967D2;\n",
              "      --hover-bg-color: #E2EBFA;\n",
              "      --hover-fill-color: #174EA6;\n",
              "      --disabled-fill-color: #AAA;\n",
              "      --disabled-bg-color: #DDD;\n",
              "  }\n",
              "\n",
              "  [theme=dark] .colab-df-quickchart {\n",
              "      --bg-color: #3B4455;\n",
              "      --fill-color: #D2E3FC;\n",
              "      --hover-bg-color: #434B5C;\n",
              "      --hover-fill-color: #FFFFFF;\n",
              "      --disabled-bg-color: #3B4455;\n",
              "      --disabled-fill-color: #666;\n",
              "  }\n",
              "\n",
              "  .colab-df-quickchart {\n",
              "    background-color: var(--bg-color);\n",
              "    border: none;\n",
              "    border-radius: 50%;\n",
              "    cursor: pointer;\n",
              "    display: none;\n",
              "    fill: var(--fill-color);\n",
              "    height: 32px;\n",
              "    padding: 0;\n",
              "    width: 32px;\n",
              "  }\n",
              "\n",
              "  .colab-df-quickchart:hover {\n",
              "    background-color: var(--hover-bg-color);\n",
              "    box-shadow: 0 1px 2px rgba(60, 64, 67, 0.3), 0 1px 3px 1px rgba(60, 64, 67, 0.15);\n",
              "    fill: var(--button-hover-fill-color);\n",
              "  }\n",
              "\n",
              "  .colab-df-quickchart-complete:disabled,\n",
              "  .colab-df-quickchart-complete:disabled:hover {\n",
              "    background-color: var(--disabled-bg-color);\n",
              "    fill: var(--disabled-fill-color);\n",
              "    box-shadow: none;\n",
              "  }\n",
              "\n",
              "  .colab-df-spinner {\n",
              "    border: 2px solid var(--fill-color);\n",
              "    border-color: transparent;\n",
              "    border-bottom-color: var(--fill-color);\n",
              "    animation:\n",
              "      spin 1s steps(1) infinite;\n",
              "  }\n",
              "\n",
              "  @keyframes spin {\n",
              "    0% {\n",
              "      border-color: transparent;\n",
              "      border-bottom-color: var(--fill-color);\n",
              "      border-left-color: var(--fill-color);\n",
              "    }\n",
              "    20% {\n",
              "      border-color: transparent;\n",
              "      border-left-color: var(--fill-color);\n",
              "      border-top-color: var(--fill-color);\n",
              "    }\n",
              "    30% {\n",
              "      border-color: transparent;\n",
              "      border-left-color: var(--fill-color);\n",
              "      border-top-color: var(--fill-color);\n",
              "      border-right-color: var(--fill-color);\n",
              "    }\n",
              "    40% {\n",
              "      border-color: transparent;\n",
              "      border-right-color: var(--fill-color);\n",
              "      border-top-color: var(--fill-color);\n",
              "    }\n",
              "    60% {\n",
              "      border-color: transparent;\n",
              "      border-right-color: var(--fill-color);\n",
              "    }\n",
              "    80% {\n",
              "      border-color: transparent;\n",
              "      border-right-color: var(--fill-color);\n",
              "      border-bottom-color: var(--fill-color);\n",
              "    }\n",
              "    90% {\n",
              "      border-color: transparent;\n",
              "      border-bottom-color: var(--fill-color);\n",
              "    }\n",
              "  }\n",
              "</style>\n",
              "\n",
              "      <script>\n",
              "        async function quickchart(key) {\n",
              "          const quickchartButtonEl =\n",
              "            document.querySelector('#' + key + ' button');\n",
              "          quickchartButtonEl.disabled = true;  // To prevent multiple clicks.\n",
              "          quickchartButtonEl.classList.add('colab-df-spinner');\n",
              "          try {\n",
              "            const charts = await google.colab.kernel.invokeFunction(\n",
              "                'suggestCharts', [key], {});\n",
              "          } catch (error) {\n",
              "            console.error('Error during call to suggestCharts:', error);\n",
              "          }\n",
              "          quickchartButtonEl.classList.remove('colab-df-spinner');\n",
              "          quickchartButtonEl.classList.add('colab-df-quickchart-complete');\n",
              "        }\n",
              "        (() => {\n",
              "          let quickchartButtonEl =\n",
              "            document.querySelector('#df-ab102b4d-0c53-4449-92bc-d3e8a247736d button');\n",
              "          quickchartButtonEl.style.display =\n",
              "            google.colab.kernel.accessAllowed ? 'block' : 'none';\n",
              "        })();\n",
              "      </script>\n",
              "    </div>\n",
              "\n",
              "  <div id=\"id_4b1b73d3-91de-4bac-90f2-59dd498cb9d6\">\n",
              "    <style>\n",
              "      .colab-df-generate {\n",
              "        background-color: #E8F0FE;\n",
              "        border: none;\n",
              "        border-radius: 50%;\n",
              "        cursor: pointer;\n",
              "        display: none;\n",
              "        fill: #1967D2;\n",
              "        height: 32px;\n",
              "        padding: 0 0 0 0;\n",
              "        width: 32px;\n",
              "      }\n",
              "\n",
              "      .colab-df-generate:hover {\n",
              "        background-color: #E2EBFA;\n",
              "        box-shadow: 0px 1px 2px rgba(60, 64, 67, 0.3), 0px 1px 3px 1px rgba(60, 64, 67, 0.15);\n",
              "        fill: #174EA6;\n",
              "      }\n",
              "\n",
              "      [theme=dark] .colab-df-generate {\n",
              "        background-color: #3B4455;\n",
              "        fill: #D2E3FC;\n",
              "      }\n",
              "\n",
              "      [theme=dark] .colab-df-generate:hover {\n",
              "        background-color: #434B5C;\n",
              "        box-shadow: 0px 1px 3px 1px rgba(0, 0, 0, 0.15);\n",
              "        filter: drop-shadow(0px 1px 2px rgba(0, 0, 0, 0.3));\n",
              "        fill: #FFFFFF;\n",
              "      }\n",
              "    </style>\n",
              "    <button class=\"colab-df-generate\" onclick=\"generateWithVariable('df_results')\"\n",
              "            title=\"Generate code using this dataframe.\"\n",
              "            style=\"display:none;\">\n",
              "\n",
              "  <svg xmlns=\"http://www.w3.org/2000/svg\" height=\"24px\"viewBox=\"0 0 24 24\"\n",
              "       width=\"24px\">\n",
              "    <path d=\"M7,19H8.4L18.45,9,17,7.55,7,17.6ZM5,21V16.75L18.45,3.32a2,2,0,0,1,2.83,0l1.4,1.43a1.91,1.91,0,0,1,.58,1.4,1.91,1.91,0,0,1-.58,1.4L9.25,21ZM18.45,9,17,7.55Zm-12,3A5.31,5.31,0,0,0,4.9,8.1,5.31,5.31,0,0,0,1,6.5,5.31,5.31,0,0,0,4.9,4.9,5.31,5.31,0,0,0,6.5,1,5.31,5.31,0,0,0,8.1,4.9,5.31,5.31,0,0,0,12,6.5,5.46,5.46,0,0,0,6.5,12Z\"/>\n",
              "  </svg>\n",
              "    </button>\n",
              "    <script>\n",
              "      (() => {\n",
              "      const buttonEl =\n",
              "        document.querySelector('#id_4b1b73d3-91de-4bac-90f2-59dd498cb9d6 button.colab-df-generate');\n",
              "      buttonEl.style.display =\n",
              "        google.colab.kernel.accessAllowed ? 'block' : 'none';\n",
              "\n",
              "      buttonEl.onclick = () => {\n",
              "        google.colab.notebook.generateWithVariable('df_results');\n",
              "      }\n",
              "      })();\n",
              "    </script>\n",
              "  </div>\n",
              "\n",
              "    </div>\n",
              "  </div>\n"
            ],
            "application/vnd.google.colaboratory.intrinsic+json": {
              "type": "dataframe",
              "variable_name": "df_results",
              "summary": "{\n  \"name\": \"df_results\",\n  \"rows\": 15,\n  \"fields\": [\n    {\n      \"column\": \"bootstrap\",\n      \"properties\": {\n        \"dtype\": \"number\",\n        \"std\": 4,\n        \"min\": 0,\n        \"max\": 14,\n        \"num_unique_values\": 15,\n        \"samples\": [\n          9,\n          11,\n          0\n        ],\n        \"semantic_type\": \"\",\n        \"description\": \"\"\n      }\n    },\n    {\n      \"column\": \"wasserstein\",\n      \"properties\": {\n        \"dtype\": \"number\",\n        \"std\": 0.0030432262528591845,\n        \"min\": 0.17379822045361637,\n        \"max\": 0.1860073310887129,\n        \"num_unique_values\": 15,\n        \"samples\": [\n          0.1784938105895965,\n          0.1860073310887129,\n          0.18125853815274054\n        ],\n        \"semantic_type\": \"\",\n        \"description\": \"\"\n      }\n    },\n    {\n      \"column\": \"kl\",\n      \"properties\": {\n        \"dtype\": \"number\",\n        \"std\": 0.1584194338858855,\n        \"min\": 16.106822547240363,\n        \"max\": 16.7343963584245,\n        \"num_unique_values\": 15,\n        \"samples\": [\n          16.709448438350663,\n          16.42909374583937,\n          16.454502254591844\n        ],\n        \"semantic_type\": \"\",\n        \"description\": \"\"\n      }\n    },\n    {\n      \"column\": \"rmse\",\n      \"properties\": {\n        \"dtype\": \"number\",\n        \"std\": 0.003866623976751496,\n        \"min\": 0.23078483791829438,\n        \"max\": 0.2453530153602908,\n        \"num_unique_values\": 15,\n        \"samples\": [\n          0.23499988857733337,\n          0.2432576194855773,\n          0.23948624274535438\n        ],\n        \"semantic_type\": \"\",\n        \"description\": \"\"\n      }\n    },\n    {\n      \"column\": \"mae\",\n      \"properties\": {\n        \"dtype\": \"number\",\n        \"std\": 0.003176366718069013,\n        \"min\": 0.1844160258769989,\n        \"max\": 0.1959117352962494,\n        \"num_unique_values\": 15,\n        \"samples\": [\n          0.1886654794216156,\n          0.1959117352962494,\n          0.19181044399738312\n        ],\n        \"semantic_type\": \"\",\n        \"description\": \"\"\n      }\n    },\n    {\n      \"column\": \"Dataset\",\n      \"properties\": {\n        \"dtype\": \"category\",\n        \"num_unique_values\": 1,\n        \"samples\": [\n          \"exchange\"\n        ],\n        \"semantic_type\": \"\",\n        \"description\": \"\"\n      }\n    },\n    {\n      \"column\": \"Model\",\n      \"properties\": {\n        \"dtype\": \"category\",\n        \"num_unique_values\": 1,\n        \"samples\": [\n          \"TimeVAE\"\n        ],\n        \"semantic_type\": \"\",\n        \"description\": \"\"\n      }\n    }\n  ]\n}"
            }
          },
          "metadata": {},
          "execution_count": 29
        }
      ]
    },
    {
      "cell_type": "code",
      "source": [
        "summary_row = {\n",
        "    'Dataset': 'exchange',\n",
        "    'Model': 'TimeVAE',\n",
        "    'Wasserstein': df_results['wasserstein'].mean(),\n",
        "    'KL': df_results['kl'].mean(),\n",
        "    'RMSE': df_results['rmse'].mean(),\n",
        "    'MAE': df_results['mae'].mean()\n",
        "}\n",
        "\n",
        "df_summary = pd.DataFrame([summary_row])\n",
        "print(df_summary)"
      ],
      "metadata": {
        "colab": {
          "base_uri": "https://localhost:8080/"
        },
        "id": "OwehLjFkqLYs",
        "outputId": "9e1db8bb-0c76-4487-eb37-cae70ce42436"
      },
      "execution_count": 30,
      "outputs": [
        {
          "output_type": "stream",
          "name": "stdout",
          "text": [
            "    Dataset    Model  Wasserstein         KL      RMSE       MAE\n",
            "0  exchange  TimeVAE     0.180719  16.533493  0.240132  0.191968\n"
          ]
        }
      ]
    }
  ]
}