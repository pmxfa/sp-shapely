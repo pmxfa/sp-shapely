{
  "nbformat": 4,
  "nbformat_minor": 0,
  "metadata": {
    "colab": {
      "provenance": [],
      "authorship_tag": "ABX9TyM3Td2Q2CFkq1YD/QQYjvGU",
      "include_colab_link": true
    },
    "kernelspec": {
      "name": "python3",
      "display_name": "Python 3"
    },
    "language_info": {
      "name": "python"
    }
  },
  "cells": [
    {
      "cell_type": "markdown",
      "metadata": {
        "id": "view-in-github",
        "colab_type": "text"
      },
      "source": [
        "<a href=\"https://colab.research.google.com/github/pmxfa/sp-shapely/blob/main/sp_timevae_weather.ipynb\" target=\"_parent\"><img src=\"https://colab.research.google.com/assets/colab-badge.svg\" alt=\"Open In Colab\"/></a>"
      ]
    },
    {
      "cell_type": "code",
      "execution_count": null,
      "metadata": {
        "id": "oaMLghK_ipz1",
        "collapsed": true
      },
      "outputs": [],
      "source": [
        "!pip install synthcity"
      ]
    },
    {
      "cell_type": "markdown",
      "source": [
        "# Training"
      ],
      "metadata": {
        "id": "NcwQ6Yo09JC8"
      }
    },
    {
      "cell_type": "code",
      "source": [
        "from google.colab import drive\n",
        "drive.mount('/content/drive')\n",
        "\n",
        "import sys\n",
        "import warnings\n",
        "import pandas as pd\n",
        "import numpy as np\n",
        "from sklearn.preprocessing import MinMaxScaler\n",
        "\n",
        "import synthcity.logger as log\n",
        "from synthcity.plugins import Plugins\n",
        "from synthcity.plugins.core.dataloader import TimeSeriesDataLoader\n",
        "from synthcity.utils.serialization import save_to_file, load_from_file\n",
        "\n",
        "log.add(sink=sys.stderr, level=\"INFO\")"
      ],
      "metadata": {
        "id": "kfDi7FQF9LIv",
        "colab": {
          "base_uri": "https://localhost:8080/"
        },
        "outputId": "74ee9aca-a863-458f-9e7d-56a303a99c1d",
        "collapsed": true
      },
      "execution_count": 2,
      "outputs": [
        {
          "output_type": "stream",
          "name": "stdout",
          "text": [
            "Mounted at /content/drive\n",
            "[KeOps] Warning : CUDA libraries not found or could not be loaded; Switching to CPU only.\n"
          ]
        }
      ]
    },
    {
      "cell_type": "code",
      "source": [
        "# Define file path\n",
        "file_path = \"/content/drive/Shareddrives/sp_env/datasets/Weather/weather.csv\"\n",
        "\n",
        "df = pd.read_csv(file_path)\n",
        "print(df.head())\n",
        "print(df.info())\n",
        "print(df.isnull().sum())"
      ],
      "metadata": {
        "id": "DCLsmN-F9NGv",
        "colab": {
          "base_uri": "https://localhost:8080/"
        },
        "outputId": "70d30db1-fcf5-4725-a5a4-f31951546782"
      },
      "execution_count": 3,
      "outputs": [
        {
          "output_type": "stream",
          "name": "stdout",
          "text": [
            "                  date  p (mbar)  T (degC)  Tpot (K)  Tdew (degC)  rh (%)  \\\n",
            "0  2020-01-01 00:10:00   1008.89      0.71    273.18        -1.33    86.1   \n",
            "1  2020-01-01 00:20:00   1008.76      0.75    273.22        -1.44    85.2   \n",
            "2  2020-01-01 00:30:00   1008.66      0.73    273.21        -1.48    85.1   \n",
            "3  2020-01-01 00:40:00   1008.64      0.37    272.86        -1.64    86.3   \n",
            "4  2020-01-01 00:50:00   1008.61      0.33    272.82        -1.50    87.4   \n",
            "\n",
            "   VPmax (mbar)  VPact (mbar)  VPdef (mbar)  sh (g/kg)  ...  wv (m/s)  \\\n",
            "0          6.43          5.54          0.89       3.42  ...      1.02   \n",
            "1          6.45          5.49          0.95       3.39  ...      0.43   \n",
            "2          6.44          5.48          0.96       3.39  ...      0.61   \n",
            "3          6.27          5.41          0.86       3.35  ...      1.11   \n",
            "4          6.26          5.47          0.79       3.38  ...      0.49   \n",
            "\n",
            "   max. wv (m/s)  wd (deg)  rain (mm)  raining (s)  SWDR (W/m�)  \\\n",
            "0           1.60     224.3        0.0          0.0          0.0   \n",
            "1           0.84     206.8        0.0          0.0          0.0   \n",
            "2           1.48     197.1        0.0          0.0          0.0   \n",
            "3           1.48     206.4        0.0          0.0          0.0   \n",
            "4           1.40     209.6        0.0          0.0          0.0   \n",
            "\n",
            "   PAR (�mol/m�/s)  max. PAR (�mol/m�/s)  Tlog (degC)     OT  \n",
            "0              0.0                   0.0        11.45  428.1  \n",
            "1              0.0                   0.0        11.51  428.0  \n",
            "2              0.0                   0.0        11.60  427.6  \n",
            "3              0.0                   0.0        11.70  430.0  \n",
            "4              0.0                   0.0        11.81  432.2  \n",
            "\n",
            "[5 rows x 22 columns]\n",
            "<class 'pandas.core.frame.DataFrame'>\n",
            "RangeIndex: 52696 entries, 0 to 52695\n",
            "Data columns (total 22 columns):\n",
            " #   Column                Non-Null Count  Dtype  \n",
            "---  ------                --------------  -----  \n",
            " 0   date                  52696 non-null  object \n",
            " 1   p (mbar)              52696 non-null  float64\n",
            " 2   T (degC)              52696 non-null  float64\n",
            " 3   Tpot (K)              52696 non-null  float64\n",
            " 4   Tdew (degC)           52696 non-null  float64\n",
            " 5   rh (%)                52696 non-null  float64\n",
            " 6   VPmax (mbar)          52696 non-null  float64\n",
            " 7   VPact (mbar)          52696 non-null  float64\n",
            " 8   VPdef (mbar)          52696 non-null  float64\n",
            " 9   sh (g/kg)             52696 non-null  float64\n",
            " 10  H2OC (mmol/mol)       52696 non-null  float64\n",
            " 11  rho (g/m**3)          52696 non-null  float64\n",
            " 12  wv (m/s)              52696 non-null  float64\n",
            " 13  max. wv (m/s)         52696 non-null  float64\n",
            " 14  wd (deg)              52696 non-null  float64\n",
            " 15  rain (mm)             52696 non-null  float64\n",
            " 16  raining (s)           52696 non-null  float64\n",
            " 17  SWDR (W/m�)           52696 non-null  float64\n",
            " 18  PAR (�mol/m�/s)       52696 non-null  float64\n",
            " 19  max. PAR (�mol/m�/s)  52696 non-null  float64\n",
            " 20  Tlog (degC)           52696 non-null  float64\n",
            " 21  OT                    52696 non-null  float64\n",
            "dtypes: float64(21), object(1)\n",
            "memory usage: 8.8+ MB\n",
            "None\n",
            "date                    0\n",
            "p (mbar)                0\n",
            "T (degC)                0\n",
            "Tpot (K)                0\n",
            "Tdew (degC)             0\n",
            "rh (%)                  0\n",
            "VPmax (mbar)            0\n",
            "VPact (mbar)            0\n",
            "VPdef (mbar)            0\n",
            "sh (g/kg)               0\n",
            "H2OC (mmol/mol)         0\n",
            "rho (g/m**3)            0\n",
            "wv (m/s)                0\n",
            "max. wv (m/s)           0\n",
            "wd (deg)                0\n",
            "rain (mm)               0\n",
            "raining (s)             0\n",
            "SWDR (W/m�)             0\n",
            "PAR (�mol/m�/s)         0\n",
            "max. PAR (�mol/m�/s)    0\n",
            "Tlog (degC)             0\n",
            "OT                      0\n",
            "dtype: int64\n"
          ]
        }
      ]
    },
    {
      "cell_type": "code",
      "source": [
        "# Set seed for reproducibility\n",
        "np.random.seed(42)\n",
        "\n",
        "# Convert 'date' to datetime and set as index (preserves chronological order)\n",
        "df['date'] = pd.to_datetime(df['date'])\n",
        "df.set_index('date', inplace=True)\n",
        "df.sort_index(inplace=True)\n",
        "\n",
        "# Exclude 'date' from feature selection (it's now the index anyway)\n",
        "columns = df.columns  # 'date' is no longer in df.columns\n",
        "selected_features = np.random.choice(columns, size=10, replace=False)\n",
        "\n",
        "print(f\"Selected features: {selected_features}\")\n",
        "\n",
        "# Keep only the selected features\n",
        "df = df[selected_features]"
      ],
      "metadata": {
        "colab": {
          "base_uri": "https://localhost:8080/"
        },
        "id": "m36lw5xogSIN",
        "outputId": "a8454e2e-0aa2-4e5e-fa7b-ece71a8015d9"
      },
      "execution_count": 4,
      "outputs": [
        {
          "output_type": "stream",
          "name": "stdout",
          "text": [
            "Selected features: ['p (mbar)' 'PAR (�mol/m�/s)' 'raining (s)' 'T (degC)' 'sh (g/kg)'\n",
            " 'VPmax (mbar)' 'wv (m/s)' 'Tdew (degC)' 'max. PAR (�mol/m�/s)'\n",
            " 'SWDR (W/m�)']\n"
          ]
        }
      ]
    },
    {
      "cell_type": "code",
      "source": [
        "print(df.head())"
      ],
      "metadata": {
        "colab": {
          "base_uri": "https://localhost:8080/"
        },
        "id": "9yoUqyz4oUx9",
        "outputId": "57b143b2-beaa-436c-9ad5-6a8caecf5965"
      },
      "execution_count": 5,
      "outputs": [
        {
          "output_type": "stream",
          "name": "stdout",
          "text": [
            "                     p (mbar)  PAR (�mol/m�/s)  raining (s)  T (degC)  \\\n",
            "date                                                                    \n",
            "2020-01-01 00:10:00   1008.89              0.0          0.0      0.71   \n",
            "2020-01-01 00:20:00   1008.76              0.0          0.0      0.75   \n",
            "2020-01-01 00:30:00   1008.66              0.0          0.0      0.73   \n",
            "2020-01-01 00:40:00   1008.64              0.0          0.0      0.37   \n",
            "2020-01-01 00:50:00   1008.61              0.0          0.0      0.33   \n",
            "\n",
            "                     sh (g/kg)  VPmax (mbar)  wv (m/s)  Tdew (degC)  \\\n",
            "date                                                                  \n",
            "2020-01-01 00:10:00       3.42          6.43      1.02        -1.33   \n",
            "2020-01-01 00:20:00       3.39          6.45      0.43        -1.44   \n",
            "2020-01-01 00:30:00       3.39          6.44      0.61        -1.48   \n",
            "2020-01-01 00:40:00       3.35          6.27      1.11        -1.64   \n",
            "2020-01-01 00:50:00       3.38          6.26      0.49        -1.50   \n",
            "\n",
            "                     max. PAR (�mol/m�/s)  SWDR (W/m�)  \n",
            "date                                                    \n",
            "2020-01-01 00:10:00                   0.0          0.0  \n",
            "2020-01-01 00:20:00                   0.0          0.0  \n",
            "2020-01-01 00:30:00                   0.0          0.0  \n",
            "2020-01-01 00:40:00                   0.0          0.0  \n",
            "2020-01-01 00:50:00                   0.0          0.0  \n"
          ]
        }
      ]
    },
    {
      "cell_type": "code",
      "source": [
        "# Keep the latest 5000 rows\n",
        "df_latest = df.tail(5000)\n",
        "\n",
        "# Train-test split: 70% for training, 30% for testing (TSTR)\n",
        "train_size = int(0.7 * len(df_latest))\n",
        "df_train = df_latest.iloc[:train_size]\n",
        "df_test = df_latest.iloc[train_size:]  # use later for LSTM-TSTR\n",
        "\n",
        "# Normalize the data\n",
        "scaler = MinMaxScaler()\n",
        "scaled_train = scaler.fit_transform(df_train)\n",
        "df_scaled_train = pd.DataFrame(scaled_train, columns=df_train.columns, index=df_train.index)\n",
        "scaled_test = scaler.transform(df_test)\n",
        "df_scaled_test = pd.DataFrame(scaled_test, columns=df_test.columns, index=df_test.index)\n",
        "\n",
        "# Sequence length for time-series data (dataset = hourly; 24 hours)\n",
        "sequence_length = 36"
      ],
      "metadata": {
        "id": "siWRiBtn9O0V"
      },
      "execution_count": 8,
      "outputs": []
    },
    {
      "cell_type": "code",
      "source": [
        "temporal_data = []\n",
        "observation_times = []\n",
        "\n",
        "# Generate sequences from df_scaled_train only\n",
        "for start in range(len(df_scaled_train) - sequence_length + 1):\n",
        "    sequence = df_scaled_train.iloc[start:start + sequence_length].reset_index(drop=True)\n",
        "    temporal_data.append(sequence)\n",
        "    observation_times.append(list(range(sequence_length)))  # relative time within the window\n",
        "\n",
        "dummy_outcome = pd.DataFrame(np.zeros(len(temporal_data)), columns=[\"outcome\"])\n",
        "\n",
        "loader = TimeSeriesDataLoader(\n",
        "    temporal_data=temporal_data,\n",
        "    observation_times=observation_times,\n",
        "    static_data=None,\n",
        "    outcome=dummy_outcome,\n",
        ")\n",
        "\n",
        "# Print the loader info\n",
        "print(f\"TimeSeriesDataLoader created with {len(temporal_data)} sequences\")"
      ],
      "metadata": {
        "id": "B5386fi6LEk6"
      },
      "execution_count": null,
      "outputs": []
    },
    {
      "cell_type": "code",
      "source": [
        "temporal_data_test = []\n",
        "observation_times_test = []\n",
        "\n",
        "# Generate sequences from df_scaled_test only\n",
        "for start in range(len(df_scaled_test) - sequence_length + 1):\n",
        "    sequence = df_scaled_test.iloc[start:start + sequence_length].reset_index(drop=True)\n",
        "    temporal_data_test.append(sequence)\n",
        "    observation_times_test.append(list(range(sequence_length)))  # relative time within the window\n",
        "\n",
        "# Dummy outcome for TimeGAN (can be used in DataLoader)\n",
        "dummy_outcome = pd.DataFrame(np.zeros(len(temporal_data_test)), columns=[\"outcome\"])\n",
        "\n",
        "# Create DataLoader for TimeGAN\n",
        "loader_test = TimeSeriesDataLoader(\n",
        "    temporal_data=temporal_data_test,\n",
        "    observation_times=observation_times_test,\n",
        "    static_data=None,\n",
        "    outcome=dummy_outcome,\n",
        ")\n",
        "\n",
        "# Print the loader info\n",
        "print(f\"TimeSeriesDataLoader TEST SET created with {len(temporal_data_test)} sequences\")"
      ],
      "metadata": {
        "id": "VnZzWHaqLDWy",
        "outputId": "b1c833e5-24e9-48f5-c65e-0f4da8dce381",
        "colab": {
          "base_uri": "https://localhost:8080/"
        }
      },
      "execution_count": 9,
      "outputs": [
        {
          "output_type": "stream",
          "name": "stdout",
          "text": [
            "TimeSeriesDataLoader TEST SET created with 1465 sequences\n"
          ]
        }
      ]
    },
    {
      "cell_type": "code",
      "source": [
        "print(len(df_scaled_train))  # Check the length of the dataframe\n",
        "print(loader.dataframe())"
      ],
      "metadata": {
        "id": "FmZe08FM9Rd0",
        "colab": {
          "base_uri": "https://localhost:8080/"
        },
        "outputId": "60f46319-c5ab-4f59-98ea-21ff0af36814"
      },
      "execution_count": null,
      "outputs": [
        {
          "output_type": "stream",
          "name": "stdout",
          "text": [
            "3500\n",
            "        seq_id  seq_time_id  seq_temporal_PAR (�mol/m�/s)  \\\n",
            "0            0            0                      0.000000   \n",
            "1            0            1                      0.000000   \n",
            "2            0            2                      0.000000   \n",
            "3            0            3                      0.000000   \n",
            "4            0            4                      0.000000   \n",
            "...        ...          ...                           ...   \n",
            "124735    3464           31                      0.379520   \n",
            "124736    3464           32                      0.396154   \n",
            "124737    3464           33                      0.397787   \n",
            "124738    3464           34                      0.451815   \n",
            "124739    3464           35                      0.408922   \n",
            "\n",
            "        seq_temporal_SWDR (W/m�)  seq_temporal_T (degC)  \\\n",
            "0                       0.000000               0.114042   \n",
            "1                       0.000000               0.127230   \n",
            "2                       0.000000               0.148177   \n",
            "3                       0.000000               0.150504   \n",
            "4                       0.000000               0.149728   \n",
            "...                          ...                    ...   \n",
            "124735                  0.341668               0.576416   \n",
            "124736                  0.359281               0.577192   \n",
            "124737                  0.362148               0.577967   \n",
            "124738                  0.419480               0.589604   \n",
            "124739                  0.379857               0.605120   \n",
            "\n",
            "        seq_temporal_Tdew (degC)  seq_temporal_VPmax (mbar)  \\\n",
            "0                       0.391513                   0.077118   \n",
            "1                       0.397918                   0.087231   \n",
            "2                       0.403523                   0.102402   \n",
            "3                       0.403523                   0.103666   \n",
            "4                       0.409127                   0.103666   \n",
            "...                          ...                        ...   \n",
            "124735                  0.741393                   0.479140   \n",
            "124736                  0.742994                   0.479140   \n",
            "124737                  0.744596                   0.480405   \n",
            "124738                  0.751001                   0.493047   \n",
            "124739                  0.760608                   0.508217   \n",
            "\n",
            "        seq_temporal_max. PAR (�mol/m�/s)  seq_temporal_p (mbar)  \\\n",
            "0                                0.000000               0.837838   \n",
            "1                                0.000000               0.837838   \n",
            "2                                0.000000               0.840744   \n",
            "3                                0.000000               0.841325   \n",
            "4                                0.000000               0.839872   \n",
            "...                                   ...                    ...   \n",
            "124735                           0.332190               0.856437   \n",
            "124736                           0.339379               0.855856   \n",
            "124737                           0.349280               0.854693   \n",
            "124738                           0.385717               0.854403   \n",
            "124739                           0.357129               0.852950   \n",
            "\n",
            "        seq_temporal_raining (s)  seq_temporal_sh (g/kg)  \\\n",
            "0                            0.0                0.292105   \n",
            "1                            0.0                0.297368   \n",
            "2                            0.0                0.302632   \n",
            "3                            0.0                0.302632   \n",
            "4                            0.0                0.307895   \n",
            "...                          ...                     ...   \n",
            "124735                       0.0                0.655263   \n",
            "124736                       0.0                0.657895   \n",
            "124737                       0.0                0.657895   \n",
            "124738                       0.0                0.665789   \n",
            "124739                       0.0                0.676316   \n",
            "\n",
            "        seq_temporal_wv (m/s)  seq_out_outcome  \n",
            "0                    0.132780              0.0  \n",
            "1                    0.055325              0.0  \n",
            "2                    0.051176              0.0  \n",
            "3                    0.110650              0.0  \n",
            "4                    0.087137              0.0  \n",
            "...                       ...              ...  \n",
            "124735               0.412172              0.0  \n",
            "124736               0.420470              0.0  \n",
            "124737               0.388658              0.0  \n",
            "124738               0.271093              0.0  \n",
            "124739               0.312586              0.0  \n",
            "\n",
            "[124740 rows x 13 columns]\n"
          ]
        }
      ]
    },
    {
      "cell_type": "code",
      "source": [
        "syn_model = Plugins().get(\"timevae\")"
      ],
      "metadata": {
        "id": "oYqRdbxl9W74",
        "colab": {
          "base_uri": "https://localhost:8080/"
        },
        "outputId": "2d4d1f21-56aa-4b35-b797-ea7517433e53"
      },
      "execution_count": null,
      "outputs": [
        {
          "output_type": "stream",
          "name": "stderr",
          "text": [
            "[2025-05-01T08:18:03.503116+0000][1547][CRITICAL] module disabled: /usr/local/lib/python3.11/dist-packages/synthcity/plugins/generic/plugin_goggle.py\n",
            "[2025-05-01T08:18:03.503116+0000][1547][CRITICAL] module disabled: /usr/local/lib/python3.11/dist-packages/synthcity/plugins/generic/plugin_goggle.py\n"
          ]
        }
      ]
    },
    {
      "cell_type": "code",
      "source": [
        "# Print all parameters of initialized model\n",
        "for attr in dir(syn_model):\n",
        "    if not attr.startswith(\"_\") and not callable(getattr(syn_model, attr)):\n",
        "        print(f\"{attr}: {getattr(syn_model, attr)}\")"
      ],
      "metadata": {
        "id": "y9ZVw8pT9Y_Q",
        "colab": {
          "base_uri": "https://localhost:8080/"
        },
        "outputId": "be7dcb36-d265-4f2f-a9fe-826ba45409d3"
      },
      "execution_count": null,
      "outputs": [
        {
          "output_type": "stream",
          "name": "stdout",
          "text": [
            "batch_size: 64\n",
            "class_name: TimeVAEPlugin\n",
            "clipping_value: 0\n",
            "compress_dataset: False\n",
            "decoder_batch_norm: False\n",
            "decoder_dropout: 0.01\n",
            "decoder_n_layers_hidden: 2\n",
            "decoder_n_units_hidden: 150\n",
            "decoder_nonlin: leaky_relu\n",
            "decoder_nonlin_out_continuous: tanh\n",
            "decoder_nonlin_out_discrete: softmax\n",
            "decoder_residual: True\n",
            "device: cuda\n",
            "embedding_penalty: 10\n",
            "encoder: None\n",
            "encoder_batch_norm: False\n",
            "encoder_dropout: 0.1\n",
            "encoder_max_clusters: 20\n",
            "encoder_n_layers_hidden: 3\n",
            "encoder_n_units_hidden: 300\n",
            "encoder_nonlin: leaky_relu\n",
            "expecting_conditional: False\n",
            "fitted: False\n",
            "gamma_penalty: 1\n",
            "lr: 0.001\n",
            "mode: LSTM\n",
            "module_name: synthcity.plugins.time_series.plugin_timevae\n",
            "module_relative_path: ../time_series/plugin_timevae.py\n",
            "moments_penalty: 100\n",
            "n_iter: 1000\n",
            "n_iter_print: 10\n",
            "outcome_encoder: TabularEncoder(cat_encoder_params={'handle_unknown': 'ignore',\n",
            "                                   'sparse_output': False},\n",
            "               categorical_encoder='onehot',\n",
            "               cont_encoder_params={'n_components': 20},\n",
            "               continuous_encoder='bayesian_gmm', max_clusters=20)\n",
            "random_state: 0\n",
            "sampling_patience: 500\n",
            "sampling_strategy: marginal\n",
            "strict: True\n",
            "weight_decay: 0.001\n",
            "workspace: workspace\n"
          ]
        }
      ]
    },
    {
      "cell_type": "markdown",
      "source": [
        "## fitting the model"
      ],
      "metadata": {
        "id": "IKG0O5Pg9hpG"
      }
    },
    {
      "cell_type": "code",
      "source": [
        "print(loader.shape)\n",
        "# Train the model\n",
        "syn_model.fit(loader)"
      ],
      "metadata": {
        "id": "-BKXe4G19l_8",
        "colab": {
          "base_uri": "https://localhost:8080/"
        },
        "outputId": "63cc7ab0-127d-4a76-e2d7-8dad5700ed65"
      },
      "execution_count": null,
      "outputs": [
        {
          "output_type": "stream",
          "name": "stdout",
          "text": [
            "(124740, 13)\n"
          ]
        },
        {
          "output_type": "execute_result",
          "data": {
            "text/plain": [
              "<synthcity.plugins.time_series.plugin_timevae.TimeVAEPlugin at 0x7f29e3a87f50>"
            ]
          },
          "metadata": {},
          "execution_count": 16
        }
      ]
    },
    {
      "cell_type": "code",
      "source": [
        "save_to_file('/content/drive/Shareddrives/sp_env/saved_models/VAE_Weather.pkl', syn_model)"
      ],
      "metadata": {
        "id": "4_28A0BLm_0C"
      },
      "execution_count": null,
      "outputs": []
    },
    {
      "cell_type": "code",
      "source": [
        "# --- Generate Synthetic Data ---\n",
        "n_samples = len(temporal_data)\n",
        "syn_data = syn_model.generate(count=n_samples)\n",
        "print(syn_data.shape)"
      ],
      "metadata": {
        "id": "JviqEDru9nMO",
        "colab": {
          "base_uri": "https://localhost:8080/"
        },
        "outputId": "bbfc65fd-5fac-4df4-cfb5-0c8ec43c0513"
      },
      "execution_count": null,
      "outputs": [
        {
          "output_type": "stream",
          "name": "stdout",
          "text": [
            "(124740, 13)\n"
          ]
        }
      ]
    },
    {
      "cell_type": "code",
      "source": [
        "# --- Save with automated format ---\n",
        "import datetime\n",
        "import os\n",
        "# Get the current date and time\n",
        "now = datetime.datetime.now()\n",
        "timestamp = now.strftime(\"%m%d%y-%H%M%S\")  # MMDDYY-HHMMSS format\n",
        "\n",
        "# Define the base directory\n",
        "base_dir = \"/content/drive/Shareddrives/sp_env/synthetic_datasets/TimeVAE/weather\"  #CHANGE THIS\n",
        "if not os.path.exists(base_dir):\n",
        "    os.makedirs(base_dir)\n",
        "\n",
        "# Construct the filename\n",
        "model_name = type(syn_model).__name__.lower() # Get model name dynamically\n",
        "filename = f\"{timestamp}-{model_name}-n_3000.csv\"\n",
        "filepath = os.path.join(base_dir, filename)\n",
        "\n",
        "# Save the data\n",
        "df_syn = syn_data.dataframe()\n",
        "df_syn.to_csv(filepath, index=False)\n",
        "\n",
        "print(f\"Synthetic data saved to: {filepath}\")"
      ],
      "metadata": {
        "id": "J4rF0HY29o65",
        "colab": {
          "base_uri": "https://localhost:8080/"
        },
        "outputId": "598c59ca-8585-45a7-ccfb-7f621882951f"
      },
      "execution_count": null,
      "outputs": [
        {
          "output_type": "stream",
          "name": "stdout",
          "text": [
            "Synthetic data saved to: /content/drive/Shareddrives/sp_env/synthetic_datasets/TimeVAE/weather/050125-085757-timevaeplugin-n_3000.csv\n"
          ]
        }
      ]
    },
    {
      "cell_type": "markdown",
      "source": [
        "# Evaluation"
      ],
      "metadata": {
        "id": "TICnBaoH9r8Z"
      }
    },
    {
      "cell_type": "markdown",
      "source": [
        "## Prerequisites"
      ],
      "metadata": {
        "id": "QlHAzxfV9uXf"
      }
    },
    {
      "cell_type": "code",
      "source": [
        "syn_data = pd.read_csv('/content/drive/Shareddrives/sp_env/synthetic_datasets/TimeVAE/weather/050125-085757-timevaeplugin-n_3000.csv')"
      ],
      "metadata": {
        "id": "jNX8sYH7LODL"
      },
      "execution_count": 11,
      "outputs": []
    },
    {
      "cell_type": "code",
      "source": [
        "selected_columns = ['seq_temporal_PAR (�mol/m�/s)', 'seq_temporal_SWDR (W/m�)', 'seq_temporal_T (degC)',\t'seq_temporal_Tdew (degC)',\t'seq_temporal_VPmax (mbar)',\t'seq_temporal_max. PAR (�mol/m�/s)',\t'seq_temporal_p (mbar)',\t'seq_temporal_raining (s)',\t'seq_temporal_sh (g/kg)',\t'seq_temporal_wv (m/s)']\n",
        "# Ensure real_data and synthetic_data only contain the selected columns\n",
        "real_data = loader_test.dataframe()[selected_columns].to_numpy()\n",
        "synthetic_data = syn_data[selected_columns].to_numpy()"
      ],
      "metadata": {
        "id": "zUMHadsq9vw8"
      },
      "execution_count": 13,
      "outputs": []
    },
    {
      "cell_type": "code",
      "source": [
        "print(real_data, \"\\n ------------------------------------------------------- \\n\", synthetic_data)\n",
        "print(type(real_data),type(synthetic_data))\n",
        "print(real_data.shape,synthetic_data.shape)"
      ],
      "metadata": {
        "id": "DumXr_Gg9y6U",
        "colab": {
          "base_uri": "https://localhost:8080/"
        },
        "outputId": "58df08cb-12f5-4232-9a26-1015bc044719"
      },
      "execution_count": 14,
      "outputs": [
        {
          "output_type": "stream",
          "name": "stdout",
          "text": [
            "[[0.46769315 0.44037457 0.61830877 ... 0.         0.69210526 0.26002766]\n",
            " [0.48242026 0.46101414 0.64701319 ... 0.         0.70789474 0.23651452]\n",
            " [0.38726973 0.36198879 0.67416602 ... 0.         0.71315789 0.31258645]\n",
            " ...\n",
            " [0.         0.         0.28704422 ... 0.         0.28157895 0.03042877]\n",
            " [0.         0.         0.29325058 ... 0.         0.27894737 0.05670816]\n",
            " [0.         0.         0.28859581 ... 0.         0.28684211 0.05670816]] \n",
            " ------------------------------------------------------- \n",
            " [[0.55969194 0.16735992 0.63528333 ... 0.05576173 0.38321587 0.24738849]\n",
            " [0.0497281  0.18382783 0.19698515 ... 0.26311472 0.7505566  0.42824979]\n",
            " [0.180474   0.16735992 0.26041931 ... 0.51152689 0.49017772 0.38798876]\n",
            " ...\n",
            " [0.11980377 0.14982813 0.11016495 ... 0.03436267 0.03389352 0.04138451]\n",
            " [0.31936363 0.44767405 0.77762817 ... 0.05091336 0.5704801  0.5044388 ]\n",
            " [0.180474   0.44767405 0.4841849  ... 0.26311472 0.7505566  0.1886928 ]]\n",
            "<class 'numpy.ndarray'> <class 'numpy.ndarray'>\n",
            "(52740, 10) (124740, 10)\n"
          ]
        }
      ]
    },
    {
      "cell_type": "markdown",
      "source": [
        "## Generate distance metrics"
      ],
      "metadata": {
        "id": "0pU8BORS9vWk"
      }
    },
    {
      "cell_type": "markdown",
      "source": [
        "### Helper Functions"
      ],
      "metadata": {
        "id": "DVguOJWi-Fos"
      }
    },
    {
      "cell_type": "code",
      "source": [
        "from scipy.stats import wasserstein_distance, entropy\n",
        "import numpy as np\n",
        "\n",
        "def compute_wasserstein(real_data, synthetic_data, selected_columns):\n",
        "    \"\"\"\n",
        "    Computes Wasserstein Distance between real and synthetic time-series data.\n",
        "\n",
        "    \"\"\"\n",
        "\n",
        "    # Ensure both datasets have the same number of samples\n",
        "    min_length = min(len(real_data), len(synthetic_data))\n",
        "    real_trimmed = real_data[:min_length]  # Keep original order (no random sampling)\n",
        "    synthetic_trimmed = synthetic_data[:min_length]  # Match size\n",
        "    print(real_trimmed.shape,synthetic_trimmed.shape)\n",
        "\n",
        "    wasserstein_results = {}\n",
        "\n",
        "    # Compute Wasserstein Distance for each feature\n",
        "    for i, col in enumerate(selected_columns):\n",
        "        w_dist = wasserstein_distance(real_trimmed[:, i], synthetic_trimmed[:, i])\n",
        "        wasserstein_results[col] = w_dist\n",
        "        print(f\"{w_dist}\")\n",
        "\n",
        "    return wasserstein_results\n",
        "\n",
        "def compute_kl_divergence(real_data, synthetic_data, selected_columns, bins=50):\n",
        "    \"\"\"\n",
        "    Computes KL Divergence between real and synthetic time-series data.\n",
        "\n",
        "    \"\"\"\n",
        "\n",
        "    # Ensure both datasets have the same number of samples\n",
        "    min_length = min(len(real_data), len(synthetic_data))\n",
        "    real_trimmed = real_data[:min_length]  # Keep original order\n",
        "    synthetic_trimmed = synthetic_data[:min_length]  # Match size\n",
        "\n",
        "    kl_results = {}\n",
        "\n",
        "    for i, col in enumerate(selected_columns):\n",
        "        # Compute histogram-based probability distributions\n",
        "        real_hist, _ = np.histogram(real_trimmed[:, i], bins=bins, density=True)\n",
        "        synth_hist, _ = np.histogram(synthetic_trimmed[:, i], bins=bins, density=True)\n",
        "\n",
        "        # Avoid zero probabilities (KL Divergence is undefined for zero values)\n",
        "        real_hist += 1e-10\n",
        "        synth_hist += 1e-10\n",
        "\n",
        "        # Compute KL Divergence\n",
        "        kl_div = entropy(real_hist, synth_hist)\n",
        "        kl_results[col] = kl_div\n",
        "        print(f\"{kl_div}\")\n",
        "\n",
        "    return kl_results"
      ],
      "metadata": {
        "id": "GjGk3_Zx94Ko"
      },
      "execution_count": 15,
      "outputs": []
    },
    {
      "cell_type": "markdown",
      "source": [
        "### Generate Metrics"
      ],
      "metadata": {
        "id": "yLnb7Vqg-IG_"
      }
    },
    {
      "cell_type": "code",
      "source": [
        "# Compute Wasserstein Distance\n",
        "wasserstein_results = compute_wasserstein(real_data, synthetic_data, selected_columns)\n",
        "print(\"Wasserstein Distance Results:\")\n",
        "print(wasserstein_results)\n",
        "\n",
        "# Compute KL Divergence\n",
        "kl_results = compute_kl_divergence(real_data, synthetic_data, selected_columns)\n",
        "print(\"KL Divergence Results:\")\n",
        "print(kl_results)"
      ],
      "metadata": {
        "id": "olm0RYP89-SN",
        "colab": {
          "base_uri": "https://localhost:8080/"
        },
        "outputId": "3269d6e2-5032-4feb-ee64-f3c5d960d6b0"
      },
      "execution_count": 16,
      "outputs": [
        {
          "output_type": "stream",
          "name": "stdout",
          "text": [
            "(52740, 10) (52740, 10)\n",
            "0.24981003213083094\n",
            "0.28353058683631027\n",
            "0.09160863536946366\n",
            "0.11856572717572467\n",
            "0.11013718754506546\n",
            "0.24163104106897185\n",
            "0.14526340791163445\n",
            "0.1811604927996483\n",
            "0.15202087792216107\n",
            "0.041322533285129845\n",
            "Wasserstein Distance Results:\n",
            "{'seq_temporal_PAR (�mol/m�/s)': 0.24981003213083094, 'seq_temporal_SWDR (W/m�)': 0.28353058683631027, 'seq_temporal_T (degC)': 0.09160863536946366, 'seq_temporal_Tdew (degC)': 0.11856572717572467, 'seq_temporal_VPmax (mbar)': 0.11013718754506546, 'seq_temporal_max. PAR (�mol/m�/s)': 0.24163104106897185, 'seq_temporal_p (mbar)': 0.14526340791163445, 'seq_temporal_raining (s)': 0.1811604927996483, 'seq_temporal_sh (g/kg)': 0.15202087792216107, 'seq_temporal_wv (m/s)': 0.041322533285129845}\n",
            "5.268580053218712\n",
            "5.564311541865116\n",
            "12.101990757334757\n",
            "13.765908726211713\n",
            "11.555151386810762\n",
            "5.111432633239509\n",
            "14.609472094964927\n",
            "3.540381930675472\n",
            "14.67597454699323\n",
            "12.42613522855812\n",
            "KL Divergence Results:\n",
            "{'seq_temporal_PAR (�mol/m�/s)': 5.268580053218712, 'seq_temporal_SWDR (W/m�)': 5.564311541865116, 'seq_temporal_T (degC)': 12.101990757334757, 'seq_temporal_Tdew (degC)': 13.765908726211713, 'seq_temporal_VPmax (mbar)': 11.555151386810762, 'seq_temporal_max. PAR (�mol/m�/s)': 5.111432633239509, 'seq_temporal_p (mbar)': 14.609472094964927, 'seq_temporal_raining (s)': 3.540381930675472, 'seq_temporal_sh (g/kg)': 14.67597454699323, 'seq_temporal_wv (m/s)': 12.42613522855812}\n"
          ]
        }
      ]
    },
    {
      "cell_type": "markdown",
      "source": [
        "# LSTM downstream"
      ],
      "metadata": {
        "id": "UpJLIRUZChiz"
      }
    },
    {
      "cell_type": "code",
      "source": [
        "filepath = \"/content/drive/Shareddrives/sp_env/synthetic_datasets/TimeVAE/weather/050125-085757-timevaeplugin-n_3000.csv\""
      ],
      "metadata": {
        "id": "qVI6XPh8KHQz"
      },
      "execution_count": 19,
      "outputs": []
    },
    {
      "cell_type": "code",
      "source": [
        "real_data = loader_test.dataframe()\n",
        "df_synth = pd.read_csv(filepath)\n",
        "\n",
        "# Drop the unwanted column\n",
        "real_data = real_data.drop(columns=[\"seq_id\", \"seq_time_id\", \"seq_out_outcome\"], errors=\"ignore\")\n",
        "df_synth = df_synth.drop(columns=[\"seq_id\", \"seq_time_id\", \"seq_out_outcome\"], errors=\"ignore\")\n"
      ],
      "metadata": {
        "id": "OhcWWnI8JCF1"
      },
      "execution_count": 23,
      "outputs": []
    },
    {
      "cell_type": "code",
      "source": [
        "print(f\"real_data: {real_data.shape}, synthetic_data: {df_synth.shape}\")"
      ],
      "metadata": {
        "id": "ShEEO5GlKXSK",
        "outputId": "6ac44f13-f2b6-46e9-86b4-2f33111c3f78",
        "colab": {
          "base_uri": "https://localhost:8080/"
        }
      },
      "execution_count": 24,
      "outputs": [
        {
          "output_type": "stream",
          "name": "stdout",
          "text": [
            "real_data: (52740, 10), synthetic_data: (124740, 10)\n"
          ]
        }
      ]
    },
    {
      "cell_type": "code",
      "source": [
        "import pandas as pd\n",
        "import numpy as np\n",
        "import torch\n",
        "import torch.nn as nn\n",
        "from torch.utils.data import DataLoader, TensorDataset\n",
        "from sklearn.preprocessing import MinMaxScaler\n",
        "from sklearn.metrics import mean_absolute_error, mean_squared_error"
      ],
      "metadata": {
        "id": "y1Gg4O5bnOWp"
      },
      "execution_count": 25,
      "outputs": []
    },
    {
      "cell_type": "code",
      "source": [
        "# Convert to tensors (float32 for PyTorch)\n",
        "data_real = torch.tensor(real_data.values, dtype=torch.float32)\n",
        "data_synth = torch.tensor(df_synth.values, dtype=torch.float32)\n",
        "\n",
        "# ──────── Sequence builder ───────────\n",
        "def make_sequences(data, seq_len):\n",
        "    X, y = [], []\n",
        "    for i in range(len(data) - seq_len):\n",
        "        X.append(data[i:i+seq_len])\n",
        "        y.append(data[i+seq_len])\n",
        "    return torch.stack(X), torch.stack(y)\n",
        "\n",
        "SEQ_LEN = sequence_length\n",
        "\n",
        "# Sequences for synthetic (train)\n",
        "X_train, y_train = make_sequences(data_synth, SEQ_LEN)\n",
        "train_loader = DataLoader(TensorDataset(X_train, y_train), batch_size=32, shuffle=True)\n",
        "\n",
        "# Sequences for real (test)\n",
        "X_test, y_test = make_sequences(data_real, SEQ_LEN)"
      ],
      "metadata": {
        "id": "4XQyd3HLnPFj"
      },
      "execution_count": 26,
      "outputs": []
    },
    {
      "cell_type": "code",
      "source": [
        "# ─── Model Definition ──────────────────────────────────────\n",
        "class ShallowLSTM(nn.Module):\n",
        "    def __init__(self, input_size, hidden_size=64):\n",
        "        super().__init__()\n",
        "        self.lstm = nn.LSTM(input_size, hidden_size, batch_first=True)\n",
        "        self.linear = nn.Linear(hidden_size, input_size)\n",
        "\n",
        "    def forward(self, x):\n",
        "        _, (hn, _) = self.lstm(x)  # hn shape: (1, batch, hidden_size)\n",
        "        out = self.linear(hn.squeeze(0))  # squeeze to (batch, hidden_size)\n",
        "        return out\n",
        "\n",
        "\n",
        "# ─── Model Init ─────────────────────────────────────────────\n",
        "model = ShallowLSTM(input_size=X_train.shape[2], hidden_size=64)\n",
        "\n",
        "# ─── Optimizer & Loss ───────────────────────────────────────\n",
        "loss_fn = nn.MSELoss()\n",
        "optimizer = torch.optim.Adam(model.parameters(), lr=0.002)"
      ],
      "metadata": {
        "id": "v74HfVJZnQDI"
      },
      "execution_count": 27,
      "outputs": []
    },
    {
      "cell_type": "code",
      "source": [
        "# ─── Training ───────────────────────────────────────────────\n",
        "EPOCHS = 50\n",
        "for epoch in range(1, EPOCHS + 1):\n",
        "    model.train()\n",
        "    for xb, yb in train_loader:\n",
        "        pred = model(xb)\n",
        "        loss = loss_fn(pred, yb)\n",
        "        optimizer.zero_grad()\n",
        "        loss.backward()\n",
        "        optimizer.step()\n",
        "\n",
        "    # if epoch % 10 == 0 or epoch == 1:\n",
        "    print(f\"Epoch {epoch}: Train MSE = {loss.item():.6f}\")"
      ],
      "metadata": {
        "id": "uVXF1CJQMsUb",
        "outputId": "2789011c-1319-409e-bfdf-36cc204198c9",
        "colab": {
          "base_uri": "https://localhost:8080/"
        }
      },
      "execution_count": 28,
      "outputs": [
        {
          "output_type": "stream",
          "name": "stdout",
          "text": [
            "Epoch 1: Train MSE = 0.061166\n",
            "Epoch 2: Train MSE = 0.055942\n",
            "Epoch 3: Train MSE = 0.062349\n",
            "Epoch 4: Train MSE = 0.055855\n",
            "Epoch 5: Train MSE = 0.056223\n",
            "Epoch 6: Train MSE = 0.061403\n",
            "Epoch 7: Train MSE = 0.055855\n",
            "Epoch 8: Train MSE = 0.058057\n",
            "Epoch 9: Train MSE = 0.054990\n",
            "Epoch 10: Train MSE = 0.059917\n",
            "Epoch 11: Train MSE = 0.058516\n",
            "Epoch 12: Train MSE = 0.055999\n",
            "Epoch 13: Train MSE = 0.060728\n",
            "Epoch 14: Train MSE = 0.062357\n",
            "Epoch 15: Train MSE = 0.054606\n",
            "Epoch 16: Train MSE = 0.051315\n",
            "Epoch 17: Train MSE = 0.057704\n",
            "Epoch 18: Train MSE = 0.064060\n",
            "Epoch 19: Train MSE = 0.057147\n",
            "Epoch 20: Train MSE = 0.055788\n",
            "Epoch 21: Train MSE = 0.060213\n",
            "Epoch 22: Train MSE = 0.053340\n",
            "Epoch 23: Train MSE = 0.055352\n",
            "Epoch 24: Train MSE = 0.054120\n",
            "Epoch 25: Train MSE = 0.053724\n",
            "Epoch 26: Train MSE = 0.063190\n",
            "Epoch 27: Train MSE = 0.056931\n",
            "Epoch 28: Train MSE = 0.061038\n",
            "Epoch 29: Train MSE = 0.053703\n",
            "Epoch 30: Train MSE = 0.055803\n",
            "Epoch 31: Train MSE = 0.052391\n",
            "Epoch 32: Train MSE = 0.060201\n",
            "Epoch 33: Train MSE = 0.056900\n",
            "Epoch 34: Train MSE = 0.059275\n",
            "Epoch 35: Train MSE = 0.057678\n",
            "Epoch 36: Train MSE = 0.063363\n",
            "Epoch 37: Train MSE = 0.065651\n",
            "Epoch 38: Train MSE = 0.061599\n",
            "Epoch 39: Train MSE = 0.061520\n",
            "Epoch 40: Train MSE = 0.056134\n",
            "Epoch 41: Train MSE = 0.058931\n",
            "Epoch 42: Train MSE = 0.063053\n",
            "Epoch 43: Train MSE = 0.055185\n",
            "Epoch 44: Train MSE = 0.053169\n",
            "Epoch 45: Train MSE = 0.054100\n",
            "Epoch 46: Train MSE = 0.062737\n",
            "Epoch 47: Train MSE = 0.065622\n",
            "Epoch 48: Train MSE = 0.061206\n",
            "Epoch 49: Train MSE = 0.060550\n",
            "Epoch 50: Train MSE = 0.058693\n"
          ]
        }
      ]
    },
    {
      "cell_type": "code",
      "source": [
        "# --- ADD THESE LINES TO SAVE THE MODEL ---\n",
        "# Define a path where you want to save your model.\n",
        "# Use a meaningful name, especially for TRTR vs. TSTR models.\n",
        "# Example for TRTR Electricity model:\n",
        "MODEL_SAVE_PATH = '/content/drive/Shareddrives/sp_env/saved_models/LSTM/tstr_VAE_weather.pth'\n",
        "\n",
        "# Save only the model's learned parameters (state_dict)\n",
        "torch.save(model.state_dict(), MODEL_SAVE_PATH)\n",
        "\n",
        "print(f\"Model saved to: {MODEL_SAVE_PATH}\")"
      ],
      "metadata": {
        "id": "Hr9hG3ZBTxP1",
        "outputId": "5a274fd3-5ac0-490d-ae3b-a61517b9732a",
        "colab": {
          "base_uri": "https://localhost:8080/"
        }
      },
      "execution_count": 31,
      "outputs": [
        {
          "output_type": "stream",
          "name": "stdout",
          "text": [
            "Model saved to: /content/drive/Shareddrives/sp_env/saved_models/LSTM/tstr_VAE_weather.pth\n"
          ]
        }
      ]
    },
    {
      "cell_type": "code",
      "source": [
        "model.eval()\n",
        "with torch.no_grad():\n",
        "    preds = model(X_test)\n",
        "    test_mse = loss_fn(preds, y_test).item()\n",
        "    test_mae = mean_absolute_error(y_test.numpy(), preds.numpy())\n",
        "\n",
        "    print(f\"Test MSE: {test_mse:.6f}\")\n",
        "    print(f\"Test MAE: {test_mae:.6f}\")"
      ],
      "metadata": {
        "id": "G6MjbcdAnRAR",
        "colab": {
          "base_uri": "https://localhost:8080/"
        },
        "outputId": "315d79f2-0778-42be-c583-7b81d1c96a77"
      },
      "execution_count": 32,
      "outputs": [
        {
          "output_type": "stream",
          "name": "stdout",
          "text": [
            "Test MSE: 1.882251\n",
            "Test MAE: 0.790721\n"
          ]
        }
      ]
    },
    {
      "cell_type": "markdown",
      "source": [
        "# Bootstrapping Sample"
      ],
      "metadata": {
        "id": "wwtrxZuWkq1X"
      }
    },
    {
      "cell_type": "code",
      "source": [
        "!pip install tsbootstrap"
      ],
      "metadata": {
        "id": "w6fV928blOfi",
        "collapsed": true,
        "outputId": "1dce0f99-fe09-4a07-8476-9a42e9badfb5",
        "colab": {
          "base_uri": "https://localhost:8080/"
        }
      },
      "execution_count": 33,
      "outputs": [
        {
          "output_type": "stream",
          "name": "stdout",
          "text": [
            "Collecting tsbootstrap\n",
            "  Downloading tsbootstrap-0.1.5-py3-none-any.whl.metadata (28 kB)\n",
            "Requirement already satisfied: numpy<1.27,>=1.21 in /usr/local/lib/python3.11/dist-packages (from tsbootstrap) (1.26.4)\n",
            "Collecting scikit-base<0.11,>=0.10.0 (from tsbootstrap)\n",
            "  Downloading scikit_base-0.10.1-py3-none-any.whl.metadata (8.6 kB)\n",
            "Collecting scikit-learn<1.6.0,>=1.5.1 (from tsbootstrap)\n",
            "  Downloading scikit_learn-1.5.2-cp311-cp311-manylinux_2_17_x86_64.manylinux2014_x86_64.whl.metadata (13 kB)\n",
            "Collecting scipy<1.14.0,>=1.13 (from tsbootstrap)\n",
            "  Downloading scipy-1.13.1-cp311-cp311-manylinux_2_17_x86_64.manylinux2014_x86_64.whl.metadata (60 kB)\n",
            "\u001b[2K     \u001b[90m━━━━━━━━━━━━━━━━━━━━━━━━━━━━━━━━━━━━━━━━\u001b[0m \u001b[32m60.6/60.6 kB\u001b[0m \u001b[31m3.6 MB/s\u001b[0m eta \u001b[36m0:00:00\u001b[0m\n",
            "\u001b[?25hCollecting packaging<24.2,>=24.0 (from tsbootstrap)\n",
            "  Downloading packaging-24.1-py3-none-any.whl.metadata (3.2 kB)\n",
            "Requirement already satisfied: pydantic<3.0,>=2.0 in /usr/local/lib/python3.11/dist-packages (from tsbootstrap) (2.11.4)\n",
            "Requirement already satisfied: annotated-types>=0.6.0 in /usr/local/lib/python3.11/dist-packages (from pydantic<3.0,>=2.0->tsbootstrap) (0.7.0)\n",
            "Requirement already satisfied: pydantic-core==2.33.2 in /usr/local/lib/python3.11/dist-packages (from pydantic<3.0,>=2.0->tsbootstrap) (2.33.2)\n",
            "Requirement already satisfied: typing-extensions>=4.12.2 in /usr/local/lib/python3.11/dist-packages (from pydantic<3.0,>=2.0->tsbootstrap) (4.13.2)\n",
            "Requirement already satisfied: typing-inspection>=0.4.0 in /usr/local/lib/python3.11/dist-packages (from pydantic<3.0,>=2.0->tsbootstrap) (0.4.0)\n",
            "Requirement already satisfied: joblib>=1.2.0 in /usr/local/lib/python3.11/dist-packages (from scikit-learn<1.6.0,>=1.5.1->tsbootstrap) (1.5.0)\n",
            "Requirement already satisfied: threadpoolctl>=3.1.0 in /usr/local/lib/python3.11/dist-packages (from scikit-learn<1.6.0,>=1.5.1->tsbootstrap) (3.6.0)\n",
            "Downloading tsbootstrap-0.1.5-py3-none-any.whl (104 kB)\n",
            "\u001b[2K   \u001b[90m━━━━━━━━━━━━━━━━━━━━━━━━━━━━━━━━━━━━━━━━\u001b[0m \u001b[32m104.4/104.4 kB\u001b[0m \u001b[31m7.6 MB/s\u001b[0m eta \u001b[36m0:00:00\u001b[0m\n",
            "\u001b[?25hDownloading packaging-24.1-py3-none-any.whl (53 kB)\n",
            "\u001b[2K   \u001b[90m━━━━━━━━━━━━━━━━━━━━━━━━━━━━━━━━━━━━━━━━\u001b[0m \u001b[32m54.0/54.0 kB\u001b[0m \u001b[31m4.0 MB/s\u001b[0m eta \u001b[36m0:00:00\u001b[0m\n",
            "\u001b[?25hDownloading scikit_base-0.10.1-py3-none-any.whl (136 kB)\n",
            "\u001b[2K   \u001b[90m━━━━━━━━━━━━━━━━━━━━━━━━━━━━━━━━━━━━━━━━\u001b[0m \u001b[32m136.1/136.1 kB\u001b[0m \u001b[31m9.2 MB/s\u001b[0m eta \u001b[36m0:00:00\u001b[0m\n",
            "\u001b[?25hDownloading scikit_learn-1.5.2-cp311-cp311-manylinux_2_17_x86_64.manylinux2014_x86_64.whl (13.3 MB)\n",
            "\u001b[2K   \u001b[90m━━━━━━━━━━━━━━━━━━━━━━━━━━━━━━━━━━━━━━━━\u001b[0m \u001b[32m13.3/13.3 MB\u001b[0m \u001b[31m89.7 MB/s\u001b[0m eta \u001b[36m0:00:00\u001b[0m\n",
            "\u001b[?25hDownloading scipy-1.13.1-cp311-cp311-manylinux_2_17_x86_64.manylinux2014_x86_64.whl (38.6 MB)\n",
            "\u001b[2K   \u001b[90m━━━━━━━━━━━━━━━━━━━━━━━━━━━━━━━━━━━━━━━━\u001b[0m \u001b[32m38.6/38.6 MB\u001b[0m \u001b[31m23.4 MB/s\u001b[0m eta \u001b[36m0:00:00\u001b[0m\n",
            "\u001b[?25hInstalling collected packages: scipy, scikit-base, packaging, scikit-learn, tsbootstrap\n",
            "  Attempting uninstall: scipy\n",
            "    Found existing installation: scipy 1.15.3\n",
            "    Uninstalling scipy-1.15.3:\n",
            "      Successfully uninstalled scipy-1.15.3\n",
            "  Attempting uninstall: packaging\n",
            "    Found existing installation: packaging 24.2\n",
            "    Uninstalling packaging-24.2:\n",
            "      Successfully uninstalled packaging-24.2\n",
            "  Attempting uninstall: scikit-learn\n",
            "    Found existing installation: scikit-learn 1.6.1\n",
            "    Uninstalling scikit-learn-1.6.1:\n",
            "      Successfully uninstalled scikit-learn-1.6.1\n",
            "\u001b[31mERROR: pip's dependency resolver does not currently take into account all the packages that are installed. This behaviour is the source of the following dependency conflicts.\n",
            "google-cloud-bigquery 3.32.0 requires packaging>=24.2.0, but you have packaging 24.1 which is incompatible.\n",
            "scikit-image 0.25.2 requires networkx>=3.0, but you have networkx 2.8.8 which is incompatible.\n",
            "tsfresh 0.21.0 requires scipy>=1.14.0; python_version >= \"3.10\", but you have scipy 1.13.1 which is incompatible.\n",
            "db-dtypes 1.4.3 requires packaging>=24.2.0, but you have packaging 24.1 which is incompatible.\u001b[0m\u001b[31m\n",
            "\u001b[0mSuccessfully installed packaging-24.1 scikit-base-0.10.1 scikit-learn-1.5.2 scipy-1.13.1 tsbootstrap-0.1.5\n"
          ]
        }
      ]
    },
    {
      "cell_type": "code",
      "source": [
        "len(loader_test)"
      ],
      "metadata": {
        "id": "Vik7Mp5EnFqe",
        "outputId": "d7f5db35-8cb9-4f1f-ce50-2d3238f7504f",
        "colab": {
          "base_uri": "https://localhost:8080/"
        }
      },
      "execution_count": 34,
      "outputs": [
        {
          "output_type": "execute_result",
          "data": {
            "text/plain": [
              "52740"
            ]
          },
          "metadata": {},
          "execution_count": 34
        }
      ]
    },
    {
      "cell_type": "code",
      "source": [
        "from tsbootstrap import MovingBlockBootstrap\n",
        "import numpy as np\n",
        "\n",
        "C_CONSTANT = 1\n",
        "n = len(loader_test)\n",
        "calculated_block_length = int(np.round(C_CONSTANT * (n**(1/3))))\n",
        "print(calculated_block_length)\n",
        "\n",
        "bootstrap_configs = {\n",
        "    \"weather\": {\"block_length\": calculated_block_length, \"n_bootstraps\": 15, \"rng\": 42},       # 6-hour pattern (10-min interval)\n",
        "    \"electricity\": {\"block_length\": calculated_block_length, \"n_bootstraps\": 15, \"rng\": 42},   # 1-day pattern (hourly)\n",
        "    \"exchange\": {\"block_length\": calculated_block_length, \"n_bootstraps\": 15, \"rng\": 42},      # 1-month pattern (daily)\n",
        "}\n",
        "\n",
        "# Example for weather\n",
        "dataset_name = \"weather\"\n",
        "config = bootstrap_configs[dataset_name]\n",
        "\n",
        "real_test_array = real_data # shape (N, features)\n",
        "mbb = MovingBlockBootstrap(\n",
        "    n_bootstraps=config[\"n_bootstraps\"],\n",
        "    rng=config[\"rng\"],\n",
        "    block_length=config[\"block_length\"]\n",
        ")\n",
        "boot_samples = mbb.bootstrap(real_test_array, return_indices=False)\n"
      ],
      "metadata": {
        "id": "r3V4JBSEksXF",
        "colab": {
          "base_uri": "https://localhost:8080/"
        },
        "outputId": "2ba497c5-07fc-4784-c760-656f4fb7e978"
      },
      "execution_count": 35,
      "outputs": [
        {
          "output_type": "stream",
          "name": "stdout",
          "text": [
            "38\n"
          ]
        }
      ]
    },
    {
      "cell_type": "code",
      "source": [
        "model.load_state_dict(torch.load(MODEL_SAVE_PATH))"
      ],
      "metadata": {
        "colab": {
          "base_uri": "https://localhost:8080/"
        },
        "id": "Xlo6IGrddr2R",
        "outputId": "3a8527b3-0d1e-404d-d96a-c8b3342a0d16"
      },
      "execution_count": 36,
      "outputs": [
        {
          "output_type": "execute_result",
          "data": {
            "text/plain": [
              "<All keys matched successfully>"
            ]
          },
          "metadata": {},
          "execution_count": 36
        }
      ]
    },
    {
      "cell_type": "code",
      "source": [
        "bootstrap_results = []\n",
        "\n",
        "for b_idx, boot_real in enumerate(boot_samples):\n",
        "    # 1. Match the synthetic data size\n",
        "    syn_trimmed = synthetic_data[:len(boot_real)]\n",
        "\n",
        "    # 2. Fidelity metrics\n",
        "    wasserstein = compute_wasserstein(boot_real, syn_trimmed, selected_columns)\n",
        "    kl = compute_kl_divergence(boot_real, syn_trimmed, selected_columns)\n",
        "\n",
        "    # 3. Utility metrics\n",
        "    # Preprocess this bootstrap sample for LSTM (as you do with real_data)\n",
        "    boot_tensor = torch.tensor(boot_real, dtype=torch.float32)\n",
        "    Xb_test, yb_test = make_sequences(boot_tensor, SEQ_LEN)\n",
        "\n",
        "    model.eval()\n",
        "    with torch.no_grad():\n",
        "        preds = model(Xb_test)\n",
        "        mse = mean_squared_error(yb_test.numpy(), preds.numpy())\n",
        "        rmse = np.sqrt(mse)\n",
        "        mae = mean_absolute_error(yb_test.numpy(), preds.numpy())\n",
        "\n",
        "    # 4. Store results\n",
        "    bootstrap_results.append({\n",
        "        'bootstrap': b_idx,\n",
        "        'wasserstein': np.mean(list(wasserstein.values())),\n",
        "        'kl': np.mean(list(kl.values())),\n",
        "        'rmse': rmse,\n",
        "        'mae': mae\n",
        "    })"
      ],
      "metadata": {
        "colab": {
          "base_uri": "https://localhost:8080/"
        },
        "id": "SPL4pVhwk3Ir",
        "outputId": "a4bf055d-c0c7-4ec8-da39-6071c32f27de"
      },
      "execution_count": 37,
      "outputs": [
        {
          "output_type": "stream",
          "name": "stdout",
          "text": [
            "(52740, 10) (52740, 10)\n",
            "0.25095536882718555\n",
            "0.28452329050581054\n",
            "0.089212273592277\n",
            "0.12166978935820838\n",
            "0.10779443666841812\n",
            "0.24367702579946254\n",
            "0.13658289540529348\n",
            "0.18256764238113235\n",
            "0.1560823433790404\n",
            "0.04325150893570941\n",
            "5.216476338599544\n",
            "5.460563913327727\n",
            "12.132889929384941\n",
            "13.739845221004344\n",
            "11.619473201549372\n",
            "5.038200381631906\n",
            "14.783923282185464\n",
            "3.545954995414707\n",
            "14.70805425991151\n",
            "12.493572459591393\n",
            "(52740, 10) (52740, 10)\n",
            "0.24780539888674294\n",
            "0.2815904049875138\n",
            "0.0940305232780793\n",
            "0.12003043631291334\n",
            "0.11263840588784504\n",
            "0.2391776884270594\n",
            "0.13559983042905446\n",
            "0.18384636206108992\n",
            "0.15484796506917917\n",
            "0.04093625965273642\n",
            "5.282522846344514\n",
            "5.607556477639885\n",
            "11.891710619365593\n",
            "13.922695701139867\n",
            "11.622126425974631\n",
            "5.135746920218457\n",
            "14.696639247439643\n",
            "3.5216877986578146\n",
            "14.614887786726946\n",
            "12.38232584602225\n",
            "(52740, 10) (52740, 10)\n",
            "0.24915798403635409\n",
            "0.2829310019481565\n",
            "0.09258933632911064\n",
            "0.11962624668815999\n",
            "0.11171398756207412\n",
            "0.2404106864431182\n",
            "0.14444004243452024\n",
            "0.18058843600811839\n",
            "0.1536855017267127\n",
            "0.041675076208630604\n",
            "5.294207554827516\n",
            "5.5356506170730215\n",
            "12.340545144841101\n",
            "13.58966535299653\n",
            "11.440099288236052\n",
            "5.1406489798283\n",
            "14.704106629278751\n",
            "3.5548640863990495\n",
            "14.648069786479688\n",
            "12.44901969914759\n",
            "(52740, 10) (52740, 10)\n",
            "0.25080732460291666\n",
            "0.2844694762742901\n",
            "0.08541878465791598\n",
            "0.11851250374522149\n",
            "0.10444934037456469\n",
            "0.24244422182473047\n",
            "0.136286838035582\n",
            "0.1750612683830728\n",
            "0.1557850916310547\n",
            "0.041126319931778996\n",
            "5.262076921453427\n",
            "5.464355451740329\n",
            "12.401468240909931\n",
            "13.93498649516719\n",
            "11.819645888982349\n",
            "5.029076701172438\n",
            "14.733236435067797\n",
            "3.6137163663330374\n",
            "14.786310490631116\n",
            "12.378995698160532\n",
            "(52740, 10) (52740, 10)\n",
            "0.251100686505917\n",
            "0.2847229431197747\n",
            "0.0911431949175718\n",
            "0.12116790797621627\n",
            "0.10874918199516136\n",
            "0.24286418747407645\n",
            "0.15373514068150662\n",
            "0.17960387206936876\n",
            "0.1541344836814765\n",
            "0.0431179907270818\n",
            "5.181244746873931\n",
            "5.530976241425467\n",
            "11.975529559963704\n",
            "13.69155921902551\n",
            "11.489788212638011\n",
            "5.044621642850932\n",
            "14.60727661396808\n",
            "3.552167407126019\n",
            "14.729135963645758\n",
            "12.516343566058536\n",
            "(52740, 10) (52740, 10)\n",
            "0.25256443494165826\n",
            "0.28606145836663444\n",
            "0.09145992586859958\n",
            "0.11924494445064826\n",
            "0.10831024021839386\n",
            "0.24527117372080035\n",
            "0.147681206090745\n",
            "0.17690340213040737\n",
            "0.15165674691013087\n",
            "0.04381522322960591\n",
            "5.2040770810381645\n",
            "5.585195268867252\n",
            "12.123881336273069\n",
            "13.554417476986131\n",
            "11.426125276238526\n",
            "5.105615341116014\n",
            "14.503778874545544\n",
            "3.564365942348699\n",
            "14.670779976804386\n",
            "12.439140902697872\n",
            "(52740, 10) (52740, 10)\n",
            "0.2501617603294228\n",
            "0.2837794895202733\n",
            "0.09029359251774946\n",
            "0.12213902907266216\n",
            "0.10812134339297694\n",
            "0.2424606944204688\n",
            "0.1622995842398949\n",
            "0.18329585668760634\n",
            "0.15332940311699136\n",
            "0.04147490494384998\n",
            "5.281779079710682\n",
            "5.500414129600259\n",
            "12.01284593929862\n",
            "13.905604993147403\n",
            "11.45085628524918\n",
            "5.061720718529104\n",
            "14.951523621072042\n",
            "3.503754801739986\n",
            "14.771900727928683\n",
            "12.435355341864236\n",
            "(52740, 10) (52740, 10)\n",
            "0.2541043209763522\n",
            "0.28754280494028145\n",
            "0.08778812853605117\n",
            "0.11458974406770249\n",
            "0.1052380314014338\n",
            "0.24694899780559187\n",
            "0.15212079375724005\n",
            "0.1811320380189083\n",
            "0.144975586972973\n",
            "0.039950757229548786\n",
            "5.118539597286602\n",
            "5.395919392027503\n",
            "12.099823552050648\n",
            "13.77274191857234\n",
            "11.412778590833499\n",
            "4.952260319828832\n",
            "14.568050986187238\n",
            "3.5211018158625955\n",
            "14.723728031574524\n",
            "12.386986726126832\n",
            "(52740, 10) (52740, 10)\n",
            "0.248771318547013\n",
            "0.28263598259109823\n",
            "0.09576550237811247\n",
            "0.12419466859007286\n",
            "0.11642125406417492\n",
            "0.24031318283009165\n",
            "0.14533179072800803\n",
            "0.1790405595146847\n",
            "0.1627089627968432\n",
            "0.04310437608480488\n",
            "5.280073773904784\n",
            "5.513731503105394\n",
            "12.089225014216654\n",
            "13.975451225781326\n",
            "11.606398234017242\n",
            "5.069781289062778\n",
            "14.464838315104252\n",
            "3.5427639542243714\n",
            "15.032742724070095\n",
            "12.476257055274575\n",
            "(52740, 10) (52740, 10)\n",
            "0.2531893567099716\n",
            "0.2866219412888994\n",
            "0.09021073656337303\n",
            "0.1215061916552132\n",
            "0.10852350600772893\n",
            "0.24518491604059653\n",
            "0.1432036634815278\n",
            "0.17659939754177673\n",
            "0.1569212735567304\n",
            "0.04181620661962998\n",
            "5.110033815645003\n",
            "5.409646007698003\n",
            "12.107989288044285\n",
            "13.763635268933886\n",
            "11.625470610805227\n",
            "4.9627045721252045\n",
            "14.942811520813029\n",
            "3.5795278115066815\n",
            "14.69088027399751\n",
            "12.454912902094929\n",
            "(52740, 10) (52740, 10)\n",
            "0.24909460310464782\n",
            "0.28274236003705217\n",
            "0.09449768631568356\n",
            "0.11745968635972726\n",
            "0.11268691193741796\n",
            "0.24082137430457354\n",
            "0.16470458199334584\n",
            "0.18779398518208856\n",
            "0.14864490777535738\n",
            "0.03843091524878556\n",
            "5.268835217862335\n",
            "5.547918409579294\n",
            "11.852560076722009\n",
            "13.583988529189783\n",
            "11.691784654203602\n",
            "5.133933506826509\n",
            "14.688802871889427\n",
            "3.5087892393602176\n",
            "14.484390743672304\n",
            "12.469520471618157\n",
            "(52740, 10) (52740, 10)\n",
            "0.2510914865295906\n",
            "0.28468577976344556\n",
            "0.0913234133680702\n",
            "0.11649860850758931\n",
            "0.11031723639204434\n",
            "0.2430933803631835\n",
            "0.14830316461207596\n",
            "0.17983273242896053\n",
            "0.14831785505085238\n",
            "0.03863171939662067\n",
            "5.155572847349172\n",
            "5.429539639835606\n",
            "12.004848847128295\n",
            "13.662871150553617\n",
            "11.54151977036768\n",
            "5.0217527286665735\n",
            "14.763647653544114\n",
            "3.517250049063936\n",
            "14.724612777344388\n",
            "12.486581425829149\n",
            "(52740, 10) (52740, 10)\n",
            "0.25032038663908085\n",
            "0.2839430261508948\n",
            "0.09081959212184668\n",
            "0.11748961957647287\n",
            "0.10855596280870103\n",
            "0.24184140765558898\n",
            "0.14469868487085724\n",
            "0.18407359514304114\n",
            "0.1495620321551647\n",
            "0.03929639056592089\n",
            "5.189530105945459\n",
            "5.484388181208385\n",
            "12.025075982997734\n",
            "13.823874930434283\n",
            "11.350048416935003\n",
            "5.097153073927503\n",
            "14.979821564898314\n",
            "3.504636215252063\n",
            "14.527753550702192\n",
            "12.435487604042928\n",
            "(52740, 10) (52740, 10)\n",
            "0.2560802359006587\n",
            "0.2893074154491413\n",
            "0.09040386008891979\n",
            "0.11485882194313739\n",
            "0.10913082231748351\n",
            "0.247591333510185\n",
            "0.16038108531600126\n",
            "0.1810995901163637\n",
            "0.14591691809359322\n",
            "0.04037421860815768\n",
            "5.037115678942865\n",
            "5.308554175973626\n",
            "12.328873497077293\n",
            "13.640513848855623\n",
            "11.632215176795876\n",
            "4.885020539510229\n",
            "14.31138629273942\n",
            "3.5296763253881895\n",
            "14.416745197560338\n",
            "12.429067543183429\n",
            "(52740, 10) (52740, 10)\n",
            "0.25109926645478375\n",
            "0.2847161206141459\n",
            "0.09089835750057082\n",
            "0.11606149836806233\n",
            "0.10929264221000246\n",
            "0.24298116266985972\n",
            "0.16263743723105628\n",
            "0.18340774601064666\n",
            "0.14565008578583047\n",
            "0.04006234226800594\n",
            "5.203797220725919\n",
            "5.529013847477421\n",
            "11.940004294290583\n",
            "13.649915684764713\n",
            "11.631557924093306\n",
            "5.0934506650834255\n",
            "14.634320683555538\n",
            "3.539717206343611\n",
            "14.438123014276817\n",
            "12.42824326997684\n"
          ]
        }
      ]
    },
    {
      "cell_type": "code",
      "source": [
        "print(bootstrap_results)\n",
        "\n",
        "# Assuming bootstrap_results is your list of dicts\n",
        "df_results = pd.DataFrame(bootstrap_results)\n",
        "\n",
        "df_results['Dataset'] = 'weather'\n",
        "df_results['Model'] = 'TimeVAE'\n",
        "\n",
        "df_results"
      ],
      "metadata": {
        "colab": {
          "base_uri": "https://localhost:8080/",
          "height": 558
        },
        "id": "7zYaN_finjp5",
        "outputId": "7dc0046a-623a-458d-c9e7-6e5b3e494b07"
      },
      "execution_count": 38,
      "outputs": [
        {
          "output_type": "stream",
          "name": "stdout",
          "text": [
            "[{'bootstrap': 0, 'wasserstein': 0.16163165748525377, 'kl': 9.87389539826009, 'rmse': 1.4062040109531893, 'mae': 0.847324013710022}, {'bootstrap': 1, 'wasserstein': 0.16105032749922138, 'kl': 9.867789966952959, 'rmse': 1.3861196163904408, 'mae': 0.830904483795166}, {'bootstrap': 2, 'wasserstein': 0.16168182993849556, 'kl': 9.869687713910759, 'rmse': 1.4549362215831014, 'mae': 0.8839032053947449}, {'bootstrap': 3, 'wasserstein': 0.1594361169461128, 'kl': 9.942386868961815, 'rmse': 1.4087875359856297, 'mae': 0.8493793606758118}, {'bootstrap': 4, 'wasserstein': 0.16303395891481512, 'kl': 9.831864317357596, 'rmse': 1.4930062170033385, 'mae': 0.9202097654342651}, {'bootstrap': 5, 'wasserstein': 0.16229687559276237, 'kl': 9.817737747691567, 'rmse': 1.4442484469993921, 'mae': 0.8801453709602356}, {'bootstrap': 6, 'wasserstein': 0.1637355658241896, 'kl': 9.88757556381402, 'rmse': 1.47881343366915, 'mae': 0.9083816409111023}, {'bootstrap': 7, 'wasserstein': 0.1614391203706083, 'kl': 9.795193093035063, 'rmse': 1.4260230290504863, 'mae': 0.8638250231742859}, {'bootstrap': 8, 'wasserstein': 0.1638287598124904, 'kl': 9.905126308876145, 'rmse': 1.4384473084209215, 'mae': 0.8718146085739136}, {'bootstrap': 9, 'wasserstein': 0.16237771894654476, 'kl': 9.864761207166376, 'rmse': 1.4316766794200224, 'mae': 0.8682960271835327}, {'bootstrap': 10, 'wasserstein': 0.16368770122586795, 'kl': 9.823052372092365, 'rmse': 1.4778682848734161, 'mae': 0.9066771268844604}, {'bootstrap': 11, 'wasserstein': 0.1612095376412433, 'kl': 9.830819688968253, 'rmse': 1.421301506001638, 'mae': 0.8548786044120789}, {'bootstrap': 12, 'wasserstein': 0.16106006976875692, 'kl': 9.841776962634386, 'rmse': 1.4237241353807877, 'mae': 0.8587175607681274}, {'bootstrap': 13, 'wasserstein': 0.16351443013436415, 'kl': 9.75191682760269, 'rmse': 1.469398355432257, 'mae': 0.8996284604072571}, {'bootstrap': 14, 'wasserstein': 0.16268066591129643, 'kl': 9.808814381058815, 'rmse': 1.4404940729783962, 'mae': 0.8738203048706055}]\n"
          ]
        },
        {
          "output_type": "execute_result",
          "data": {
            "text/plain": [
              "    bootstrap  wasserstein        kl      rmse       mae  Dataset    Model\n",
              "0           0     0.161632  9.873895  1.406204  0.847324  weather  TimeVAE\n",
              "1           1     0.161050  9.867790  1.386120  0.830904  weather  TimeVAE\n",
              "2           2     0.161682  9.869688  1.454936  0.883903  weather  TimeVAE\n",
              "3           3     0.159436  9.942387  1.408788  0.849379  weather  TimeVAE\n",
              "4           4     0.163034  9.831864  1.493006  0.920210  weather  TimeVAE\n",
              "5           5     0.162297  9.817738  1.444248  0.880145  weather  TimeVAE\n",
              "6           6     0.163736  9.887576  1.478813  0.908382  weather  TimeVAE\n",
              "7           7     0.161439  9.795193  1.426023  0.863825  weather  TimeVAE\n",
              "8           8     0.163829  9.905126  1.438447  0.871815  weather  TimeVAE\n",
              "9           9     0.162378  9.864761  1.431677  0.868296  weather  TimeVAE\n",
              "10         10     0.163688  9.823052  1.477868  0.906677  weather  TimeVAE\n",
              "11         11     0.161210  9.830820  1.421302  0.854879  weather  TimeVAE\n",
              "12         12     0.161060  9.841777  1.423724  0.858718  weather  TimeVAE\n",
              "13         13     0.163514  9.751917  1.469398  0.899628  weather  TimeVAE\n",
              "14         14     0.162681  9.808814  1.440494  0.873820  weather  TimeVAE"
            ],
            "text/html": [
              "\n",
              "  <div id=\"df-b2568004-40fb-48ec-a0f8-78eded4a56c1\" class=\"colab-df-container\">\n",
              "    <div>\n",
              "<style scoped>\n",
              "    .dataframe tbody tr th:only-of-type {\n",
              "        vertical-align: middle;\n",
              "    }\n",
              "\n",
              "    .dataframe tbody tr th {\n",
              "        vertical-align: top;\n",
              "    }\n",
              "\n",
              "    .dataframe thead th {\n",
              "        text-align: right;\n",
              "    }\n",
              "</style>\n",
              "<table border=\"1\" class=\"dataframe\">\n",
              "  <thead>\n",
              "    <tr style=\"text-align: right;\">\n",
              "      <th></th>\n",
              "      <th>bootstrap</th>\n",
              "      <th>wasserstein</th>\n",
              "      <th>kl</th>\n",
              "      <th>rmse</th>\n",
              "      <th>mae</th>\n",
              "      <th>Dataset</th>\n",
              "      <th>Model</th>\n",
              "    </tr>\n",
              "  </thead>\n",
              "  <tbody>\n",
              "    <tr>\n",
              "      <th>0</th>\n",
              "      <td>0</td>\n",
              "      <td>0.161632</td>\n",
              "      <td>9.873895</td>\n",
              "      <td>1.406204</td>\n",
              "      <td>0.847324</td>\n",
              "      <td>weather</td>\n",
              "      <td>TimeVAE</td>\n",
              "    </tr>\n",
              "    <tr>\n",
              "      <th>1</th>\n",
              "      <td>1</td>\n",
              "      <td>0.161050</td>\n",
              "      <td>9.867790</td>\n",
              "      <td>1.386120</td>\n",
              "      <td>0.830904</td>\n",
              "      <td>weather</td>\n",
              "      <td>TimeVAE</td>\n",
              "    </tr>\n",
              "    <tr>\n",
              "      <th>2</th>\n",
              "      <td>2</td>\n",
              "      <td>0.161682</td>\n",
              "      <td>9.869688</td>\n",
              "      <td>1.454936</td>\n",
              "      <td>0.883903</td>\n",
              "      <td>weather</td>\n",
              "      <td>TimeVAE</td>\n",
              "    </tr>\n",
              "    <tr>\n",
              "      <th>3</th>\n",
              "      <td>3</td>\n",
              "      <td>0.159436</td>\n",
              "      <td>9.942387</td>\n",
              "      <td>1.408788</td>\n",
              "      <td>0.849379</td>\n",
              "      <td>weather</td>\n",
              "      <td>TimeVAE</td>\n",
              "    </tr>\n",
              "    <tr>\n",
              "      <th>4</th>\n",
              "      <td>4</td>\n",
              "      <td>0.163034</td>\n",
              "      <td>9.831864</td>\n",
              "      <td>1.493006</td>\n",
              "      <td>0.920210</td>\n",
              "      <td>weather</td>\n",
              "      <td>TimeVAE</td>\n",
              "    </tr>\n",
              "    <tr>\n",
              "      <th>5</th>\n",
              "      <td>5</td>\n",
              "      <td>0.162297</td>\n",
              "      <td>9.817738</td>\n",
              "      <td>1.444248</td>\n",
              "      <td>0.880145</td>\n",
              "      <td>weather</td>\n",
              "      <td>TimeVAE</td>\n",
              "    </tr>\n",
              "    <tr>\n",
              "      <th>6</th>\n",
              "      <td>6</td>\n",
              "      <td>0.163736</td>\n",
              "      <td>9.887576</td>\n",
              "      <td>1.478813</td>\n",
              "      <td>0.908382</td>\n",
              "      <td>weather</td>\n",
              "      <td>TimeVAE</td>\n",
              "    </tr>\n",
              "    <tr>\n",
              "      <th>7</th>\n",
              "      <td>7</td>\n",
              "      <td>0.161439</td>\n",
              "      <td>9.795193</td>\n",
              "      <td>1.426023</td>\n",
              "      <td>0.863825</td>\n",
              "      <td>weather</td>\n",
              "      <td>TimeVAE</td>\n",
              "    </tr>\n",
              "    <tr>\n",
              "      <th>8</th>\n",
              "      <td>8</td>\n",
              "      <td>0.163829</td>\n",
              "      <td>9.905126</td>\n",
              "      <td>1.438447</td>\n",
              "      <td>0.871815</td>\n",
              "      <td>weather</td>\n",
              "      <td>TimeVAE</td>\n",
              "    </tr>\n",
              "    <tr>\n",
              "      <th>9</th>\n",
              "      <td>9</td>\n",
              "      <td>0.162378</td>\n",
              "      <td>9.864761</td>\n",
              "      <td>1.431677</td>\n",
              "      <td>0.868296</td>\n",
              "      <td>weather</td>\n",
              "      <td>TimeVAE</td>\n",
              "    </tr>\n",
              "    <tr>\n",
              "      <th>10</th>\n",
              "      <td>10</td>\n",
              "      <td>0.163688</td>\n",
              "      <td>9.823052</td>\n",
              "      <td>1.477868</td>\n",
              "      <td>0.906677</td>\n",
              "      <td>weather</td>\n",
              "      <td>TimeVAE</td>\n",
              "    </tr>\n",
              "    <tr>\n",
              "      <th>11</th>\n",
              "      <td>11</td>\n",
              "      <td>0.161210</td>\n",
              "      <td>9.830820</td>\n",
              "      <td>1.421302</td>\n",
              "      <td>0.854879</td>\n",
              "      <td>weather</td>\n",
              "      <td>TimeVAE</td>\n",
              "    </tr>\n",
              "    <tr>\n",
              "      <th>12</th>\n",
              "      <td>12</td>\n",
              "      <td>0.161060</td>\n",
              "      <td>9.841777</td>\n",
              "      <td>1.423724</td>\n",
              "      <td>0.858718</td>\n",
              "      <td>weather</td>\n",
              "      <td>TimeVAE</td>\n",
              "    </tr>\n",
              "    <tr>\n",
              "      <th>13</th>\n",
              "      <td>13</td>\n",
              "      <td>0.163514</td>\n",
              "      <td>9.751917</td>\n",
              "      <td>1.469398</td>\n",
              "      <td>0.899628</td>\n",
              "      <td>weather</td>\n",
              "      <td>TimeVAE</td>\n",
              "    </tr>\n",
              "    <tr>\n",
              "      <th>14</th>\n",
              "      <td>14</td>\n",
              "      <td>0.162681</td>\n",
              "      <td>9.808814</td>\n",
              "      <td>1.440494</td>\n",
              "      <td>0.873820</td>\n",
              "      <td>weather</td>\n",
              "      <td>TimeVAE</td>\n",
              "    </tr>\n",
              "  </tbody>\n",
              "</table>\n",
              "</div>\n",
              "    <div class=\"colab-df-buttons\">\n",
              "\n",
              "  <div class=\"colab-df-container\">\n",
              "    <button class=\"colab-df-convert\" onclick=\"convertToInteractive('df-b2568004-40fb-48ec-a0f8-78eded4a56c1')\"\n",
              "            title=\"Convert this dataframe to an interactive table.\"\n",
              "            style=\"display:none;\">\n",
              "\n",
              "  <svg xmlns=\"http://www.w3.org/2000/svg\" height=\"24px\" viewBox=\"0 -960 960 960\">\n",
              "    <path d=\"M120-120v-720h720v720H120Zm60-500h600v-160H180v160Zm220 220h160v-160H400v160Zm0 220h160v-160H400v160ZM180-400h160v-160H180v160Zm440 0h160v-160H620v160ZM180-180h160v-160H180v160Zm440 0h160v-160H620v160Z\"/>\n",
              "  </svg>\n",
              "    </button>\n",
              "\n",
              "  <style>\n",
              "    .colab-df-container {\n",
              "      display:flex;\n",
              "      gap: 12px;\n",
              "    }\n",
              "\n",
              "    .colab-df-convert {\n",
              "      background-color: #E8F0FE;\n",
              "      border: none;\n",
              "      border-radius: 50%;\n",
              "      cursor: pointer;\n",
              "      display: none;\n",
              "      fill: #1967D2;\n",
              "      height: 32px;\n",
              "      padding: 0 0 0 0;\n",
              "      width: 32px;\n",
              "    }\n",
              "\n",
              "    .colab-df-convert:hover {\n",
              "      background-color: #E2EBFA;\n",
              "      box-shadow: 0px 1px 2px rgba(60, 64, 67, 0.3), 0px 1px 3px 1px rgba(60, 64, 67, 0.15);\n",
              "      fill: #174EA6;\n",
              "    }\n",
              "\n",
              "    .colab-df-buttons div {\n",
              "      margin-bottom: 4px;\n",
              "    }\n",
              "\n",
              "    [theme=dark] .colab-df-convert {\n",
              "      background-color: #3B4455;\n",
              "      fill: #D2E3FC;\n",
              "    }\n",
              "\n",
              "    [theme=dark] .colab-df-convert:hover {\n",
              "      background-color: #434B5C;\n",
              "      box-shadow: 0px 1px 3px 1px rgba(0, 0, 0, 0.15);\n",
              "      filter: drop-shadow(0px 1px 2px rgba(0, 0, 0, 0.3));\n",
              "      fill: #FFFFFF;\n",
              "    }\n",
              "  </style>\n",
              "\n",
              "    <script>\n",
              "      const buttonEl =\n",
              "        document.querySelector('#df-b2568004-40fb-48ec-a0f8-78eded4a56c1 button.colab-df-convert');\n",
              "      buttonEl.style.display =\n",
              "        google.colab.kernel.accessAllowed ? 'block' : 'none';\n",
              "\n",
              "      async function convertToInteractive(key) {\n",
              "        const element = document.querySelector('#df-b2568004-40fb-48ec-a0f8-78eded4a56c1');\n",
              "        const dataTable =\n",
              "          await google.colab.kernel.invokeFunction('convertToInteractive',\n",
              "                                                    [key], {});\n",
              "        if (!dataTable) return;\n",
              "\n",
              "        const docLinkHtml = 'Like what you see? Visit the ' +\n",
              "          '<a target=\"_blank\" href=https://colab.research.google.com/notebooks/data_table.ipynb>data table notebook</a>'\n",
              "          + ' to learn more about interactive tables.';\n",
              "        element.innerHTML = '';\n",
              "        dataTable['output_type'] = 'display_data';\n",
              "        await google.colab.output.renderOutput(dataTable, element);\n",
              "        const docLink = document.createElement('div');\n",
              "        docLink.innerHTML = docLinkHtml;\n",
              "        element.appendChild(docLink);\n",
              "      }\n",
              "    </script>\n",
              "  </div>\n",
              "\n",
              "\n",
              "    <div id=\"df-0d065ace-3fab-46ea-bb2f-f7799e3ee87c\">\n",
              "      <button class=\"colab-df-quickchart\" onclick=\"quickchart('df-0d065ace-3fab-46ea-bb2f-f7799e3ee87c')\"\n",
              "                title=\"Suggest charts\"\n",
              "                style=\"display:none;\">\n",
              "\n",
              "<svg xmlns=\"http://www.w3.org/2000/svg\" height=\"24px\"viewBox=\"0 0 24 24\"\n",
              "     width=\"24px\">\n",
              "    <g>\n",
              "        <path d=\"M19 3H5c-1.1 0-2 .9-2 2v14c0 1.1.9 2 2 2h14c1.1 0 2-.9 2-2V5c0-1.1-.9-2-2-2zM9 17H7v-7h2v7zm4 0h-2V7h2v10zm4 0h-2v-4h2v4z\"/>\n",
              "    </g>\n",
              "</svg>\n",
              "      </button>\n",
              "\n",
              "<style>\n",
              "  .colab-df-quickchart {\n",
              "      --bg-color: #E8F0FE;\n",
              "      --fill-color: #1967D2;\n",
              "      --hover-bg-color: #E2EBFA;\n",
              "      --hover-fill-color: #174EA6;\n",
              "      --disabled-fill-color: #AAA;\n",
              "      --disabled-bg-color: #DDD;\n",
              "  }\n",
              "\n",
              "  [theme=dark] .colab-df-quickchart {\n",
              "      --bg-color: #3B4455;\n",
              "      --fill-color: #D2E3FC;\n",
              "      --hover-bg-color: #434B5C;\n",
              "      --hover-fill-color: #FFFFFF;\n",
              "      --disabled-bg-color: #3B4455;\n",
              "      --disabled-fill-color: #666;\n",
              "  }\n",
              "\n",
              "  .colab-df-quickchart {\n",
              "    background-color: var(--bg-color);\n",
              "    border: none;\n",
              "    border-radius: 50%;\n",
              "    cursor: pointer;\n",
              "    display: none;\n",
              "    fill: var(--fill-color);\n",
              "    height: 32px;\n",
              "    padding: 0;\n",
              "    width: 32px;\n",
              "  }\n",
              "\n",
              "  .colab-df-quickchart:hover {\n",
              "    background-color: var(--hover-bg-color);\n",
              "    box-shadow: 0 1px 2px rgba(60, 64, 67, 0.3), 0 1px 3px 1px rgba(60, 64, 67, 0.15);\n",
              "    fill: var(--button-hover-fill-color);\n",
              "  }\n",
              "\n",
              "  .colab-df-quickchart-complete:disabled,\n",
              "  .colab-df-quickchart-complete:disabled:hover {\n",
              "    background-color: var(--disabled-bg-color);\n",
              "    fill: var(--disabled-fill-color);\n",
              "    box-shadow: none;\n",
              "  }\n",
              "\n",
              "  .colab-df-spinner {\n",
              "    border: 2px solid var(--fill-color);\n",
              "    border-color: transparent;\n",
              "    border-bottom-color: var(--fill-color);\n",
              "    animation:\n",
              "      spin 1s steps(1) infinite;\n",
              "  }\n",
              "\n",
              "  @keyframes spin {\n",
              "    0% {\n",
              "      border-color: transparent;\n",
              "      border-bottom-color: var(--fill-color);\n",
              "      border-left-color: var(--fill-color);\n",
              "    }\n",
              "    20% {\n",
              "      border-color: transparent;\n",
              "      border-left-color: var(--fill-color);\n",
              "      border-top-color: var(--fill-color);\n",
              "    }\n",
              "    30% {\n",
              "      border-color: transparent;\n",
              "      border-left-color: var(--fill-color);\n",
              "      border-top-color: var(--fill-color);\n",
              "      border-right-color: var(--fill-color);\n",
              "    }\n",
              "    40% {\n",
              "      border-color: transparent;\n",
              "      border-right-color: var(--fill-color);\n",
              "      border-top-color: var(--fill-color);\n",
              "    }\n",
              "    60% {\n",
              "      border-color: transparent;\n",
              "      border-right-color: var(--fill-color);\n",
              "    }\n",
              "    80% {\n",
              "      border-color: transparent;\n",
              "      border-right-color: var(--fill-color);\n",
              "      border-bottom-color: var(--fill-color);\n",
              "    }\n",
              "    90% {\n",
              "      border-color: transparent;\n",
              "      border-bottom-color: var(--fill-color);\n",
              "    }\n",
              "  }\n",
              "</style>\n",
              "\n",
              "      <script>\n",
              "        async function quickchart(key) {\n",
              "          const quickchartButtonEl =\n",
              "            document.querySelector('#' + key + ' button');\n",
              "          quickchartButtonEl.disabled = true;  // To prevent multiple clicks.\n",
              "          quickchartButtonEl.classList.add('colab-df-spinner');\n",
              "          try {\n",
              "            const charts = await google.colab.kernel.invokeFunction(\n",
              "                'suggestCharts', [key], {});\n",
              "          } catch (error) {\n",
              "            console.error('Error during call to suggestCharts:', error);\n",
              "          }\n",
              "          quickchartButtonEl.classList.remove('colab-df-spinner');\n",
              "          quickchartButtonEl.classList.add('colab-df-quickchart-complete');\n",
              "        }\n",
              "        (() => {\n",
              "          let quickchartButtonEl =\n",
              "            document.querySelector('#df-0d065ace-3fab-46ea-bb2f-f7799e3ee87c button');\n",
              "          quickchartButtonEl.style.display =\n",
              "            google.colab.kernel.accessAllowed ? 'block' : 'none';\n",
              "        })();\n",
              "      </script>\n",
              "    </div>\n",
              "\n",
              "  <div id=\"id_80d8ac82-a02c-48e5-8a1e-bf6b19945fb3\">\n",
              "    <style>\n",
              "      .colab-df-generate {\n",
              "        background-color: #E8F0FE;\n",
              "        border: none;\n",
              "        border-radius: 50%;\n",
              "        cursor: pointer;\n",
              "        display: none;\n",
              "        fill: #1967D2;\n",
              "        height: 32px;\n",
              "        padding: 0 0 0 0;\n",
              "        width: 32px;\n",
              "      }\n",
              "\n",
              "      .colab-df-generate:hover {\n",
              "        background-color: #E2EBFA;\n",
              "        box-shadow: 0px 1px 2px rgba(60, 64, 67, 0.3), 0px 1px 3px 1px rgba(60, 64, 67, 0.15);\n",
              "        fill: #174EA6;\n",
              "      }\n",
              "\n",
              "      [theme=dark] .colab-df-generate {\n",
              "        background-color: #3B4455;\n",
              "        fill: #D2E3FC;\n",
              "      }\n",
              "\n",
              "      [theme=dark] .colab-df-generate:hover {\n",
              "        background-color: #434B5C;\n",
              "        box-shadow: 0px 1px 3px 1px rgba(0, 0, 0, 0.15);\n",
              "        filter: drop-shadow(0px 1px 2px rgba(0, 0, 0, 0.3));\n",
              "        fill: #FFFFFF;\n",
              "      }\n",
              "    </style>\n",
              "    <button class=\"colab-df-generate\" onclick=\"generateWithVariable('df_results')\"\n",
              "            title=\"Generate code using this dataframe.\"\n",
              "            style=\"display:none;\">\n",
              "\n",
              "  <svg xmlns=\"http://www.w3.org/2000/svg\" height=\"24px\"viewBox=\"0 0 24 24\"\n",
              "       width=\"24px\">\n",
              "    <path d=\"M7,19H8.4L18.45,9,17,7.55,7,17.6ZM5,21V16.75L18.45,3.32a2,2,0,0,1,2.83,0l1.4,1.43a1.91,1.91,0,0,1,.58,1.4,1.91,1.91,0,0,1-.58,1.4L9.25,21ZM18.45,9,17,7.55Zm-12,3A5.31,5.31,0,0,0,4.9,8.1,5.31,5.31,0,0,0,1,6.5,5.31,5.31,0,0,0,4.9,4.9,5.31,5.31,0,0,0,6.5,1,5.31,5.31,0,0,0,8.1,4.9,5.31,5.31,0,0,0,12,6.5,5.46,5.46,0,0,0,6.5,12Z\"/>\n",
              "  </svg>\n",
              "    </button>\n",
              "    <script>\n",
              "      (() => {\n",
              "      const buttonEl =\n",
              "        document.querySelector('#id_80d8ac82-a02c-48e5-8a1e-bf6b19945fb3 button.colab-df-generate');\n",
              "      buttonEl.style.display =\n",
              "        google.colab.kernel.accessAllowed ? 'block' : 'none';\n",
              "\n",
              "      buttonEl.onclick = () => {\n",
              "        google.colab.notebook.generateWithVariable('df_results');\n",
              "      }\n",
              "      })();\n",
              "    </script>\n",
              "  </div>\n",
              "\n",
              "    </div>\n",
              "  </div>\n"
            ],
            "application/vnd.google.colaboratory.intrinsic+json": {
              "type": "dataframe",
              "variable_name": "df_results",
              "summary": "{\n  \"name\": \"df_results\",\n  \"rows\": 15,\n  \"fields\": [\n    {\n      \"column\": \"bootstrap\",\n      \"properties\": {\n        \"dtype\": \"number\",\n        \"std\": 4,\n        \"min\": 0,\n        \"max\": 14,\n        \"num_unique_values\": 15,\n        \"samples\": [\n          9,\n          11,\n          0\n        ],\n        \"semantic_type\": \"\",\n        \"description\": \"\"\n      }\n    },\n    {\n      \"column\": \"wasserstein\",\n      \"properties\": {\n        \"dtype\": \"number\",\n        \"std\": 0.0012627490258180555,\n        \"min\": 0.1594361169461128,\n        \"max\": 0.1638287598124904,\n        \"num_unique_values\": 15,\n        \"samples\": [\n          0.16237771894654476,\n          0.1612095376412433,\n          0.16163165748525377\n        ],\n        \"semantic_type\": \"\",\n        \"description\": \"\"\n      }\n    },\n    {\n      \"column\": \"kl\",\n      \"properties\": {\n        \"dtype\": \"number\",\n        \"std\": 0.047235484833783876,\n        \"min\": 9.75191682760269,\n        \"max\": 9.942386868961815,\n        \"num_unique_values\": 15,\n        \"samples\": [\n          9.864761207166376,\n          9.830819688968253,\n          9.87389539826009\n        ],\n        \"semantic_type\": \"\",\n        \"description\": \"\"\n      }\n    },\n    {\n      \"column\": \"rmse\",\n      \"properties\": {\n        \"dtype\": \"number\",\n        \"std\": 0.030186074089317335,\n        \"min\": 1.3861196163904408,\n        \"max\": 1.4930062170033385,\n        \"num_unique_values\": 15,\n        \"samples\": [\n          1.4316766794200224,\n          1.421301506001638,\n          1.4062040109531893\n        ],\n        \"semantic_type\": \"\",\n        \"description\": \"\"\n      }\n    },\n    {\n      \"column\": \"mae\",\n      \"properties\": {\n        \"dtype\": \"number\",\n        \"std\": 0.02547938500354907,\n        \"min\": 0.830904483795166,\n        \"max\": 0.9202097654342651,\n        \"num_unique_values\": 15,\n        \"samples\": [\n          0.8682960271835327,\n          0.8548786044120789,\n          0.847324013710022\n        ],\n        \"semantic_type\": \"\",\n        \"description\": \"\"\n      }\n    },\n    {\n      \"column\": \"Dataset\",\n      \"properties\": {\n        \"dtype\": \"category\",\n        \"num_unique_values\": 1,\n        \"samples\": [\n          \"weather\"\n        ],\n        \"semantic_type\": \"\",\n        \"description\": \"\"\n      }\n    },\n    {\n      \"column\": \"Model\",\n      \"properties\": {\n        \"dtype\": \"category\",\n        \"num_unique_values\": 1,\n        \"samples\": [\n          \"TimeVAE\"\n        ],\n        \"semantic_type\": \"\",\n        \"description\": \"\"\n      }\n    }\n  ]\n}"
            }
          },
          "metadata": {},
          "execution_count": 38
        }
      ]
    },
    {
      "cell_type": "code",
      "source": [
        "summary_row = {\n",
        "    'Dataset': 'weather',\n",
        "    'Model': 'TimeVAE',\n",
        "    'Wasserstein': df_results['wasserstein'].mean(),\n",
        "    'KL': df_results['kl'].mean(),\n",
        "    'RMSE': df_results['rmse'].mean(),\n",
        "    'MAE': df_results['mae'].mean()\n",
        "}\n",
        "\n",
        "df_summary = pd.DataFrame([summary_row])\n",
        "print(df_summary)"
      ],
      "metadata": {
        "colab": {
          "base_uri": "https://localhost:8080/"
        },
        "id": "OwehLjFkqLYs",
        "outputId": "8f64d5d6-b00c-41f2-a232-86869d10b9b9"
      },
      "execution_count": 39,
      "outputs": [
        {
          "output_type": "stream",
          "name": "stdout",
          "text": [
            "       Dataset    Model  Wasserstein        KL     RMSE       MAE\n",
            "0  electricity  TimeVAE     0.162178  9.847493  1.44007  0.874527\n"
          ]
        }
      ]
    }
  ]
}